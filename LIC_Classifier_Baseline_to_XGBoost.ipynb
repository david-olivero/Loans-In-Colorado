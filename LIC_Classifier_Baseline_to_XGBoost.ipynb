{
 "cells": [
  {
   "cell_type": "code",
   "execution_count": 1,
   "metadata": {},
   "outputs": [
    {
     "data": {
      "text/plain": [
       "'C:\\\\Users\\\\David Olivero\\\\AnacondaProjects\\\\Loans-In-Colorado'"
      ]
     },
     "execution_count": 1,
     "metadata": {},
     "output_type": "execute_result"
    }
   ],
   "source": [
    "# Load libraries\n",
    "import os\n",
    "import numpy as np\n",
    "import pandas as pd\n",
    "import matplotlib.pyplot as plt\n",
    "%matplotlib inline\n",
    "import seaborn as sns\n",
    "\n",
    "os.getcwd()"
   ]
  },
  {
   "cell_type": "code",
   "execution_count": 2,
   "metadata": {},
   "outputs": [
    {
     "data": {
      "text/html": [
       "<div>\n",
       "<style scoped>\n",
       "    .dataframe tbody tr th:only-of-type {\n",
       "        vertical-align: middle;\n",
       "    }\n",
       "\n",
       "    .dataframe tbody tr th {\n",
       "        vertical-align: top;\n",
       "    }\n",
       "\n",
       "    .dataframe thead th {\n",
       "        text-align: right;\n",
       "    }\n",
       "</style>\n",
       "<table border=\"1\" class=\"dataframe\">\n",
       "  <thead>\n",
       "    <tr style=\"text-align: right;\">\n",
       "      <th></th>\n",
       "      <th>0</th>\n",
       "      <th>1</th>\n",
       "      <th>2</th>\n",
       "      <th>3</th>\n",
       "      <th>4</th>\n",
       "    </tr>\n",
       "  </thead>\n",
       "  <tbody>\n",
       "    <tr>\n",
       "      <th>ApprovalFY</th>\n",
       "      <td>2006</td>\n",
       "      <td>1997</td>\n",
       "      <td>1997</td>\n",
       "      <td>2005</td>\n",
       "      <td>1997</td>\n",
       "    </tr>\n",
       "    <tr>\n",
       "      <th>Term</th>\n",
       "      <td>264</td>\n",
       "      <td>60</td>\n",
       "      <td>120</td>\n",
       "      <td>35</td>\n",
       "      <td>60</td>\n",
       "    </tr>\n",
       "    <tr>\n",
       "      <th>NoEmp</th>\n",
       "      <td>9</td>\n",
       "      <td>2</td>\n",
       "      <td>4</td>\n",
       "      <td>3</td>\n",
       "      <td>2</td>\n",
       "    </tr>\n",
       "    <tr>\n",
       "      <th>NewBiz</th>\n",
       "      <td>0</td>\n",
       "      <td>0</td>\n",
       "      <td>0</td>\n",
       "      <td>0</td>\n",
       "      <td>0</td>\n",
       "    </tr>\n",
       "    <tr>\n",
       "      <th>RevLineCr</th>\n",
       "      <td>0</td>\n",
       "      <td>0</td>\n",
       "      <td>0</td>\n",
       "      <td>0</td>\n",
       "      <td>0</td>\n",
       "    </tr>\n",
       "    <tr>\n",
       "      <th>LowDoc</th>\n",
       "      <td>0</td>\n",
       "      <td>1</td>\n",
       "      <td>0</td>\n",
       "      <td>0</td>\n",
       "      <td>1</td>\n",
       "    </tr>\n",
       "    <tr>\n",
       "      <th>DisbursementGross</th>\n",
       "      <td>1.5242e+06</td>\n",
       "      <td>90000</td>\n",
       "      <td>59000</td>\n",
       "      <td>50000</td>\n",
       "      <td>21200</td>\n",
       "    </tr>\n",
       "    <tr>\n",
       "      <th>MIS_Status</th>\n",
       "      <td>P I F</td>\n",
       "      <td>P I F</td>\n",
       "      <td>P I F</td>\n",
       "      <td>CHGOFF</td>\n",
       "      <td>P I F</td>\n",
       "    </tr>\n",
       "    <tr>\n",
       "      <th>TotalLoansInCounty</th>\n",
       "      <td>445</td>\n",
       "      <td>445</td>\n",
       "      <td>445</td>\n",
       "      <td>445</td>\n",
       "      <td>445</td>\n",
       "    </tr>\n",
       "    <tr>\n",
       "      <th>PIF_RateByCounty</th>\n",
       "      <td>0.876404</td>\n",
       "      <td>0.876404</td>\n",
       "      <td>0.876404</td>\n",
       "      <td>0.876404</td>\n",
       "      <td>0.876404</td>\n",
       "    </tr>\n",
       "    <tr>\n",
       "      <th>MedIncome</th>\n",
       "      <td>32644</td>\n",
       "      <td>21835</td>\n",
       "      <td>21835</td>\n",
       "      <td>30645</td>\n",
       "      <td>21835</td>\n",
       "    </tr>\n",
       "    <tr>\n",
       "      <th>PopChange</th>\n",
       "      <td>0.276615</td>\n",
       "      <td>0.276615</td>\n",
       "      <td>0.276615</td>\n",
       "      <td>0.276615</td>\n",
       "      <td>0.276615</td>\n",
       "    </tr>\n",
       "    <tr>\n",
       "      <th>EmployedInCty</th>\n",
       "      <td>71219</td>\n",
       "      <td>55069</td>\n",
       "      <td>55069</td>\n",
       "      <td>67350</td>\n",
       "      <td>55069</td>\n",
       "    </tr>\n",
       "    <tr>\n",
       "      <th>UnempInCty</th>\n",
       "      <td>2937</td>\n",
       "      <td>2669</td>\n",
       "      <td>2669</td>\n",
       "      <td>3461</td>\n",
       "      <td>2669</td>\n",
       "    </tr>\n",
       "    <tr>\n",
       "      <th>UnempRateInCty</th>\n",
       "      <td>4</td>\n",
       "      <td>4.6</td>\n",
       "      <td>4.6</td>\n",
       "      <td>4.9</td>\n",
       "      <td>4.6</td>\n",
       "    </tr>\n",
       "    <tr>\n",
       "      <th>DeathsPer100k</th>\n",
       "      <td>977.2</td>\n",
       "      <td>977.2</td>\n",
       "      <td>977.2</td>\n",
       "      <td>977.2</td>\n",
       "      <td>977.2</td>\n",
       "    </tr>\n",
       "    <tr>\n",
       "      <th>PayDelay</th>\n",
       "      <td>52</td>\n",
       "      <td>85</td>\n",
       "      <td>47</td>\n",
       "      <td>98</td>\n",
       "      <td>45</td>\n",
       "    </tr>\n",
       "    <tr>\n",
       "      <th>Industry</th>\n",
       "      <td>Health</td>\n",
       "      <td>Manufacturing</td>\n",
       "      <td>Health</td>\n",
       "      <td>Other</td>\n",
       "      <td>Unknown</td>\n",
       "    </tr>\n",
       "  </tbody>\n",
       "</table>\n",
       "</div>"
      ],
      "text/plain": [
       "                             0              1         2         3         4\n",
       "ApprovalFY                2006           1997      1997      2005      1997\n",
       "Term                       264             60       120        35        60\n",
       "NoEmp                        9              2         4         3         2\n",
       "NewBiz                       0              0         0         0         0\n",
       "RevLineCr                    0              0         0         0         0\n",
       "LowDoc                       0              1         0         0         1\n",
       "DisbursementGross   1.5242e+06          90000     59000     50000     21200\n",
       "MIS_Status               P I F          P I F     P I F    CHGOFF     P I F\n",
       "TotalLoansInCounty         445            445       445       445       445\n",
       "PIF_RateByCounty      0.876404       0.876404  0.876404  0.876404  0.876404\n",
       "MedIncome                32644          21835     21835     30645     21835\n",
       "PopChange             0.276615       0.276615  0.276615  0.276615  0.276615\n",
       "EmployedInCty            71219          55069     55069     67350     55069\n",
       "UnempInCty                2937           2669      2669      3461      2669\n",
       "UnempRateInCty               4            4.6       4.6       4.9       4.6\n",
       "DeathsPer100k            977.2          977.2     977.2     977.2     977.2\n",
       "PayDelay                    52             85        47        98        45\n",
       "Industry                Health  Manufacturing    Health     Other   Unknown"
      ]
     },
     "execution_count": 2,
     "metadata": {},
     "output_type": "execute_result"
    }
   ],
   "source": [
    "filename = 'LIC_Model_Input.csv'\n",
    "\n",
    "df = pd.read_csv(filename)\n",
    "\n",
    "df.head().T"
   ]
  },
  {
   "cell_type": "markdown",
   "metadata": {},
   "source": [
    "This time, instead of dropping the Industry column, I'd like to one-hot encode it. "
   ]
  },
  {
   "cell_type": "code",
   "execution_count": 3,
   "metadata": {},
   "outputs": [
    {
     "name": "stdout",
     "output_type": "stream",
     "text": [
      "<class 'pandas.core.frame.DataFrame'>\n",
      "RangeIndex: 19298 entries, 0 to 19297\n",
      "Data columns (total 18 columns):\n",
      " #   Column              Non-Null Count  Dtype  \n",
      "---  ------              --------------  -----  \n",
      " 0   ApprovalFY          19298 non-null  int64  \n",
      " 1   Term                19298 non-null  int64  \n",
      " 2   NoEmp               19298 non-null  int64  \n",
      " 3   NewBiz              19298 non-null  float64\n",
      " 4   RevLineCr           19183 non-null  float64\n",
      " 5   LowDoc              19242 non-null  float64\n",
      " 6   DisbursementGross   19298 non-null  float64\n",
      " 7   MIS_Status          19293 non-null  object \n",
      " 8   TotalLoansInCounty  19298 non-null  int64  \n",
      " 9   PIF_RateByCounty    19298 non-null  float64\n",
      " 10  MedIncome           19298 non-null  int64  \n",
      " 11  PopChange           19298 non-null  float64\n",
      " 12  EmployedInCty       19298 non-null  int64  \n",
      " 13  UnempInCty          19298 non-null  int64  \n",
      " 14  UnempRateInCty      19298 non-null  float64\n",
      " 15  DeathsPer100k       18970 non-null  object \n",
      " 16  PayDelay            19258 non-null  float64\n",
      " 17  Industry            19298 non-null  object \n",
      "dtypes: float64(8), int64(7), object(3)\n",
      "memory usage: 2.7+ MB\n"
     ]
    }
   ],
   "source": [
    "df.info()"
   ]
  },
  {
   "cell_type": "markdown",
   "metadata": {},
   "source": [
    "The MIS_Status column are my labels, so I will encode them with 1's and 0's:"
   ]
  },
  {
   "cell_type": "code",
   "execution_count": 4,
   "metadata": {},
   "outputs": [],
   "source": [
    "# Replace MIS_Status column with 0's and 1's. 1 corresponds to a loan default. \n",
    "\n",
    "df['MIS_Status'] = df.MIS_Status.replace(to_replace=['P I F', 'CHGOFF'], value=[1, 0])"
   ]
  },
  {
   "cell_type": "code",
   "execution_count": 5,
   "metadata": {},
   "outputs": [
    {
     "data": {
      "text/plain": [
       "count     18970\n",
       "unique       59\n",
       "top       823.4\n",
       "freq       3635\n",
       "Name: DeathsPer100k, dtype: object"
      ]
     },
     "execution_count": 5,
     "metadata": {},
     "output_type": "execute_result"
    }
   ],
   "source": [
    "# There appear to be several non-numeric values in the DeathsPer100k column turning it into an object. \n",
    "df.DeathsPer100k.describe()"
   ]
  },
  {
   "cell_type": "code",
   "execution_count": 6,
   "metadata": {},
   "outputs": [
    {
     "data": {
      "text/plain": [
       "1372.6                 4\n",
       "616.2                  2\n",
       "1146.6                 1\n",
       "537.9 (Unreliable)     1\n",
       "1048.1 (Unreliable)    1\n",
       "Name: DeathsPer100k, dtype: int64"
      ]
     },
     "execution_count": 6,
     "metadata": {},
     "output_type": "execute_result"
    }
   ],
   "source": [
    "# Python is treating this column like string objects:\n",
    "df.DeathsPer100k.value_counts().tail()"
   ]
  },
  {
   "cell_type": "code",
   "execution_count": 7,
   "metadata": {},
   "outputs": [],
   "source": [
    "# The object assignments comes from all the (Unreliable) numbers, so we will force these into numbers:\n",
    "\n",
    "df['DeathsPer100k'] = pd.to_numeric(df['DeathsPer100k'], errors='coerce')"
   ]
  },
  {
   "cell_type": "code",
   "execution_count": 8,
   "metadata": {},
   "outputs": [],
   "source": [
    "# There are still several rows with null values for this metric, so I will replace with the mean value of DeathsPer100k:\n",
    "\n",
    "df['DeathsPer100k'].fillna((df['DeathsPer100k'].mean()), inplace=True)"
   ]
  },
  {
   "cell_type": "code",
   "execution_count": 9,
   "metadata": {},
   "outputs": [
    {
     "data": {
      "text/plain": [
       "count    19298.000000\n",
       "mean       625.524481\n",
       "std        194.370452\n",
       "min        160.800000\n",
       "25%        551.900000\n",
       "50%        565.800000\n",
       "75%        823.400000\n",
       "max       1372.600000\n",
       "Name: DeathsPer100k, dtype: float64"
      ]
     },
     "execution_count": 9,
     "metadata": {},
     "output_type": "execute_result"
    }
   ],
   "source": [
    "df.DeathsPer100k.describe()"
   ]
  },
  {
   "cell_type": "code",
   "execution_count": 10,
   "metadata": {},
   "outputs": [
    {
     "data": {
      "text/plain": [
       "1.0    0.825429\n",
       "0.0    0.174571\n",
       "Name: MIS_Status, dtype: float64"
      ]
     },
     "execution_count": 10,
     "metadata": {},
     "output_type": "execute_result"
    }
   ],
   "source": [
    "# To review, a little over 17% of the loans in this dataset are defaulted, as seen below. \n",
    "df.MIS_Status.value_counts([0])"
   ]
  },
  {
   "cell_type": "code",
   "execution_count": 11,
   "metadata": {},
   "outputs": [
    {
     "name": "stdout",
     "output_type": "stream",
     "text": [
      "<class 'pandas.core.frame.DataFrame'>\n",
      "RangeIndex: 19298 entries, 0 to 19297\n",
      "Data columns (total 18 columns):\n",
      " #   Column              Non-Null Count  Dtype  \n",
      "---  ------              --------------  -----  \n",
      " 0   ApprovalFY          19298 non-null  int64  \n",
      " 1   Term                19298 non-null  int64  \n",
      " 2   NoEmp               19298 non-null  int64  \n",
      " 3   NewBiz              19298 non-null  float64\n",
      " 4   RevLineCr           19183 non-null  float64\n",
      " 5   LowDoc              19242 non-null  float64\n",
      " 6   DisbursementGross   19298 non-null  float64\n",
      " 7   MIS_Status          19293 non-null  float64\n",
      " 8   TotalLoansInCounty  19298 non-null  int64  \n",
      " 9   PIF_RateByCounty    19298 non-null  float64\n",
      " 10  MedIncome           19298 non-null  int64  \n",
      " 11  PopChange           19298 non-null  float64\n",
      " 12  EmployedInCty       19298 non-null  int64  \n",
      " 13  UnempInCty          19298 non-null  int64  \n",
      " 14  UnempRateInCty      19298 non-null  float64\n",
      " 15  DeathsPer100k       19298 non-null  float64\n",
      " 16  PayDelay            19258 non-null  float64\n",
      " 17  Industry            19298 non-null  object \n",
      "dtypes: float64(10), int64(7), object(1)\n",
      "memory usage: 2.7+ MB\n"
     ]
    }
   ],
   "source": [
    "# We can see we still have some probable nan's in the RevLineCr and PayDelay features:\n",
    "\n",
    "df.info()"
   ]
  },
  {
   "cell_type": "code",
   "execution_count": 12,
   "metadata": {},
   "outputs": [],
   "source": [
    "df['RevLineCr'].fillna((df['RevLineCr'].mean()), inplace=True)\n",
    "df['PayDelay'].fillna((df['PayDelay'].mean()), inplace=True)"
   ]
  },
  {
   "cell_type": "code",
   "execution_count": 13,
   "metadata": {},
   "outputs": [
    {
     "data": {
      "text/plain": [
       "(19298, 18)"
      ]
     },
     "execution_count": 13,
     "metadata": {},
     "output_type": "execute_result"
    }
   ],
   "source": [
    "df.shape"
   ]
  },
  {
   "cell_type": "code",
   "execution_count": 14,
   "metadata": {},
   "outputs": [
    {
     "data": {
      "text/plain": [
       "(19237, 18)"
      ]
     },
     "execution_count": 14,
     "metadata": {},
     "output_type": "execute_result"
    }
   ],
   "source": [
    "df = df.dropna()\n",
    "df.shape"
   ]
  },
  {
   "cell_type": "code",
   "execution_count": 15,
   "metadata": {},
   "outputs": [
    {
     "data": {
      "text/html": [
       "<div>\n",
       "<style scoped>\n",
       "    .dataframe tbody tr th:only-of-type {\n",
       "        vertical-align: middle;\n",
       "    }\n",
       "\n",
       "    .dataframe tbody tr th {\n",
       "        vertical-align: top;\n",
       "    }\n",
       "\n",
       "    .dataframe thead th {\n",
       "        text-align: right;\n",
       "    }\n",
       "</style>\n",
       "<table border=\"1\" class=\"dataframe\">\n",
       "  <thead>\n",
       "    <tr style=\"text-align: right;\">\n",
       "      <th></th>\n",
       "      <th>0</th>\n",
       "      <th>1</th>\n",
       "      <th>2</th>\n",
       "      <th>3</th>\n",
       "      <th>4</th>\n",
       "    </tr>\n",
       "  </thead>\n",
       "  <tbody>\n",
       "    <tr>\n",
       "      <th>ApprovalFY</th>\n",
       "      <td>2.006000e+03</td>\n",
       "      <td>1997.000000</td>\n",
       "      <td>1997.000000</td>\n",
       "      <td>2005.000000</td>\n",
       "      <td>1997.000000</td>\n",
       "    </tr>\n",
       "    <tr>\n",
       "      <th>Term</th>\n",
       "      <td>2.640000e+02</td>\n",
       "      <td>60.000000</td>\n",
       "      <td>120.000000</td>\n",
       "      <td>35.000000</td>\n",
       "      <td>60.000000</td>\n",
       "    </tr>\n",
       "    <tr>\n",
       "      <th>NoEmp</th>\n",
       "      <td>9.000000e+00</td>\n",
       "      <td>2.000000</td>\n",
       "      <td>4.000000</td>\n",
       "      <td>3.000000</td>\n",
       "      <td>2.000000</td>\n",
       "    </tr>\n",
       "    <tr>\n",
       "      <th>NewBiz</th>\n",
       "      <td>0.000000e+00</td>\n",
       "      <td>0.000000</td>\n",
       "      <td>0.000000</td>\n",
       "      <td>0.000000</td>\n",
       "      <td>0.000000</td>\n",
       "    </tr>\n",
       "    <tr>\n",
       "      <th>RevLineCr</th>\n",
       "      <td>0.000000e+00</td>\n",
       "      <td>0.000000</td>\n",
       "      <td>0.000000</td>\n",
       "      <td>0.000000</td>\n",
       "      <td>0.000000</td>\n",
       "    </tr>\n",
       "    <tr>\n",
       "      <th>LowDoc</th>\n",
       "      <td>0.000000e+00</td>\n",
       "      <td>1.000000</td>\n",
       "      <td>0.000000</td>\n",
       "      <td>0.000000</td>\n",
       "      <td>1.000000</td>\n",
       "    </tr>\n",
       "    <tr>\n",
       "      <th>DisbursementGross</th>\n",
       "      <td>1.524200e+06</td>\n",
       "      <td>90000.000000</td>\n",
       "      <td>59000.000000</td>\n",
       "      <td>50000.000000</td>\n",
       "      <td>21200.000000</td>\n",
       "    </tr>\n",
       "    <tr>\n",
       "      <th>MIS_Status</th>\n",
       "      <td>1.000000e+00</td>\n",
       "      <td>1.000000</td>\n",
       "      <td>1.000000</td>\n",
       "      <td>0.000000</td>\n",
       "      <td>1.000000</td>\n",
       "    </tr>\n",
       "    <tr>\n",
       "      <th>TotalLoansInCounty</th>\n",
       "      <td>4.450000e+02</td>\n",
       "      <td>445.000000</td>\n",
       "      <td>445.000000</td>\n",
       "      <td>445.000000</td>\n",
       "      <td>445.000000</td>\n",
       "    </tr>\n",
       "    <tr>\n",
       "      <th>PIF_RateByCounty</th>\n",
       "      <td>8.764045e-01</td>\n",
       "      <td>0.876404</td>\n",
       "      <td>0.876404</td>\n",
       "      <td>0.876404</td>\n",
       "      <td>0.876404</td>\n",
       "    </tr>\n",
       "    <tr>\n",
       "      <th>MedIncome</th>\n",
       "      <td>3.264400e+04</td>\n",
       "      <td>21835.000000</td>\n",
       "      <td>21835.000000</td>\n",
       "      <td>30645.000000</td>\n",
       "      <td>21835.000000</td>\n",
       "    </tr>\n",
       "    <tr>\n",
       "      <th>PopChange</th>\n",
       "      <td>2.766146e-01</td>\n",
       "      <td>0.276615</td>\n",
       "      <td>0.276615</td>\n",
       "      <td>0.276615</td>\n",
       "      <td>0.276615</td>\n",
       "    </tr>\n",
       "    <tr>\n",
       "      <th>EmployedInCty</th>\n",
       "      <td>7.121900e+04</td>\n",
       "      <td>55069.000000</td>\n",
       "      <td>55069.000000</td>\n",
       "      <td>67350.000000</td>\n",
       "      <td>55069.000000</td>\n",
       "    </tr>\n",
       "    <tr>\n",
       "      <th>UnempInCty</th>\n",
       "      <td>2.937000e+03</td>\n",
       "      <td>2669.000000</td>\n",
       "      <td>2669.000000</td>\n",
       "      <td>3461.000000</td>\n",
       "      <td>2669.000000</td>\n",
       "    </tr>\n",
       "    <tr>\n",
       "      <th>UnempRateInCty</th>\n",
       "      <td>4.000000e+00</td>\n",
       "      <td>4.600000</td>\n",
       "      <td>4.600000</td>\n",
       "      <td>4.900000</td>\n",
       "      <td>4.600000</td>\n",
       "    </tr>\n",
       "    <tr>\n",
       "      <th>DeathsPer100k</th>\n",
       "      <td>9.772000e+02</td>\n",
       "      <td>977.200000</td>\n",
       "      <td>977.200000</td>\n",
       "      <td>977.200000</td>\n",
       "      <td>977.200000</td>\n",
       "    </tr>\n",
       "    <tr>\n",
       "      <th>PayDelay</th>\n",
       "      <td>5.200000e+01</td>\n",
       "      <td>85.000000</td>\n",
       "      <td>47.000000</td>\n",
       "      <td>98.000000</td>\n",
       "      <td>45.000000</td>\n",
       "    </tr>\n",
       "  </tbody>\n",
       "</table>\n",
       "</div>"
      ],
      "text/plain": [
       "                               0             1             2             3  \\\n",
       "ApprovalFY          2.006000e+03   1997.000000   1997.000000   2005.000000   \n",
       "Term                2.640000e+02     60.000000    120.000000     35.000000   \n",
       "NoEmp               9.000000e+00      2.000000      4.000000      3.000000   \n",
       "NewBiz              0.000000e+00      0.000000      0.000000      0.000000   \n",
       "RevLineCr           0.000000e+00      0.000000      0.000000      0.000000   \n",
       "LowDoc              0.000000e+00      1.000000      0.000000      0.000000   \n",
       "DisbursementGross   1.524200e+06  90000.000000  59000.000000  50000.000000   \n",
       "MIS_Status          1.000000e+00      1.000000      1.000000      0.000000   \n",
       "TotalLoansInCounty  4.450000e+02    445.000000    445.000000    445.000000   \n",
       "PIF_RateByCounty    8.764045e-01      0.876404      0.876404      0.876404   \n",
       "MedIncome           3.264400e+04  21835.000000  21835.000000  30645.000000   \n",
       "PopChange           2.766146e-01      0.276615      0.276615      0.276615   \n",
       "EmployedInCty       7.121900e+04  55069.000000  55069.000000  67350.000000   \n",
       "UnempInCty          2.937000e+03   2669.000000   2669.000000   3461.000000   \n",
       "UnempRateInCty      4.000000e+00      4.600000      4.600000      4.900000   \n",
       "DeathsPer100k       9.772000e+02    977.200000    977.200000    977.200000   \n",
       "PayDelay            5.200000e+01     85.000000     47.000000     98.000000   \n",
       "\n",
       "                               4  \n",
       "ApprovalFY           1997.000000  \n",
       "Term                   60.000000  \n",
       "NoEmp                   2.000000  \n",
       "NewBiz                  0.000000  \n",
       "RevLineCr               0.000000  \n",
       "LowDoc                  1.000000  \n",
       "DisbursementGross   21200.000000  \n",
       "MIS_Status              1.000000  \n",
       "TotalLoansInCounty    445.000000  \n",
       "PIF_RateByCounty        0.876404  \n",
       "MedIncome           21835.000000  \n",
       "PopChange               0.276615  \n",
       "EmployedInCty       55069.000000  \n",
       "UnempInCty           2669.000000  \n",
       "UnempRateInCty          4.600000  \n",
       "DeathsPer100k         977.200000  \n",
       "PayDelay               45.000000  "
      ]
     },
     "execution_count": 15,
     "metadata": {},
     "output_type": "execute_result"
    }
   ],
   "source": [
    "# remove industry column:\n",
    "\n",
    "df1 = df.drop(columns='Industry')\n",
    "df1.head().T"
   ]
  },
  {
   "cell_type": "code",
   "execution_count": 16,
   "metadata": {},
   "outputs": [],
   "source": [
    "df = df1.reset_index(drop=True)"
   ]
  },
  {
   "cell_type": "markdown",
   "metadata": {},
   "source": [
    "We'll start with a Dummy Classifier model based on stratification, then move to a simple Logistic regression model:"
   ]
  },
  {
   "cell_type": "code",
   "execution_count": 17,
   "metadata": {},
   "outputs": [],
   "source": [
    "# Load libraries:\n",
    "from sklearn.dummy import DummyClassifier\n",
    "from sklearn.model_selection import train_test_split\n",
    "from sklearn.linear_model import LogisticRegression\n",
    "from sklearn.preprocessing import StandardScaler\n",
    "from sklearn.metrics import confusion_matrix\n",
    "from sklearn.metrics import f1_score\n",
    "from sklearn.metrics import roc_curve, roc_auc_score\n"
   ]
  },
  {
   "cell_type": "code",
   "execution_count": 18,
   "metadata": {},
   "outputs": [],
   "source": [
    "# Split the dataset into features and target:\n",
    "y = df['MIS_Status']\n",
    "X = df.drop(columns='MIS_Status')"
   ]
  },
  {
   "cell_type": "code",
   "execution_count": 19,
   "metadata": {},
   "outputs": [],
   "source": [
    "# Standardizr the various features in the dataset, since different variables have different ranges:\n",
    "\n",
    "scaler = StandardScaler()\n",
    "X_std = scaler.fit_transform(X)"
   ]
  },
  {
   "cell_type": "code",
   "execution_count": 20,
   "metadata": {},
   "outputs": [],
   "source": [
    "# Create training and test data\n",
    "\n",
    "X_train, X_test, y_train, y_test = train_test_split(X_std, y, test_size=0.225, random_state=42)"
   ]
  },
  {
   "cell_type": "code",
   "execution_count": 21,
   "metadata": {},
   "outputs": [
    {
     "data": {
      "text/plain": [
       "0.7158697158697158"
      ]
     },
     "execution_count": 21,
     "metadata": {},
     "output_type": "execute_result"
    }
   ],
   "source": [
    "# Dummy model based on stratificaation:\n",
    "\n",
    "dummy = DummyClassifier(strategy='stratified', random_state=13)\n",
    "\n",
    "dummy.fit(X_train, y_train)\n",
    "\n",
    "dummy.score(X_test, y_test)"
   ]
  },
  {
   "cell_type": "code",
   "execution_count": 22,
   "metadata": {},
   "outputs": [],
   "source": [
    "# We create target probabilities for the predicted values of y:\n",
    "\n",
    "target_probabilities = dummy.predict_proba(X_test)[:,1]\n",
    "\n",
    "FP_rate, TP_rate, threshold = roc_curve(y_test, target_probabilities)"
   ]
  },
  {
   "cell_type": "code",
   "execution_count": 23,
   "metadata": {},
   "outputs": [
    {
     "data": {
      "image/png": "[encoded data removed]",
      "text/plain": [
       "<Figure size 432x288 with 1 Axes>"
      ]
     },
     "metadata": {
      "needs_background": "light"
     },
     "output_type": "display_data"
    }
   ],
   "source": [
    "# Plot ROC Curve\n",
    "plt.title('Receiver Operating Characteristic')\n",
    "plt.plot(FP_rate, TP_rate)\n",
    "plt.plot([0,1], ls='--')\n",
    "plt.plot([0,0],[1,0], c='.7'), plt.plot([1,1], c='.7')\n",
    "plt.ylabel('TP Rate')\n",
    "plt.xlabel('FP Rate')\n",
    "plt.show()"
   ]
  },
  {
   "cell_type": "code",
   "execution_count": 24,
   "metadata": {},
   "outputs": [
    {
     "data": {
      "text/plain": [
       "0.8274428274428275"
      ]
     },
     "execution_count": 24,
     "metadata": {},
     "output_type": "execute_result"
    }
   ],
   "source": [
    "# Dummy model based on assuming that ALL loan are good loans! I.e., a constant value of 1:\n",
    "\n",
    "dummy = DummyClassifier(strategy='constant', constant = 1)\n",
    "\n",
    "dummy.fit(X_train, y_train)\n",
    "\n",
    "dummy.score(X_test, y_test)"
   ]
  },
  {
   "cell_type": "code",
   "execution_count": 25,
   "metadata": {},
   "outputs": [],
   "source": [
    "# We create target probabilities for the predicted values of y:\n",
    "\n",
    "target_probabilities = dummy.predict_proba(X_test)[:,1]\n",
    "\n",
    "FP_rate, TP_rate, threshold = roc_curve(y_test, target_probabilities)"
   ]
  },
  {
   "cell_type": "code",
   "execution_count": 26,
   "metadata": {},
   "outputs": [
    {
     "data": {
      "image/png": "[encoded data removed]",
      "text/plain": [
       "<Figure size 432x288 with 1 Axes>"
      ]
     },
     "metadata": {
      "needs_background": "light"
     },
     "output_type": "display_data"
    }
   ],
   "source": [
    "# Plot ROC Curve\n",
    "plt.title('Receiver Operating Characteristic')\n",
    "plt.plot(FP_rate, TP_rate)\n",
    "plt.plot([0,1], ls='--')\n",
    "plt.plot([0,0],[1,0], c='.7'), plt.plot([1,1], c='.7')\n",
    "plt.ylabel('TP Rate')\n",
    "plt.xlabel('FP Rate')\n",
    "plt.show()"
   ]
  },
  {
   "cell_type": "markdown",
   "metadata": {},
   "source": [
    "#### Logistic Regression ####\n",
    "\n",
    "While the accuracy values of the dummy models were not that bad (the data are skewed towards loans being good, after all);  \n",
    "Now we will explore Logistic Regression:"
   ]
  },
  {
   "cell_type": "code",
   "execution_count": 27,
   "metadata": {},
   "outputs": [],
   "source": [
    "# Create a simple logistic regression model object and fit the training data\n",
    "\n",
    "logit = LogisticRegression()\n",
    "\n",
    "model = logit.fit(X_train, y_train)"
   ]
  },
  {
   "cell_type": "code",
   "execution_count": 28,
   "metadata": {},
   "outputs": [
    {
     "data": {
      "text/plain": [
       "0.8861168861168861"
      ]
     },
     "execution_count": 28,
     "metadata": {},
     "output_type": "execute_result"
    }
   ],
   "source": [
    "# Accuracy score\n",
    "\n",
    "model.score(X_test, y_test)"
   ]
  },
  {
   "cell_type": "code",
   "execution_count": 29,
   "metadata": {},
   "outputs": [],
   "source": [
    "# Make predictions for the test data set:\n",
    "y_pred = model.predict(X_test)"
   ]
  },
  {
   "cell_type": "code",
   "execution_count": 30,
   "metadata": {},
   "outputs": [],
   "source": [
    "# Generate a confusion matrix\n",
    "matrix = pd.DataFrame(confusion_matrix(y_test, y_pred))"
   ]
  },
  {
   "cell_type": "code",
   "execution_count": 31,
   "metadata": {},
   "outputs": [
    {
     "data": {
      "image/png": "[encoded data removed]",
      "text/plain": [
       "<Figure size 432x288 with 2 Axes>"
      ]
     },
     "metadata": {
      "needs_background": "light"
     },
     "output_type": "display_data"
    }
   ],
   "source": [
    "sns.heatmap(matrix, annot=True)\n",
    "plt.ylabel('True Class'), plt.xlabel('Pred Class')\n",
    "plt.show()"
   ]
  },
  {
   "cell_type": "code",
   "execution_count": 32,
   "metadata": {},
   "outputs": [
    {
     "name": "stdout",
     "output_type": "stream",
     "text": [
      "0.933993841210336 0.7198105655452631\n"
     ]
    }
   ],
   "source": [
    "# F1 score is pretty good, but AUC is only 72% or so:\n",
    "\n",
    "print(f1_score(y_test, y_pred), roc_auc_score(y_test, y_pred))"
   ]
  },
  {
   "cell_type": "code",
   "execution_count": 33,
   "metadata": {},
   "outputs": [],
   "source": [
    "# We again create target probabilities for the predicted values of y:\n",
    "\n",
    "target_probabilities = logit.predict_proba(X_test)[:,1]\n",
    "\n",
    "FP_rate, TP_rate, threshold = roc_curve(y_test, target_probabilities)"
   ]
  },
  {
   "cell_type": "code",
   "execution_count": 34,
   "metadata": {},
   "outputs": [
    {
     "data": {
      "image/png": "[encoded data removed]",
      "text/plain": [
       "<Figure size 432x288 with 1 Axes>"
      ]
     },
     "metadata": {
      "needs_background": "light"
     },
     "output_type": "display_data"
    }
   ],
   "source": [
    "# Plot ROC Curve\n",
    "plt.title('Receiver Operating Characteristic')\n",
    "plt.plot(FP_rate, TP_rate)\n",
    "plt.plot([0,1], ls='--')\n",
    "plt.plot([0,0],[1,0], c='.7'), plt.plot([1,1], c='.7')\n",
    "plt.ylabel('TP Rate')\n",
    "plt.xlabel('FP Rate')\n",
    "plt.show()"
   ]
  },
  {
   "cell_type": "markdown",
   "metadata": {},
   "source": [
    "#### Random Forest Classifier ####\n",
    "\n",
    "Next we'll explore a Random Forest classifier model to see if it can do a better job than the logistic regression:\n"
   ]
  },
  {
   "cell_type": "code",
   "execution_count": 35,
   "metadata": {},
   "outputs": [],
   "source": [
    "# Load Random Forest library\n",
    "from sklearn.ensemble import RandomForestClassifier\n"
   ]
  },
  {
   "cell_type": "code",
   "execution_count": 36,
   "metadata": {},
   "outputs": [
    {
     "name": "stdout",
     "output_type": "stream",
     "text": [
      "Num of Estimators:  50\n",
      "Accuracy score (training): 1.000\n",
      "Accuracy score (validation): 0.936\n",
      "\n",
      "Num of Estimators:  100\n",
      "Accuracy score (training): 1.000\n",
      "Accuracy score (validation): 0.936\n",
      "\n",
      "Num of Estimators:  150\n",
      "Accuracy score (training): 1.000\n",
      "Accuracy score (validation): 0.937\n",
      "\n"
     ]
    }
   ],
   "source": [
    "# Explore different n_estimaors, but keep the default gini criterion:\n",
    "\n",
    "n_estimators = [50, 100, 150]\n",
    "\n",
    "for estimators in n_estimators:\n",
    "    rf = RandomForestClassifier(n_estimators=estimators, random_state = 17, n_jobs=-1)\n",
    "    rf.fit(X_train, y_train)\n",
    "    print(\"Num of Estimators: \", estimators)\n",
    "    print(\"Accuracy score (training): {0:.3f}\".format(rf.score(X_train, y_train)))\n",
    "    print(\"Accuracy score (validation): {0:.3f}\".format(rf.score(X_test, y_test)))\n",
    "    print()"
   ]
  },
  {
   "cell_type": "code",
   "execution_count": 37,
   "metadata": {},
   "outputs": [
    {
     "name": "stdout",
     "output_type": "stream",
     "text": [
      "Num of Estimators:  50\n",
      "Accuracy score (training): 1.000\n",
      "Accuracy score (validation): 0.936\n",
      "\n",
      "Num of Estimators:  100\n",
      "Accuracy score (training): 1.000\n",
      "Accuracy score (validation): 0.936\n",
      "\n",
      "Num of Estimators:  150\n",
      "Accuracy score (training): 1.000\n",
      "Accuracy score (validation): 0.938\n",
      "\n"
     ]
    }
   ],
   "source": [
    "# Try the same thing with the entropy criterion:\n",
    "\n",
    "n_estimators = [50, 100, 150]\n",
    "\n",
    "for estimators in n_estimators:\n",
    "    rf = RandomForestClassifier(n_estimators=estimators, random_state = 17, n_jobs=-1, criterion = 'entropy')\n",
    "    rf.fit(X_train, y_train)\n",
    "    print(\"Num of Estimators: \", estimators)\n",
    "    print(\"Accuracy score (training): {0:.3f}\".format(rf.score(X_train, y_train)))\n",
    "    print(\"Accuracy score (validation): {0:.3f}\".format(rf.score(X_test, y_test)))\n",
    "    print()"
   ]
  },
  {
   "cell_type": "code",
   "execution_count": 38,
   "metadata": {},
   "outputs": [],
   "source": [
    "# Use the optimal parameters:\n",
    "\n",
    "randomforest = RandomForestClassifier(criterion = 'entropy', n_estimators=150, random_state=17, n_jobs=-1)\n",
    "\n",
    "rfmodel = randomforest.fit(X_train, y_train)"
   ]
  },
  {
   "cell_type": "code",
   "execution_count": 39,
   "metadata": {},
   "outputs": [],
   "source": [
    "y_predrf = rfmodel.predict(X_test)"
   ]
  },
  {
   "cell_type": "code",
   "execution_count": 40,
   "metadata": {},
   "outputs": [
    {
     "name": "stdout",
     "output_type": "stream",
     "text": [
      "0.962891698735569 0.8611279288006296\n"
     ]
    }
   ],
   "source": [
    "# F1 score is pretty good, but AUC is only 71% or so:\n",
    "\n",
    "print(f1_score(y_test, y_predrf), roc_auc_score(y_test, y_predrf))"
   ]
  },
  {
   "cell_type": "code",
   "execution_count": 41,
   "metadata": {},
   "outputs": [
    {
     "data": {
      "image/png": "[encoded data removed]",
      "text/plain": [
       "<Figure size 432x288 with 2 Axes>"
      ]
     },
     "metadata": {
      "needs_background": "light"
     },
     "output_type": "display_data"
    }
   ],
   "source": [
    "# Generate a confusion matrix\n",
    "rfmatrix = pd.DataFrame(confusion_matrix(y_test, y_predrf))\n",
    "\n",
    "sns.heatmap(rfmatrix, annot=True)\n",
    "plt.ylabel('True Class'), plt.xlabel('Pred Class')\n",
    "plt.show()"
   ]
  },
  {
   "cell_type": "code",
   "execution_count": 59,
   "metadata": {},
   "outputs": [
    {
     "data": {
      "text/plain": [
       "(556, 191, 79, 3503)"
      ]
     },
     "execution_count": 59,
     "metadata": {},
     "output_type": "execute_result"
    }
   ],
   "source": [
    "tn, fp, fn, tp = confusion_matrix(y_test, y_predrf).ravel()\n",
    "(tn, fp, fn, tp)"
   ]
  },
  {
   "cell_type": "code",
   "execution_count": 42,
   "metadata": {},
   "outputs": [],
   "source": [
    "# We again create target probabilities for the predicted values of y:\n",
    "\n",
    "rf_target_probabilities = rfmodel.predict_proba(X_test)[:,1]\n",
    "\n",
    "FP_rate, TP_rate, threshold = roc_curve(y_test, rf_target_probabilities)"
   ]
  },
  {
   "cell_type": "code",
   "execution_count": 43,
   "metadata": {},
   "outputs": [
    {
     "data": {
      "image/png": "[encoded data removed]",
      "text/plain": [
       "<Figure size 432x288 with 1 Axes>"
      ]
     },
     "metadata": {
      "needs_background": "light"
     },
     "output_type": "display_data"
    }
   ],
   "source": [
    "# Plot ROC Curve\n",
    "plt.title('Receiver Operating Characteristic')\n",
    "plt.plot(FP_rate, TP_rate)\n",
    "plt.plot([0,1], ls='--')\n",
    "plt.plot([0,0],[1,0], c='.7'), plt.plot([1,1], c='.7')\n",
    "plt.ylabel('TP Rate')\n",
    "plt.xlabel('FP Rate')\n",
    "plt.show()"
   ]
  },
  {
   "cell_type": "markdown",
   "metadata": {},
   "source": [
    "This model seems to have a signifcantly better ROC behavior than previous models. But, we don't know the relative significance, or importance, of the features in X_train and X_test. So, let's look at that next:"
   ]
  },
  {
   "cell_type": "code",
   "execution_count": 44,
   "metadata": {},
   "outputs": [
    {
     "name": "stdout",
     "output_type": "stream",
     "text": [
      "16\n"
     ]
    },
    {
     "data": {
      "image/png": "[encoded data removed]",
      "text/plain": [
       "<Figure size 720x720 with 1 Axes>"
      ]
     },
     "metadata": {
      "needs_background": "light"
     },
     "output_type": "display_data"
    }
   ],
   "source": [
    "# obtain the feature importances from the random forest model:\n",
    "feature_importance = rfmodel.feature_importances_\n",
    "# make importances relative to max importance\n",
    "feature_importance = 100.0 * (feature_importance / feature_importance.max())[:30]\n",
    "sorted_idx = np.argsort(feature_importance)[:30]\n",
    "\n",
    "# Plot the relative importances on a horizontal barchart:\n",
    "\n",
    "pos = np.arange(sorted_idx.shape[0]) + .5\n",
    "print(pos.size)\n",
    "sorted_idx.size\n",
    "plt.figure(figsize=(10,10))\n",
    "plt.barh(pos, feature_importance[sorted_idx], align='center')\n",
    "plt.yticks(pos, X.columns[sorted_idx])\n",
    "plt.xlabel('Relative Importance')\n",
    "plt.title('Variable Importance')\n",
    "plt.show()"
   ]
  },
  {
   "cell_type": "markdown",
   "metadata": {},
   "source": [
    "### Gradient Boosting ###\n",
    "This was a first attempt at a random forest decision tree model. Next step will be exploration of Gradient Boost approaches (for a data set this small the computational expense will be negligible). "
   ]
  },
  {
   "cell_type": "code",
   "execution_count": 45,
   "metadata": {},
   "outputs": [],
   "source": [
    "from sklearn.ensemble import GradientBoostingClassifier"
   ]
  },
  {
   "cell_type": "code",
   "execution_count": 53,
   "metadata": {},
   "outputs": [
    {
     "name": "stdout",
     "output_type": "stream",
     "text": [
      "Learning rate:  0.05\n",
      "Accuracy score (training): 0.920\n",
      "Accuracy score (validation): 0.914\n",
      "\n",
      "Learning rate:  0.1\n",
      "Accuracy score (training): 0.939\n",
      "Accuracy score (validation): 0.931\n",
      "\n",
      "Learning rate:  0.25\n",
      "Accuracy score (training): 0.952\n",
      "Accuracy score (validation): 0.933\n",
      "\n",
      "Learning rate:  0.5\n",
      "Accuracy score (training): 0.962\n",
      "Accuracy score (validation): 0.940\n",
      "\n",
      "Learning rate:  0.75\n",
      "Accuracy score (training): 0.965\n",
      "Accuracy score (validation): 0.930\n",
      "\n",
      "Learning rate:  1\n",
      "Accuracy score (training): 0.965\n",
      "Accuracy score (validation): 0.932\n",
      "\n"
     ]
    }
   ],
   "source": [
    "\n",
    "learning_rates = [0.05, 0.1, 0.25, 0.5, 0.75, 1]\n",
    "for learning_rate in learning_rates:\n",
    "    gb = GradientBoostingClassifier(n_estimators=20, learning_rate = learning_rate, max_features=6, max_depth = 5, random_state = 0)\n",
    "    gb.fit(X_train, y_train)\n",
    "    print(\"Learning rate: \", learning_rate)\n",
    "    print(\"Accuracy score (training): {0:.3f}\".format(gb.score(X_train, y_train)))\n",
    "    print(\"Accuracy score (validation): {0:.3f}\".format(gb.score(X_test, y_test)))\n",
    "    print()"
   ]
  },
  {
   "cell_type": "code",
   "execution_count": 54,
   "metadata": {},
   "outputs": [],
   "source": [
    "# Fit the best model: \n",
    "\n",
    "gb = GradientBoostingClassifier(n_estimators=20, learning_rate = 0.5, max_features=6, max_depth = 5, random_state = 0)\n",
    "gb.fit(X_train, y_train)\n",
    "\n",
    "y_predgb = gb.predict(X_test)\n"
   ]
  },
  {
   "cell_type": "code",
   "execution_count": 55,
   "metadata": {},
   "outputs": [
    {
     "name": "stdout",
     "output_type": "stream",
     "text": [
      "0.9639589686720266 0.8815950569446966\n"
     ]
    }
   ],
   "source": [
    "# F1 score is pretty good, but AUC is only 71% or so:\n",
    "\n",
    "print(f1_score(y_test, y_predgb), roc_auc_score(y_test, y_predgb))"
   ]
  },
  {
   "cell_type": "code",
   "execution_count": 56,
   "metadata": {},
   "outputs": [
    {
     "data": {
      "image/png": "[encoded data removed]",
      "text/plain": [
       "<Figure size 432x288 with 2 Axes>"
      ]
     },
     "metadata": {
      "needs_background": "light"
     },
     "output_type": "display_data"
    }
   ],
   "source": [
    "# Generate a confusion matrix\n",
    "gbmatrix = pd.DataFrame(confusion_matrix(y_test, y_predgb))\n",
    "\n",
    "sns.heatmap(gbmatrix, annot=True)\n",
    "plt.ylabel('True Class'), plt.xlabel('Pred Class')\n",
    "plt.show()"
   ]
  },
  {
   "cell_type": "code",
   "execution_count": 57,
   "metadata": {},
   "outputs": [],
   "source": [
    "tn, fp, fn, tp = confusion_matrix(y_test, y_predgb).ravel()"
   ]
  },
  {
   "cell_type": "code",
   "execution_count": 58,
   "metadata": {},
   "outputs": [
    {
     "data": {
      "text/plain": [
       "(592, 155, 105, 3477)"
      ]
     },
     "execution_count": 58,
     "metadata": {},
     "output_type": "execute_result"
    }
   ],
   "source": [
    "(tn, fp, fn, tp)"
   ]
  },
  {
   "cell_type": "code",
   "execution_count": 60,
   "metadata": {},
   "outputs": [],
   "source": [
    "# We again create target probabilities for the predicted values of y:\n",
    "\n",
    "gb_target_probabilities = gb.predict_proba(X_test)[:,1]\n",
    "\n",
    "FP_rate, TP_rate, threshold = roc_curve(y_test, gb_target_probabilities)"
   ]
  },
  {
   "cell_type": "code",
   "execution_count": 61,
   "metadata": {},
   "outputs": [
    {
     "data": {
      "image/png": "[encoded data removed]",
      "text/plain": [
       "<Figure size 432x288 with 1 Axes>"
      ]
     },
     "metadata": {
      "needs_background": "light"
     },
     "output_type": "display_data"
    }
   ],
   "source": [
    "# Plot ROC Curve\n",
    "plt.title('Receiver Operating Characteristic')\n",
    "plt.plot(FP_rate, TP_rate)\n",
    "plt.plot([0,1], ls='--')\n",
    "plt.plot([0,0],[1,0], c='.7'), plt.plot([1,1], c='.7')\n",
    "plt.ylabel('TP Rate')\n",
    "plt.xlabel('FP Rate')\n",
    "plt.show()"
   ]
  },
  {
   "cell_type": "code",
   "execution_count": 62,
   "metadata": {},
   "outputs": [
    {
     "name": "stdout",
     "output_type": "stream",
     "text": [
      "16\n"
     ]
    },
    {
     "data": {
      "image/png": "[encoded data removed]",
      "text/plain": [
       "<Figure size 720x720 with 1 Axes>"
      ]
     },
     "metadata": {
      "needs_background": "light"
     },
     "output_type": "display_data"
    }
   ],
   "source": [
    "# obtain the feature importances from the random forest model:\n",
    "feature_importance = gb.feature_importances_\n",
    "# make importances relative to max importance\n",
    "feature_importance = 100.0 * (feature_importance / feature_importance.max())[:30]\n",
    "sorted_idx = np.argsort(feature_importance)[:30]\n",
    "\n",
    "# Plot the relative importances on a horizontal barchart:\n",
    "\n",
    "pos = np.arange(sorted_idx.shape[0]) + .5\n",
    "print(pos.size)\n",
    "sorted_idx.size\n",
    "plt.figure(figsize=(10,10))\n",
    "plt.barh(pos, feature_importance[sorted_idx], align='center')\n",
    "plt.yticks(pos, X.columns[sorted_idx])\n",
    "plt.xlabel('Relative Importance')\n",
    "plt.title('Variable Importance')\n",
    "plt.show()"
   ]
  },
  {
   "cell_type": "markdown",
   "metadata": {},
   "source": [
    "### Examination of test set predictions### \n",
    "So far, the Gradient Boost model is doing the best at our stated goal: predicting loans with are destined for default. Out of 747 defaults in the test set, is accurately found 570 of them.  \n",
    "Here we want to look at the differences in these two groups. "
   ]
  },
  {
   "cell_type": "code",
   "execution_count": 64,
   "metadata": {},
   "outputs": [
    {
     "data": {
      "text/plain": [
       "736      1.0\n",
       "8674     0.0\n",
       "5971     1.0\n",
       "1957     1.0\n",
       "11075    1.0\n",
       "Name: MIS_Status, dtype: float64"
      ]
     },
     "execution_count": 64,
     "metadata": {},
     "output_type": "execute_result"
    }
   ],
   "source": [
    "y_test.head()"
   ]
  },
  {
   "cell_type": "code",
   "execution_count": 65,
   "metadata": {},
   "outputs": [],
   "source": [
    "yo = list(y_test.index)\n",
    "\n",
    "yo = sorted(yo)"
   ]
  },
  {
   "cell_type": "code",
   "execution_count": 66,
   "metadata": {},
   "outputs": [
    {
     "data": {
      "text/plain": [
       "[0, 3, 6, 17, 19]"
      ]
     },
     "execution_count": 66,
     "metadata": {},
     "output_type": "execute_result"
    }
   ],
   "source": [
    "yo[0:5]"
   ]
  },
  {
   "cell_type": "code",
   "execution_count": 67,
   "metadata": {},
   "outputs": [
    {
     "data": {
      "text/plain": [
       "[19214, 19224, 19225, 19226]"
      ]
     },
     "execution_count": 67,
     "metadata": {},
     "output_type": "execute_result"
    }
   ],
   "source": [
    "yo[-5:-1]"
   ]
  },
  {
   "cell_type": "code",
   "execution_count": 68,
   "metadata": {},
   "outputs": [],
   "source": [
    "df_test = df.iloc[yo]"
   ]
  },
  {
   "cell_type": "code",
   "execution_count": 69,
   "metadata": {},
   "outputs": [
    {
     "data": {
      "text/plain": [
       "1.0    3582\n",
       "0.0     747\n",
       "Name: MIS_Status, dtype: int64"
      ]
     },
     "execution_count": 69,
     "metadata": {},
     "output_type": "execute_result"
    }
   ],
   "source": [
    "df_test.MIS_Status.value_counts()"
   ]
  },
  {
   "cell_type": "code",
   "execution_count": 70,
   "metadata": {},
   "outputs": [],
   "source": [
    "y_t = pd.DataFrame(y_test)"
   ]
  },
  {
   "cell_type": "code",
   "execution_count": 71,
   "metadata": {},
   "outputs": [
    {
     "data": {
      "text/html": [
       "<div>\n",
       "<style scoped>\n",
       "    .dataframe tbody tr th:only-of-type {\n",
       "        vertical-align: middle;\n",
       "    }\n",
       "\n",
       "    .dataframe tbody tr th {\n",
       "        vertical-align: top;\n",
       "    }\n",
       "\n",
       "    .dataframe thead th {\n",
       "        text-align: right;\n",
       "    }\n",
       "</style>\n",
       "<table border=\"1\" class=\"dataframe\">\n",
       "  <thead>\n",
       "    <tr style=\"text-align: right;\">\n",
       "      <th></th>\n",
       "      <th>MIS_Status</th>\n",
       "    </tr>\n",
       "  </thead>\n",
       "  <tbody>\n",
       "    <tr>\n",
       "      <th>736</th>\n",
       "      <td>1.0</td>\n",
       "    </tr>\n",
       "    <tr>\n",
       "      <th>8674</th>\n",
       "      <td>0.0</td>\n",
       "    </tr>\n",
       "    <tr>\n",
       "      <th>5971</th>\n",
       "      <td>1.0</td>\n",
       "    </tr>\n",
       "    <tr>\n",
       "      <th>1957</th>\n",
       "      <td>1.0</td>\n",
       "    </tr>\n",
       "    <tr>\n",
       "      <th>11075</th>\n",
       "      <td>1.0</td>\n",
       "    </tr>\n",
       "  </tbody>\n",
       "</table>\n",
       "</div>"
      ],
      "text/plain": [
       "       MIS_Status\n",
       "736           1.0\n",
       "8674          0.0\n",
       "5971          1.0\n",
       "1957          1.0\n",
       "11075         1.0"
      ]
     },
     "execution_count": 71,
     "metadata": {},
     "output_type": "execute_result"
    }
   ],
   "source": [
    "y_t.head()"
   ]
  },
  {
   "cell_type": "code",
   "execution_count": 72,
   "metadata": {},
   "outputs": [],
   "source": [
    "y_bool = ((y_test-y_predgb) == 0)"
   ]
  },
  {
   "cell_type": "code",
   "execution_count": 73,
   "metadata": {},
   "outputs": [
    {
     "data": {
      "text/plain": [
       "True     4069\n",
       "False     260\n",
       "Name: MIS_Status, dtype: int64"
      ]
     },
     "execution_count": 73,
     "metadata": {},
     "output_type": "execute_result"
    }
   ],
   "source": [
    "y_bool.value_counts()"
   ]
  },
  {
   "cell_type": "code",
   "execution_count": 74,
   "metadata": {},
   "outputs": [],
   "source": [
    "y_t['Pred'] = y_bool"
   ]
  },
  {
   "cell_type": "code",
   "execution_count": 75,
   "metadata": {},
   "outputs": [],
   "source": [
    "y_t['ind'] = y_t.index"
   ]
  },
  {
   "cell_type": "code",
   "execution_count": 76,
   "metadata": {},
   "outputs": [
    {
     "data": {
      "text/html": [
       "<div>\n",
       "<style scoped>\n",
       "    .dataframe tbody tr th:only-of-type {\n",
       "        vertical-align: middle;\n",
       "    }\n",
       "\n",
       "    .dataframe tbody tr th {\n",
       "        vertical-align: top;\n",
       "    }\n",
       "\n",
       "    .dataframe thead th {\n",
       "        text-align: right;\n",
       "    }\n",
       "</style>\n",
       "<table border=\"1\" class=\"dataframe\">\n",
       "  <thead>\n",
       "    <tr style=\"text-align: right;\">\n",
       "      <th></th>\n",
       "      <th>MIS_Status</th>\n",
       "      <th>Pred</th>\n",
       "      <th>ind</th>\n",
       "    </tr>\n",
       "  </thead>\n",
       "  <tbody>\n",
       "    <tr>\n",
       "      <th>736</th>\n",
       "      <td>1.0</td>\n",
       "      <td>True</td>\n",
       "      <td>736</td>\n",
       "    </tr>\n",
       "    <tr>\n",
       "      <th>8674</th>\n",
       "      <td>0.0</td>\n",
       "      <td>False</td>\n",
       "      <td>8674</td>\n",
       "    </tr>\n",
       "    <tr>\n",
       "      <th>5971</th>\n",
       "      <td>1.0</td>\n",
       "      <td>True</td>\n",
       "      <td>5971</td>\n",
       "    </tr>\n",
       "    <tr>\n",
       "      <th>1957</th>\n",
       "      <td>1.0</td>\n",
       "      <td>True</td>\n",
       "      <td>1957</td>\n",
       "    </tr>\n",
       "    <tr>\n",
       "      <th>11075</th>\n",
       "      <td>1.0</td>\n",
       "      <td>True</td>\n",
       "      <td>11075</td>\n",
       "    </tr>\n",
       "    <tr>\n",
       "      <th>6134</th>\n",
       "      <td>1.0</td>\n",
       "      <td>True</td>\n",
       "      <td>6134</td>\n",
       "    </tr>\n",
       "    <tr>\n",
       "      <th>17847</th>\n",
       "      <td>1.0</td>\n",
       "      <td>True</td>\n",
       "      <td>17847</td>\n",
       "    </tr>\n",
       "    <tr>\n",
       "      <th>5118</th>\n",
       "      <td>0.0</td>\n",
       "      <td>False</td>\n",
       "      <td>5118</td>\n",
       "    </tr>\n",
       "    <tr>\n",
       "      <th>200</th>\n",
       "      <td>1.0</td>\n",
       "      <td>True</td>\n",
       "      <td>200</td>\n",
       "    </tr>\n",
       "    <tr>\n",
       "      <th>2298</th>\n",
       "      <td>1.0</td>\n",
       "      <td>True</td>\n",
       "      <td>2298</td>\n",
       "    </tr>\n",
       "  </tbody>\n",
       "</table>\n",
       "</div>"
      ],
      "text/plain": [
       "       MIS_Status   Pred    ind\n",
       "736           1.0   True    736\n",
       "8674          0.0  False   8674\n",
       "5971          1.0   True   5971\n",
       "1957          1.0   True   1957\n",
       "11075         1.0   True  11075\n",
       "6134          1.0   True   6134\n",
       "17847         1.0   True  17847\n",
       "5118          0.0  False   5118\n",
       "200           1.0   True    200\n",
       "2298          1.0   True   2298"
      ]
     },
     "execution_count": 76,
     "metadata": {},
     "output_type": "execute_result"
    }
   ],
   "source": [
    "y_t.head(10)"
   ]
  },
  {
   "cell_type": "code",
   "execution_count": 77,
   "metadata": {},
   "outputs": [],
   "source": [
    "df['ind'] = df.index\n",
    "testset = pd.merge(y_t, df, how='left', on ='ind')"
   ]
  },
  {
   "cell_type": "code",
   "execution_count": 78,
   "metadata": {},
   "outputs": [
    {
     "data": {
      "text/html": [
       "<div>\n",
       "<style scoped>\n",
       "    .dataframe tbody tr th:only-of-type {\n",
       "        vertical-align: middle;\n",
       "    }\n",
       "\n",
       "    .dataframe tbody tr th {\n",
       "        vertical-align: top;\n",
       "    }\n",
       "\n",
       "    .dataframe thead th {\n",
       "        text-align: right;\n",
       "    }\n",
       "</style>\n",
       "<table border=\"1\" class=\"dataframe\">\n",
       "  <thead>\n",
       "    <tr style=\"text-align: right;\">\n",
       "      <th></th>\n",
       "      <th>0</th>\n",
       "      <th>1</th>\n",
       "      <th>2</th>\n",
       "      <th>3</th>\n",
       "      <th>4</th>\n",
       "      <th>5</th>\n",
       "      <th>6</th>\n",
       "      <th>7</th>\n",
       "      <th>8</th>\n",
       "      <th>9</th>\n",
       "    </tr>\n",
       "  </thead>\n",
       "  <tbody>\n",
       "    <tr>\n",
       "      <th>MIS_Status_x</th>\n",
       "      <td>1</td>\n",
       "      <td>0</td>\n",
       "      <td>1</td>\n",
       "      <td>1</td>\n",
       "      <td>1</td>\n",
       "      <td>1</td>\n",
       "      <td>1</td>\n",
       "      <td>0</td>\n",
       "      <td>1</td>\n",
       "      <td>1</td>\n",
       "    </tr>\n",
       "    <tr>\n",
       "      <th>Pred</th>\n",
       "      <td>True</td>\n",
       "      <td>False</td>\n",
       "      <td>True</td>\n",
       "      <td>True</td>\n",
       "      <td>True</td>\n",
       "      <td>True</td>\n",
       "      <td>True</td>\n",
       "      <td>False</td>\n",
       "      <td>True</td>\n",
       "      <td>True</td>\n",
       "    </tr>\n",
       "    <tr>\n",
       "      <th>ind</th>\n",
       "      <td>736</td>\n",
       "      <td>8674</td>\n",
       "      <td>5971</td>\n",
       "      <td>1957</td>\n",
       "      <td>11075</td>\n",
       "      <td>6134</td>\n",
       "      <td>17847</td>\n",
       "      <td>5118</td>\n",
       "      <td>200</td>\n",
       "      <td>2298</td>\n",
       "    </tr>\n",
       "    <tr>\n",
       "      <th>ApprovalFY</th>\n",
       "      <td>1996</td>\n",
       "      <td>1997</td>\n",
       "      <td>2002</td>\n",
       "      <td>2008</td>\n",
       "      <td>1999</td>\n",
       "      <td>1994</td>\n",
       "      <td>1990</td>\n",
       "      <td>2008</td>\n",
       "      <td>1993</td>\n",
       "      <td>2009</td>\n",
       "    </tr>\n",
       "    <tr>\n",
       "      <th>Term</th>\n",
       "      <td>120</td>\n",
       "      <td>48</td>\n",
       "      <td>120</td>\n",
       "      <td>84</td>\n",
       "      <td>84</td>\n",
       "      <td>9</td>\n",
       "      <td>60</td>\n",
       "      <td>63</td>\n",
       "      <td>84</td>\n",
       "      <td>84</td>\n",
       "    </tr>\n",
       "    <tr>\n",
       "      <th>NoEmp</th>\n",
       "      <td>4</td>\n",
       "      <td>60</td>\n",
       "      <td>3</td>\n",
       "      <td>3</td>\n",
       "      <td>6</td>\n",
       "      <td>92</td>\n",
       "      <td>7</td>\n",
       "      <td>37</td>\n",
       "      <td>100</td>\n",
       "      <td>1</td>\n",
       "    </tr>\n",
       "    <tr>\n",
       "      <th>NewBiz</th>\n",
       "      <td>1</td>\n",
       "      <td>0</td>\n",
       "      <td>1</td>\n",
       "      <td>0</td>\n",
       "      <td>0</td>\n",
       "      <td>0</td>\n",
       "      <td>0</td>\n",
       "      <td>0</td>\n",
       "      <td>0</td>\n",
       "      <td>0</td>\n",
       "    </tr>\n",
       "    <tr>\n",
       "      <th>RevLineCr</th>\n",
       "      <td>0</td>\n",
       "      <td>0</td>\n",
       "      <td>0</td>\n",
       "      <td>1</td>\n",
       "      <td>0</td>\n",
       "      <td>0</td>\n",
       "      <td>0</td>\n",
       "      <td>1</td>\n",
       "      <td>0</td>\n",
       "      <td>1</td>\n",
       "    </tr>\n",
       "    <tr>\n",
       "      <th>LowDoc</th>\n",
       "      <td>1</td>\n",
       "      <td>0</td>\n",
       "      <td>1</td>\n",
       "      <td>0</td>\n",
       "      <td>0</td>\n",
       "      <td>0</td>\n",
       "      <td>0</td>\n",
       "      <td>0</td>\n",
       "      <td>0</td>\n",
       "      <td>0</td>\n",
       "    </tr>\n",
       "    <tr>\n",
       "      <th>DisbursementGross</th>\n",
       "      <td>45000</td>\n",
       "      <td>416000</td>\n",
       "      <td>117000</td>\n",
       "      <td>116336</td>\n",
       "      <td>150000</td>\n",
       "      <td>400000</td>\n",
       "      <td>57000</td>\n",
       "      <td>110541</td>\n",
       "      <td>80000</td>\n",
       "      <td>82157</td>\n",
       "    </tr>\n",
       "    <tr>\n",
       "      <th>MIS_Status_y</th>\n",
       "      <td>1</td>\n",
       "      <td>0</td>\n",
       "      <td>1</td>\n",
       "      <td>1</td>\n",
       "      <td>1</td>\n",
       "      <td>1</td>\n",
       "      <td>1</td>\n",
       "      <td>0</td>\n",
       "      <td>1</td>\n",
       "      <td>1</td>\n",
       "    </tr>\n",
       "    <tr>\n",
       "      <th>TotalLoansInCounty</th>\n",
       "      <td>434</td>\n",
       "      <td>2046</td>\n",
       "      <td>1929</td>\n",
       "      <td>3647</td>\n",
       "      <td>1078</td>\n",
       "      <td>1929</td>\n",
       "      <td>53</td>\n",
       "      <td>805</td>\n",
       "      <td>445</td>\n",
       "      <td>3647</td>\n",
       "    </tr>\n",
       "    <tr>\n",
       "      <th>PIF_RateByCounty</th>\n",
       "      <td>0.870968</td>\n",
       "      <td>0.797654</td>\n",
       "      <td>0.752722</td>\n",
       "      <td>0.839232</td>\n",
       "      <td>0.821892</td>\n",
       "      <td>0.752722</td>\n",
       "      <td>0.886792</td>\n",
       "      <td>0.732587</td>\n",
       "      <td>0.876404</td>\n",
       "      <td>0.839232</td>\n",
       "    </tr>\n",
       "    <tr>\n",
       "      <th>MedIncome</th>\n",
       "      <td>19644</td>\n",
       "      <td>33084</td>\n",
       "      <td>28319</td>\n",
       "      <td>55575</td>\n",
       "      <td>27995</td>\n",
       "      <td>19262</td>\n",
       "      <td>15767</td>\n",
       "      <td>56785</td>\n",
       "      <td>17932</td>\n",
       "      <td>46598</td>\n",
       "    </tr>\n",
       "    <tr>\n",
       "      <th>PopChange</th>\n",
       "      <td>0.179633</td>\n",
       "      <td>0.222551</td>\n",
       "      <td>0.293547</td>\n",
       "      <td>0.139801</td>\n",
       "      <td>0.258795</td>\n",
       "      <td>0.293547</td>\n",
       "      <td>0.116641</td>\n",
       "      <td>0.644774</td>\n",
       "      <td>0.276615</td>\n",
       "      <td>0.139801</td>\n",
       "    </tr>\n",
       "    <tr>\n",
       "      <th>EmployedInCty</th>\n",
       "      <td>55168</td>\n",
       "      <td>270208</td>\n",
       "      <td>181364</td>\n",
       "      <td>305960</td>\n",
       "      <td>140987</td>\n",
       "      <td>151849</td>\n",
       "      <td>9845</td>\n",
       "      <td>154263</td>\n",
       "      <td>46379</td>\n",
       "      <td>298039</td>\n",
       "    </tr>\n",
       "    <tr>\n",
       "      <th>UnempInCty</th>\n",
       "      <td>3506</td>\n",
       "      <td>7006</td>\n",
       "      <td>11785</td>\n",
       "      <td>17382</td>\n",
       "      <td>4737</td>\n",
       "      <td>6914</td>\n",
       "      <td>468</td>\n",
       "      <td>6727</td>\n",
       "      <td>3495</td>\n",
       "      <td>26293</td>\n",
       "    </tr>\n",
       "    <tr>\n",
       "      <th>UnempRateInCty</th>\n",
       "      <td>6</td>\n",
       "      <td>2.5</td>\n",
       "      <td>6.1</td>\n",
       "      <td>5.4</td>\n",
       "      <td>3.3</td>\n",
       "      <td>4.4</td>\n",
       "      <td>4.5</td>\n",
       "      <td>4.2</td>\n",
       "      <td>7</td>\n",
       "      <td>8.1</td>\n",
       "    </tr>\n",
       "    <tr>\n",
       "      <th>DeathsPer100k</th>\n",
       "      <td>980.4</td>\n",
       "      <td>551.9</td>\n",
       "      <td>562.9</td>\n",
       "      <td>823.4</td>\n",
       "      <td>595.6</td>\n",
       "      <td>562.9</td>\n",
       "      <td>945.9</td>\n",
       "      <td>254.9</td>\n",
       "      <td>977.2</td>\n",
       "      <td>823.4</td>\n",
       "    </tr>\n",
       "    <tr>\n",
       "      <th>PayDelay</th>\n",
       "      <td>14</td>\n",
       "      <td>108</td>\n",
       "      <td>92</td>\n",
       "      <td>106</td>\n",
       "      <td>77</td>\n",
       "      <td>161</td>\n",
       "      <td>74</td>\n",
       "      <td>86</td>\n",
       "      <td>431</td>\n",
       "      <td>54</td>\n",
       "    </tr>\n",
       "  </tbody>\n",
       "</table>\n",
       "</div>"
      ],
      "text/plain": [
       "                           0         1         2         3         4  \\\n",
       "MIS_Status_x               1         0         1         1         1   \n",
       "Pred                    True     False      True      True      True   \n",
       "ind                      736      8674      5971      1957     11075   \n",
       "ApprovalFY              1996      1997      2002      2008      1999   \n",
       "Term                     120        48       120        84        84   \n",
       "NoEmp                      4        60         3         3         6   \n",
       "NewBiz                     1         0         1         0         0   \n",
       "RevLineCr                  0         0         0         1         0   \n",
       "LowDoc                     1         0         1         0         0   \n",
       "DisbursementGross      45000    416000    117000    116336    150000   \n",
       "MIS_Status_y               1         0         1         1         1   \n",
       "TotalLoansInCounty       434      2046      1929      3647      1078   \n",
       "PIF_RateByCounty    0.870968  0.797654  0.752722  0.839232  0.821892   \n",
       "MedIncome              19644     33084     28319     55575     27995   \n",
       "PopChange           0.179633  0.222551  0.293547  0.139801  0.258795   \n",
       "EmployedInCty          55168    270208    181364    305960    140987   \n",
       "UnempInCty              3506      7006     11785     17382      4737   \n",
       "UnempRateInCty             6       2.5       6.1       5.4       3.3   \n",
       "DeathsPer100k          980.4     551.9     562.9     823.4     595.6   \n",
       "PayDelay                  14       108        92       106        77   \n",
       "\n",
       "                           5         6         7         8         9  \n",
       "MIS_Status_x               1         1         0         1         1  \n",
       "Pred                    True      True     False      True      True  \n",
       "ind                     6134     17847      5118       200      2298  \n",
       "ApprovalFY              1994      1990      2008      1993      2009  \n",
       "Term                       9        60        63        84        84  \n",
       "NoEmp                     92         7        37       100         1  \n",
       "NewBiz                     0         0         0         0         0  \n",
       "RevLineCr                  0         0         1         0         1  \n",
       "LowDoc                     0         0         0         0         0  \n",
       "DisbursementGross     400000     57000    110541     80000     82157  \n",
       "MIS_Status_y               1         1         0         1         1  \n",
       "TotalLoansInCounty      1929        53       805       445      3647  \n",
       "PIF_RateByCounty    0.752722  0.886792  0.732587  0.876404  0.839232  \n",
       "MedIncome              19262     15767     56785     17932     46598  \n",
       "PopChange           0.293547  0.116641  0.644774  0.276615  0.139801  \n",
       "EmployedInCty         151849      9845    154263     46379    298039  \n",
       "UnempInCty              6914       468      6727      3495     26293  \n",
       "UnempRateInCty           4.4       4.5       4.2         7       8.1  \n",
       "DeathsPer100k          562.9     945.9     254.9     977.2     823.4  \n",
       "PayDelay                 161        74        86       431        54  "
      ]
     },
     "execution_count": 78,
     "metadata": {},
     "output_type": "execute_result"
    }
   ],
   "source": [
    "testset.head(10).T"
   ]
  },
  {
   "cell_type": "code",
   "execution_count": 79,
   "metadata": {},
   "outputs": [
    {
     "data": {
      "text/plain": [
       "<matplotlib.axes._subplots.AxesSubplot at 0x215951eff88>"
      ]
     },
     "execution_count": 79,
     "metadata": {},
     "output_type": "execute_result"
    },
    {
     "data": {
      "image/png": "[encoded data removed]",
      "text/plain": [
       "<Figure size 432x288 with 1 Axes>"
      ]
     },
     "metadata": {
      "needs_background": "light"
     },
     "output_type": "display_data"
    }
   ],
   "source": [
    "sns.boxplot(y='ApprovalFY', x='Pred', data=testset)"
   ]
  },
  {
   "cell_type": "code",
   "execution_count": 80,
   "metadata": {},
   "outputs": [
    {
     "data": {
      "text/plain": [
       "<matplotlib.axes._subplots.AxesSubplot at 0x2159435b108>"
      ]
     },
     "execution_count": 80,
     "metadata": {},
     "output_type": "execute_result"
    },
    {
     "data": {
      "image/png": "[encoded data removed]",
      "text/plain": [
       "<Figure size 432x288 with 1 Axes>"
      ]
     },
     "metadata": {
      "needs_background": "light"
     },
     "output_type": "display_data"
    }
   ],
   "source": [
    "sns.violinplot(y='Term', x='Pred', data=testset)"
   ]
  },
  {
   "cell_type": "code",
   "execution_count": 81,
   "metadata": {},
   "outputs": [
    {
     "data": {
      "text/plain": [
       "<matplotlib.axes._subplots.AxesSubplot at 0x21591050588>"
      ]
     },
     "execution_count": 81,
     "metadata": {},
     "output_type": "execute_result"
    },
    {
     "data": {
      "image/png": "[encoded data removed]",
      "text/plain": [
       "<Figure size 432x288 with 1 Axes>"
      ]
     },
     "metadata": {
      "needs_background": "light"
     },
     "output_type": "display_data"
    }
   ],
   "source": [
    "sns.boxplot(y='ind', x='Pred', data=testset)"
   ]
  },
  {
   "cell_type": "code",
   "execution_count": 82,
   "metadata": {},
   "outputs": [
    {
     "data": {
      "text/plain": [
       "<matplotlib.axes._subplots.AxesSubplot at 0x21591057248>"
      ]
     },
     "execution_count": 82,
     "metadata": {},
     "output_type": "execute_result"
    },
    {
     "data": {
      "image/png": "[encoded data removed]",
      "text/plain": [
       "<Figure size 432x288 with 1 Axes>"
      ]
     },
     "metadata": {
      "needs_background": "light"
     },
     "output_type": "display_data"
    }
   ],
   "source": [
    "sns.boxplot(y='MedIncome', x='Pred', data=testset)"
   ]
  },
  {
   "cell_type": "code",
   "execution_count": 83,
   "metadata": {},
   "outputs": [
    {
     "data": {
      "text/html": [
       "<div>\n",
       "<style scoped>\n",
       "    .dataframe tbody tr th:only-of-type {\n",
       "        vertical-align: middle;\n",
       "    }\n",
       "\n",
       "    .dataframe tbody tr th {\n",
       "        vertical-align: top;\n",
       "    }\n",
       "\n",
       "    .dataframe thead tr th {\n",
       "        text-align: left;\n",
       "    }\n",
       "</style>\n",
       "<table border=\"1\" class=\"dataframe\">\n",
       "  <thead>\n",
       "    <tr>\n",
       "      <th>Pred</th>\n",
       "      <th colspan=\"2\" halign=\"left\">False</th>\n",
       "      <th colspan=\"2\" halign=\"left\">True</th>\n",
       "    </tr>\n",
       "    <tr>\n",
       "      <th></th>\n",
       "      <th>0.25</th>\n",
       "      <th>0.75</th>\n",
       "      <th>0.25</th>\n",
       "      <th>0.75</th>\n",
       "    </tr>\n",
       "  </thead>\n",
       "  <tbody>\n",
       "    <tr>\n",
       "      <th>MIS_Status_x</th>\n",
       "      <td>0.000000</td>\n",
       "      <td>1.000000</td>\n",
       "      <td>1.000000</td>\n",
       "      <td>1.000000</td>\n",
       "    </tr>\n",
       "    <tr>\n",
       "      <th>ind</th>\n",
       "      <td>5299.250000</td>\n",
       "      <td>15458.250000</td>\n",
       "      <td>4843.000000</td>\n",
       "      <td>14374.000000</td>\n",
       "    </tr>\n",
       "    <tr>\n",
       "      <th>ApprovalFY</th>\n",
       "      <td>1999.000000</td>\n",
       "      <td>2006.000000</td>\n",
       "      <td>1997.000000</td>\n",
       "      <td>2006.000000</td>\n",
       "    </tr>\n",
       "    <tr>\n",
       "      <th>Term</th>\n",
       "      <td>39.750000</td>\n",
       "      <td>102.000000</td>\n",
       "      <td>69.000000</td>\n",
       "      <td>180.000000</td>\n",
       "    </tr>\n",
       "    <tr>\n",
       "      <th>NoEmp</th>\n",
       "      <td>2.000000</td>\n",
       "      <td>10.000000</td>\n",
       "      <td>2.000000</td>\n",
       "      <td>10.000000</td>\n",
       "    </tr>\n",
       "    <tr>\n",
       "      <th>NewBiz</th>\n",
       "      <td>0.000000</td>\n",
       "      <td>1.000000</td>\n",
       "      <td>0.000000</td>\n",
       "      <td>0.000000</td>\n",
       "    </tr>\n",
       "    <tr>\n",
       "      <th>RevLineCr</th>\n",
       "      <td>0.000000</td>\n",
       "      <td>0.000000</td>\n",
       "      <td>0.000000</td>\n",
       "      <td>0.000000</td>\n",
       "    </tr>\n",
       "    <tr>\n",
       "      <th>LowDoc</th>\n",
       "      <td>0.000000</td>\n",
       "      <td>0.000000</td>\n",
       "      <td>0.000000</td>\n",
       "      <td>0.000000</td>\n",
       "    </tr>\n",
       "    <tr>\n",
       "      <th>DisbursementGross</th>\n",
       "      <td>50675.000000</td>\n",
       "      <td>354403.750000</td>\n",
       "      <td>50000.000000</td>\n",
       "      <td>286200.000000</td>\n",
       "    </tr>\n",
       "    <tr>\n",
       "      <th>MIS_Status_y</th>\n",
       "      <td>0.000000</td>\n",
       "      <td>1.000000</td>\n",
       "      <td>1.000000</td>\n",
       "      <td>1.000000</td>\n",
       "    </tr>\n",
       "    <tr>\n",
       "      <th>TotalLoansInCounty</th>\n",
       "      <td>506.000000</td>\n",
       "      <td>2046.000000</td>\n",
       "      <td>506.000000</td>\n",
       "      <td>2046.000000</td>\n",
       "    </tr>\n",
       "    <tr>\n",
       "      <th>PIF_RateByCounty</th>\n",
       "      <td>0.797654</td>\n",
       "      <td>0.839232</td>\n",
       "      <td>0.797654</td>\n",
       "      <td>0.846377</td>\n",
       "    </tr>\n",
       "    <tr>\n",
       "      <th>MedIncome</th>\n",
       "      <td>28681.000000</td>\n",
       "      <td>41657.000000</td>\n",
       "      <td>26550.000000</td>\n",
       "      <td>41754.000000</td>\n",
       "    </tr>\n",
       "    <tr>\n",
       "      <th>PopChange</th>\n",
       "      <td>0.139801</td>\n",
       "      <td>0.284309</td>\n",
       "      <td>0.139801</td>\n",
       "      <td>0.276615</td>\n",
       "    </tr>\n",
       "    <tr>\n",
       "      <th>EmployedInCty</th>\n",
       "      <td>73288.000000</td>\n",
       "      <td>283567.000000</td>\n",
       "      <td>79175.000000</td>\n",
       "      <td>280297.000000</td>\n",
       "    </tr>\n",
       "    <tr>\n",
       "      <th>UnempInCty</th>\n",
       "      <td>3846.500000</td>\n",
       "      <td>13421.500000</td>\n",
       "      <td>3960.000000</td>\n",
       "      <td>13903.000000</td>\n",
       "    </tr>\n",
       "    <tr>\n",
       "      <th>UnempRateInCty</th>\n",
       "      <td>3.800000</td>\n",
       "      <td>5.600000</td>\n",
       "      <td>3.800000</td>\n",
       "      <td>5.700000</td>\n",
       "    </tr>\n",
       "    <tr>\n",
       "      <th>DeathsPer100k</th>\n",
       "      <td>551.900000</td>\n",
       "      <td>823.400000</td>\n",
       "      <td>551.900000</td>\n",
       "      <td>823.400000</td>\n",
       "    </tr>\n",
       "    <tr>\n",
       "      <th>PayDelay</th>\n",
       "      <td>28.750000</td>\n",
       "      <td>97.250000</td>\n",
       "      <td>31.000000</td>\n",
       "      <td>121.000000</td>\n",
       "    </tr>\n",
       "  </tbody>\n",
       "</table>\n",
       "</div>"
      ],
      "text/plain": [
       "Pred                       False                        True                \n",
       "                            0.25           0.75          0.25           0.75\n",
       "MIS_Status_x            0.000000       1.000000      1.000000       1.000000\n",
       "ind                  5299.250000   15458.250000   4843.000000   14374.000000\n",
       "ApprovalFY           1999.000000    2006.000000   1997.000000    2006.000000\n",
       "Term                   39.750000     102.000000     69.000000     180.000000\n",
       "NoEmp                   2.000000      10.000000      2.000000      10.000000\n",
       "NewBiz                  0.000000       1.000000      0.000000       0.000000\n",
       "RevLineCr               0.000000       0.000000      0.000000       0.000000\n",
       "LowDoc                  0.000000       0.000000      0.000000       0.000000\n",
       "DisbursementGross   50675.000000  354403.750000  50000.000000  286200.000000\n",
       "MIS_Status_y            0.000000       1.000000      1.000000       1.000000\n",
       "TotalLoansInCounty    506.000000    2046.000000    506.000000    2046.000000\n",
       "PIF_RateByCounty        0.797654       0.839232      0.797654       0.846377\n",
       "MedIncome           28681.000000   41657.000000  26550.000000   41754.000000\n",
       "PopChange               0.139801       0.284309      0.139801       0.276615\n",
       "EmployedInCty       73288.000000  283567.000000  79175.000000  280297.000000\n",
       "UnempInCty           3846.500000   13421.500000   3960.000000   13903.000000\n",
       "UnempRateInCty          3.800000       5.600000      3.800000       5.700000\n",
       "DeathsPer100k         551.900000     823.400000    551.900000     823.400000\n",
       "PayDelay               28.750000      97.250000     31.000000     121.000000"
      ]
     },
     "execution_count": 83,
     "metadata": {},
     "output_type": "execute_result"
    }
   ],
   "source": [
    "#Looking at the IQRs of the dataset grouped by accurate (True) predictions and inaccurate (False) predictions, \n",
    "# we see that inaccurate predictions tend towards shorter loan terms, shorter PayDelays, and generally larger counties\n",
    "# as evidenced by Median Income, TotalLoansInCounty and UnempInCty features all being skewed higher. \n",
    "\n",
    "testset.groupby(by='Pred').quantile([0.25,0.75]).T"
   ]
  },
  {
   "cell_type": "markdown",
   "metadata": {},
   "source": [
    "### XGBoost Classifier ###\n",
    "As a last exploration, we look at Extreme-Gradient Boosting. "
   ]
  },
  {
   "cell_type": "code",
   "execution_count": 63,
   "metadata": {},
   "outputs": [],
   "source": [
    "import xgboost as xgb"
   ]
  },
  {
   "cell_type": "code",
   "execution_count": 95,
   "metadata": {},
   "outputs": [],
   "source": [
    "churn_dmatrix = xgb.DMatrix(data=X_train, label=y_train)\n",
    "params={\"objective\":\"binary:logistic\",\"max_depth\":5}\n",
    "cv_results = xgb.cv(dtrain=churn_dmatrix, params=params, \n",
    "                  nfold=3, num_boost_round=10, \n",
    "                  metrics=\"auc\", as_pandas=True, seed=123)\n"
   ]
  },
  {
   "cell_type": "code",
   "execution_count": 96,
   "metadata": {},
   "outputs": [
    {
     "name": "stdout",
     "output_type": "stream",
     "text": [
      "   train-auc-mean  train-auc-std  test-auc-mean  test-auc-std\n",
      "0        0.949306       0.000654       0.944459      0.004659\n",
      "1        0.954064       0.000205       0.947950      0.004868\n",
      "2        0.959510       0.001317       0.951400      0.004552\n",
      "3        0.961264       0.001276       0.952638      0.003810\n",
      "4        0.963819       0.000252       0.953945      0.003815\n",
      "5        0.966807       0.001336       0.957563      0.002913\n",
      "6        0.970519       0.002275       0.960259      0.005316\n",
      "7        0.971853       0.001567       0.961233      0.004939\n",
      "8        0.975007       0.000893       0.964351      0.002579\n",
      "9        0.977731       0.001017       0.966076      0.002119\n"
     ]
    }
   ],
   "source": [
    "print(cv_results)"
   ]
  },
  {
   "cell_type": "code",
   "execution_count": 97,
   "metadata": {},
   "outputs": [],
   "source": [
    "xgmodel = xgb.XGBClassifier(objective = 'binary:logistic',max_depth = 5, num_boost_round=10, as_pandas=True, seed=123)"
   ]
  },
  {
   "cell_type": "code",
   "execution_count": 98,
   "metadata": {},
   "outputs": [
    {
     "name": "stdout",
     "output_type": "stream",
     "text": [
      "[14:42:21] WARNING: C:\\Users\\Administrator\\workspace\\xgboost-win64_release_1.1.0\\src\\learner.cc:480: \n",
      "Parameters: { as_pandas, num_boost_round } might not be used.\n",
      "\n",
      "  This may not be accurate due to some parameters are only used in language bindings but\n",
      "  passed down to XGBoost core.  Or some parameters are not used but slip through this\n",
      "  verification. Please open an issue if you find above cases.\n",
      "\n",
      "\n"
     ]
    },
    {
     "data": {
      "text/plain": [
       "XGBClassifier(as_pandas=True, base_score=0.5, booster='gbtree',\n",
       "              colsample_bylevel=1, colsample_bynode=1, colsample_bytree=1,\n",
       "              gamma=0, gpu_id=-1, importance_type='gain',\n",
       "              interaction_constraints='', learning_rate=0.300000012,\n",
       "              max_delta_step=0, max_depth=5, min_child_weight=1, missing=nan,\n",
       "              monotone_constraints='()', n_estimators=100, n_jobs=0,\n",
       "              num_boost_round=10, num_parallel_tree=1,\n",
       "              objective='binary:logistic', random_state=123, reg_alpha=0,\n",
       "              reg_lambda=1, scale_pos_weight=1, seed=123, subsample=1,\n",
       "              tree_method='exact', validate_parameters=1, verbosity=None)"
      ]
     },
     "execution_count": 98,
     "metadata": {},
     "output_type": "execute_result"
    }
   ],
   "source": [
    "xgmodel.fit(X_train, y_train)"
   ]
  },
  {
   "cell_type": "code",
   "execution_count": 99,
   "metadata": {},
   "outputs": [],
   "source": [
    "y_predxg = xgmodel.predict(X_test)"
   ]
  },
  {
   "cell_type": "code",
   "execution_count": 101,
   "metadata": {},
   "outputs": [
    {
     "name": "stdout",
     "output_type": "stream",
     "text": [
      "0.969126401772117 0.8941763704735188\n"
     ]
    }
   ],
   "source": [
    "# F1 score is pretty good, but AUC is only 71% or so:\n",
    "\n",
    "print(f1_score(y_test, y_predxg), roc_auc_score(y_test, y_predxg))"
   ]
  },
  {
   "cell_type": "code",
   "execution_count": 102,
   "metadata": {},
   "outputs": [
    {
     "data": {
      "image/png": "[encoded data removed]",
      "text/plain": [
       "<Figure size 432x288 with 2 Axes>"
      ]
     },
     "metadata": {
      "needs_background": "light"
     },
     "output_type": "display_data"
    }
   ],
   "source": [
    "# Generate a confusion matrix\n",
    "xgmatrix = pd.DataFrame(confusion_matrix(y_test, y_predxg))\n",
    "\n",
    "sns.heatmap(xgmatrix, annot=True)\n",
    "plt.ylabel('True Class'), plt.xlabel('Pred Class')\n",
    "plt.show()"
   ]
  },
  {
   "cell_type": "code",
   "execution_count": 103,
   "metadata": {},
   "outputs": [],
   "source": [
    "tn, fp, fn, tp = confusion_matrix(y_test, y_predxg).ravel()"
   ]
  },
  {
   "cell_type": "code",
   "execution_count": 104,
   "metadata": {},
   "outputs": [
    {
     "data": {
      "text/plain": [
       "(606, 141, 82, 3500)"
      ]
     },
     "execution_count": 104,
     "metadata": {},
     "output_type": "execute_result"
    }
   ],
   "source": [
    "(tn, fp, fn, tp)"
   ]
  },
  {
   "cell_type": "code",
   "execution_count": 105,
   "metadata": {},
   "outputs": [],
   "source": [
    "# We again create target probabilities for the predicted values of y:\n",
    "\n",
    "xg_target_probabilities = xgmodel.predict_proba(X_test)[:,1]\n",
    "\n",
    "FP_rate, TP_rate, threshold = roc_curve(y_test, xg_target_probabilities)"
   ]
  },
  {
   "cell_type": "code",
   "execution_count": 106,
   "metadata": {},
   "outputs": [
    {
     "data": {
      "image/png": "[encoded data removed]",
      "text/plain": [
       "<Figure size 432x288 with 1 Axes>"
      ]
     },
     "metadata": {
      "needs_background": "light"
     },
     "output_type": "display_data"
    }
   ],
   "source": [
    "# Plot ROC Curve\n",
    "plt.title('Receiver Operating Characteristic')\n",
    "plt.plot(FP_rate, TP_rate)\n",
    "plt.plot([0,1], ls='--')\n",
    "plt.plot([0,0],[1,0], c='.7'), plt.plot([1,1], c='.7')\n",
    "plt.ylabel('TP Rate')\n",
    "plt.xlabel('FP Rate')\n",
    "plt.show()"
   ]
  },
  {
   "cell_type": "code",
   "execution_count": 107,
   "metadata": {},
   "outputs": [
    {
     "name": "stdout",
     "output_type": "stream",
     "text": [
      "16\n"
     ]
    },
    {
     "data": {
      "image/png": "[encoded data removed]",
      "text/plain": [
       "<Figure size 720x720 with 1 Axes>"
      ]
     },
     "metadata": {
      "needs_background": "light"
     },
     "output_type": "display_data"
    }
   ],
   "source": [
    "# obtain the feature importances from the random forest model:\n",
    "feature_importance = xgmodel.feature_importances_\n",
    "# make importances relative to max importance\n",
    "feature_importance = 100.0 * (feature_importance / feature_importance.max())[:30]\n",
    "sorted_idx = np.argsort(feature_importance)[:30]\n",
    "\n",
    "# Plot the relative importances on a horizontal barchart:\n",
    "\n",
    "pos = np.arange(sorted_idx.shape[0]) + .5\n",
    "print(pos.size)\n",
    "sorted_idx.size\n",
    "plt.figure(figsize=(10,10))\n",
    "plt.barh(pos, feature_importance[sorted_idx], align='center')\n",
    "plt.yticks(pos, X.columns[sorted_idx])\n",
    "plt.xlabel('Relative Importance')\n",
    "plt.title('Variable Importance')\n",
    "plt.show()"
   ]
  },
  {
   "cell_type": "markdown",
   "metadata": {},
   "source": [
    "So, the winner is, XGBoost! This machine learning algorithm has done the best job at monimizing both false positive and false negatives in the holdout test set. "
   ]
  },
  {
   "cell_type": "code",
   "execution_count": null,
   "metadata": {},
   "outputs": [],
   "source": []
  }
 ],
 "metadata": {
  "kernelspec": {
   "display_name": "Python 3",
   "language": "python",
   "name": "python3"
  },
  "language_info": {
   "codemirror_mode": {
    "name": "ipython",
    "version": 3
   },
   "file_extension": ".py",
   "mimetype": "text/x-python",
   "name": "python",
   "nbconvert_exporter": "python",
   "pygments_lexer": "ipython3",
   "version": "3.7.6"
  }
 },
 "nbformat": 4,
 "nbformat_minor": 4
}
