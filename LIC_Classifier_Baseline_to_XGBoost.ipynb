{
 "cells": [
  {
   "cell_type": "code",
   "execution_count": 1,
   "metadata": {},
   "outputs": [
    {
     "data": {
      "text/plain": [
       "'C:\\\\Users\\\\David Olivero\\\\AnacondaProjects\\\\Loans-In-Colorado'"
      ]
     },
     "execution_count": 1,
     "metadata": {},
     "output_type": "execute_result"
    }
   ],
   "source": [
    "# Load libraries\n",
    "import os\n",
    "import numpy as np\n",
    "import pandas as pd\n",
    "import matplotlib.pyplot as plt\n",
    "%matplotlib inline\n",
    "import seaborn as sns\n",
    "\n",
    "os.getcwd()"
   ]
  },
  {
   "cell_type": "code",
   "execution_count": 2,
   "metadata": {
    "scrolled": true
   },
   "outputs": [
    {
     "data": {
      "text/html": [
       "<div>\n",
       "<style scoped>\n",
       "    .dataframe tbody tr th:only-of-type {\n",
       "        vertical-align: middle;\n",
       "    }\n",
       "\n",
       "    .dataframe tbody tr th {\n",
       "        vertical-align: top;\n",
       "    }\n",
       "\n",
       "    .dataframe thead th {\n",
       "        text-align: right;\n",
       "    }\n",
       "</style>\n",
       "<table border=\"1\" class=\"dataframe\">\n",
       "  <thead>\n",
       "    <tr style=\"text-align: right;\">\n",
       "      <th></th>\n",
       "      <th>0</th>\n",
       "      <th>1</th>\n",
       "      <th>2</th>\n",
       "      <th>3</th>\n",
       "      <th>4</th>\n",
       "    </tr>\n",
       "  </thead>\n",
       "  <tbody>\n",
       "    <tr>\n",
       "      <th>ApprovalFY</th>\n",
       "      <td>2006</td>\n",
       "      <td>1997</td>\n",
       "      <td>1997</td>\n",
       "      <td>2005</td>\n",
       "      <td>1997</td>\n",
       "    </tr>\n",
       "    <tr>\n",
       "      <th>Term</th>\n",
       "      <td>264</td>\n",
       "      <td>60</td>\n",
       "      <td>120</td>\n",
       "      <td>35</td>\n",
       "      <td>60</td>\n",
       "    </tr>\n",
       "    <tr>\n",
       "      <th>NoEmp</th>\n",
       "      <td>9</td>\n",
       "      <td>2</td>\n",
       "      <td>4</td>\n",
       "      <td>3</td>\n",
       "      <td>2</td>\n",
       "    </tr>\n",
       "    <tr>\n",
       "      <th>NewBiz</th>\n",
       "      <td>0</td>\n",
       "      <td>0</td>\n",
       "      <td>0</td>\n",
       "      <td>0</td>\n",
       "      <td>0</td>\n",
       "    </tr>\n",
       "    <tr>\n",
       "      <th>RevLineCr</th>\n",
       "      <td>0</td>\n",
       "      <td>0</td>\n",
       "      <td>0</td>\n",
       "      <td>0</td>\n",
       "      <td>0</td>\n",
       "    </tr>\n",
       "    <tr>\n",
       "      <th>LowDoc</th>\n",
       "      <td>0</td>\n",
       "      <td>1</td>\n",
       "      <td>0</td>\n",
       "      <td>0</td>\n",
       "      <td>1</td>\n",
       "    </tr>\n",
       "    <tr>\n",
       "      <th>DisbursementGross</th>\n",
       "      <td>1.5242e+06</td>\n",
       "      <td>90000</td>\n",
       "      <td>59000</td>\n",
       "      <td>50000</td>\n",
       "      <td>21200</td>\n",
       "    </tr>\n",
       "    <tr>\n",
       "      <th>MIS_Status</th>\n",
       "      <td>P I F</td>\n",
       "      <td>P I F</td>\n",
       "      <td>P I F</td>\n",
       "      <td>CHGOFF</td>\n",
       "      <td>P I F</td>\n",
       "    </tr>\n",
       "    <tr>\n",
       "      <th>County_Name</th>\n",
       "      <td>Mesa</td>\n",
       "      <td>Mesa</td>\n",
       "      <td>Mesa</td>\n",
       "      <td>Mesa</td>\n",
       "      <td>Mesa</td>\n",
       "    </tr>\n",
       "    <tr>\n",
       "      <th>TotalLoansInCounty</th>\n",
       "      <td>445</td>\n",
       "      <td>445</td>\n",
       "      <td>445</td>\n",
       "      <td>445</td>\n",
       "      <td>445</td>\n",
       "    </tr>\n",
       "    <tr>\n",
       "      <th>PIF_RateByCounty</th>\n",
       "      <td>0.876404</td>\n",
       "      <td>0.876404</td>\n",
       "      <td>0.876404</td>\n",
       "      <td>0.876404</td>\n",
       "      <td>0.876404</td>\n",
       "    </tr>\n",
       "    <tr>\n",
       "      <th>MedIncome</th>\n",
       "      <td>32644</td>\n",
       "      <td>21835</td>\n",
       "      <td>21835</td>\n",
       "      <td>30645</td>\n",
       "      <td>21835</td>\n",
       "    </tr>\n",
       "    <tr>\n",
       "      <th>PopChange</th>\n",
       "      <td>0.276615</td>\n",
       "      <td>0.276615</td>\n",
       "      <td>0.276615</td>\n",
       "      <td>0.276615</td>\n",
       "      <td>0.276615</td>\n",
       "    </tr>\n",
       "    <tr>\n",
       "      <th>EmployedInCty</th>\n",
       "      <td>71219</td>\n",
       "      <td>55069</td>\n",
       "      <td>55069</td>\n",
       "      <td>67350</td>\n",
       "      <td>55069</td>\n",
       "    </tr>\n",
       "    <tr>\n",
       "      <th>UnempInCty</th>\n",
       "      <td>2937</td>\n",
       "      <td>2669</td>\n",
       "      <td>2669</td>\n",
       "      <td>3461</td>\n",
       "      <td>2669</td>\n",
       "    </tr>\n",
       "    <tr>\n",
       "      <th>UnempRateInCty</th>\n",
       "      <td>4</td>\n",
       "      <td>4.6</td>\n",
       "      <td>4.6</td>\n",
       "      <td>4.9</td>\n",
       "      <td>4.6</td>\n",
       "    </tr>\n",
       "    <tr>\n",
       "      <th>DeathsPer100k</th>\n",
       "      <td>977.2</td>\n",
       "      <td>977.2</td>\n",
       "      <td>977.2</td>\n",
       "      <td>977.2</td>\n",
       "      <td>977.2</td>\n",
       "    </tr>\n",
       "    <tr>\n",
       "      <th>PayDelay</th>\n",
       "      <td>52</td>\n",
       "      <td>85</td>\n",
       "      <td>47</td>\n",
       "      <td>98</td>\n",
       "      <td>45</td>\n",
       "    </tr>\n",
       "    <tr>\n",
       "      <th>Industry</th>\n",
       "      <td>Health</td>\n",
       "      <td>Manufacturing</td>\n",
       "      <td>Health</td>\n",
       "      <td>Other</td>\n",
       "      <td>Unknown</td>\n",
       "    </tr>\n",
       "  </tbody>\n",
       "</table>\n",
       "</div>"
      ],
      "text/plain": [
       "                             0              1         2         3         4\n",
       "ApprovalFY                2006           1997      1997      2005      1997\n",
       "Term                       264             60       120        35        60\n",
       "NoEmp                        9              2         4         3         2\n",
       "NewBiz                       0              0         0         0         0\n",
       "RevLineCr                    0              0         0         0         0\n",
       "LowDoc                       0              1         0         0         1\n",
       "DisbursementGross   1.5242e+06          90000     59000     50000     21200\n",
       "MIS_Status               P I F          P I F     P I F    CHGOFF     P I F\n",
       "County_Name               Mesa           Mesa      Mesa      Mesa      Mesa\n",
       "TotalLoansInCounty         445            445       445       445       445\n",
       "PIF_RateByCounty      0.876404       0.876404  0.876404  0.876404  0.876404\n",
       "MedIncome                32644          21835     21835     30645     21835\n",
       "PopChange             0.276615       0.276615  0.276615  0.276615  0.276615\n",
       "EmployedInCty            71219          55069     55069     67350     55069\n",
       "UnempInCty                2937           2669      2669      3461      2669\n",
       "UnempRateInCty               4            4.6       4.6       4.9       4.6\n",
       "DeathsPer100k            977.2          977.2     977.2     977.2     977.2\n",
       "PayDelay                    52             85        47        98        45\n",
       "Industry                Health  Manufacturing    Health     Other   Unknown"
      ]
     },
     "execution_count": 2,
     "metadata": {},
     "output_type": "execute_result"
    }
   ],
   "source": [
    "filename = 'LIC_Model_Input.csv'\n",
    "\n",
    "df = pd.read_csv(filename)\n",
    "\n",
    "df.head().T"
   ]
  },
  {
   "cell_type": "markdown",
   "metadata": {},
   "source": [
    "This time, instead of dropping the Industry column, I'd like to one-hot encode it. "
   ]
  },
  {
   "cell_type": "code",
   "execution_count": 3,
   "metadata": {},
   "outputs": [
    {
     "name": "stdout",
     "output_type": "stream",
     "text": [
      "<class 'pandas.core.frame.DataFrame'>\n",
      "RangeIndex: 19298 entries, 0 to 19297\n",
      "Data columns (total 19 columns):\n",
      " #   Column              Non-Null Count  Dtype  \n",
      "---  ------              --------------  -----  \n",
      " 0   ApprovalFY          19298 non-null  int64  \n",
      " 1   Term                19298 non-null  int64  \n",
      " 2   NoEmp               19298 non-null  int64  \n",
      " 3   NewBiz              19298 non-null  float64\n",
      " 4   RevLineCr           19183 non-null  float64\n",
      " 5   LowDoc              19242 non-null  float64\n",
      " 6   DisbursementGross   19298 non-null  float64\n",
      " 7   MIS_Status          19293 non-null  object \n",
      " 8   County_Name         19298 non-null  object \n",
      " 9   TotalLoansInCounty  19298 non-null  int64  \n",
      " 10  PIF_RateByCounty    19298 non-null  float64\n",
      " 11  MedIncome           19298 non-null  int64  \n",
      " 12  PopChange           19298 non-null  float64\n",
      " 13  EmployedInCty       19298 non-null  int64  \n",
      " 14  UnempInCty          19298 non-null  int64  \n",
      " 15  UnempRateInCty      19298 non-null  float64\n",
      " 16  DeathsPer100k       18970 non-null  object \n",
      " 17  PayDelay            19258 non-null  float64\n",
      " 18  Industry            19298 non-null  object \n",
      "dtypes: float64(8), int64(7), object(4)\n",
      "memory usage: 2.8+ MB\n"
     ]
    }
   ],
   "source": [
    "df.info()"
   ]
  },
  {
   "cell_type": "markdown",
   "metadata": {},
   "source": [
    "The MIS_Status column are my labels, so I will encode them with 1's and 0's:"
   ]
  },
  {
   "cell_type": "code",
   "execution_count": 4,
   "metadata": {},
   "outputs": [],
   "source": [
    "# Replace MIS_Status column with 0's and 1's. 1 corresponds to a loan default. \n",
    "\n",
    "df['MIS_Status'] = df.MIS_Status.replace(to_replace=['P I F', 'CHGOFF'], value=[1, 0])"
   ]
  },
  {
   "cell_type": "code",
   "execution_count": 5,
   "metadata": {},
   "outputs": [
    {
     "data": {
      "text/plain": [
       "count     18970\n",
       "unique       59\n",
       "top       823.4\n",
       "freq       3635\n",
       "Name: DeathsPer100k, dtype: object"
      ]
     },
     "execution_count": 5,
     "metadata": {},
     "output_type": "execute_result"
    }
   ],
   "source": [
    "# There appear to be several non-numeric values in the DeathsPer100k column turning it into an object. \n",
    "df.DeathsPer100k.describe()"
   ]
  },
  {
   "cell_type": "code",
   "execution_count": 6,
   "metadata": {},
   "outputs": [
    {
     "data": {
      "text/plain": [
       "1372.6                 4\n",
       "616.2                  2\n",
       "537.9 (Unreliable)     1\n",
       "1048.1 (Unreliable)    1\n",
       "1146.6                 1\n",
       "Name: DeathsPer100k, dtype: int64"
      ]
     },
     "execution_count": 6,
     "metadata": {},
     "output_type": "execute_result"
    }
   ],
   "source": [
    "# Python is treating this column like string objects:\n",
    "df.DeathsPer100k.value_counts().tail()"
   ]
  },
  {
   "cell_type": "code",
   "execution_count": 7,
   "metadata": {},
   "outputs": [],
   "source": [
    "# The object assignments comes from all the (Unreliable) numbers, so we will force these into numbers:\n",
    "\n",
    "df['DeathsPer100k'] = pd.to_numeric(df['DeathsPer100k'], errors='coerce')"
   ]
  },
  {
   "cell_type": "code",
   "execution_count": 8,
   "metadata": {},
   "outputs": [],
   "source": [
    "# There are still several rows with null values for this metric, so I will replace with the mean value of DeathsPer100k:\n",
    "\n",
    "df['DeathsPer100k'].fillna((df['DeathsPer100k'].mean()), inplace=True)"
   ]
  },
  {
   "cell_type": "code",
   "execution_count": 9,
   "metadata": {},
   "outputs": [
    {
     "data": {
      "text/plain": [
       "count    19298.000000\n",
       "mean       625.524481\n",
       "std        194.370452\n",
       "min        160.800000\n",
       "25%        551.900000\n",
       "50%        565.800000\n",
       "75%        823.400000\n",
       "max       1372.600000\n",
       "Name: DeathsPer100k, dtype: float64"
      ]
     },
     "execution_count": 9,
     "metadata": {},
     "output_type": "execute_result"
    }
   ],
   "source": [
    "df.DeathsPer100k.describe()"
   ]
  },
  {
   "cell_type": "code",
   "execution_count": 10,
   "metadata": {},
   "outputs": [
    {
     "data": {
      "text/plain": [
       "1.0    0.825429\n",
       "0.0    0.174571\n",
       "Name: MIS_Status, dtype: float64"
      ]
     },
     "execution_count": 10,
     "metadata": {},
     "output_type": "execute_result"
    }
   ],
   "source": [
    "# To review, a little over 17% of the loans in this dataset are defaulted, as seen below. \n",
    "df.MIS_Status.value_counts([0])"
   ]
  },
  {
   "cell_type": "code",
   "execution_count": 11,
   "metadata": {},
   "outputs": [
    {
     "name": "stdout",
     "output_type": "stream",
     "text": [
      "<class 'pandas.core.frame.DataFrame'>\n",
      "RangeIndex: 19298 entries, 0 to 19297\n",
      "Data columns (total 19 columns):\n",
      " #   Column              Non-Null Count  Dtype  \n",
      "---  ------              --------------  -----  \n",
      " 0   ApprovalFY          19298 non-null  int64  \n",
      " 1   Term                19298 non-null  int64  \n",
      " 2   NoEmp               19298 non-null  int64  \n",
      " 3   NewBiz              19298 non-null  float64\n",
      " 4   RevLineCr           19183 non-null  float64\n",
      " 5   LowDoc              19242 non-null  float64\n",
      " 6   DisbursementGross   19298 non-null  float64\n",
      " 7   MIS_Status          19293 non-null  float64\n",
      " 8   County_Name         19298 non-null  object \n",
      " 9   TotalLoansInCounty  19298 non-null  int64  \n",
      " 10  PIF_RateByCounty    19298 non-null  float64\n",
      " 11  MedIncome           19298 non-null  int64  \n",
      " 12  PopChange           19298 non-null  float64\n",
      " 13  EmployedInCty       19298 non-null  int64  \n",
      " 14  UnempInCty          19298 non-null  int64  \n",
      " 15  UnempRateInCty      19298 non-null  float64\n",
      " 16  DeathsPer100k       19298 non-null  float64\n",
      " 17  PayDelay            19258 non-null  float64\n",
      " 18  Industry            19298 non-null  object \n",
      "dtypes: float64(10), int64(7), object(2)\n",
      "memory usage: 2.8+ MB\n"
     ]
    }
   ],
   "source": [
    "# We can see we still have some probable nan's in the RevLineCr and PayDelay features:\n",
    "\n",
    "df.info()"
   ]
  },
  {
   "cell_type": "code",
   "execution_count": 12,
   "metadata": {},
   "outputs": [],
   "source": [
    "# here we will fill the few nans in thie RevLineCr and PayDelay features with average values, to preserve dataset size.\n",
    "\n",
    "df['RevLineCr'].fillna((df['RevLineCr'].mean()), inplace=True)\n",
    "df['PayDelay'].fillna((df['PayDelay'].mean()), inplace=True)"
   ]
  },
  {
   "cell_type": "code",
   "execution_count": 13,
   "metadata": {},
   "outputs": [
    {
     "data": {
      "text/plain": [
       "(19298, 19)"
      ]
     },
     "execution_count": 13,
     "metadata": {},
     "output_type": "execute_result"
    }
   ],
   "source": [
    "df.shape"
   ]
  },
  {
   "cell_type": "code",
   "execution_count": 14,
   "metadata": {},
   "outputs": [
    {
     "data": {
      "text/plain": [
       "(19237, 19)"
      ]
     },
     "execution_count": 14,
     "metadata": {},
     "output_type": "execute_result"
    }
   ],
   "source": [
    "# We drop remaining rows with one or more nan fields and lose about 50 rows altogether. \n",
    "\n",
    "df = df.dropna()\n",
    "df.shape"
   ]
  },
  {
   "cell_type": "markdown",
   "metadata": {},
   "source": [
    "In this first iteration, we'll get dummies for the Industry column, and drop the County_Name column (for now). "
   ]
  },
  {
   "cell_type": "code",
   "execution_count": 15,
   "metadata": {},
   "outputs": [],
   "source": [
    "# Drop County Name column\n",
    "\n",
    "df = df.drop(columns=['County_Name'])"
   ]
  },
  {
   "cell_type": "markdown",
   "metadata": {},
   "source": [
    "Before running supervised learning models, we first run a KMeans unsupervised clustering algorithm on the dataset. This will hoepfully shed some light on whether or not there are any useful patterns in the dataset at very high dimensions. First I need to remove the Industry column so that there are no categorical variables being looked at. Looking at the Elbow plot below, one could argue that the \"knee\" in the curve is at n = 3. My interpretation is that there are three knees: n = 2, n = 3 and n = 5. Hence I'll pick n = 5 for the final clustering algorithm.  "
   ]
  },
  {
   "cell_type": "code",
   "execution_count": 16,
   "metadata": {},
   "outputs": [
    {
     "data": {
      "image/png": "[encoded data removed]",
      "text/plain": [
       "<Figure size 432x288 with 1 Axes>"
      ]
     },
     "metadata": {
      "needs_background": "light"
     },
     "output_type": "display_data"
    }
   ],
   "source": [
    "df1 = df.drop(columns=['Industry'])\n",
    "\n",
    "from sklearn.cluster import KMeans\n",
    "\n",
    "Error =[]\n",
    "for i in range(1, 11):\n",
    "    kmeans = KMeans(n_clusters = i).fit(df1)\n",
    "    kmeans.fit(df1)\n",
    "    Error.append(kmeans.inertia_)\n",
    "import matplotlib.pyplot as plt\n",
    "plt.plot(range(1, 11), Error)\n",
    "plt.title('Elbow method')\n",
    "plt.xlabel('No of clusters')\n",
    "plt.ylabel('Error')\n",
    "plt.show()"
   ]
  },
  {
   "cell_type": "code",
   "execution_count": 17,
   "metadata": {},
   "outputs": [],
   "source": [
    "# Create an array of cluster values for each row in the dataset\n",
    "# Even though this is done on df1, we can apply results directly to df. \n",
    "\n",
    "kmeans3 = KMeans(n_clusters=5)\n",
    "y_kmeans3 = kmeans3.fit_predict(df1)"
   ]
  },
  {
   "cell_type": "code",
   "execution_count": 18,
   "metadata": {},
   "outputs": [
    {
     "data": {
      "text/plain": [
       "Text(0.5, 0, 'PayDelay (days)')"
      ]
     },
     "execution_count": 18,
     "metadata": {},
     "output_type": "execute_result"
    },
    {
     "data": {
      "image/png": "[encoded data removed]",
      "text/plain": [
       "<Figure size 432x288 with 1 Axes>"
      ]
     },
     "metadata": {
      "needs_background": "light"
     },
     "output_type": "display_data"
    }
   ],
   "source": [
    "# Scatterplot of PayDelay vs. DirbursementGross gives us a glimpse into the clusters.\n",
    "# Here the scatterplot is color-coded by cluster number. \n",
    "\n",
    "plt.scatter(df.PayDelay, df.DisbursementGross, c=y_kmeans3, s=50, cmap='viridis')\n",
    "\n",
    "centers = kmeans3.cluster_centers_\n",
    "plt.scatter(centers[:, 16], centers[:, 6], c='red', s=200, alpha=0.5);\n",
    "plt.ylabel('DisbursementGross ($))')\n",
    "plt.xlabel('PayDelay (days)')"
   ]
  },
  {
   "cell_type": "code",
   "execution_count": 19,
   "metadata": {},
   "outputs": [
    {
     "data": {
      "text/html": [
       "<div>\n",
       "<style scoped>\n",
       "    .dataframe tbody tr th:only-of-type {\n",
       "        vertical-align: middle;\n",
       "    }\n",
       "\n",
       "    .dataframe tbody tr th {\n",
       "        vertical-align: top;\n",
       "    }\n",
       "\n",
       "    .dataframe thead th {\n",
       "        text-align: right;\n",
       "    }\n",
       "</style>\n",
       "<table border=\"1\" class=\"dataframe\">\n",
       "  <thead>\n",
       "    <tr style=\"text-align: right;\">\n",
       "      <th></th>\n",
       "      <th>0</th>\n",
       "      <th>1</th>\n",
       "      <th>2</th>\n",
       "      <th>3</th>\n",
       "      <th>4</th>\n",
       "    </tr>\n",
       "  </thead>\n",
       "  <tbody>\n",
       "    <tr>\n",
       "      <th>ApprovalFY</th>\n",
       "      <td>2006</td>\n",
       "      <td>1997</td>\n",
       "      <td>1997</td>\n",
       "      <td>2005</td>\n",
       "      <td>1997</td>\n",
       "    </tr>\n",
       "    <tr>\n",
       "      <th>Term</th>\n",
       "      <td>264</td>\n",
       "      <td>60</td>\n",
       "      <td>120</td>\n",
       "      <td>35</td>\n",
       "      <td>60</td>\n",
       "    </tr>\n",
       "    <tr>\n",
       "      <th>NoEmp</th>\n",
       "      <td>9</td>\n",
       "      <td>2</td>\n",
       "      <td>4</td>\n",
       "      <td>3</td>\n",
       "      <td>2</td>\n",
       "    </tr>\n",
       "    <tr>\n",
       "      <th>NewBiz</th>\n",
       "      <td>0</td>\n",
       "      <td>0</td>\n",
       "      <td>0</td>\n",
       "      <td>0</td>\n",
       "      <td>0</td>\n",
       "    </tr>\n",
       "    <tr>\n",
       "      <th>RevLineCr</th>\n",
       "      <td>0</td>\n",
       "      <td>0</td>\n",
       "      <td>0</td>\n",
       "      <td>0</td>\n",
       "      <td>0</td>\n",
       "    </tr>\n",
       "    <tr>\n",
       "      <th>LowDoc</th>\n",
       "      <td>0</td>\n",
       "      <td>1</td>\n",
       "      <td>0</td>\n",
       "      <td>0</td>\n",
       "      <td>1</td>\n",
       "    </tr>\n",
       "    <tr>\n",
       "      <th>DisbursementGross</th>\n",
       "      <td>1.5242e+06</td>\n",
       "      <td>90000</td>\n",
       "      <td>59000</td>\n",
       "      <td>50000</td>\n",
       "      <td>21200</td>\n",
       "    </tr>\n",
       "    <tr>\n",
       "      <th>MIS_Status</th>\n",
       "      <td>1</td>\n",
       "      <td>1</td>\n",
       "      <td>1</td>\n",
       "      <td>0</td>\n",
       "      <td>1</td>\n",
       "    </tr>\n",
       "    <tr>\n",
       "      <th>TotalLoansInCounty</th>\n",
       "      <td>445</td>\n",
       "      <td>445</td>\n",
       "      <td>445</td>\n",
       "      <td>445</td>\n",
       "      <td>445</td>\n",
       "    </tr>\n",
       "    <tr>\n",
       "      <th>PIF_RateByCounty</th>\n",
       "      <td>0.876404</td>\n",
       "      <td>0.876404</td>\n",
       "      <td>0.876404</td>\n",
       "      <td>0.876404</td>\n",
       "      <td>0.876404</td>\n",
       "    </tr>\n",
       "    <tr>\n",
       "      <th>MedIncome</th>\n",
       "      <td>32644</td>\n",
       "      <td>21835</td>\n",
       "      <td>21835</td>\n",
       "      <td>30645</td>\n",
       "      <td>21835</td>\n",
       "    </tr>\n",
       "    <tr>\n",
       "      <th>PopChange</th>\n",
       "      <td>0.276615</td>\n",
       "      <td>0.276615</td>\n",
       "      <td>0.276615</td>\n",
       "      <td>0.276615</td>\n",
       "      <td>0.276615</td>\n",
       "    </tr>\n",
       "    <tr>\n",
       "      <th>EmployedInCty</th>\n",
       "      <td>71219</td>\n",
       "      <td>55069</td>\n",
       "      <td>55069</td>\n",
       "      <td>67350</td>\n",
       "      <td>55069</td>\n",
       "    </tr>\n",
       "    <tr>\n",
       "      <th>UnempInCty</th>\n",
       "      <td>2937</td>\n",
       "      <td>2669</td>\n",
       "      <td>2669</td>\n",
       "      <td>3461</td>\n",
       "      <td>2669</td>\n",
       "    </tr>\n",
       "    <tr>\n",
       "      <th>UnempRateInCty</th>\n",
       "      <td>4</td>\n",
       "      <td>4.6</td>\n",
       "      <td>4.6</td>\n",
       "      <td>4.9</td>\n",
       "      <td>4.6</td>\n",
       "    </tr>\n",
       "    <tr>\n",
       "      <th>DeathsPer100k</th>\n",
       "      <td>977.2</td>\n",
       "      <td>977.2</td>\n",
       "      <td>977.2</td>\n",
       "      <td>977.2</td>\n",
       "      <td>977.2</td>\n",
       "    </tr>\n",
       "    <tr>\n",
       "      <th>PayDelay</th>\n",
       "      <td>52</td>\n",
       "      <td>85</td>\n",
       "      <td>47</td>\n",
       "      <td>98</td>\n",
       "      <td>45</td>\n",
       "    </tr>\n",
       "    <tr>\n",
       "      <th>Industry</th>\n",
       "      <td>Health</td>\n",
       "      <td>Manufacturing</td>\n",
       "      <td>Health</td>\n",
       "      <td>Other</td>\n",
       "      <td>Unknown</td>\n",
       "    </tr>\n",
       "    <tr>\n",
       "      <th>Cluster</th>\n",
       "      <td>3</td>\n",
       "      <td>4</td>\n",
       "      <td>4</td>\n",
       "      <td>4</td>\n",
       "      <td>4</td>\n",
       "    </tr>\n",
       "  </tbody>\n",
       "</table>\n",
       "</div>"
      ],
      "text/plain": [
       "                             0              1         2         3         4\n",
       "ApprovalFY                2006           1997      1997      2005      1997\n",
       "Term                       264             60       120        35        60\n",
       "NoEmp                        9              2         4         3         2\n",
       "NewBiz                       0              0         0         0         0\n",
       "RevLineCr                    0              0         0         0         0\n",
       "LowDoc                       0              1         0         0         1\n",
       "DisbursementGross   1.5242e+06          90000     59000     50000     21200\n",
       "MIS_Status                   1              1         1         0         1\n",
       "TotalLoansInCounty         445            445       445       445       445\n",
       "PIF_RateByCounty      0.876404       0.876404  0.876404  0.876404  0.876404\n",
       "MedIncome                32644          21835     21835     30645     21835\n",
       "PopChange             0.276615       0.276615  0.276615  0.276615  0.276615\n",
       "EmployedInCty            71219          55069     55069     67350     55069\n",
       "UnempInCty                2937           2669      2669      3461      2669\n",
       "UnempRateInCty               4            4.6       4.6       4.9       4.6\n",
       "DeathsPer100k            977.2          977.2     977.2     977.2     977.2\n",
       "PayDelay                    52             85        47        98        45\n",
       "Industry                Health  Manufacturing    Health     Other   Unknown\n",
       "Cluster                      3              4         4         4         4"
      ]
     },
     "execution_count": 19,
     "metadata": {},
     "output_type": "execute_result"
    }
   ],
   "source": [
    "# We add the clusters to df, and verify they're there.\n",
    "\n",
    "df['Cluster'] = y_kmeans3.astype(str)\n",
    "\n",
    "df.head().T"
   ]
  },
  {
   "cell_type": "code",
   "execution_count": 20,
   "metadata": {},
   "outputs": [
    {
     "data": {
      "text/plain": [
       "Cluster  MIS_Status\n",
       "0        1.0           0.760581\n",
       "         0.0           0.239419\n",
       "1        1.0           0.896480\n",
       "         0.0           0.103520\n",
       "2        1.0           0.904388\n",
       "         0.0           0.095612\n",
       "3        1.0           0.930769\n",
       "         0.0           0.069231\n",
       "4        1.0           0.860044\n",
       "         0.0           0.139956\n",
       "Name: MIS_Status, dtype: float64"
      ]
     },
     "execution_count": 20,
     "metadata": {},
     "output_type": "execute_result"
    }
   ],
   "source": [
    "df.groupby(by=['Cluster'])['MIS_Status'].value_counts([0])"
   ]
  },
  {
   "cell_type": "code",
   "execution_count": 21,
   "metadata": {},
   "outputs": [],
   "source": [
    "from sklearn.decomposition import PCA\n",
    "    \n",
    "pca = PCA()"
   ]
  },
  {
   "cell_type": "code",
   "execution_count": 22,
   "metadata": {},
   "outputs": [
    {
     "data": {
      "text/plain": [
       "PCA(copy=True, iterated_power='auto', n_components=None, random_state=None,\n",
       "    svd_solver='auto', tol=0.0, whiten=False)"
      ]
     },
     "execution_count": 22,
     "metadata": {},
     "output_type": "execute_result"
    }
   ],
   "source": [
    "pca.fit(df1)"
   ]
  },
  {
   "cell_type": "code",
   "execution_count": 23,
   "metadata": {},
   "outputs": [
    {
     "data": {
      "image/png": "[encoded data removed]",
      "text/plain": [
       "<Figure size 432x288 with 1 Axes>"
      ]
     },
     "metadata": {
      "needs_background": "light"
     },
     "output_type": "display_data"
    }
   ],
   "source": [
    "features = range(pca.n_components_)\n",
    "plt.bar(features, pca.explained_variance_)\n",
    "plt.xlabel('PCA feature')\n",
    "plt.ylabel('variance')\n",
    "plt.yscale('log')\n",
    "plt.xticks(features)\n",
    "plt.show()"
   ]
  },
  {
   "cell_type": "code",
   "execution_count": null,
   "metadata": {},
   "outputs": [],
   "source": []
  },
  {
   "cell_type": "code",
   "execution_count": 24,
   "metadata": {},
   "outputs": [
    {
     "data": {
      "text/html": [
       "<div>\n",
       "<style scoped>\n",
       "    .dataframe tbody tr th:only-of-type {\n",
       "        vertical-align: middle;\n",
       "    }\n",
       "\n",
       "    .dataframe tbody tr th {\n",
       "        vertical-align: top;\n",
       "    }\n",
       "\n",
       "    .dataframe thead th {\n",
       "        text-align: right;\n",
       "    }\n",
       "</style>\n",
       "<table border=\"1\" class=\"dataframe\">\n",
       "  <thead>\n",
       "    <tr style=\"text-align: right;\">\n",
       "      <th></th>\n",
       "      <th>count</th>\n",
       "      <th>mean</th>\n",
       "      <th>std</th>\n",
       "      <th>min</th>\n",
       "      <th>25%</th>\n",
       "      <th>50%</th>\n",
       "      <th>75%</th>\n",
       "      <th>max</th>\n",
       "    </tr>\n",
       "  </thead>\n",
       "  <tbody>\n",
       "    <tr>\n",
       "      <th>ApprovalFY</th>\n",
       "      <td>19237.0</td>\n",
       "      <td>2001.545979</td>\n",
       "      <td>5.515779</td>\n",
       "      <td>1990.000000</td>\n",
       "      <td>1997.000000</td>\n",
       "      <td>2003.000000</td>\n",
       "      <td>2006.000000</td>\n",
       "      <td>2014.0</td>\n",
       "    </tr>\n",
       "    <tr>\n",
       "      <th>Term</th>\n",
       "      <td>19237.0</td>\n",
       "      <td>124.382024</td>\n",
       "      <td>84.809523</td>\n",
       "      <td>0.000000</td>\n",
       "      <td>66.000000</td>\n",
       "      <td>84.000000</td>\n",
       "      <td>180.000000</td>\n",
       "      <td>372.0</td>\n",
       "    </tr>\n",
       "    <tr>\n",
       "      <th>NoEmp</th>\n",
       "      <td>19237.0</td>\n",
       "      <td>9.922493</td>\n",
       "      <td>15.300174</td>\n",
       "      <td>0.000000</td>\n",
       "      <td>2.000000</td>\n",
       "      <td>4.000000</td>\n",
       "      <td>11.000000</td>\n",
       "      <td>100.0</td>\n",
       "    </tr>\n",
       "    <tr>\n",
       "      <th>NewBiz</th>\n",
       "      <td>19237.0</td>\n",
       "      <td>0.229402</td>\n",
       "      <td>0.420459</td>\n",
       "      <td>0.000000</td>\n",
       "      <td>0.000000</td>\n",
       "      <td>0.000000</td>\n",
       "      <td>0.000000</td>\n",
       "      <td>1.0</td>\n",
       "    </tr>\n",
       "    <tr>\n",
       "      <th>RevLineCr</th>\n",
       "      <td>19237.0</td>\n",
       "      <td>0.244121</td>\n",
       "      <td>0.428288</td>\n",
       "      <td>0.000000</td>\n",
       "      <td>0.000000</td>\n",
       "      <td>0.000000</td>\n",
       "      <td>0.000000</td>\n",
       "      <td>1.0</td>\n",
       "    </tr>\n",
       "    <tr>\n",
       "      <th>LowDoc</th>\n",
       "      <td>19237.0</td>\n",
       "      <td>0.120653</td>\n",
       "      <td>0.325732</td>\n",
       "      <td>0.000000</td>\n",
       "      <td>0.000000</td>\n",
       "      <td>0.000000</td>\n",
       "      <td>0.000000</td>\n",
       "      <td>1.0</td>\n",
       "    </tr>\n",
       "    <tr>\n",
       "      <th>DisbursementGross</th>\n",
       "      <td>19237.0</td>\n",
       "      <td>235977.974580</td>\n",
       "      <td>296525.979335</td>\n",
       "      <td>4800.000000</td>\n",
       "      <td>51980.000000</td>\n",
       "      <td>126000.000000</td>\n",
       "      <td>300000.000000</td>\n",
       "      <td>5000000.0</td>\n",
       "    </tr>\n",
       "    <tr>\n",
       "      <th>MIS_Status</th>\n",
       "      <td>19237.0</td>\n",
       "      <td>0.825960</td>\n",
       "      <td>0.379153</td>\n",
       "      <td>0.000000</td>\n",
       "      <td>1.000000</td>\n",
       "      <td>1.000000</td>\n",
       "      <td>1.000000</td>\n",
       "      <td>1.0</td>\n",
       "    </tr>\n",
       "    <tr>\n",
       "      <th>TotalLoansInCounty</th>\n",
       "      <td>19237.0</td>\n",
       "      <td>1677.550606</td>\n",
       "      <td>1159.578062</td>\n",
       "      <td>1.000000</td>\n",
       "      <td>506.000000</td>\n",
       "      <td>1556.000000</td>\n",
       "      <td>2046.000000</td>\n",
       "      <td>3647.0</td>\n",
       "    </tr>\n",
       "    <tr>\n",
       "      <th>PIF_RateByCounty</th>\n",
       "      <td>19237.0</td>\n",
       "      <td>0.825914</td>\n",
       "      <td>0.049815</td>\n",
       "      <td>0.500000</td>\n",
       "      <td>0.797654</td>\n",
       "      <td>0.821979</td>\n",
       "      <td>0.846377</td>\n",
       "      <td>1.0</td>\n",
       "    </tr>\n",
       "    <tr>\n",
       "      <th>MedIncome</th>\n",
       "      <td>19237.0</td>\n",
       "      <td>34581.721526</td>\n",
       "      <td>11287.938448</td>\n",
       "      <td>0.000000</td>\n",
       "      <td>26574.000000</td>\n",
       "      <td>32849.000000</td>\n",
       "      <td>41754.000000</td>\n",
       "      <td>126428.0</td>\n",
       "    </tr>\n",
       "    <tr>\n",
       "      <th>PopChange</th>\n",
       "      <td>19237.0</td>\n",
       "      <td>0.236415</td>\n",
       "      <td>0.157262</td>\n",
       "      <td>-0.258329</td>\n",
       "      <td>0.139801</td>\n",
       "      <td>0.222551</td>\n",
       "      <td>0.276615</td>\n",
       "      <td>1.0</td>\n",
       "    </tr>\n",
       "    <tr>\n",
       "      <th>EmployedInCty</th>\n",
       "      <td>19237.0</td>\n",
       "      <td>182377.510163</td>\n",
       "      <td>105082.563814</td>\n",
       "      <td>231.000000</td>\n",
       "      <td>94658.000000</td>\n",
       "      <td>197954.000000</td>\n",
       "      <td>281919.000000</td>\n",
       "      <td>351178.0</td>\n",
       "    </tr>\n",
       "    <tr>\n",
       "      <th>UnempInCty</th>\n",
       "      <td>19237.0</td>\n",
       "      <td>9407.352498</td>\n",
       "      <td>6657.609793</td>\n",
       "      <td>9.000000</td>\n",
       "      <td>4487.000000</td>\n",
       "      <td>9254.000000</td>\n",
       "      <td>13793.000000</td>\n",
       "      <td>31668.0</td>\n",
       "    </tr>\n",
       "    <tr>\n",
       "      <th>UnempRateInCty</th>\n",
       "      <td>19237.0</td>\n",
       "      <td>4.816905</td>\n",
       "      <td>1.520836</td>\n",
       "      <td>1.200000</td>\n",
       "      <td>3.800000</td>\n",
       "      <td>4.600000</td>\n",
       "      <td>5.700000</td>\n",
       "      <td>16.3</td>\n",
       "    </tr>\n",
       "    <tr>\n",
       "      <th>DeathsPer100k</th>\n",
       "      <td>19237.0</td>\n",
       "      <td>625.641306</td>\n",
       "      <td>194.433984</td>\n",
       "      <td>160.800000</td>\n",
       "      <td>551.900000</td>\n",
       "      <td>565.800000</td>\n",
       "      <td>823.400000</td>\n",
       "      <td>1372.6</td>\n",
       "    </tr>\n",
       "    <tr>\n",
       "      <th>PayDelay</th>\n",
       "      <td>19237.0</td>\n",
       "      <td>105.676074</td>\n",
       "      <td>141.932812</td>\n",
       "      <td>1.000000</td>\n",
       "      <td>30.000000</td>\n",
       "      <td>56.000000</td>\n",
       "      <td>115.000000</td>\n",
       "      <td>1000.0</td>\n",
       "    </tr>\n",
       "    <tr>\n",
       "      <th>Industry_Administrative</th>\n",
       "      <td>19237.0</td>\n",
       "      <td>0.030306</td>\n",
       "      <td>0.171433</td>\n",
       "      <td>0.000000</td>\n",
       "      <td>0.000000</td>\n",
       "      <td>0.000000</td>\n",
       "      <td>0.000000</td>\n",
       "      <td>1.0</td>\n",
       "    </tr>\n",
       "    <tr>\n",
       "      <th>Industry_Agriculture</th>\n",
       "      <td>19237.0</td>\n",
       "      <td>0.003743</td>\n",
       "      <td>0.061065</td>\n",
       "      <td>0.000000</td>\n",
       "      <td>0.000000</td>\n",
       "      <td>0.000000</td>\n",
       "      <td>0.000000</td>\n",
       "      <td>1.0</td>\n",
       "    </tr>\n",
       "    <tr>\n",
       "      <th>Industry_Arts</th>\n",
       "      <td>19237.0</td>\n",
       "      <td>0.015543</td>\n",
       "      <td>0.123702</td>\n",
       "      <td>0.000000</td>\n",
       "      <td>0.000000</td>\n",
       "      <td>0.000000</td>\n",
       "      <td>0.000000</td>\n",
       "      <td>1.0</td>\n",
       "    </tr>\n",
       "    <tr>\n",
       "      <th>Industry_Construction</th>\n",
       "      <td>19237.0</td>\n",
       "      <td>0.103706</td>\n",
       "      <td>0.304887</td>\n",
       "      <td>0.000000</td>\n",
       "      <td>0.000000</td>\n",
       "      <td>0.000000</td>\n",
       "      <td>0.000000</td>\n",
       "      <td>1.0</td>\n",
       "    </tr>\n",
       "    <tr>\n",
       "      <th>Industry_Educational</th>\n",
       "      <td>19237.0</td>\n",
       "      <td>0.006134</td>\n",
       "      <td>0.078081</td>\n",
       "      <td>0.000000</td>\n",
       "      <td>0.000000</td>\n",
       "      <td>0.000000</td>\n",
       "      <td>0.000000</td>\n",
       "      <td>1.0</td>\n",
       "    </tr>\n",
       "    <tr>\n",
       "      <th>Industry_Finance</th>\n",
       "      <td>19237.0</td>\n",
       "      <td>0.014295</td>\n",
       "      <td>0.118709</td>\n",
       "      <td>0.000000</td>\n",
       "      <td>0.000000</td>\n",
       "      <td>0.000000</td>\n",
       "      <td>0.000000</td>\n",
       "      <td>1.0</td>\n",
       "    </tr>\n",
       "    <tr>\n",
       "      <th>Industry_Health</th>\n",
       "      <td>19237.0</td>\n",
       "      <td>0.052763</td>\n",
       "      <td>0.223566</td>\n",
       "      <td>0.000000</td>\n",
       "      <td>0.000000</td>\n",
       "      <td>0.000000</td>\n",
       "      <td>0.000000</td>\n",
       "      <td>1.0</td>\n",
       "    </tr>\n",
       "    <tr>\n",
       "      <th>Industry_Information</th>\n",
       "      <td>19237.0</td>\n",
       "      <td>0.012320</td>\n",
       "      <td>0.110313</td>\n",
       "      <td>0.000000</td>\n",
       "      <td>0.000000</td>\n",
       "      <td>0.000000</td>\n",
       "      <td>0.000000</td>\n",
       "      <td>1.0</td>\n",
       "    </tr>\n",
       "    <tr>\n",
       "      <th>Industry_Management</th>\n",
       "      <td>19237.0</td>\n",
       "      <td>0.000364</td>\n",
       "      <td>0.019073</td>\n",
       "      <td>0.000000</td>\n",
       "      <td>0.000000</td>\n",
       "      <td>0.000000</td>\n",
       "      <td>0.000000</td>\n",
       "      <td>1.0</td>\n",
       "    </tr>\n",
       "    <tr>\n",
       "      <th>Industry_Manufacturing</th>\n",
       "      <td>19237.0</td>\n",
       "      <td>0.066279</td>\n",
       "      <td>0.248775</td>\n",
       "      <td>0.000000</td>\n",
       "      <td>0.000000</td>\n",
       "      <td>0.000000</td>\n",
       "      <td>0.000000</td>\n",
       "      <td>1.0</td>\n",
       "    </tr>\n",
       "    <tr>\n",
       "      <th>Industry_Mining</th>\n",
       "      <td>19237.0</td>\n",
       "      <td>0.002547</td>\n",
       "      <td>0.050407</td>\n",
       "      <td>0.000000</td>\n",
       "      <td>0.000000</td>\n",
       "      <td>0.000000</td>\n",
       "      <td>0.000000</td>\n",
       "      <td>1.0</td>\n",
       "    </tr>\n",
       "    <tr>\n",
       "      <th>Industry_Other</th>\n",
       "      <td>19237.0</td>\n",
       "      <td>0.085616</td>\n",
       "      <td>0.279804</td>\n",
       "      <td>0.000000</td>\n",
       "      <td>0.000000</td>\n",
       "      <td>0.000000</td>\n",
       "      <td>0.000000</td>\n",
       "      <td>1.0</td>\n",
       "    </tr>\n",
       "    <tr>\n",
       "      <th>Industry_Professional</th>\n",
       "      <td>19237.0</td>\n",
       "      <td>0.087176</td>\n",
       "      <td>0.282100</td>\n",
       "      <td>0.000000</td>\n",
       "      <td>0.000000</td>\n",
       "      <td>0.000000</td>\n",
       "      <td>0.000000</td>\n",
       "      <td>1.0</td>\n",
       "    </tr>\n",
       "    <tr>\n",
       "      <th>Industry_Public</th>\n",
       "      <td>19237.0</td>\n",
       "      <td>0.000208</td>\n",
       "      <td>0.014419</td>\n",
       "      <td>0.000000</td>\n",
       "      <td>0.000000</td>\n",
       "      <td>0.000000</td>\n",
       "      <td>0.000000</td>\n",
       "      <td>1.0</td>\n",
       "    </tr>\n",
       "    <tr>\n",
       "      <th>Industry_Real</th>\n",
       "      <td>19237.0</td>\n",
       "      <td>0.019754</td>\n",
       "      <td>0.139156</td>\n",
       "      <td>0.000000</td>\n",
       "      <td>0.000000</td>\n",
       "      <td>0.000000</td>\n",
       "      <td>0.000000</td>\n",
       "      <td>1.0</td>\n",
       "    </tr>\n",
       "    <tr>\n",
       "      <th>Industry_Retail</th>\n",
       "      <td>19237.0</td>\n",
       "      <td>0.149711</td>\n",
       "      <td>0.356798</td>\n",
       "      <td>0.000000</td>\n",
       "      <td>0.000000</td>\n",
       "      <td>0.000000</td>\n",
       "      <td>0.000000</td>\n",
       "      <td>1.0</td>\n",
       "    </tr>\n",
       "    <tr>\n",
       "      <th>Industry_Transportation</th>\n",
       "      <td>19237.0</td>\n",
       "      <td>0.016479</td>\n",
       "      <td>0.127310</td>\n",
       "      <td>0.000000</td>\n",
       "      <td>0.000000</td>\n",
       "      <td>0.000000</td>\n",
       "      <td>0.000000</td>\n",
       "      <td>1.0</td>\n",
       "    </tr>\n",
       "    <tr>\n",
       "      <th>Industry_Unknown</th>\n",
       "      <td>19237.0</td>\n",
       "      <td>0.211208</td>\n",
       "      <td>0.408176</td>\n",
       "      <td>0.000000</td>\n",
       "      <td>0.000000</td>\n",
       "      <td>0.000000</td>\n",
       "      <td>0.000000</td>\n",
       "      <td>1.0</td>\n",
       "    </tr>\n",
       "    <tr>\n",
       "      <th>Industry_Utilities</th>\n",
       "      <td>19237.0</td>\n",
       "      <td>0.000572</td>\n",
       "      <td>0.023906</td>\n",
       "      <td>0.000000</td>\n",
       "      <td>0.000000</td>\n",
       "      <td>0.000000</td>\n",
       "      <td>0.000000</td>\n",
       "      <td>1.0</td>\n",
       "    </tr>\n",
       "    <tr>\n",
       "      <th>Industry_Wholesale</th>\n",
       "      <td>19237.0</td>\n",
       "      <td>0.044654</td>\n",
       "      <td>0.206547</td>\n",
       "      <td>0.000000</td>\n",
       "      <td>0.000000</td>\n",
       "      <td>0.000000</td>\n",
       "      <td>0.000000</td>\n",
       "      <td>1.0</td>\n",
       "    </tr>\n",
       "    <tr>\n",
       "      <th>Cluster_1</th>\n",
       "      <td>19237.0</td>\n",
       "      <td>0.199355</td>\n",
       "      <td>0.399526</td>\n",
       "      <td>0.000000</td>\n",
       "      <td>0.000000</td>\n",
       "      <td>0.000000</td>\n",
       "      <td>0.000000</td>\n",
       "      <td>1.0</td>\n",
       "    </tr>\n",
       "    <tr>\n",
       "      <th>Cluster_2</th>\n",
       "      <td>19237.0</td>\n",
       "      <td>0.079378</td>\n",
       "      <td>0.270335</td>\n",
       "      <td>0.000000</td>\n",
       "      <td>0.000000</td>\n",
       "      <td>0.000000</td>\n",
       "      <td>0.000000</td>\n",
       "      <td>1.0</td>\n",
       "    </tr>\n",
       "    <tr>\n",
       "      <th>Cluster_3</th>\n",
       "      <td>19237.0</td>\n",
       "      <td>0.020273</td>\n",
       "      <td>0.140938</td>\n",
       "      <td>0.000000</td>\n",
       "      <td>0.000000</td>\n",
       "      <td>0.000000</td>\n",
       "      <td>0.000000</td>\n",
       "      <td>1.0</td>\n",
       "    </tr>\n",
       "    <tr>\n",
       "      <th>Cluster_4</th>\n",
       "      <td>19237.0</td>\n",
       "      <td>0.235484</td>\n",
       "      <td>0.424312</td>\n",
       "      <td>0.000000</td>\n",
       "      <td>0.000000</td>\n",
       "      <td>0.000000</td>\n",
       "      <td>0.000000</td>\n",
       "      <td>1.0</td>\n",
       "    </tr>\n",
       "  </tbody>\n",
       "</table>\n",
       "</div>"
      ],
      "text/plain": [
       "                           count           mean            std          min  \\\n",
       "ApprovalFY               19237.0    2001.545979       5.515779  1990.000000   \n",
       "Term                     19237.0     124.382024      84.809523     0.000000   \n",
       "NoEmp                    19237.0       9.922493      15.300174     0.000000   \n",
       "NewBiz                   19237.0       0.229402       0.420459     0.000000   \n",
       "RevLineCr                19237.0       0.244121       0.428288     0.000000   \n",
       "LowDoc                   19237.0       0.120653       0.325732     0.000000   \n",
       "DisbursementGross        19237.0  235977.974580  296525.979335  4800.000000   \n",
       "MIS_Status               19237.0       0.825960       0.379153     0.000000   \n",
       "TotalLoansInCounty       19237.0    1677.550606    1159.578062     1.000000   \n",
       "PIF_RateByCounty         19237.0       0.825914       0.049815     0.500000   \n",
       "MedIncome                19237.0   34581.721526   11287.938448     0.000000   \n",
       "PopChange                19237.0       0.236415       0.157262    -0.258329   \n",
       "EmployedInCty            19237.0  182377.510163  105082.563814   231.000000   \n",
       "UnempInCty               19237.0    9407.352498    6657.609793     9.000000   \n",
       "UnempRateInCty           19237.0       4.816905       1.520836     1.200000   \n",
       "DeathsPer100k            19237.0     625.641306     194.433984   160.800000   \n",
       "PayDelay                 19237.0     105.676074     141.932812     1.000000   \n",
       "Industry_Administrative  19237.0       0.030306       0.171433     0.000000   \n",
       "Industry_Agriculture     19237.0       0.003743       0.061065     0.000000   \n",
       "Industry_Arts            19237.0       0.015543       0.123702     0.000000   \n",
       "Industry_Construction    19237.0       0.103706       0.304887     0.000000   \n",
       "Industry_Educational     19237.0       0.006134       0.078081     0.000000   \n",
       "Industry_Finance         19237.0       0.014295       0.118709     0.000000   \n",
       "Industry_Health          19237.0       0.052763       0.223566     0.000000   \n",
       "Industry_Information     19237.0       0.012320       0.110313     0.000000   \n",
       "Industry_Management      19237.0       0.000364       0.019073     0.000000   \n",
       "Industry_Manufacturing   19237.0       0.066279       0.248775     0.000000   \n",
       "Industry_Mining          19237.0       0.002547       0.050407     0.000000   \n",
       "Industry_Other           19237.0       0.085616       0.279804     0.000000   \n",
       "Industry_Professional    19237.0       0.087176       0.282100     0.000000   \n",
       "Industry_Public          19237.0       0.000208       0.014419     0.000000   \n",
       "Industry_Real            19237.0       0.019754       0.139156     0.000000   \n",
       "Industry_Retail          19237.0       0.149711       0.356798     0.000000   \n",
       "Industry_Transportation  19237.0       0.016479       0.127310     0.000000   \n",
       "Industry_Unknown         19237.0       0.211208       0.408176     0.000000   \n",
       "Industry_Utilities       19237.0       0.000572       0.023906     0.000000   \n",
       "Industry_Wholesale       19237.0       0.044654       0.206547     0.000000   \n",
       "Cluster_1                19237.0       0.199355       0.399526     0.000000   \n",
       "Cluster_2                19237.0       0.079378       0.270335     0.000000   \n",
       "Cluster_3                19237.0       0.020273       0.140938     0.000000   \n",
       "Cluster_4                19237.0       0.235484       0.424312     0.000000   \n",
       "\n",
       "                                  25%            50%            75%        max  \n",
       "ApprovalFY                1997.000000    2003.000000    2006.000000     2014.0  \n",
       "Term                        66.000000      84.000000     180.000000      372.0  \n",
       "NoEmp                        2.000000       4.000000      11.000000      100.0  \n",
       "NewBiz                       0.000000       0.000000       0.000000        1.0  \n",
       "RevLineCr                    0.000000       0.000000       0.000000        1.0  \n",
       "LowDoc                       0.000000       0.000000       0.000000        1.0  \n",
       "DisbursementGross        51980.000000  126000.000000  300000.000000  5000000.0  \n",
       "MIS_Status                   1.000000       1.000000       1.000000        1.0  \n",
       "TotalLoansInCounty         506.000000    1556.000000    2046.000000     3647.0  \n",
       "PIF_RateByCounty             0.797654       0.821979       0.846377        1.0  \n",
       "MedIncome                26574.000000   32849.000000   41754.000000   126428.0  \n",
       "PopChange                    0.139801       0.222551       0.276615        1.0  \n",
       "EmployedInCty            94658.000000  197954.000000  281919.000000   351178.0  \n",
       "UnempInCty                4487.000000    9254.000000   13793.000000    31668.0  \n",
       "UnempRateInCty               3.800000       4.600000       5.700000       16.3  \n",
       "DeathsPer100k              551.900000     565.800000     823.400000     1372.6  \n",
       "PayDelay                    30.000000      56.000000     115.000000     1000.0  \n",
       "Industry_Administrative      0.000000       0.000000       0.000000        1.0  \n",
       "Industry_Agriculture         0.000000       0.000000       0.000000        1.0  \n",
       "Industry_Arts                0.000000       0.000000       0.000000        1.0  \n",
       "Industry_Construction        0.000000       0.000000       0.000000        1.0  \n",
       "Industry_Educational         0.000000       0.000000       0.000000        1.0  \n",
       "Industry_Finance             0.000000       0.000000       0.000000        1.0  \n",
       "Industry_Health              0.000000       0.000000       0.000000        1.0  \n",
       "Industry_Information         0.000000       0.000000       0.000000        1.0  \n",
       "Industry_Management          0.000000       0.000000       0.000000        1.0  \n",
       "Industry_Manufacturing       0.000000       0.000000       0.000000        1.0  \n",
       "Industry_Mining              0.000000       0.000000       0.000000        1.0  \n",
       "Industry_Other               0.000000       0.000000       0.000000        1.0  \n",
       "Industry_Professional        0.000000       0.000000       0.000000        1.0  \n",
       "Industry_Public              0.000000       0.000000       0.000000        1.0  \n",
       "Industry_Real                0.000000       0.000000       0.000000        1.0  \n",
       "Industry_Retail              0.000000       0.000000       0.000000        1.0  \n",
       "Industry_Transportation      0.000000       0.000000       0.000000        1.0  \n",
       "Industry_Unknown             0.000000       0.000000       0.000000        1.0  \n",
       "Industry_Utilities           0.000000       0.000000       0.000000        1.0  \n",
       "Industry_Wholesale           0.000000       0.000000       0.000000        1.0  \n",
       "Cluster_1                    0.000000       0.000000       0.000000        1.0  \n",
       "Cluster_2                    0.000000       0.000000       0.000000        1.0  \n",
       "Cluster_3                    0.000000       0.000000       0.000000        1.0  \n",
       "Cluster_4                    0.000000       0.000000       0.000000        1.0  "
      ]
     },
     "execution_count": 24,
     "metadata": {},
     "output_type": "execute_result"
    }
   ],
   "source": [
    "df = pd.get_dummies(df, drop_first=True)\n",
    "\n",
    "df.describe().T"
   ]
  },
  {
   "cell_type": "markdown",
   "metadata": {},
   "source": [
    "We'll start with a Dummy Classifier model based on stratification, then move to a simple Logistic regression model:"
   ]
  },
  {
   "cell_type": "code",
   "execution_count": 25,
   "metadata": {},
   "outputs": [],
   "source": [
    "# Load libraries:\n",
    "from sklearn.dummy import DummyClassifier\n",
    "from sklearn.model_selection import train_test_split\n",
    "from sklearn.linear_model import LogisticRegression\n",
    "from sklearn.preprocessing import StandardScaler\n",
    "from sklearn.metrics import confusion_matrix\n",
    "from sklearn.metrics import f1_score\n",
    "from sklearn.metrics import roc_curve, roc_auc_score\n"
   ]
  },
  {
   "cell_type": "code",
   "execution_count": 26,
   "metadata": {},
   "outputs": [],
   "source": [
    "# Split the dataset into features and target:\n",
    "y = df['MIS_Status']\n",
    "X = df.drop(columns='MIS_Status')"
   ]
  },
  {
   "cell_type": "code",
   "execution_count": 27,
   "metadata": {},
   "outputs": [],
   "source": [
    "# Standardizr the various features in the dataset, since different variables have different ranges:\n",
    "\n",
    "scaler = StandardScaler()\n",
    "X_std = scaler.fit_transform(X)"
   ]
  },
  {
   "cell_type": "code",
   "execution_count": 28,
   "metadata": {},
   "outputs": [],
   "source": [
    "# Create training and test data\n",
    "\n",
    "X_train, X_test, y_train, y_test = train_test_split(X_std, y, test_size=0.2, random_state=42)"
   ]
  },
  {
   "cell_type": "code",
   "execution_count": 29,
   "metadata": {},
   "outputs": [
    {
     "data": {
      "text/plain": [
       "0.7154365904365905"
      ]
     },
     "execution_count": 29,
     "metadata": {},
     "output_type": "execute_result"
    }
   ],
   "source": [
    "# Dummy model based on stratificaation:\n",
    "\n",
    "dummy = DummyClassifier(strategy='stratified', random_state=13)\n",
    "\n",
    "dummy.fit(X_train, y_train)\n",
    "\n",
    "dummy.score(X_test, y_test)"
   ]
  },
  {
   "cell_type": "code",
   "execution_count": 30,
   "metadata": {},
   "outputs": [
    {
     "data": {
      "text/plain": [
       "(119, 540, 555, 2634)"
      ]
     },
     "execution_count": 30,
     "metadata": {},
     "output_type": "execute_result"
    }
   ],
   "source": [
    "y_pred_strat = dummy.predict(X_test)\n",
    "\n",
    "tn, fp, fn, tp = confusion_matrix(y_test, y_pred_strat).ravel()\n",
    "(tn, fp, fn, tp)"
   ]
  },
  {
   "cell_type": "code",
   "execution_count": 31,
   "metadata": {},
   "outputs": [],
   "source": [
    "# We create target probabilities for the predicted values of y:\n",
    "\n",
    "target_probabilities = dummy.predict_proba(X_test)[:,1]\n",
    "\n",
    "FP_rate, TP_rate, threshold = roc_curve(y_test, target_probabilities)"
   ]
  },
  {
   "cell_type": "code",
   "execution_count": 32,
   "metadata": {},
   "outputs": [
    {
     "data": {
      "image/png": "[encoded data removed]",
      "text/plain": [
       "<Figure size 432x288 with 1 Axes>"
      ]
     },
     "metadata": {
      "needs_background": "light"
     },
     "output_type": "display_data"
    }
   ],
   "source": [
    "# Plot ROC Curve\n",
    "plt.title('Receiver Operating Characteristic')\n",
    "plt.plot(FP_rate, TP_rate)\n",
    "plt.plot([0,1], ls='--')\n",
    "plt.plot([0,0],[1,0], c='.7'), plt.plot([1,1], c='.7')\n",
    "plt.ylabel('TP Rate')\n",
    "plt.xlabel('FP Rate')\n",
    "plt.show()"
   ]
  },
  {
   "cell_type": "code",
   "execution_count": 33,
   "metadata": {},
   "outputs": [
    {
     "data": {
      "text/plain": [
       "0.8287422037422038"
      ]
     },
     "execution_count": 33,
     "metadata": {},
     "output_type": "execute_result"
    }
   ],
   "source": [
    "# Dummy model based on assuming that ALL loan are good loans! I.e., a constant value of 1:\n",
    "\n",
    "dummy = DummyClassifier(strategy='constant', constant = 1)\n",
    "\n",
    "dummy.fit(X_train, y_train)\n",
    "\n",
    "dummy.score(X_test, y_test)"
   ]
  },
  {
   "cell_type": "code",
   "execution_count": 34,
   "metadata": {},
   "outputs": [
    {
     "data": {
      "text/plain": [
       "(0, 659, 0, 3189)"
      ]
     },
     "execution_count": 34,
     "metadata": {},
     "output_type": "execute_result"
    }
   ],
   "source": [
    "y_pred_constant = dummy.predict(X_test)\n",
    "\n",
    "tn, fp, fn, tp = confusion_matrix(y_test, y_pred_constant).ravel()\n",
    "(tn, fp, fn, tp)"
   ]
  },
  {
   "cell_type": "code",
   "execution_count": 35,
   "metadata": {},
   "outputs": [],
   "source": [
    "# We create target probabilities for the predicted values of y:\n",
    "\n",
    "target_probabilities = dummy.predict_proba(X_test)[:,1]\n",
    "\n",
    "FP_rate, TP_rate, threshold = roc_curve(y_test, target_probabilities)"
   ]
  },
  {
   "cell_type": "code",
   "execution_count": 36,
   "metadata": {},
   "outputs": [
    {
     "data": {
      "image/png": "[encoded data removed]",
      "text/plain": [
       "<Figure size 432x288 with 1 Axes>"
      ]
     },
     "metadata": {
      "needs_background": "light"
     },
     "output_type": "display_data"
    }
   ],
   "source": [
    "# Plot ROC Curve\n",
    "plt.title('Receiver Operating Characteristic')\n",
    "plt.plot(FP_rate, TP_rate)\n",
    "plt.plot([0,1], ls='--')\n",
    "plt.plot([0,0],[1,0], c='.7'), plt.plot([1,1], c='.7')\n",
    "plt.ylabel('TP Rate')\n",
    "plt.xlabel('FP Rate')\n",
    "plt.show()"
   ]
  },
  {
   "cell_type": "markdown",
   "metadata": {},
   "source": [
    "#### Logistic Regression ####\n",
    "\n",
    "While the accuracy values of the dummy models were not that bad (the data are skewed towards loans being good, after all);  \n",
    "Now we will explore Logistic Regression:"
   ]
  },
  {
   "cell_type": "code",
   "execution_count": 37,
   "metadata": {},
   "outputs": [],
   "source": [
    "# Create a simple logistic regression model object and fit the training data\n",
    "\n",
    "logit = LogisticRegression()\n",
    "\n",
    "model = logit.fit(X_train, y_train)"
   ]
  },
  {
   "cell_type": "code",
   "execution_count": 38,
   "metadata": {},
   "outputs": [
    {
     "data": {
      "text/plain": [
       "0.8887733887733887"
      ]
     },
     "execution_count": 38,
     "metadata": {},
     "output_type": "execute_result"
    }
   ],
   "source": [
    "# Accuracy score\n",
    "\n",
    "model.score(X_test, y_test)"
   ]
  },
  {
   "cell_type": "code",
   "execution_count": 39,
   "metadata": {},
   "outputs": [],
   "source": [
    "# Make predictions for the test data set:\n",
    "y_pred = model.predict(X_test)"
   ]
  },
  {
   "cell_type": "code",
   "execution_count": 40,
   "metadata": {},
   "outputs": [],
   "source": [
    "# Generate a confusion matrix\n",
    "matrix = pd.DataFrame(confusion_matrix(y_test, y_pred))"
   ]
  },
  {
   "cell_type": "code",
   "execution_count": 41,
   "metadata": {},
   "outputs": [
    {
     "data": {
      "image/png": "[encoded data removed]",
      "text/plain": [
       "<Figure size 432x288 with 2 Axes>"
      ]
     },
     "metadata": {
      "needs_background": "light"
     },
     "output_type": "display_data"
    }
   ],
   "source": [
    "sns.heatmap(matrix, annot=True)\n",
    "plt.ylabel('True Class'), plt.xlabel('Pred Class')\n",
    "plt.show()"
   ]
  },
  {
   "cell_type": "code",
   "execution_count": 42,
   "metadata": {},
   "outputs": [
    {
     "data": {
      "text/plain": [
       "(326, 333, 95, 3094)"
      ]
     },
     "execution_count": 42,
     "metadata": {},
     "output_type": "execute_result"
    }
   ],
   "source": [
    "tn, fp, fn, tp = confusion_matrix(y_test, y_pred).ravel()\n",
    "(tn, fp, fn, tp)"
   ]
  },
  {
   "cell_type": "code",
   "execution_count": 43,
   "metadata": {},
   "outputs": [
    {
     "name": "stdout",
     "output_type": "stream",
     "text": [
      "0.9353083434099154 0.7324495099095858\n"
     ]
    }
   ],
   "source": [
    "# F1 score is pretty good, but AUC is only 72% or so:\n",
    "\n",
    "print(f1_score(y_test, y_pred), roc_auc_score(y_test, y_pred))"
   ]
  },
  {
   "cell_type": "code",
   "execution_count": 44,
   "metadata": {},
   "outputs": [],
   "source": [
    "# We again create target probabilities for the predicted values of y:\n",
    "\n",
    "target_probabilities = logit.predict_proba(X_test)[:,1]\n",
    "\n",
    "FP_rate, TP_rate, threshold = roc_curve(y_test, target_probabilities)"
   ]
  },
  {
   "cell_type": "code",
   "execution_count": 45,
   "metadata": {},
   "outputs": [
    {
     "data": {
      "image/png": "[encoded data removed]",
      "text/plain": [
       "<Figure size 432x288 with 1 Axes>"
      ]
     },
     "metadata": {
      "needs_background": "light"
     },
     "output_type": "display_data"
    }
   ],
   "source": [
    "# Plot ROC Curve\n",
    "plt.title('Receiver Operating Characteristic')\n",
    "plt.plot(FP_rate, TP_rate)\n",
    "plt.plot([0,1], ls='--')\n",
    "plt.plot([0,0],[1,0], c='.7'), plt.plot([1,1], c='.7')\n",
    "plt.ylabel('TP Rate')\n",
    "plt.xlabel('FP Rate')\n",
    "plt.show()"
   ]
  },
  {
   "cell_type": "markdown",
   "metadata": {},
   "source": [
    "#### Random Forest Classifier ####\n",
    "\n",
    "Next we'll explore a Random Forest classifier model to see if it can do a better job than the logistic regression:\n"
   ]
  },
  {
   "cell_type": "code",
   "execution_count": 46,
   "metadata": {},
   "outputs": [],
   "source": [
    "# Load Random Forest library\n",
    "from sklearn.ensemble import RandomForestClassifier\n"
   ]
  },
  {
   "cell_type": "code",
   "execution_count": 47,
   "metadata": {},
   "outputs": [
    {
     "name": "stdout",
     "output_type": "stream",
     "text": [
      "Num of Estimators:  50\n",
      "Accuracy score (training): 1.000\n",
      "Accuracy score (validation): 0.935\n",
      "\n",
      "Num of Estimators:  100\n",
      "Accuracy score (training): 1.000\n",
      "Accuracy score (validation): 0.933\n",
      "\n",
      "Num of Estimators:  150\n",
      "Accuracy score (training): 1.000\n",
      "Accuracy score (validation): 0.933\n",
      "\n"
     ]
    }
   ],
   "source": [
    "# Explore different n_estimaors, but keep the default gini criterion:\n",
    "\n",
    "n_estimators = [50, 100, 150]\n",
    "\n",
    "for estimators in n_estimators:\n",
    "    rf = RandomForestClassifier(n_estimators=estimators, random_state = 17, n_jobs=-1)\n",
    "    rf.fit(X_train, y_train)\n",
    "    print(\"Num of Estimators: \", estimators)\n",
    "    print(\"Accuracy score (training): {0:.3f}\".format(rf.score(X_train, y_train)))\n",
    "    print(\"Accuracy score (validation): {0:.3f}\".format(rf.score(X_test, y_test)))\n",
    "    print()"
   ]
  },
  {
   "cell_type": "code",
   "execution_count": 48,
   "metadata": {},
   "outputs": [
    {
     "name": "stdout",
     "output_type": "stream",
     "text": [
      "Num of Estimators:  50\n",
      "Accuracy score (training): 1.000\n",
      "Accuracy score (validation): 0.933\n",
      "\n",
      "Num of Estimators:  100\n",
      "Accuracy score (training): 1.000\n",
      "Accuracy score (validation): 0.933\n",
      "\n",
      "Num of Estimators:  150\n",
      "Accuracy score (training): 1.000\n",
      "Accuracy score (validation): 0.934\n",
      "\n"
     ]
    }
   ],
   "source": [
    "# Try the same thing with the entropy criterion:\n",
    "\n",
    "n_estimators = [50, 100, 150]\n",
    "\n",
    "for estimators in n_estimators:\n",
    "    rf = RandomForestClassifier(n_estimators=estimators, random_state = 17, n_jobs=-1, criterion = 'entropy')\n",
    "    rf.fit(X_train, y_train)\n",
    "    print(\"Num of Estimators: \", estimators)\n",
    "    print(\"Accuracy score (training): {0:.3f}\".format(rf.score(X_train, y_train)))\n",
    "    print(\"Accuracy score (validation): {0:.3f}\".format(rf.score(X_test, y_test)))\n",
    "    print()"
   ]
  },
  {
   "cell_type": "code",
   "execution_count": 72,
   "metadata": {},
   "outputs": [],
   "source": [
    "# Use the optimal parameters:\n",
    "\n",
    "randomforest = RandomForestClassifier(criterion = 'entropy', n_estimators=100, random_state=17, n_jobs=-1)\n",
    "\n",
    "rfmodel = randomforest.fit(X_train, y_train)"
   ]
  },
  {
   "cell_type": "code",
   "execution_count": 73,
   "metadata": {},
   "outputs": [],
   "source": [
    "y_predrf = rfmodel.predict(X_test)"
   ]
  },
  {
   "cell_type": "code",
   "execution_count": 74,
   "metadata": {},
   "outputs": [
    {
     "name": "stdout",
     "output_type": "stream",
     "text": [
      "0.9604676203660975 0.8453373246711596\n"
     ]
    }
   ],
   "source": [
    "# F1 score is pretty good, but AUC is only 71% or so:\n",
    "\n",
    "print(f1_score(y_test, y_predrf), roc_auc_score(y_test, y_predrf))"
   ]
  },
  {
   "cell_type": "code",
   "execution_count": 75,
   "metadata": {},
   "outputs": [
    {
     "data": {
      "image/png": "[encoded data removed]",
      "text/plain": [
       "<Figure size 432x288 with 2 Axes>"
      ]
     },
     "metadata": {
      "needs_background": "light"
     },
     "output_type": "display_data"
    }
   ],
   "source": [
    "# Generate a confusion matrix\n",
    "rfmatrix = pd.DataFrame(confusion_matrix(y_test, y_predrf))\n",
    "\n",
    "sns.heatmap(rfmatrix, annot=True)\n",
    "plt.ylabel('True Class'), plt.xlabel('Pred Class')\n",
    "plt.show()"
   ]
  },
  {
   "cell_type": "code",
   "execution_count": 76,
   "metadata": {},
   "outputs": [
    {
     "data": {
      "text/plain": [
       "(469, 190, 67, 3122)"
      ]
     },
     "execution_count": 76,
     "metadata": {},
     "output_type": "execute_result"
    }
   ],
   "source": [
    "tn, fp, fn, tp = confusion_matrix(y_test, y_predrf).ravel()\n",
    "(tn, fp, fn, tp)"
   ]
  },
  {
   "cell_type": "code",
   "execution_count": 77,
   "metadata": {},
   "outputs": [],
   "source": [
    "# We again create target probabilities for the predicted values of y:\n",
    "\n",
    "rf_target_probabilities = rfmodel.predict_proba(X_test)[:,1]\n",
    "\n",
    "FP_rate, TP_rate, threshold = roc_curve(y_test, rf_target_probabilities)"
   ]
  },
  {
   "cell_type": "code",
   "execution_count": 78,
   "metadata": {},
   "outputs": [
    {
     "data": {
      "image/png": "[encoded data removed]",
      "text/plain": [
       "<Figure size 432x288 with 1 Axes>"
      ]
     },
     "metadata": {
      "needs_background": "light"
     },
     "output_type": "display_data"
    }
   ],
   "source": [
    "# Plot ROC Curve\n",
    "plt.title('Receiver Operating Characteristic')\n",
    "plt.plot(FP_rate, TP_rate)\n",
    "plt.plot([0,1], ls='--')\n",
    "plt.plot([0,0],[1,0], c='.7'), plt.plot([1,1], c='.7')\n",
    "plt.ylabel('TP Rate')\n",
    "plt.xlabel('FP Rate')\n",
    "plt.show()"
   ]
  },
  {
   "cell_type": "markdown",
   "metadata": {},
   "source": [
    "This model seems to have a signifcantly better ROC behavior than previous models. But, we don't know the relative significance, or importance, of the features in X_train and X_test. So, let's look at that next:"
   ]
  },
  {
   "cell_type": "code",
   "execution_count": 56,
   "metadata": {},
   "outputs": [
    {
     "name": "stdout",
     "output_type": "stream",
     "text": [
      "40\n"
     ]
    },
    {
     "data": {
      "image/png": "[encoded data removed]",
      "text/plain": [
       "<Figure size 720x720 with 1 Axes>"
      ]
     },
     "metadata": {
      "needs_background": "light"
     },
     "output_type": "display_data"
    }
   ],
   "source": [
    "# obtain the feature importances from the random forest model:\n",
    "feature_importance = rfmodel.feature_importances_\n",
    "# make importances relative to max importance\n",
    "feature_importance = 100.0 * (feature_importance / feature_importance.max())\n",
    "sorted_idx = np.argsort(feature_importance)\n",
    "\n",
    "# Plot the relative importances on a horizontal barchart:\n",
    "\n",
    "pos = np.arange(sorted_idx.shape[0]) + .5\n",
    "print(pos.size)\n",
    "sorted_idx.size\n",
    "plt.figure(figsize=(10,10))\n",
    "plt.barh(pos, feature_importance[sorted_idx], align='center')\n",
    "plt.yticks(pos, X.columns[sorted_idx])\n",
    "plt.xlabel('Relative Importance')\n",
    "plt.title('Variable Importance')\n",
    "plt.show()"
   ]
  },
  {
   "cell_type": "markdown",
   "metadata": {},
   "source": [
    "### Gradient Boosting ###\n",
    "This was a first attempt at a random forest decision tree model. Next step will be exploration of Gradient Boost approaches (for a data set this small the computational expense will be negligible). "
   ]
  },
  {
   "cell_type": "code",
   "execution_count": 57,
   "metadata": {},
   "outputs": [],
   "source": [
    "from sklearn.ensemble import GradientBoostingClassifier"
   ]
  },
  {
   "cell_type": "code",
   "execution_count": 84,
   "metadata": {},
   "outputs": [
    {
     "name": "stdout",
     "output_type": "stream",
     "text": [
      "Learning rate:  0.05\n",
      "Accuracy score (training): 0.862\n",
      "Accuracy score (validation): 0.857\n",
      "\n",
      "Learning rate:  0.1\n",
      "Accuracy score (training): 0.916\n",
      "Accuracy score (validation): 0.916\n",
      "\n",
      "Learning rate:  0.25\n",
      "Accuracy score (training): 0.933\n",
      "Accuracy score (validation): 0.925\n",
      "\n",
      "Learning rate:  0.5\n",
      "Accuracy score (training): 0.945\n",
      "Accuracy score (validation): 0.933\n",
      "\n",
      "Learning rate:  0.75\n",
      "Accuracy score (training): 0.949\n",
      "Accuracy score (validation): 0.927\n",
      "\n",
      "Learning rate:  1\n",
      "Accuracy score (training): 0.947\n",
      "Accuracy score (validation): 0.923\n",
      "\n"
     ]
    }
   ],
   "source": [
    "\n",
    "learning_rates = [0.05, 0.1, 0.25, 0.5, 0.75, 1]\n",
    "for learning_rate in learning_rates:\n",
    "    gb = GradientBoostingClassifier(n_estimators=20, learning_rate = learning_rate, max_features=5, max_depth = 5, random_state = 0)\n",
    "    gb.fit(X_train, y_train)\n",
    "    print(\"Learning rate: \", learning_rate)\n",
    "    print(\"Accuracy score (training): {0:.3f}\".format(gb.score(X_train, y_train)))\n",
    "    print(\"Accuracy score (validation): {0:.3f}\".format(gb.score(X_test, y_test)))\n",
    "    print()"
   ]
  },
  {
   "cell_type": "code",
   "execution_count": 85,
   "metadata": {},
   "outputs": [],
   "source": [
    "# Fit the best model: \n",
    "\n",
    "gb = GradientBoostingClassifier(n_estimators=20, learning_rate = 0.5, max_features=5, max_depth = 5, random_state = 0)\n",
    "gb.fit(X_train, y_train)\n",
    "\n",
    "y_predgb = gb.predict(X_test)\n"
   ]
  },
  {
   "cell_type": "code",
   "execution_count": 86,
   "metadata": {},
   "outputs": [
    {
     "name": "stdout",
     "output_type": "stream",
     "text": [
      "0.9600000000000001 0.8602289451933358\n"
     ]
    }
   ],
   "source": [
    "# F1 score is pretty good, but AUC is only 71% or so:\n",
    "\n",
    "print(f1_score(y_test, y_predgb), roc_auc_score(y_test, y_predgb))"
   ]
  },
  {
   "cell_type": "code",
   "execution_count": 87,
   "metadata": {},
   "outputs": [
    {
     "data": {
      "image/png": "[encoded data removed]",
      "text/plain": [
       "<Figure size 432x288 with 2 Axes>"
      ]
     },
     "metadata": {
      "needs_background": "light"
     },
     "output_type": "display_data"
    }
   ],
   "source": [
    "# Generate a confusion matrix\n",
    "gbmatrix = pd.DataFrame(confusion_matrix(y_test, y_predgb))\n",
    "\n",
    "sns.heatmap(gbmatrix, annot=True)\n",
    "plt.ylabel('True Class'), plt.xlabel('Pred Class')\n",
    "plt.show()"
   ]
  },
  {
   "cell_type": "code",
   "execution_count": 88,
   "metadata": {},
   "outputs": [],
   "source": [
    "tn, fp, fn, tp = confusion_matrix(y_test, y_predgb).ravel()"
   ]
  },
  {
   "cell_type": "code",
   "execution_count": 89,
   "metadata": {},
   "outputs": [
    {
     "data": {
      "text/plain": [
       "(494, 165, 93, 3096)"
      ]
     },
     "execution_count": 89,
     "metadata": {},
     "output_type": "execute_result"
    }
   ],
   "source": [
    "(tn, fp, fn, tp)"
   ]
  },
  {
   "cell_type": "code",
   "execution_count": 90,
   "metadata": {},
   "outputs": [],
   "source": [
    "# We again create target probabilities for the predicted values of y:\n",
    "\n",
    "gb_target_probabilities = gb.predict_proba(X_test)[:,1]\n",
    "\n",
    "FP_rate, TP_rate, threshold = roc_curve(y_test, gb_target_probabilities)"
   ]
  },
  {
   "cell_type": "code",
   "execution_count": 91,
   "metadata": {},
   "outputs": [
    {
     "data": {
      "image/png": "[encoded data removed]",
      "text/plain": [
       "<Figure size 432x288 with 1 Axes>"
      ]
     },
     "metadata": {
      "needs_background": "light"
     },
     "output_type": "display_data"
    }
   ],
   "source": [
    "# Plot ROC Curve\n",
    "plt.title('Receiver Operating Characteristic')\n",
    "plt.plot(FP_rate, TP_rate)\n",
    "plt.plot([0,1], ls='--')\n",
    "plt.plot([0,0],[1,0], c='.7'), plt.plot([1,1], c='.7')\n",
    "plt.ylabel('TP Rate')\n",
    "plt.xlabel('FP Rate')\n",
    "plt.show()"
   ]
  },
  {
   "cell_type": "code",
   "execution_count": 92,
   "metadata": {},
   "outputs": [
    {
     "name": "stdout",
     "output_type": "stream",
     "text": [
      "40\n"
     ]
    },
    {
     "data": {
      "image/png": "[encoded data removed]",
      "text/plain": [
       "<Figure size 720x720 with 1 Axes>"
      ]
     },
     "metadata": {
      "needs_background": "light"
     },
     "output_type": "display_data"
    }
   ],
   "source": [
    "# obtain the feature importances from the random forest model:\n",
    "feature_importance = gb.feature_importances_\n",
    "# make importances relative to max importance\n",
    "feature_importance = 100.0 * (feature_importance / feature_importance.max())\n",
    "sorted_idx = np.argsort(feature_importance)\n",
    "\n",
    "# Plot the relative importances on a horizontal barchart:\n",
    "\n",
    "pos = np.arange(sorted_idx.shape[0]) + .5\n",
    "print(pos.size)\n",
    "sorted_idx.size\n",
    "plt.figure(figsize=(10,10))\n",
    "plt.barh(pos, feature_importance[sorted_idx], align='center')\n",
    "plt.yticks(pos, X.columns[sorted_idx])\n",
    "plt.xlabel('Relative Importance')\n",
    "plt.title('Variable Importance')\n",
    "plt.show()"
   ]
  },
  {
   "cell_type": "markdown",
   "metadata": {},
   "source": [
    "### Examination of test set predictions### \n",
    "So far, the Gradient Boost model is doing the best at our stated goal: predicting loans with are destined for default. Out of 747 defaults in the test set, is accurately found 570 of them.  \n",
    "Here we want to look at the differences in these two groups. "
   ]
  },
  {
   "cell_type": "code",
   "execution_count": 67,
   "metadata": {},
   "outputs": [
    {
     "data": {
      "text/plain": [
       "736      1.0\n",
       "8711     0.0\n",
       "5994     1.0\n",
       "1958     1.0\n",
       "11117    1.0\n",
       "Name: MIS_Status, dtype: float64"
      ]
     },
     "execution_count": 67,
     "metadata": {},
     "output_type": "execute_result"
    }
   ],
   "source": [
    "y_test.head()"
   ]
  },
  {
   "cell_type": "code",
   "execution_count": 68,
   "metadata": {},
   "outputs": [],
   "source": [
    "yo = list(y_test.index)\n",
    "\n",
    "yo = sorted(yo)"
   ]
  },
  {
   "cell_type": "code",
   "execution_count": 69,
   "metadata": {},
   "outputs": [
    {
     "data": {
      "text/plain": [
       "[0, 3, 6, 17, 19]"
      ]
     },
     "execution_count": 69,
     "metadata": {},
     "output_type": "execute_result"
    }
   ],
   "source": [
    "yo[0:5]"
   ]
  },
  {
   "cell_type": "code",
   "execution_count": 70,
   "metadata": {},
   "outputs": [
    {
     "data": {
      "text/plain": [
       "[19275, 19285, 19286, 19287]"
      ]
     },
     "execution_count": 70,
     "metadata": {},
     "output_type": "execute_result"
    }
   ],
   "source": [
    "yo[-5:-1]"
   ]
  },
  {
   "cell_type": "code",
   "execution_count": 71,
   "metadata": {},
   "outputs": [
    {
     "ename": "IndexError",
     "evalue": "positional indexers are out-of-bounds",
     "output_type": "error",
     "traceback": [
      "\u001b[1;31m---------------------------------------------------------------------------\u001b[0m",
      "\u001b[1;31mIndexError\u001b[0m                                Traceback (most recent call last)",
      "\u001b[1;32mC:\\Anaconda3\\lib\\site-packages\\pandas\\core\\indexing.py\u001b[0m in \u001b[0;36m_get_list_axis\u001b[1;34m(self, key, axis)\u001b[0m\n\u001b[0;32m   2109\u001b[0m         \u001b[1;32mtry\u001b[0m\u001b[1;33m:\u001b[0m\u001b[1;33m\u001b[0m\u001b[1;33m\u001b[0m\u001b[0m\n\u001b[1;32m-> 2110\u001b[1;33m             \u001b[1;32mreturn\u001b[0m \u001b[0mself\u001b[0m\u001b[1;33m.\u001b[0m\u001b[0mobj\u001b[0m\u001b[1;33m.\u001b[0m\u001b[0m_take_with_is_copy\u001b[0m\u001b[1;33m(\u001b[0m\u001b[0mkey\u001b[0m\u001b[1;33m,\u001b[0m \u001b[0maxis\u001b[0m\u001b[1;33m=\u001b[0m\u001b[0maxis\u001b[0m\u001b[1;33m)\u001b[0m\u001b[1;33m\u001b[0m\u001b[1;33m\u001b[0m\u001b[0m\n\u001b[0m\u001b[0;32m   2111\u001b[0m         \u001b[1;32mexcept\u001b[0m \u001b[0mIndexError\u001b[0m\u001b[1;33m:\u001b[0m\u001b[1;33m\u001b[0m\u001b[1;33m\u001b[0m\u001b[0m\n",
      "\u001b[1;32mC:\\Anaconda3\\lib\\site-packages\\pandas\\core\\generic.py\u001b[0m in \u001b[0;36m_take_with_is_copy\u001b[1;34m(self, indices, axis, **kwargs)\u001b[0m\n\u001b[0;32m   3408\u001b[0m         \"\"\"\n\u001b[1;32m-> 3409\u001b[1;33m         \u001b[0mresult\u001b[0m \u001b[1;33m=\u001b[0m \u001b[0mself\u001b[0m\u001b[1;33m.\u001b[0m\u001b[0mtake\u001b[0m\u001b[1;33m(\u001b[0m\u001b[0mindices\u001b[0m\u001b[1;33m=\u001b[0m\u001b[0mindices\u001b[0m\u001b[1;33m,\u001b[0m \u001b[0maxis\u001b[0m\u001b[1;33m=\u001b[0m\u001b[0maxis\u001b[0m\u001b[1;33m,\u001b[0m \u001b[1;33m**\u001b[0m\u001b[0mkwargs\u001b[0m\u001b[1;33m)\u001b[0m\u001b[1;33m\u001b[0m\u001b[1;33m\u001b[0m\u001b[0m\n\u001b[0m\u001b[0;32m   3410\u001b[0m         \u001b[1;31m# Maybe set copy if we didn't actually change the index.\u001b[0m\u001b[1;33m\u001b[0m\u001b[1;33m\u001b[0m\u001b[1;33m\u001b[0m\u001b[0m\n",
      "\u001b[1;32mC:\\Anaconda3\\lib\\site-packages\\pandas\\core\\generic.py\u001b[0m in \u001b[0;36mtake\u001b[1;34m(self, indices, axis, is_copy, **kwargs)\u001b[0m\n\u001b[0;32m   3394\u001b[0m         new_data = self._data.take(\n\u001b[1;32m-> 3395\u001b[1;33m             \u001b[0mindices\u001b[0m\u001b[1;33m,\u001b[0m \u001b[0maxis\u001b[0m\u001b[1;33m=\u001b[0m\u001b[0mself\u001b[0m\u001b[1;33m.\u001b[0m\u001b[0m_get_block_manager_axis\u001b[0m\u001b[1;33m(\u001b[0m\u001b[0maxis\u001b[0m\u001b[1;33m)\u001b[0m\u001b[1;33m,\u001b[0m \u001b[0mverify\u001b[0m\u001b[1;33m=\u001b[0m\u001b[1;32mTrue\u001b[0m\u001b[1;33m\u001b[0m\u001b[1;33m\u001b[0m\u001b[0m\n\u001b[0m\u001b[0;32m   3396\u001b[0m         )\n",
      "\u001b[1;32mC:\\Anaconda3\\lib\\site-packages\\pandas\\core\\internals\\managers.py\u001b[0m in \u001b[0;36mtake\u001b[1;34m(self, indexer, axis, verify, convert)\u001b[0m\n\u001b[0;32m   1385\u001b[0m         \u001b[1;32mif\u001b[0m \u001b[0mconvert\u001b[0m\u001b[1;33m:\u001b[0m\u001b[1;33m\u001b[0m\u001b[1;33m\u001b[0m\u001b[0m\n\u001b[1;32m-> 1386\u001b[1;33m             \u001b[0mindexer\u001b[0m \u001b[1;33m=\u001b[0m \u001b[0mmaybe_convert_indices\u001b[0m\u001b[1;33m(\u001b[0m\u001b[0mindexer\u001b[0m\u001b[1;33m,\u001b[0m \u001b[0mn\u001b[0m\u001b[1;33m)\u001b[0m\u001b[1;33m\u001b[0m\u001b[1;33m\u001b[0m\u001b[0m\n\u001b[0m\u001b[0;32m   1387\u001b[0m \u001b[1;33m\u001b[0m\u001b[0m\n",
      "\u001b[1;32mC:\\Anaconda3\\lib\\site-packages\\pandas\\core\\indexers.py\u001b[0m in \u001b[0;36mmaybe_convert_indices\u001b[1;34m(indices, n)\u001b[0m\n\u001b[0;32m    211\u001b[0m     \u001b[1;32mif\u001b[0m \u001b[0mmask\u001b[0m\u001b[1;33m.\u001b[0m\u001b[0many\u001b[0m\u001b[1;33m(\u001b[0m\u001b[1;33m)\u001b[0m\u001b[1;33m:\u001b[0m\u001b[1;33m\u001b[0m\u001b[1;33m\u001b[0m\u001b[0m\n\u001b[1;32m--> 212\u001b[1;33m         \u001b[1;32mraise\u001b[0m \u001b[0mIndexError\u001b[0m\u001b[1;33m(\u001b[0m\u001b[1;34m\"indices are out-of-bounds\"\u001b[0m\u001b[1;33m)\u001b[0m\u001b[1;33m\u001b[0m\u001b[1;33m\u001b[0m\u001b[0m\n\u001b[0m\u001b[0;32m    213\u001b[0m     \u001b[1;32mreturn\u001b[0m \u001b[0mindices\u001b[0m\u001b[1;33m\u001b[0m\u001b[1;33m\u001b[0m\u001b[0m\n",
      "\u001b[1;31mIndexError\u001b[0m: indices are out-of-bounds",
      "\nDuring handling of the above exception, another exception occurred:\n",
      "\u001b[1;31mIndexError\u001b[0m                                Traceback (most recent call last)",
      "\u001b[1;32m<ipython-input-71-526b336663a1>\u001b[0m in \u001b[0;36m<module>\u001b[1;34m\u001b[0m\n\u001b[1;32m----> 1\u001b[1;33m \u001b[0mdf_test\u001b[0m \u001b[1;33m=\u001b[0m \u001b[0mdf\u001b[0m\u001b[1;33m.\u001b[0m\u001b[0miloc\u001b[0m\u001b[1;33m[\u001b[0m\u001b[0myo\u001b[0m\u001b[1;33m]\u001b[0m\u001b[1;33m\u001b[0m\u001b[1;33m\u001b[0m\u001b[0m\n\u001b[0m",
      "\u001b[1;32mC:\\Anaconda3\\lib\\site-packages\\pandas\\core\\indexing.py\u001b[0m in \u001b[0;36m__getitem__\u001b[1;34m(self, key)\u001b[0m\n\u001b[0;32m   1765\u001b[0m \u001b[1;33m\u001b[0m\u001b[0m\n\u001b[0;32m   1766\u001b[0m             \u001b[0mmaybe_callable\u001b[0m \u001b[1;33m=\u001b[0m \u001b[0mcom\u001b[0m\u001b[1;33m.\u001b[0m\u001b[0mapply_if_callable\u001b[0m\u001b[1;33m(\u001b[0m\u001b[0mkey\u001b[0m\u001b[1;33m,\u001b[0m \u001b[0mself\u001b[0m\u001b[1;33m.\u001b[0m\u001b[0mobj\u001b[0m\u001b[1;33m)\u001b[0m\u001b[1;33m\u001b[0m\u001b[1;33m\u001b[0m\u001b[0m\n\u001b[1;32m-> 1767\u001b[1;33m             \u001b[1;32mreturn\u001b[0m \u001b[0mself\u001b[0m\u001b[1;33m.\u001b[0m\u001b[0m_getitem_axis\u001b[0m\u001b[1;33m(\u001b[0m\u001b[0mmaybe_callable\u001b[0m\u001b[1;33m,\u001b[0m \u001b[0maxis\u001b[0m\u001b[1;33m=\u001b[0m\u001b[0maxis\u001b[0m\u001b[1;33m)\u001b[0m\u001b[1;33m\u001b[0m\u001b[1;33m\u001b[0m\u001b[0m\n\u001b[0m\u001b[0;32m   1768\u001b[0m \u001b[1;33m\u001b[0m\u001b[0m\n\u001b[0;32m   1769\u001b[0m     \u001b[1;32mdef\u001b[0m \u001b[0m_is_scalar_access\u001b[0m\u001b[1;33m(\u001b[0m\u001b[0mself\u001b[0m\u001b[1;33m,\u001b[0m \u001b[0mkey\u001b[0m\u001b[1;33m:\u001b[0m \u001b[0mTuple\u001b[0m\u001b[1;33m)\u001b[0m\u001b[1;33m:\u001b[0m\u001b[1;33m\u001b[0m\u001b[1;33m\u001b[0m\u001b[0m\n",
      "\u001b[1;32mC:\\Anaconda3\\lib\\site-packages\\pandas\\core\\indexing.py\u001b[0m in \u001b[0;36m_getitem_axis\u001b[1;34m(self, key, axis)\u001b[0m\n\u001b[0;32m   2126\u001b[0m         \u001b[1;31m# a list of integers\u001b[0m\u001b[1;33m\u001b[0m\u001b[1;33m\u001b[0m\u001b[1;33m\u001b[0m\u001b[0m\n\u001b[0;32m   2127\u001b[0m         \u001b[1;32melif\u001b[0m \u001b[0mis_list_like_indexer\u001b[0m\u001b[1;33m(\u001b[0m\u001b[0mkey\u001b[0m\u001b[1;33m)\u001b[0m\u001b[1;33m:\u001b[0m\u001b[1;33m\u001b[0m\u001b[1;33m\u001b[0m\u001b[0m\n\u001b[1;32m-> 2128\u001b[1;33m             \u001b[1;32mreturn\u001b[0m \u001b[0mself\u001b[0m\u001b[1;33m.\u001b[0m\u001b[0m_get_list_axis\u001b[0m\u001b[1;33m(\u001b[0m\u001b[0mkey\u001b[0m\u001b[1;33m,\u001b[0m \u001b[0maxis\u001b[0m\u001b[1;33m=\u001b[0m\u001b[0maxis\u001b[0m\u001b[1;33m)\u001b[0m\u001b[1;33m\u001b[0m\u001b[1;33m\u001b[0m\u001b[0m\n\u001b[0m\u001b[0;32m   2129\u001b[0m \u001b[1;33m\u001b[0m\u001b[0m\n\u001b[0;32m   2130\u001b[0m         \u001b[1;31m# a single integer\u001b[0m\u001b[1;33m\u001b[0m\u001b[1;33m\u001b[0m\u001b[1;33m\u001b[0m\u001b[0m\n",
      "\u001b[1;32mC:\\Anaconda3\\lib\\site-packages\\pandas\\core\\indexing.py\u001b[0m in \u001b[0;36m_get_list_axis\u001b[1;34m(self, key, axis)\u001b[0m\n\u001b[0;32m   2111\u001b[0m         \u001b[1;32mexcept\u001b[0m \u001b[0mIndexError\u001b[0m\u001b[1;33m:\u001b[0m\u001b[1;33m\u001b[0m\u001b[1;33m\u001b[0m\u001b[0m\n\u001b[0;32m   2112\u001b[0m             \u001b[1;31m# re-raise with different error message\u001b[0m\u001b[1;33m\u001b[0m\u001b[1;33m\u001b[0m\u001b[1;33m\u001b[0m\u001b[0m\n\u001b[1;32m-> 2113\u001b[1;33m             \u001b[1;32mraise\u001b[0m \u001b[0mIndexError\u001b[0m\u001b[1;33m(\u001b[0m\u001b[1;34m\"positional indexers are out-of-bounds\"\u001b[0m\u001b[1;33m)\u001b[0m\u001b[1;33m\u001b[0m\u001b[1;33m\u001b[0m\u001b[0m\n\u001b[0m\u001b[0;32m   2114\u001b[0m \u001b[1;33m\u001b[0m\u001b[0m\n\u001b[0;32m   2115\u001b[0m     \u001b[1;32mdef\u001b[0m \u001b[0m_getitem_axis\u001b[0m\u001b[1;33m(\u001b[0m\u001b[0mself\u001b[0m\u001b[1;33m,\u001b[0m \u001b[0mkey\u001b[0m\u001b[1;33m,\u001b[0m \u001b[0maxis\u001b[0m\u001b[1;33m:\u001b[0m \u001b[0mint\u001b[0m\u001b[1;33m)\u001b[0m\u001b[1;33m:\u001b[0m\u001b[1;33m\u001b[0m\u001b[1;33m\u001b[0m\u001b[0m\n",
      "\u001b[1;31mIndexError\u001b[0m: positional indexers are out-of-bounds"
     ]
    }
   ],
   "source": [
    "df_test = df.iloc[yo]"
   ]
  },
  {
   "cell_type": "code",
   "execution_count": null,
   "metadata": {},
   "outputs": [],
   "source": [
    "df_test.MIS_Status.value_counts()"
   ]
  },
  {
   "cell_type": "code",
   "execution_count": null,
   "metadata": {},
   "outputs": [],
   "source": [
    "y_t = pd.DataFrame(y_test)"
   ]
  },
  {
   "cell_type": "code",
   "execution_count": null,
   "metadata": {},
   "outputs": [],
   "source": [
    "y_t.head()"
   ]
  },
  {
   "cell_type": "code",
   "execution_count": null,
   "metadata": {},
   "outputs": [],
   "source": [
    "y_bool = ((y_test-y_predgb) == 0)"
   ]
  },
  {
   "cell_type": "code",
   "execution_count": null,
   "metadata": {},
   "outputs": [],
   "source": [
    "y_bool.value_counts()"
   ]
  },
  {
   "cell_type": "code",
   "execution_count": null,
   "metadata": {},
   "outputs": [],
   "source": [
    "y_t['Pred'] = y_bool"
   ]
  },
  {
   "cell_type": "code",
   "execution_count": null,
   "metadata": {},
   "outputs": [],
   "source": [
    "y_t['ind'] = y_t.index"
   ]
  },
  {
   "cell_type": "code",
   "execution_count": null,
   "metadata": {},
   "outputs": [],
   "source": [
    "y_t.head(10)"
   ]
  },
  {
   "cell_type": "code",
   "execution_count": null,
   "metadata": {},
   "outputs": [],
   "source": [
    "df['ind'] = df.index\n",
    "testset = pd.merge(y_t, df, how='left', on ='ind')"
   ]
  },
  {
   "cell_type": "code",
   "execution_count": null,
   "metadata": {},
   "outputs": [],
   "source": [
    "testset.head(10).T"
   ]
  },
  {
   "cell_type": "code",
   "execution_count": null,
   "metadata": {},
   "outputs": [],
   "source": [
    "sns.boxplot(y='ApprovalFY', x='Pred', data=testset)"
   ]
  },
  {
   "cell_type": "code",
   "execution_count": null,
   "metadata": {},
   "outputs": [],
   "source": [
    "sns.violinplot(y='Term', x='Pred', data=testset)"
   ]
  },
  {
   "cell_type": "code",
   "execution_count": null,
   "metadata": {},
   "outputs": [],
   "source": [
    "sns.boxplot(y='ind', x='Pred', data=testset)"
   ]
  },
  {
   "cell_type": "code",
   "execution_count": null,
   "metadata": {},
   "outputs": [],
   "source": [
    "sns.boxplot(y='MedIncome', x='Pred', data=testset)"
   ]
  },
  {
   "cell_type": "code",
   "execution_count": null,
   "metadata": {},
   "outputs": [],
   "source": [
    "#Looking at the IQRs of the dataset grouped by accurate (True) predictions and inaccurate (False) predictions, \n",
    "# we see that inaccurate predictions tend towards shorter loan terms, shorter PayDelays, and generally larger counties\n",
    "# as evidenced by Median Income, TotalLoansInCounty and UnempInCty features all being skewed higher. \n",
    "\n",
    "testset.groupby(by='Pred').quantile([0.25,0.75]).T"
   ]
  },
  {
   "cell_type": "markdown",
   "metadata": {},
   "source": [
    "### XGBoost Classifier ###\n",
    "As a last exploration, we look at Extreme-Gradient Boosting. "
   ]
  },
  {
   "cell_type": "code",
   "execution_count": 93,
   "metadata": {},
   "outputs": [],
   "source": [
    "import xgboost as xgb"
   ]
  },
  {
   "cell_type": "code",
   "execution_count": 101,
   "metadata": {},
   "outputs": [],
   "source": [
    "churn_dmatrix = xgb.DMatrix(data=X_train, label=y_train)\n",
    "params={\"objective\":\"binary:logistic\",\"max_depth\":6}\n",
    "cv_results = xgb.cv(dtrain=churn_dmatrix, params=params, \n",
    "                  nfold=3, num_boost_round=15, \n",
    "                  metrics=\"auc\", as_pandas=True, seed=123)\n"
   ]
  },
  {
   "cell_type": "code",
   "execution_count": 102,
   "metadata": {},
   "outputs": [
    {
     "name": "stdout",
     "output_type": "stream",
     "text": [
      "    train-auc-mean  train-auc-std  test-auc-mean  test-auc-std\n",
      "0         0.954738       0.002240       0.947191      0.003274\n",
      "1         0.960568       0.001231       0.952356      0.002078\n",
      "2         0.964789       0.000753       0.954240      0.001185\n",
      "3         0.968581       0.001723       0.956440      0.001696\n",
      "4         0.973052       0.000685       0.961561      0.000676\n",
      "5         0.976556       0.001877       0.963244      0.001525\n",
      "6         0.978295       0.002219       0.964344      0.002204\n",
      "7         0.980328       0.000867       0.964971      0.002700\n",
      "8         0.982241       0.000974       0.966974      0.002473\n",
      "9         0.984185       0.000647       0.968324      0.001565\n",
      "10        0.985605       0.000640       0.970152      0.001872\n",
      "11        0.986729       0.000413       0.971206      0.002038\n",
      "12        0.987483       0.000491       0.972172      0.001603\n",
      "13        0.988267       0.000391       0.973032      0.001513\n",
      "14        0.989018       0.000367       0.973176      0.002348\n"
     ]
    }
   ],
   "source": [
    "print(cv_results)"
   ]
  },
  {
   "cell_type": "code",
   "execution_count": 110,
   "metadata": {},
   "outputs": [],
   "source": [
    "xgmodel = xgb.XGBClassifier(objective = 'binary:logistic',max_depth = 5, num_boost_round=15, as_pandas=True, seed=123)"
   ]
  },
  {
   "cell_type": "code",
   "execution_count": 111,
   "metadata": {},
   "outputs": [
    {
     "name": "stdout",
     "output_type": "stream",
     "text": [
      "[13:17:14] WARNING: C:\\Users\\Administrator\\workspace\\xgboost-win64_release_1.1.0\\src\\learner.cc:480: \n",
      "Parameters: { as_pandas, num_boost_round } might not be used.\n",
      "\n",
      "  This may not be accurate due to some parameters are only used in language bindings but\n",
      "  passed down to XGBoost core.  Or some parameters are not used but slip through this\n",
      "  verification. Please open an issue if you find above cases.\n",
      "\n",
      "\n"
     ]
    },
    {
     "data": {
      "text/plain": [
       "XGBClassifier(as_pandas=True, base_score=0.5, booster='gbtree',\n",
       "              colsample_bylevel=1, colsample_bynode=1, colsample_bytree=1,\n",
       "              gamma=0, gpu_id=-1, importance_type='gain',\n",
       "              interaction_constraints='', learning_rate=0.300000012,\n",
       "              max_delta_step=0, max_depth=5, min_child_weight=1, missing=nan,\n",
       "              monotone_constraints='()', n_estimators=100, n_jobs=0,\n",
       "              num_boost_round=15, num_parallel_tree=1,\n",
       "              objective='binary:logistic', random_state=123, reg_alpha=0,\n",
       "              reg_lambda=1, scale_pos_weight=1, seed=123, subsample=1,\n",
       "              tree_method='exact', validate_parameters=1, verbosity=None)"
      ]
     },
     "execution_count": 111,
     "metadata": {},
     "output_type": "execute_result"
    }
   ],
   "source": [
    "xgmodel.fit(X_train, y_train)"
   ]
  },
  {
   "cell_type": "code",
   "execution_count": 112,
   "metadata": {},
   "outputs": [],
   "source": [
    "y_predxg = xgmodel.predict(X_test)"
   ]
  },
  {
   "cell_type": "code",
   "execution_count": 113,
   "metadata": {},
   "outputs": [
    {
     "name": "stdout",
     "output_type": "stream",
     "text": [
      "0.9692523802091462 0.9010937636060223\n"
     ]
    }
   ],
   "source": [
    "# F1 score is pretty good, but AUC is only 71% or so:\n",
    "\n",
    "print(f1_score(y_test, y_predxg), roc_auc_score(y_test, y_predxg))"
   ]
  },
  {
   "cell_type": "code",
   "execution_count": 114,
   "metadata": {},
   "outputs": [
    {
     "data": {
      "image/png": "[encoded data removed]",
      "text/plain": [
       "<Figure size 432x288 with 2 Axes>"
      ]
     },
     "metadata": {
      "needs_background": "light"
     },
     "output_type": "display_data"
    }
   ],
   "source": [
    "# Generate a confusion matrix\n",
    "xgmatrix = pd.DataFrame(confusion_matrix(y_test, y_predxg))\n",
    "\n",
    "sns.heatmap(xgmatrix, annot=True)\n",
    "plt.ylabel('True Class'), plt.xlabel('Pred Class')\n",
    "plt.show()"
   ]
  },
  {
   "cell_type": "code",
   "execution_count": 115,
   "metadata": {},
   "outputs": [],
   "source": [
    "tn, fp, fn, tp = confusion_matrix(y_test, y_predxg).ravel()"
   ]
  },
  {
   "cell_type": "code",
   "execution_count": 116,
   "metadata": {},
   "outputs": [
    {
     "data": {
      "text/plain": [
       "(546, 113, 84, 3105)"
      ]
     },
     "execution_count": 116,
     "metadata": {},
     "output_type": "execute_result"
    }
   ],
   "source": [
    "(tn, fp, fn, tp)"
   ]
  },
  {
   "cell_type": "code",
   "execution_count": 117,
   "metadata": {},
   "outputs": [],
   "source": [
    "# We again create target probabilities for the predicted values of y:\n",
    "\n",
    "xg_target_probabilities = xgmodel.predict_proba(X_test)[:,1]\n",
    "\n",
    "FP_rate, TP_rate, threshold = roc_curve(y_test, xg_target_probabilities)"
   ]
  },
  {
   "cell_type": "code",
   "execution_count": 118,
   "metadata": {},
   "outputs": [
    {
     "data": {
      "image/png": "[encoded data removed]",
      "text/plain": [
       "<Figure size 432x288 with 1 Axes>"
      ]
     },
     "metadata": {
      "needs_background": "light"
     },
     "output_type": "display_data"
    }
   ],
   "source": [
    "# Plot ROC Curve\n",
    "plt.title('Receiver Operating Characteristic')\n",
    "plt.plot(FP_rate, TP_rate)\n",
    "plt.plot([0,1], ls='--')\n",
    "plt.plot([0,0],[1,0], c='.7'), plt.plot([1,1], c='.7')\n",
    "plt.ylabel('TP Rate')\n",
    "plt.xlabel('FP Rate')\n",
    "plt.show()"
   ]
  },
  {
   "cell_type": "code",
   "execution_count": 119,
   "metadata": {},
   "outputs": [
    {
     "name": "stdout",
     "output_type": "stream",
     "text": [
      "40\n"
     ]
    },
    {
     "data": {
      "image/png": "[encoded data removed]",
      "text/plain": [
       "<Figure size 720x720 with 1 Axes>"
      ]
     },
     "metadata": {
      "needs_background": "light"
     },
     "output_type": "display_data"
    }
   ],
   "source": [
    "# obtain the feature importances from the random forest model:\n",
    "feature_importance = xgmodel.feature_importances_\n",
    "# make importances relative to max importance\n",
    "feature_importance = 100.0 * (feature_importance / feature_importance.max())\n",
    "sorted_idx = np.argsort(feature_importance)\n",
    "\n",
    "\n",
    "# Plot the relative importances on a horizontal barchart:\n",
    "\n",
    "pos = np.arange(sorted_idx.shape[0]) + .5\n",
    "print(pos.size)\n",
    "sorted_idx.size\n",
    "plt.figure(figsize=(10,10))\n",
    "plt.barh(pos, feature_importance[sorted_idx], align='center')\n",
    "plt.yticks(pos, X.columns[sorted_idx])\n",
    "plt.xlabel('Relative Importance')\n",
    "plt.title('Variable Importance')\n",
    "plt.show()"
   ]
  },
  {
   "cell_type": "markdown",
   "metadata": {},
   "source": [
    "So, the winner is, XGBoost! This machine learning algorithm has done the best job at monimizing both false positive and false negatives in the holdout test set. "
   ]
  },
  {
   "cell_type": "markdown",
   "metadata": {},
   "source": [
    "## Branko's Idea: Train on old, test on new ##"
   ]
  },
  {
   "cell_type": "code",
   "execution_count": 120,
   "metadata": {},
   "outputs": [],
   "source": [
    "# Split the dataset into features and target:\n",
    "y = df['MIS_Status']\n",
    "X = df.drop(columns='MIS_Status')"
   ]
  },
  {
   "cell_type": "code",
   "execution_count": 121,
   "metadata": {},
   "outputs": [
    {
     "data": {
      "text/plain": [
       "True     18354\n",
       "False      883\n",
       "Name: ApprovalFY, dtype: int64"
      ]
     },
     "execution_count": 121,
     "metadata": {},
     "output_type": "execute_result"
    }
   ],
   "source": [
    "# Standardize the various features in the dataset, since different variables have different ranges:\n",
    "\n",
    "new = (df['ApprovalFY'] >= 2010 )\n",
    "old = (df['ApprovalFY'] < 2010)\n",
    "\n",
    "new.value_counts()\n",
    "old.value_counts()"
   ]
  },
  {
   "cell_type": "code",
   "execution_count": 122,
   "metadata": {},
   "outputs": [],
   "source": [
    "# Standardize the various features in the dataset, since different variables have different ranges:\n",
    "\n",
    "scaler = StandardScaler()\n",
    "X_std = scaler.fit_transform(X)"
   ]
  },
  {
   "cell_type": "code",
   "execution_count": 123,
   "metadata": {},
   "outputs": [],
   "source": [
    "X_test = X_std[new]\n",
    "y_test = y[new]"
   ]
  },
  {
   "cell_type": "code",
   "execution_count": 124,
   "metadata": {},
   "outputs": [],
   "source": [
    "X_train = X_std[old]\n",
    "y_train = y[old]"
   ]
  },
  {
   "cell_type": "code",
   "execution_count": 125,
   "metadata": {},
   "outputs": [],
   "source": [
    "churn_dmatrix = xgb.DMatrix(data=X_train, label=y_train)\n",
    "params={\"objective\":\"binary:logistic\",\"max_depth\":6}\n",
    "cv_results = xgb.cv(dtrain=churn_dmatrix, params=params, \n",
    "                  nfold=3, num_boost_round=15, \n",
    "                  metrics=\"auc\", as_pandas=True, seed=123)\n"
   ]
  },
  {
   "cell_type": "code",
   "execution_count": 126,
   "metadata": {},
   "outputs": [
    {
     "name": "stdout",
     "output_type": "stream",
     "text": [
      "    train-auc-mean  train-auc-std  test-auc-mean  test-auc-std\n",
      "0         0.957656       0.003099       0.951492      0.001426\n",
      "1         0.964218       0.001643       0.956222      0.002156\n",
      "2         0.967293       0.002617       0.958246      0.001855\n",
      "3         0.969008       0.003017       0.959128      0.001669\n",
      "4         0.972152       0.001018       0.961716      0.001968\n",
      "5         0.974791       0.001586       0.964823      0.002110\n",
      "6         0.976389       0.001491       0.965439      0.001899\n",
      "7         0.979302       0.001558       0.967908      0.000738\n",
      "8         0.981551       0.001007       0.969394      0.002840\n",
      "9         0.983789       0.000366       0.971228      0.001839\n",
      "10        0.985032       0.000211       0.971915      0.001916\n",
      "11        0.986347       0.000470       0.973042      0.001452\n",
      "12        0.987459       0.000538       0.973977      0.001181\n",
      "13        0.988295       0.000484       0.974511      0.001198\n",
      "14        0.988981       0.000512       0.974513      0.001215\n"
     ]
    }
   ],
   "source": [
    "print(cv_results)"
   ]
  },
  {
   "cell_type": "code",
   "execution_count": 127,
   "metadata": {},
   "outputs": [],
   "source": [
    "xgmodel = xgb.XGBClassifier(objective = 'binary:logistic',max_depth = 6, num_boost_round=15, as_pandas=True, seed=123)"
   ]
  },
  {
   "cell_type": "code",
   "execution_count": 128,
   "metadata": {},
   "outputs": [
    {
     "name": "stdout",
     "output_type": "stream",
     "text": [
      "[13:18:36] WARNING: C:\\Users\\Administrator\\workspace\\xgboost-win64_release_1.1.0\\src\\learner.cc:480: \n",
      "Parameters: { as_pandas, num_boost_round } might not be used.\n",
      "\n",
      "  This may not be accurate due to some parameters are only used in language bindings but\n",
      "  passed down to XGBoost core.  Or some parameters are not used but slip through this\n",
      "  verification. Please open an issue if you find above cases.\n",
      "\n",
      "\n"
     ]
    },
    {
     "data": {
      "text/plain": [
       "XGBClassifier(as_pandas=True, base_score=0.5, booster='gbtree',\n",
       "              colsample_bylevel=1, colsample_bynode=1, colsample_bytree=1,\n",
       "              gamma=0, gpu_id=-1, importance_type='gain',\n",
       "              interaction_constraints='', learning_rate=0.300000012,\n",
       "              max_delta_step=0, max_depth=6, min_child_weight=1, missing=nan,\n",
       "              monotone_constraints='()', n_estimators=100, n_jobs=0,\n",
       "              num_boost_round=15, num_parallel_tree=1,\n",
       "              objective='binary:logistic', random_state=123, reg_alpha=0,\n",
       "              reg_lambda=1, scale_pos_weight=1, seed=123, subsample=1,\n",
       "              tree_method='exact', validate_parameters=1, verbosity=None)"
      ]
     },
     "execution_count": 128,
     "metadata": {},
     "output_type": "execute_result"
    }
   ],
   "source": [
    "xgmodel.fit(X_train, y_train)"
   ]
  },
  {
   "cell_type": "code",
   "execution_count": 129,
   "metadata": {},
   "outputs": [],
   "source": [
    "y_predxg2 = xgmodel.predict(X_test)"
   ]
  },
  {
   "cell_type": "code",
   "execution_count": 130,
   "metadata": {},
   "outputs": [
    {
     "name": "stdout",
     "output_type": "stream",
     "text": [
      "0.9636247606892151 0.9089698593023614\n"
     ]
    }
   ],
   "source": [
    "# F1 score is pretty good, but AUC is only 71% or so:\n",
    "\n",
    "print(f1_score(y_test, y_predxg2), roc_auc_score(y_test, y_predxg2))"
   ]
  },
  {
   "cell_type": "code",
   "execution_count": 131,
   "metadata": {},
   "outputs": [
    {
     "data": {
      "image/png": "[encoded data removed]",
      "text/plain": [
       "<Figure size 432x288 with 2 Axes>"
      ]
     },
     "metadata": {
      "needs_background": "light"
     },
     "output_type": "display_data"
    }
   ],
   "source": [
    "# Generate a confusion matrix\n",
    "xgmatrix = pd.DataFrame(confusion_matrix(y_test, y_predxg2))\n",
    "\n",
    "sns.heatmap(xgmatrix, annot=True)\n",
    "plt.ylabel('True Class'), plt.xlabel('Pred Class')\n",
    "plt.show()"
   ]
  },
  {
   "cell_type": "code",
   "execution_count": 132,
   "metadata": {},
   "outputs": [
    {
     "data": {
      "text/plain": [
       "(71, 10, 47, 755)"
      ]
     },
     "execution_count": 132,
     "metadata": {},
     "output_type": "execute_result"
    }
   ],
   "source": [
    "tn, fp, fn, tp = confusion_matrix(y_test, y_predxg2).ravel()\n",
    "(tn, fp, fn, tp)"
   ]
  },
  {
   "cell_type": "code",
   "execution_count": 133,
   "metadata": {},
   "outputs": [
    {
     "name": "stdout",
     "output_type": "stream",
     "text": [
      "40\n"
     ]
    },
    {
     "data": {
      "image/png": "[encoded data removed]",
      "text/plain": [
       "<Figure size 720x720 with 1 Axes>"
      ]
     },
     "metadata": {
      "needs_background": "light"
     },
     "output_type": "display_data"
    }
   ],
   "source": [
    "# obtain the feature importances from the random forest model:\n",
    "feature_importance = xgmodel.feature_importances_\n",
    "# make importances relative to max importance\n",
    "feature_importance = 100.0 * (feature_importance / feature_importance.max())\n",
    "sorted_idx = np.argsort(feature_importance)\n",
    "\n",
    "# Plot the relative importances on a horizontal barchart:\n",
    "\n",
    "pos = np.arange(sorted_idx.shape[0]) + .5\n",
    "print(pos.size)\n",
    "sorted_idx.size\n",
    "plt.figure(figsize=(10,10))\n",
    "plt.barh(pos, feature_importance[sorted_idx], align='center')\n",
    "plt.yticks(pos, X.columns[sorted_idx])\n",
    "plt.xlabel('Relative Importance')\n",
    "plt.title('Variable Importance')\n",
    "plt.show()"
   ]
  },
  {
   "cell_type": "code",
   "execution_count": null,
   "metadata": {},
   "outputs": [],
   "source": []
  }
 ],
 "metadata": {
  "kernelspec": {
   "display_name": "Python 3",
   "language": "python",
   "name": "python3"
  },
  "language_info": {
   "codemirror_mode": {
    "name": "ipython",
    "version": 3
   },
   "file_extension": ".py",
   "mimetype": "text/x-python",
   "name": "python",
   "nbconvert_exporter": "python",
   "pygments_lexer": "ipython3",
   "version": "3.7.6"
  }
 },
 "nbformat": 4,
 "nbformat_minor": 4
}
