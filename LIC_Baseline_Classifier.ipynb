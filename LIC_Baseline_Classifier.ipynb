{
 "cells": [
  {
   "cell_type": "code",
   "execution_count": 1,
   "metadata": {},
   "outputs": [
    {
     "data": {
      "text/plain": [
       "'C:\\\\Users\\\\David Olivero\\\\AnacondaProjects\\\\Loans-In-Colorado'"
      ]
     },
     "execution_count": 1,
     "metadata": {},
     "output_type": "execute_result"
    }
   ],
   "source": [
    "# Load libraries\n",
    "import os\n",
    "import numpy as np\n",
    "import pandas as pd\n",
    "import matplotlib.pyplot as plt\n",
    "%matplotlib inline\n",
    "import seaborn as sns\n",
    "\n",
    "os.getcwd()"
   ]
  },
  {
   "cell_type": "code",
   "execution_count": 2,
   "metadata": {},
   "outputs": [
    {
     "data": {
      "text/html": [
       "<div>\n",
       "<style scoped>\n",
       "    .dataframe tbody tr th:only-of-type {\n",
       "        vertical-align: middle;\n",
       "    }\n",
       "\n",
       "    .dataframe tbody tr th {\n",
       "        vertical-align: top;\n",
       "    }\n",
       "\n",
       "    .dataframe thead th {\n",
       "        text-align: right;\n",
       "    }\n",
       "</style>\n",
       "<table border=\"1\" class=\"dataframe\">\n",
       "  <thead>\n",
       "    <tr style=\"text-align: right;\">\n",
       "      <th></th>\n",
       "      <th>0</th>\n",
       "      <th>1</th>\n",
       "      <th>2</th>\n",
       "      <th>3</th>\n",
       "      <th>4</th>\n",
       "    </tr>\n",
       "  </thead>\n",
       "  <tbody>\n",
       "    <tr>\n",
       "      <th>ApprovalFY</th>\n",
       "      <td>2006</td>\n",
       "      <td>1997</td>\n",
       "      <td>1997</td>\n",
       "      <td>2005</td>\n",
       "      <td>1997</td>\n",
       "    </tr>\n",
       "    <tr>\n",
       "      <th>Term</th>\n",
       "      <td>264</td>\n",
       "      <td>60</td>\n",
       "      <td>120</td>\n",
       "      <td>35</td>\n",
       "      <td>60</td>\n",
       "    </tr>\n",
       "    <tr>\n",
       "      <th>NoEmp</th>\n",
       "      <td>9</td>\n",
       "      <td>2</td>\n",
       "      <td>4</td>\n",
       "      <td>3</td>\n",
       "      <td>2</td>\n",
       "    </tr>\n",
       "    <tr>\n",
       "      <th>NewBiz</th>\n",
       "      <td>0</td>\n",
       "      <td>0</td>\n",
       "      <td>0</td>\n",
       "      <td>0</td>\n",
       "      <td>0</td>\n",
       "    </tr>\n",
       "    <tr>\n",
       "      <th>RevLineCr</th>\n",
       "      <td>0</td>\n",
       "      <td>0</td>\n",
       "      <td>0</td>\n",
       "      <td>0</td>\n",
       "      <td>0</td>\n",
       "    </tr>\n",
       "    <tr>\n",
       "      <th>LowDoc</th>\n",
       "      <td>0</td>\n",
       "      <td>1</td>\n",
       "      <td>0</td>\n",
       "      <td>0</td>\n",
       "      <td>1</td>\n",
       "    </tr>\n",
       "    <tr>\n",
       "      <th>DisbursementGross</th>\n",
       "      <td>1.5242e+06</td>\n",
       "      <td>90000</td>\n",
       "      <td>59000</td>\n",
       "      <td>50000</td>\n",
       "      <td>21200</td>\n",
       "    </tr>\n",
       "    <tr>\n",
       "      <th>MIS_Status</th>\n",
       "      <td>P I F</td>\n",
       "      <td>P I F</td>\n",
       "      <td>P I F</td>\n",
       "      <td>CHGOFF</td>\n",
       "      <td>P I F</td>\n",
       "    </tr>\n",
       "    <tr>\n",
       "      <th>TotalLoansInCounty</th>\n",
       "      <td>445</td>\n",
       "      <td>445</td>\n",
       "      <td>445</td>\n",
       "      <td>445</td>\n",
       "      <td>445</td>\n",
       "    </tr>\n",
       "    <tr>\n",
       "      <th>PIF_RateByCounty</th>\n",
       "      <td>0.876404</td>\n",
       "      <td>0.876404</td>\n",
       "      <td>0.876404</td>\n",
       "      <td>0.876404</td>\n",
       "      <td>0.876404</td>\n",
       "    </tr>\n",
       "    <tr>\n",
       "      <th>MedIncome</th>\n",
       "      <td>32644</td>\n",
       "      <td>21835</td>\n",
       "      <td>21835</td>\n",
       "      <td>30645</td>\n",
       "      <td>21835</td>\n",
       "    </tr>\n",
       "    <tr>\n",
       "      <th>PopChange</th>\n",
       "      <td>0.276615</td>\n",
       "      <td>0.276615</td>\n",
       "      <td>0.276615</td>\n",
       "      <td>0.276615</td>\n",
       "      <td>0.276615</td>\n",
       "    </tr>\n",
       "    <tr>\n",
       "      <th>EmployedInCty</th>\n",
       "      <td>71219</td>\n",
       "      <td>55069</td>\n",
       "      <td>55069</td>\n",
       "      <td>67350</td>\n",
       "      <td>55069</td>\n",
       "    </tr>\n",
       "    <tr>\n",
       "      <th>UnempInCty</th>\n",
       "      <td>2937</td>\n",
       "      <td>2669</td>\n",
       "      <td>2669</td>\n",
       "      <td>3461</td>\n",
       "      <td>2669</td>\n",
       "    </tr>\n",
       "    <tr>\n",
       "      <th>UnempRateInCty</th>\n",
       "      <td>4</td>\n",
       "      <td>4.6</td>\n",
       "      <td>4.6</td>\n",
       "      <td>4.9</td>\n",
       "      <td>4.6</td>\n",
       "    </tr>\n",
       "    <tr>\n",
       "      <th>DeathsPer100k</th>\n",
       "      <td>977.2</td>\n",
       "      <td>977.2</td>\n",
       "      <td>977.2</td>\n",
       "      <td>977.2</td>\n",
       "      <td>977.2</td>\n",
       "    </tr>\n",
       "    <tr>\n",
       "      <th>PayDelay</th>\n",
       "      <td>52</td>\n",
       "      <td>85</td>\n",
       "      <td>47</td>\n",
       "      <td>98</td>\n",
       "      <td>45</td>\n",
       "    </tr>\n",
       "    <tr>\n",
       "      <th>Industry</th>\n",
       "      <td>Health</td>\n",
       "      <td>Manufacturing</td>\n",
       "      <td>Health</td>\n",
       "      <td>Other</td>\n",
       "      <td>Unknown</td>\n",
       "    </tr>\n",
       "  </tbody>\n",
       "</table>\n",
       "</div>"
      ],
      "text/plain": [
       "                             0              1         2         3         4\n",
       "ApprovalFY                2006           1997      1997      2005      1997\n",
       "Term                       264             60       120        35        60\n",
       "NoEmp                        9              2         4         3         2\n",
       "NewBiz                       0              0         0         0         0\n",
       "RevLineCr                    0              0         0         0         0\n",
       "LowDoc                       0              1         0         0         1\n",
       "DisbursementGross   1.5242e+06          90000     59000     50000     21200\n",
       "MIS_Status               P I F          P I F     P I F    CHGOFF     P I F\n",
       "TotalLoansInCounty         445            445       445       445       445\n",
       "PIF_RateByCounty      0.876404       0.876404  0.876404  0.876404  0.876404\n",
       "MedIncome                32644          21835     21835     30645     21835\n",
       "PopChange             0.276615       0.276615  0.276615  0.276615  0.276615\n",
       "EmployedInCty            71219          55069     55069     67350     55069\n",
       "UnempInCty                2937           2669      2669      3461      2669\n",
       "UnempRateInCty               4            4.6       4.6       4.9       4.6\n",
       "DeathsPer100k            977.2          977.2     977.2     977.2     977.2\n",
       "PayDelay                    52             85        47        98        45\n",
       "Industry                Health  Manufacturing    Health     Other   Unknown"
      ]
     },
     "execution_count": 2,
     "metadata": {},
     "output_type": "execute_result"
    }
   ],
   "source": [
    "filename = 'LIC_Model_Input.csv'\n",
    "\n",
    "df = pd.read_csv(filename)\n",
    "\n",
    "df.head().T"
   ]
  },
  {
   "cell_type": "code",
   "execution_count": 3,
   "metadata": {},
   "outputs": [],
   "source": [
    "# First I want to try a classifier without the categorical variable of Industry:\n",
    "\n",
    "df = df.drop(columns='Industry')"
   ]
  },
  {
   "cell_type": "code",
   "execution_count": 4,
   "metadata": {},
   "outputs": [
    {
     "name": "stdout",
     "output_type": "stream",
     "text": [
      "<class 'pandas.core.frame.DataFrame'>\n",
      "RangeIndex: 19298 entries, 0 to 19297\n",
      "Data columns (total 17 columns):\n",
      " #   Column              Non-Null Count  Dtype  \n",
      "---  ------              --------------  -----  \n",
      " 0   ApprovalFY          19298 non-null  int64  \n",
      " 1   Term                19298 non-null  int64  \n",
      " 2   NoEmp               19298 non-null  int64  \n",
      " 3   NewBiz              19298 non-null  float64\n",
      " 4   RevLineCr           19183 non-null  float64\n",
      " 5   LowDoc              19242 non-null  float64\n",
      " 6   DisbursementGross   19298 non-null  float64\n",
      " 7   MIS_Status          19293 non-null  object \n",
      " 8   TotalLoansInCounty  19298 non-null  int64  \n",
      " 9   PIF_RateByCounty    19298 non-null  float64\n",
      " 10  MedIncome           19298 non-null  int64  \n",
      " 11  PopChange           19298 non-null  float64\n",
      " 12  EmployedInCty       19298 non-null  int64  \n",
      " 13  UnempInCty          19298 non-null  int64  \n",
      " 14  UnempRateInCty      19298 non-null  float64\n",
      " 15  DeathsPer100k       18970 non-null  object \n",
      " 16  PayDelay            19258 non-null  float64\n",
      "dtypes: float64(8), int64(7), object(2)\n",
      "memory usage: 2.5+ MB\n"
     ]
    }
   ],
   "source": [
    "df.info()"
   ]
  },
  {
   "cell_type": "code",
   "execution_count": 5,
   "metadata": {},
   "outputs": [],
   "source": [
    "# Replace MIS_Status column with 0's and 1's. 1 corresponds to a loan default. \n",
    "\n",
    "df['MIS_Status'] = df.MIS_Status.replace(to_replace=['P I F', 'CHGOFF'], value=[1, 0])"
   ]
  },
  {
   "cell_type": "code",
   "execution_count": 6,
   "metadata": {},
   "outputs": [
    {
     "data": {
      "text/plain": [
       "count     18970\n",
       "unique       59\n",
       "top       823.4\n",
       "freq       3635\n",
       "Name: DeathsPer100k, dtype: object"
      ]
     },
     "execution_count": 6,
     "metadata": {},
     "output_type": "execute_result"
    }
   ],
   "source": [
    "# There appear to be several null values in the DeathsPer100k column turnign it into an object. \n",
    "df.DeathsPer100k.describe()"
   ]
  },
  {
   "cell_type": "code",
   "execution_count": 7,
   "metadata": {},
   "outputs": [
    {
     "data": {
      "text/plain": [
       "1372.6                 4\n",
       "616.2                  2\n",
       "1048.1 (Unreliable)    1\n",
       "1146.6                 1\n",
       "537.9 (Unreliable)     1\n",
       "Name: DeathsPer100k, dtype: int64"
      ]
     },
     "execution_count": 7,
     "metadata": {},
     "output_type": "execute_result"
    }
   ],
   "source": [
    "# Python is treating this column like string objects:\n",
    "df.DeathsPer100k.value_counts().tail()"
   ]
  },
  {
   "cell_type": "code",
   "execution_count": 8,
   "metadata": {},
   "outputs": [],
   "source": [
    "# The object assignments comes from all the (Unreliable) numbers, so we will force these into numbers:\n",
    "\n",
    "df['DeathsPer100k'] = pd.to_numeric(df['DeathsPer100k'], errors='coerce')\n",
    "df['DeathsPer100k'].fillna((df['DeathsPer100k'].mean()), inplace=True)"
   ]
  },
  {
   "cell_type": "code",
   "execution_count": 9,
   "metadata": {},
   "outputs": [
    {
     "data": {
      "text/plain": [
       "count    19298.000000\n",
       "mean       625.524481\n",
       "std        194.370452\n",
       "min        160.800000\n",
       "25%        551.900000\n",
       "50%        565.800000\n",
       "75%        823.400000\n",
       "max       1372.600000\n",
       "Name: DeathsPer100k, dtype: float64"
      ]
     },
     "execution_count": 9,
     "metadata": {},
     "output_type": "execute_result"
    }
   ],
   "source": [
    "df.DeathsPer100k.describe()"
   ]
  },
  {
   "cell_type": "code",
   "execution_count": 10,
   "metadata": {},
   "outputs": [
    {
     "data": {
      "text/plain": [
       "1.0    15925\n",
       "0.0     3368\n",
       "Name: MIS_Status, dtype: int64"
      ]
     },
     "execution_count": 10,
     "metadata": {},
     "output_type": "execute_result"
    }
   ],
   "source": [
    "# To review, about 17% of the loans in this dataset are defaulted, as seen below. \n",
    "df.MIS_Status.value_counts()"
   ]
  },
  {
   "cell_type": "code",
   "execution_count": 11,
   "metadata": {},
   "outputs": [
    {
     "data": {
      "text/plain": [
       "(19298, 17)"
      ]
     },
     "execution_count": 11,
     "metadata": {},
     "output_type": "execute_result"
    }
   ],
   "source": [
    "df.shape"
   ]
  },
  {
   "cell_type": "code",
   "execution_count": 12,
   "metadata": {},
   "outputs": [
    {
     "data": {
      "text/plain": [
       "(19084, 17)"
      ]
     },
     "execution_count": 12,
     "metadata": {},
     "output_type": "execute_result"
    }
   ],
   "source": [
    "df = df.dropna()\n",
    "df.shape"
   ]
  },
  {
   "cell_type": "markdown",
   "metadata": {},
   "source": [
    "We'll start with a Dummy Classifier model based on stratification, then move to a simple Logistic regression model:"
   ]
  },
  {
   "cell_type": "code",
   "execution_count": 13,
   "metadata": {},
   "outputs": [],
   "source": [
    "# Load libraries:\n",
    "from sklearn.dummy import DummyClassifier\n",
    "from sklearn.model_selection import train_test_split\n",
    "from sklearn.linear_model import LogisticRegression\n",
    "from sklearn.preprocessing import StandardScaler\n",
    "from sklearn.metrics import confusion_matrix\n",
    "from sklearn.metrics import f1_score\n",
    "from sklearn.metrics import roc_curve, roc_auc_score\n"
   ]
  },
  {
   "cell_type": "code",
   "execution_count": 14,
   "metadata": {},
   "outputs": [],
   "source": [
    "# Split the dataset into features and target:\n",
    "y = df['MIS_Status']\n",
    "X = df.drop(columns='MIS_Status')"
   ]
  },
  {
   "cell_type": "code",
   "execution_count": 15,
   "metadata": {},
   "outputs": [],
   "source": [
    "# Standardizr the various features in the dataset, since different variables have different ranges:\n",
    "\n",
    "scaler = StandardScaler()\n",
    "X_std = scaler.fit_transform(X)"
   ]
  },
  {
   "cell_type": "code",
   "execution_count": 16,
   "metadata": {},
   "outputs": [],
   "source": [
    "# Create training and test data\n",
    "\n",
    "X_train, X_test, y_train, y_test = train_test_split(X_std, y, test_size=0.2, random_state=42)"
   ]
  },
  {
   "cell_type": "code",
   "execution_count": 17,
   "metadata": {},
   "outputs": [
    {
     "data": {
      "text/plain": [
       "0.7015981137018601"
      ]
     },
     "execution_count": 17,
     "metadata": {},
     "output_type": "execute_result"
    }
   ],
   "source": [
    "# Dummy model based on stratificaation:\n",
    "\n",
    "dummy = DummyClassifier(strategy='stratified', random_state=13)\n",
    "\n",
    "dummy.fit(X_train, y_train)\n",
    "\n",
    "dummy.score(X_test, y_test)"
   ]
  },
  {
   "cell_type": "code",
   "execution_count": 18,
   "metadata": {},
   "outputs": [],
   "source": [
    "# We create target probabilities for the predicted values of y:\n",
    "\n",
    "target_probabilities = dummy.predict_proba(X_test)[:,1]\n",
    "\n",
    "FP_rate, TP_rate, threshold = roc_curve(y_test, target_probabilities)"
   ]
  },
  {
   "cell_type": "code",
   "execution_count": 19,
   "metadata": {},
   "outputs": [
    {
     "data": {
      "image/png": "[encoded data removed]",
      "text/plain": [
       "<Figure size 432x288 with 1 Axes>"
      ]
     },
     "metadata": {
      "needs_background": "light"
     },
     "output_type": "display_data"
    }
   ],
   "source": [
    "# Plot ROC Curve\n",
    "plt.title('Receiver Operating Characteristic')\n",
    "plt.plot(FP_rate, TP_rate)\n",
    "plt.plot([0,1], ls='--')\n",
    "plt.plot([0,0],[1,0], c='.7'), plt.plot([1,1], c='.7')\n",
    "plt.ylabel('TP Rate')\n",
    "plt.xlabel('FP Rate')\n",
    "plt.show()"
   ]
  },
  {
   "cell_type": "code",
   "execution_count": 20,
   "metadata": {},
   "outputs": [
    {
     "data": {
      "text/plain": [
       "0.8184438040345822"
      ]
     },
     "execution_count": 20,
     "metadata": {},
     "output_type": "execute_result"
    }
   ],
   "source": [
    "# Dummy model based on assuming that ALL loan are good loans! I.e., a constant value of 1:\n",
    "\n",
    "dummy = DummyClassifier(strategy='constant', constant = 1)\n",
    "\n",
    "dummy.fit(X_train, y_train)\n",
    "\n",
    "dummy.score(X_test, y_test)"
   ]
  },
  {
   "cell_type": "code",
   "execution_count": 21,
   "metadata": {},
   "outputs": [],
   "source": [
    "# We create target probabilities for the predicted values of y:\n",
    "\n",
    "target_probabilities = dummy.predict_proba(X_test)[:,1]\n",
    "\n",
    "FP_rate, TP_rate, threshold = roc_curve(y_test, target_probabilities)"
   ]
  },
  {
   "cell_type": "code",
   "execution_count": 22,
   "metadata": {},
   "outputs": [
    {
     "data": {
      "image/png": "[encoded data removed]",
      "text/plain": [
       "<Figure size 432x288 with 1 Axes>"
      ]
     },
     "metadata": {
      "needs_background": "light"
     },
     "output_type": "display_data"
    }
   ],
   "source": [
    "# Plot ROC Curve\n",
    "plt.title('Receiver Operating Characteristic')\n",
    "plt.plot(FP_rate, TP_rate)\n",
    "plt.plot([0,1], ls='--')\n",
    "plt.plot([0,0],[1,0], c='.7'), plt.plot([1,1], c='.7')\n",
    "plt.ylabel('TP Rate')\n",
    "plt.xlabel('FP Rate')\n",
    "plt.show()"
   ]
  },
  {
   "cell_type": "markdown",
   "metadata": {},
   "source": [
    "#### Logistic Regression ####\n",
    "\n",
    "While the accuracy values of the dummy models were not that bad (the data are skewed towards loans being good, after all);  \n",
    "Now we will explore Logistic Regression:"
   ]
  },
  {
   "cell_type": "code",
   "execution_count": 23,
   "metadata": {},
   "outputs": [],
   "source": [
    "# Create a simple logistic regression model object and fit the training data\n",
    "\n",
    "logit = LogisticRegression()\n",
    "\n",
    "model = logit.fit(X_train, y_train)"
   ]
  },
  {
   "cell_type": "code",
   "execution_count": 24,
   "metadata": {},
   "outputs": [
    {
     "data": {
      "text/plain": [
       "0.8784385643175269"
      ]
     },
     "execution_count": 24,
     "metadata": {},
     "output_type": "execute_result"
    }
   ],
   "source": [
    "# Accuracy score\n",
    "\n",
    "model.score(X_test, y_test)"
   ]
  },
  {
   "cell_type": "code",
   "execution_count": 25,
   "metadata": {},
   "outputs": [],
   "source": [
    "# Make predictions for the test data set:\n",
    "y_pred = model.predict(X_test)"
   ]
  },
  {
   "cell_type": "code",
   "execution_count": 26,
   "metadata": {},
   "outputs": [],
   "source": [
    "# Generate a confusion matrix\n",
    "matrix = pd.DataFrame(confusion_matrix(y_test, y_pred))"
   ]
  },
  {
   "cell_type": "code",
   "execution_count": 27,
   "metadata": {},
   "outputs": [
    {
     "data": {
      "image/png": "[encoded data removed]",
      "text/plain": [
       "<Figure size 432x288 with 2 Axes>"
      ]
     },
     "metadata": {
      "needs_background": "light"
     },
     "output_type": "display_data"
    }
   ],
   "source": [
    "sns.heatmap(matrix, annot=True)\n",
    "plt.xlabel('True Class'), plt.ylabel('Pred Class')\n",
    "plt.show()"
   ]
  },
  {
   "cell_type": "code",
   "execution_count": 28,
   "metadata": {},
   "outputs": [
    {
     "name": "stdout",
     "output_type": "stream",
     "text": [
      "0.9292682926829268 0.7078938276121375\n"
     ]
    }
   ],
   "source": [
    "# F1 score is pretty good, but AUC is only 71% or so:\n",
    "\n",
    "print(f1_score(y_test, y_pred), roc_auc_score(y_test, y_pred))"
   ]
  },
  {
   "cell_type": "code",
   "execution_count": 29,
   "metadata": {},
   "outputs": [],
   "source": [
    "# We again create target probabilities for the predicted values of y:\n",
    "\n",
    "target_probabilities = logit.predict_proba(X_test)[:,1]\n",
    "\n",
    "FP_rate, TP_rate, threshold = roc_curve(y_test, target_probabilities)"
   ]
  },
  {
   "cell_type": "code",
   "execution_count": 30,
   "metadata": {},
   "outputs": [
    {
     "data": {
      "image/png": "[encoded data removed]",
      "text/plain": [
       "<Figure size 432x288 with 1 Axes>"
      ]
     },
     "metadata": {
      "needs_background": "light"
     },
     "output_type": "display_data"
    }
   ],
   "source": [
    "# Plot ROC Curve\n",
    "plt.title('Receiver Operating Characteristic')\n",
    "plt.plot(FP_rate, TP_rate)\n",
    "plt.plot([0,1], ls='--')\n",
    "plt.plot([0,0],[1,0], c='.7'), plt.plot([1,1], c='.7')\n",
    "plt.ylabel('TP Rate')\n",
    "plt.xlabel('FP Rate')\n",
    "plt.show()"
   ]
  },
  {
   "cell_type": "markdown",
   "metadata": {},
   "source": [
    "#### Random Forest Classifier ####\n",
    "\n",
    "Next we'll explore a Random Forest classifier model to see if it can do a better job than the logistic regression:\n"
   ]
  },
  {
   "cell_type": "code",
   "execution_count": 31,
   "metadata": {},
   "outputs": [],
   "source": [
    "# Load Random Forest library\n",
    "from sklearn.ensemble import RandomForestClassifier\n"
   ]
  },
  {
   "cell_type": "code",
   "execution_count": 33,
   "metadata": {},
   "outputs": [],
   "source": [
    "randomforest = RandomForestClassifier(random_state=17, n_jobs=-1)\n",
    "\n",
    "rfmodel = randomforest.fit(X_train, y_train)"
   ]
  },
  {
   "cell_type": "code",
   "execution_count": 34,
   "metadata": {},
   "outputs": [],
   "source": [
    "y_predrf = rfmodel.predict(X_test)"
   ]
  },
  {
   "cell_type": "code",
   "execution_count": 35,
   "metadata": {},
   "outputs": [
    {
     "name": "stdout",
     "output_type": "stream",
     "text": [
      "0.9612305760477162 0.8565991911062333\n"
     ]
    }
   ],
   "source": [
    "# F1 score is pretty good, but AUC is only 71% or so:\n",
    "\n",
    "print(f1_score(y_test, y_predrf), roc_auc_score(y_test, y_predrf))"
   ]
  },
  {
   "cell_type": "code",
   "execution_count": 36,
   "metadata": {},
   "outputs": [
    {
     "data": {
      "image/png": "[encoded data removed]",
      "text/plain": [
       "<Figure size 432x288 with 2 Axes>"
      ]
     },
     "metadata": {
      "needs_background": "light"
     },
     "output_type": "display_data"
    }
   ],
   "source": [
    "# Generate a confusion matrix\n",
    "rfmatrix = pd.DataFrame(confusion_matrix(y_test, y_predrf))\n",
    "\n",
    "sns.heatmap(rfmatrix, annot=True)\n",
    "plt.xlabel('True Class'), plt.ylabel('Pred Class')\n",
    "plt.show()"
   ]
  },
  {
   "cell_type": "code",
   "execution_count": 37,
   "metadata": {},
   "outputs": [],
   "source": [
    "# We again create target probabilities for the predicted values of y:\n",
    "\n",
    "rf_target_probabilities = rfmodel.predict_proba(X_test)[:,1]\n",
    "\n",
    "FP_rate, TP_rate, threshold = roc_curve(y_test, rf_target_probabilities)"
   ]
  },
  {
   "cell_type": "code",
   "execution_count": 38,
   "metadata": {},
   "outputs": [
    {
     "data": {
      "image/png": "[encoded data removed]",
      "text/plain": [
       "<Figure size 432x288 with 1 Axes>"
      ]
     },
     "metadata": {
      "needs_background": "light"
     },
     "output_type": "display_data"
    }
   ],
   "source": [
    "# Plot ROC Curve\n",
    "plt.title('Receiver Operating Characteristic')\n",
    "plt.plot(FP_rate, TP_rate)\n",
    "plt.plot([0,1], ls='--')\n",
    "plt.plot([0,0],[1,0], c='.7'), plt.plot([1,1], c='.7')\n",
    "plt.ylabel('TP Rate')\n",
    "plt.xlabel('FP Rate')\n",
    "plt.show()"
   ]
  },
  {
   "cell_type": "code",
   "execution_count": null,
   "metadata": {},
   "outputs": [],
   "source": []
  }
 ],
 "metadata": {
  "kernelspec": {
   "display_name": "Python 3",
   "language": "python",
   "name": "python3"
  },
  "language_info": {
   "codemirror_mode": {
    "name": "ipython",
    "version": 3
   },
   "file_extension": ".py",
   "mimetype": "text/x-python",
   "name": "python",
   "nbconvert_exporter": "python",
   "pygments_lexer": "ipython3",
   "version": "3.7.6"
  }
 },
 "nbformat": 4,
 "nbformat_minor": 4
}
