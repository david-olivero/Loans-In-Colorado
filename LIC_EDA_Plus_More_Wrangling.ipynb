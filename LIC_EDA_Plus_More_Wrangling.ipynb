{
 "cells": [
  {
   "cell_type": "markdown",
   "metadata": {},
   "source": [
    "First we set up our libraries and import the wrangled, cleaned dataset we created:"
   ]
  },
  {
   "cell_type": "code",
   "execution_count": 120,
   "metadata": {},
   "outputs": [
    {
     "data": {
      "text/plain": [
       "'C:\\\\Users\\\\David Olivero\\\\AnacondaProjects\\\\Loans-In-Colorado'"
      ]
     },
     "execution_count": 120,
     "metadata": {},
     "output_type": "execute_result"
    }
   ],
   "source": [
    "import os\n",
    "import numpy as np\n",
    "import pandas as pd\n",
    "import matplotlib.pyplot as plt\n",
    "%matplotlib inline\n",
    "\n",
    "import seaborn as sns\n",
    "\n",
    "os.getcwd()"
   ]
  },
  {
   "cell_type": "code",
   "execution_count": 121,
   "metadata": {},
   "outputs": [
    {
     "data": {
      "text/html": [
       "<div>\n",
       "<style scoped>\n",
       "    .dataframe tbody tr th:only-of-type {\n",
       "        vertical-align: middle;\n",
       "    }\n",
       "\n",
       "    .dataframe tbody tr th {\n",
       "        vertical-align: top;\n",
       "    }\n",
       "\n",
       "    .dataframe thead th {\n",
       "        text-align: right;\n",
       "    }\n",
       "</style>\n",
       "<table border=\"1\" class=\"dataframe\">\n",
       "  <thead>\n",
       "    <tr style=\"text-align: right;\">\n",
       "      <th></th>\n",
       "      <th>0</th>\n",
       "      <th>1</th>\n",
       "      <th>2</th>\n",
       "      <th>3</th>\n",
       "      <th>4</th>\n",
       "    </tr>\n",
       "  </thead>\n",
       "  <tbody>\n",
       "    <tr>\n",
       "      <th>Name</th>\n",
       "      <td>MICHAEL GADEKEN DDS PC</td>\n",
       "      <td>MINE TECHNOLOGIES,INC.</td>\n",
       "      <td>CRAIG M. DROSKIN, D.D.S.</td>\n",
       "      <td>Johnny R. Webb II DBA Webb's A</td>\n",
       "      <td>THE DONUT SHOP PLUS</td>\n",
       "    </tr>\n",
       "    <tr>\n",
       "      <th>City</th>\n",
       "      <td>Grand Junction</td>\n",
       "      <td>Grand Junction</td>\n",
       "      <td>Grand Junction</td>\n",
       "      <td>Grand Junction</td>\n",
       "      <td>Grand Junction</td>\n",
       "    </tr>\n",
       "    <tr>\n",
       "      <th>Bank</th>\n",
       "      <td>WELLS FARGO BANK NATL ASSOC</td>\n",
       "      <td>ANB BANK</td>\n",
       "      <td>WELLS FARGO BANK NATL ASSOC</td>\n",
       "      <td>CAPITAL ONE NATL ASSOC</td>\n",
       "      <td>ANB BANK</td>\n",
       "    </tr>\n",
       "    <tr>\n",
       "      <th>BankState</th>\n",
       "      <td>SD</td>\n",
       "      <td>CO</td>\n",
       "      <td>SD</td>\n",
       "      <td>VA</td>\n",
       "      <td>CO</td>\n",
       "    </tr>\n",
       "    <tr>\n",
       "      <th>NAICS</th>\n",
       "      <td>621210</td>\n",
       "      <td>333131</td>\n",
       "      <td>621210</td>\n",
       "      <td>811111</td>\n",
       "      <td>0</td>\n",
       "    </tr>\n",
       "    <tr>\n",
       "      <th>ApprovalDate</th>\n",
       "      <td>7-Feb-06</td>\n",
       "      <td>7-Mar-97</td>\n",
       "      <td>14-Mar-97</td>\n",
       "      <td>25-Oct-04</td>\n",
       "      <td>16-Apr-97</td>\n",
       "    </tr>\n",
       "    <tr>\n",
       "      <th>ApprovalFY</th>\n",
       "      <td>2006</td>\n",
       "      <td>1997</td>\n",
       "      <td>1997</td>\n",
       "      <td>2005</td>\n",
       "      <td>1997</td>\n",
       "    </tr>\n",
       "    <tr>\n",
       "      <th>Term</th>\n",
       "      <td>264</td>\n",
       "      <td>60</td>\n",
       "      <td>120</td>\n",
       "      <td>35</td>\n",
       "      <td>60</td>\n",
       "    </tr>\n",
       "    <tr>\n",
       "      <th>NoEmp</th>\n",
       "      <td>9</td>\n",
       "      <td>2</td>\n",
       "      <td>4</td>\n",
       "      <td>3</td>\n",
       "      <td>2</td>\n",
       "    </tr>\n",
       "    <tr>\n",
       "      <th>NewExist</th>\n",
       "      <td>1</td>\n",
       "      <td>1</td>\n",
       "      <td>1</td>\n",
       "      <td>1</td>\n",
       "      <td>1</td>\n",
       "    </tr>\n",
       "    <tr>\n",
       "      <th>CreateJob</th>\n",
       "      <td>0</td>\n",
       "      <td>0</td>\n",
       "      <td>0</td>\n",
       "      <td>0</td>\n",
       "      <td>0</td>\n",
       "    </tr>\n",
       "    <tr>\n",
       "      <th>RetainedJob</th>\n",
       "      <td>9</td>\n",
       "      <td>0</td>\n",
       "      <td>0</td>\n",
       "      <td>0</td>\n",
       "      <td>0</td>\n",
       "    </tr>\n",
       "    <tr>\n",
       "      <th>FranchiseCode</th>\n",
       "      <td>1</td>\n",
       "      <td>1</td>\n",
       "      <td>1</td>\n",
       "      <td>1</td>\n",
       "      <td>1</td>\n",
       "    </tr>\n",
       "    <tr>\n",
       "      <th>UrbanRural</th>\n",
       "      <td>1</td>\n",
       "      <td>0</td>\n",
       "      <td>0</td>\n",
       "      <td>1</td>\n",
       "      <td>0</td>\n",
       "    </tr>\n",
       "    <tr>\n",
       "      <th>RevLineCr</th>\n",
       "      <td>0</td>\n",
       "      <td>N</td>\n",
       "      <td>0</td>\n",
       "      <td>N</td>\n",
       "      <td>N</td>\n",
       "    </tr>\n",
       "    <tr>\n",
       "      <th>LowDoc</th>\n",
       "      <td>N</td>\n",
       "      <td>Y</td>\n",
       "      <td>N</td>\n",
       "      <td>N</td>\n",
       "      <td>Y</td>\n",
       "    </tr>\n",
       "    <tr>\n",
       "      <th>ChgOffDate</th>\n",
       "      <td>NaN</td>\n",
       "      <td>NaN</td>\n",
       "      <td>NaN</td>\n",
       "      <td>14-Apr-09</td>\n",
       "      <td>NaN</td>\n",
       "    </tr>\n",
       "    <tr>\n",
       "      <th>DisbursementDate</th>\n",
       "      <td>31-Mar-06</td>\n",
       "      <td>31-May-97</td>\n",
       "      <td>30-Apr-97</td>\n",
       "      <td>31-Jan-05</td>\n",
       "      <td>31-May-97</td>\n",
       "    </tr>\n",
       "    <tr>\n",
       "      <th>DisbursementGross</th>\n",
       "      <td>1.5242e+06</td>\n",
       "      <td>90000</td>\n",
       "      <td>59000</td>\n",
       "      <td>50000</td>\n",
       "      <td>21200</td>\n",
       "    </tr>\n",
       "    <tr>\n",
       "      <th>BalanceGross</th>\n",
       "      <td>$0.00</td>\n",
       "      <td>$0.00</td>\n",
       "      <td>$0.00</td>\n",
       "      <td>$0.00</td>\n",
       "      <td>$0.00</td>\n",
       "    </tr>\n",
       "    <tr>\n",
       "      <th>MIS_Status</th>\n",
       "      <td>P I F</td>\n",
       "      <td>P I F</td>\n",
       "      <td>P I F</td>\n",
       "      <td>CHGOFF</td>\n",
       "      <td>P I F</td>\n",
       "    </tr>\n",
       "    <tr>\n",
       "      <th>ChgOffPrinGr</th>\n",
       "      <td>$0.00</td>\n",
       "      <td>$0.00</td>\n",
       "      <td>$0.00</td>\n",
       "      <td>$28,061.00</td>\n",
       "      <td>$0.00</td>\n",
       "    </tr>\n",
       "    <tr>\n",
       "      <th>GrAppv</th>\n",
       "      <td>$1,535,000.00</td>\n",
       "      <td>$90,000.00</td>\n",
       "      <td>$59,000.00</td>\n",
       "      <td>$50,000.00</td>\n",
       "      <td>$21,200.00</td>\n",
       "    </tr>\n",
       "    <tr>\n",
       "      <th>SBA_Appv</th>\n",
       "      <td>$1,151,250.00</td>\n",
       "      <td>$72,000.00</td>\n",
       "      <td>$47,200.00</td>\n",
       "      <td>$25,000.00</td>\n",
       "      <td>$16,960.00</td>\n",
       "    </tr>\n",
       "    <tr>\n",
       "      <th>County_Fips</th>\n",
       "      <td>8077</td>\n",
       "      <td>8077</td>\n",
       "      <td>8077</td>\n",
       "      <td>8077</td>\n",
       "      <td>8077</td>\n",
       "    </tr>\n",
       "    <tr>\n",
       "      <th>County_Name</th>\n",
       "      <td>Mesa</td>\n",
       "      <td>Mesa</td>\n",
       "      <td>Mesa</td>\n",
       "      <td>Mesa</td>\n",
       "      <td>Mesa</td>\n",
       "    </tr>\n",
       "    <tr>\n",
       "      <th>TotalLoansInCounty</th>\n",
       "      <td>445</td>\n",
       "      <td>445</td>\n",
       "      <td>445</td>\n",
       "      <td>445</td>\n",
       "      <td>445</td>\n",
       "    </tr>\n",
       "    <tr>\n",
       "      <th>PIF_RateByCounty</th>\n",
       "      <td>0.876404</td>\n",
       "      <td>0.876404</td>\n",
       "      <td>0.876404</td>\n",
       "      <td>0.876404</td>\n",
       "      <td>0.876404</td>\n",
       "    </tr>\n",
       "    <tr>\n",
       "      <th>MedIncome</th>\n",
       "      <td>32644</td>\n",
       "      <td>21835</td>\n",
       "      <td>21835</td>\n",
       "      <td>30645</td>\n",
       "      <td>21835</td>\n",
       "    </tr>\n",
       "    <tr>\n",
       "      <th>Population</th>\n",
       "      <td>134665</td>\n",
       "      <td>110566</td>\n",
       "      <td>110566</td>\n",
       "      <td>130194</td>\n",
       "      <td>110566</td>\n",
       "    </tr>\n",
       "    <tr>\n",
       "      <th>PopChange</th>\n",
       "      <td>0.276615</td>\n",
       "      <td>0.276615</td>\n",
       "      <td>0.276615</td>\n",
       "      <td>0.276615</td>\n",
       "      <td>0.276615</td>\n",
       "    </tr>\n",
       "    <tr>\n",
       "      <th>LaborForceInCty</th>\n",
       "      <td>74156</td>\n",
       "      <td>57738</td>\n",
       "      <td>57738</td>\n",
       "      <td>70811</td>\n",
       "      <td>57738</td>\n",
       "    </tr>\n",
       "    <tr>\n",
       "      <th>EmployedInCty</th>\n",
       "      <td>71219</td>\n",
       "      <td>55069</td>\n",
       "      <td>55069</td>\n",
       "      <td>67350</td>\n",
       "      <td>55069</td>\n",
       "    </tr>\n",
       "    <tr>\n",
       "      <th>UnempInCty</th>\n",
       "      <td>2937</td>\n",
       "      <td>2669</td>\n",
       "      <td>2669</td>\n",
       "      <td>3461</td>\n",
       "      <td>2669</td>\n",
       "    </tr>\n",
       "    <tr>\n",
       "      <th>UnempRateInCty</th>\n",
       "      <td>4</td>\n",
       "      <td>4.6</td>\n",
       "      <td>4.6</td>\n",
       "      <td>4.9</td>\n",
       "      <td>4.6</td>\n",
       "    </tr>\n",
       "    <tr>\n",
       "      <th>DeathsPer100k</th>\n",
       "      <td>977.2</td>\n",
       "      <td>977.2</td>\n",
       "      <td>977.2</td>\n",
       "      <td>977.2</td>\n",
       "      <td>977.2</td>\n",
       "    </tr>\n",
       "  </tbody>\n",
       "</table>\n",
       "</div>"
      ],
      "text/plain": [
       "                                              0                       1  \\\n",
       "Name                     MICHAEL GADEKEN DDS PC  MINE TECHNOLOGIES,INC.   \n",
       "City                             Grand Junction          Grand Junction   \n",
       "Bank                WELLS FARGO BANK NATL ASSOC                ANB BANK   \n",
       "BankState                                    SD                      CO   \n",
       "NAICS                                    621210                  333131   \n",
       "ApprovalDate                           7-Feb-06                7-Mar-97   \n",
       "ApprovalFY                                 2006                    1997   \n",
       "Term                                        264                      60   \n",
       "NoEmp                                         9                       2   \n",
       "NewExist                                      1                       1   \n",
       "CreateJob                                     0                       0   \n",
       "RetainedJob                                   9                       0   \n",
       "FranchiseCode                                 1                       1   \n",
       "UrbanRural                                    1                       0   \n",
       "RevLineCr                                     0                       N   \n",
       "LowDoc                                        N                       Y   \n",
       "ChgOffDate                                  NaN                     NaN   \n",
       "DisbursementDate                      31-Mar-06               31-May-97   \n",
       "DisbursementGross                    1.5242e+06                   90000   \n",
       "BalanceGross                             $0.00                   $0.00    \n",
       "MIS_Status                                P I F                   P I F   \n",
       "ChgOffPrinGr                             $0.00                   $0.00    \n",
       "GrAppv                           $1,535,000.00              $90,000.00    \n",
       "SBA_Appv                         $1,151,250.00              $72,000.00    \n",
       "County_Fips                                8077                    8077   \n",
       "County_Name                                Mesa                    Mesa   \n",
       "TotalLoansInCounty                          445                     445   \n",
       "PIF_RateByCounty                       0.876404                0.876404   \n",
       "MedIncome                                 32644                   21835   \n",
       "Population                               134665                  110566   \n",
       "PopChange                              0.276615                0.276615   \n",
       "LaborForceInCty                           74156                   57738   \n",
       "EmployedInCty                             71219                   55069   \n",
       "UnempInCty                                 2937                    2669   \n",
       "UnempRateInCty                                4                     4.6   \n",
       "DeathsPer100k                             977.2                   977.2   \n",
       "\n",
       "                                              2  \\\n",
       "Name                   CRAIG M. DROSKIN, D.D.S.   \n",
       "City                             Grand Junction   \n",
       "Bank                WELLS FARGO BANK NATL ASSOC   \n",
       "BankState                                    SD   \n",
       "NAICS                                    621210   \n",
       "ApprovalDate                          14-Mar-97   \n",
       "ApprovalFY                                 1997   \n",
       "Term                                        120   \n",
       "NoEmp                                         4   \n",
       "NewExist                                      1   \n",
       "CreateJob                                     0   \n",
       "RetainedJob                                   0   \n",
       "FranchiseCode                                 1   \n",
       "UrbanRural                                    0   \n",
       "RevLineCr                                     0   \n",
       "LowDoc                                        N   \n",
       "ChgOffDate                                  NaN   \n",
       "DisbursementDate                      30-Apr-97   \n",
       "DisbursementGross                         59000   \n",
       "BalanceGross                             $0.00    \n",
       "MIS_Status                                P I F   \n",
       "ChgOffPrinGr                             $0.00    \n",
       "GrAppv                              $59,000.00    \n",
       "SBA_Appv                            $47,200.00    \n",
       "County_Fips                                8077   \n",
       "County_Name                                Mesa   \n",
       "TotalLoansInCounty                          445   \n",
       "PIF_RateByCounty                       0.876404   \n",
       "MedIncome                                 21835   \n",
       "Population                               110566   \n",
       "PopChange                              0.276615   \n",
       "LaborForceInCty                           57738   \n",
       "EmployedInCty                             55069   \n",
       "UnempInCty                                 2669   \n",
       "UnempRateInCty                              4.6   \n",
       "DeathsPer100k                             977.2   \n",
       "\n",
       "                                                 3                    4  \n",
       "Name                Johnny R. Webb II DBA Webb's A  THE DONUT SHOP PLUS  \n",
       "City                                Grand Junction       Grand Junction  \n",
       "Bank                        CAPITAL ONE NATL ASSOC             ANB BANK  \n",
       "BankState                                       VA                   CO  \n",
       "NAICS                                       811111                    0  \n",
       "ApprovalDate                             25-Oct-04            16-Apr-97  \n",
       "ApprovalFY                                    2005                 1997  \n",
       "Term                                            35                   60  \n",
       "NoEmp                                            3                    2  \n",
       "NewExist                                         1                    1  \n",
       "CreateJob                                        0                    0  \n",
       "RetainedJob                                      0                    0  \n",
       "FranchiseCode                                    1                    1  \n",
       "UrbanRural                                       1                    0  \n",
       "RevLineCr                                        N                    N  \n",
       "LowDoc                                           N                    Y  \n",
       "ChgOffDate                               14-Apr-09                  NaN  \n",
       "DisbursementDate                         31-Jan-05            31-May-97  \n",
       "DisbursementGross                            50000                21200  \n",
       "BalanceGross                                $0.00                $0.00   \n",
       "MIS_Status                                  CHGOFF                P I F  \n",
       "ChgOffPrinGr                           $28,061.00                $0.00   \n",
       "GrAppv                                 $50,000.00           $21,200.00   \n",
       "SBA_Appv                               $25,000.00           $16,960.00   \n",
       "County_Fips                                   8077                 8077  \n",
       "County_Name                                   Mesa                 Mesa  \n",
       "TotalLoansInCounty                             445                  445  \n",
       "PIF_RateByCounty                          0.876404             0.876404  \n",
       "MedIncome                                    30645                21835  \n",
       "Population                                  130194               110566  \n",
       "PopChange                                 0.276615             0.276615  \n",
       "LaborForceInCty                              70811                57738  \n",
       "EmployedInCty                                67350                55069  \n",
       "UnempInCty                                    3461                 2669  \n",
       "UnempRateInCty                                 4.9                  4.6  \n",
       "DeathsPer100k                                977.2                977.2  "
      ]
     },
     "execution_count": 121,
     "metadata": {},
     "output_type": "execute_result"
    }
   ],
   "source": [
    "df = pd.read_csv('SBA_Model_Input.csv')\n",
    "\n",
    "df.head().T"
   ]
  },
  {
   "cell_type": "markdown",
   "metadata": {},
   "source": [
    "#### Dates (Approval and Disbursement) ####\n",
    "While it's doubtful that the calendar dates of loan approval and loan disbursement will factor into whether or not a loan gets paid off, it would be interesting to factor in how LONG a business had to wait for their loan. IS it possible that the longer one has to wait, the lower the chance of payback? Or perhaps the better the chance?"
   ]
  },
  {
   "cell_type": "code",
   "execution_count": 122,
   "metadata": {},
   "outputs": [],
   "source": [
    "#  Reset the Approval and Disbursement Date columns in recognizable datetime format.\n",
    "\n",
    "df.ApprovalDate = pd.to_datetime(df.ApprovalDate)\n",
    "df.DisbursementDate = pd.to_datetime(df.DisbursementDate)"
   ]
  },
  {
   "cell_type": "code",
   "execution_count": 123,
   "metadata": {},
   "outputs": [],
   "source": [
    "# Create a new column that hols the difference betwee the two columns, in days:\n",
    "\n",
    "df['PayDelay'] = df.DisbursementDate - df.ApprovalDate"
   ]
  },
  {
   "cell_type": "code",
   "execution_count": 124,
   "metadata": {},
   "outputs": [
    {
     "name": "stderr",
     "output_type": "stream",
     "text": [
      "C:\\Anaconda3\\lib\\site-packages\\ipykernel_launcher.py:4: SettingWithCopyWarning: \n",
      "A value is trying to be set on a copy of a slice from a DataFrame\n",
      "\n",
      "See the caveats in the documentation: https://pandas.pydata.org/pandas-docs/stable/user_guide/indexing.html#returning-a-view-versus-a-copy\n",
      "  after removing the cwd from sys.path.\n",
      "C:\\Anaconda3\\lib\\site-packages\\pandas\\core\\indexing.py:670: SettingWithCopyWarning: \n",
      "A value is trying to be set on a copy of a slice from a DataFrame\n",
      "\n",
      "See the caveats in the documentation: https://pandas.pydata.org/pandas-docs/stable/user_guide/indexing.html#returning-a-view-versus-a-copy\n",
      "  self._setitem_with_indexer(indexer, value)\n"
     ]
    }
   ],
   "source": [
    "# Reduce this data form to a simple integer value for # of days. \n",
    "\n",
    "for i in range(len(df)):\n",
    "    df['PayDelay'][i] = df['PayDelay'][i].days"
   ]
  },
  {
   "cell_type": "code",
   "execution_count": 125,
   "metadata": {},
   "outputs": [],
   "source": [
    "df['PayDelay'] = pd.to_numeric(df['PayDelay'])"
   ]
  },
  {
   "cell_type": "code",
   "execution_count": 126,
   "metadata": {},
   "outputs": [
    {
     "data": {
      "text/plain": [
       "0     52.0\n",
       "1     85.0\n",
       "2     47.0\n",
       "3     98.0\n",
       "4     45.0\n",
       "5    101.0\n",
       "6     18.0\n",
       "7    110.0\n",
       "8    140.0\n",
       "9    227.0\n",
       "Name: PayDelay, dtype: float64"
      ]
     },
     "execution_count": 126,
     "metadata": {},
     "output_type": "execute_result"
    }
   ],
   "source": [
    "df.PayDelay.head(10)"
   ]
  },
  {
   "cell_type": "code",
   "execution_count": 127,
   "metadata": {},
   "outputs": [
    {
     "data": {
      "text/plain": [
       "count    19332.000000\n",
       "mean       107.376474\n",
       "std        156.698538\n",
       "min        -10.000000\n",
       "25%         30.000000\n",
       "50%         56.000000\n",
       "75%        115.000000\n",
       "max       2403.000000\n",
       "Name: PayDelay, dtype: float64"
      ]
     },
     "execution_count": 127,
     "metadata": {},
     "output_type": "execute_result"
    }
   ],
   "source": [
    "# A typical loan takes 107 days to be fulfilled, but we shoudl explore the extreme values in this distribution. \n",
    "\n",
    "df.PayDelay.describe()"
   ]
  },
  {
   "cell_type": "code",
   "execution_count": 128,
   "metadata": {},
   "outputs": [
    {
     "data": {
      "text/html": [
       "<div>\n",
       "<style scoped>\n",
       "    .dataframe tbody tr th:only-of-type {\n",
       "        vertical-align: middle;\n",
       "    }\n",
       "\n",
       "    .dataframe tbody tr th {\n",
       "        vertical-align: top;\n",
       "    }\n",
       "\n",
       "    .dataframe thead th {\n",
       "        text-align: right;\n",
       "    }\n",
       "</style>\n",
       "<table border=\"1\" class=\"dataframe\">\n",
       "  <thead>\n",
       "    <tr style=\"text-align: right;\">\n",
       "      <th></th>\n",
       "      <th>921</th>\n",
       "      <th>989</th>\n",
       "      <th>3415</th>\n",
       "      <th>4016</th>\n",
       "      <th>4137</th>\n",
       "    </tr>\n",
       "  </thead>\n",
       "  <tbody>\n",
       "    <tr>\n",
       "      <th>Name</th>\n",
       "      <td>SUPREME CABLE TECHNOLOGY</td>\n",
       "      <td>King Kong Building Services, I</td>\n",
       "      <td>AWG FOOD CATERING</td>\n",
       "      <td>SHOP N SAVE, INC.</td>\n",
       "      <td>COLORADO AIDS PHARMACY</td>\n",
       "    </tr>\n",
       "    <tr>\n",
       "      <th>City</th>\n",
       "      <td>Thornton</td>\n",
       "      <td>Denver</td>\n",
       "      <td>Denver</td>\n",
       "      <td>Denver</td>\n",
       "      <td>Denver</td>\n",
       "    </tr>\n",
       "    <tr>\n",
       "      <th>Bank</th>\n",
       "      <td>BANK MIDWEST, A DIVISION OF</td>\n",
       "      <td>WELLS FARGO BANK NATL ASSOC</td>\n",
       "      <td>JPMORGAN CHASE BANK NATL ASSOC</td>\n",
       "      <td>KEYBANK NATIONAL ASSOCIATION</td>\n",
       "      <td>BANK OF THE WEST</td>\n",
       "    </tr>\n",
       "    <tr>\n",
       "      <th>BankState</th>\n",
       "      <td>MO</td>\n",
       "      <td>SD</td>\n",
       "      <td>IL</td>\n",
       "      <td>CO</td>\n",
       "      <td>CO</td>\n",
       "    </tr>\n",
       "    <tr>\n",
       "      <th>NAICS</th>\n",
       "      <td>314991</td>\n",
       "      <td>0</td>\n",
       "      <td>722211</td>\n",
       "      <td>0</td>\n",
       "      <td>446110</td>\n",
       "    </tr>\n",
       "    <tr>\n",
       "      <th>ApprovalDate</th>\n",
       "      <td>1996-07-26 00:00:00</td>\n",
       "      <td>1997-06-13 00:00:00</td>\n",
       "      <td>2002-12-05 00:00:00</td>\n",
       "      <td>1994-12-01 00:00:00</td>\n",
       "      <td>1995-05-03 00:00:00</td>\n",
       "    </tr>\n",
       "    <tr>\n",
       "      <th>ApprovalFY</th>\n",
       "      <td>1996</td>\n",
       "      <td>1997</td>\n",
       "      <td>2003</td>\n",
       "      <td>1995</td>\n",
       "      <td>1995</td>\n",
       "    </tr>\n",
       "    <tr>\n",
       "      <th>Term</th>\n",
       "      <td>60</td>\n",
       "      <td>84</td>\n",
       "      <td>84</td>\n",
       "      <td>180</td>\n",
       "      <td>60</td>\n",
       "    </tr>\n",
       "    <tr>\n",
       "      <th>NoEmp</th>\n",
       "      <td>100</td>\n",
       "      <td>9</td>\n",
       "      <td>4</td>\n",
       "      <td>19</td>\n",
       "      <td>3</td>\n",
       "    </tr>\n",
       "    <tr>\n",
       "      <th>NewExist</th>\n",
       "      <td>1</td>\n",
       "      <td>1</td>\n",
       "      <td>1</td>\n",
       "      <td>1</td>\n",
       "      <td>1</td>\n",
       "    </tr>\n",
       "    <tr>\n",
       "      <th>CreateJob</th>\n",
       "      <td>0</td>\n",
       "      <td>0</td>\n",
       "      <td>0</td>\n",
       "      <td>0</td>\n",
       "      <td>0</td>\n",
       "    </tr>\n",
       "    <tr>\n",
       "      <th>RetainedJob</th>\n",
       "      <td>0</td>\n",
       "      <td>0</td>\n",
       "      <td>4</td>\n",
       "      <td>0</td>\n",
       "      <td>0</td>\n",
       "    </tr>\n",
       "    <tr>\n",
       "      <th>FranchiseCode</th>\n",
       "      <td>1</td>\n",
       "      <td>1</td>\n",
       "      <td>1</td>\n",
       "      <td>1</td>\n",
       "      <td>1</td>\n",
       "    </tr>\n",
       "    <tr>\n",
       "      <th>UrbanRural</th>\n",
       "      <td>0</td>\n",
       "      <td>0</td>\n",
       "      <td>1</td>\n",
       "      <td>0</td>\n",
       "      <td>0</td>\n",
       "    </tr>\n",
       "    <tr>\n",
       "      <th>RevLineCr</th>\n",
       "      <td>N</td>\n",
       "      <td>0</td>\n",
       "      <td>Y</td>\n",
       "      <td>N</td>\n",
       "      <td>N</td>\n",
       "    </tr>\n",
       "    <tr>\n",
       "      <th>LowDoc</th>\n",
       "      <td>N</td>\n",
       "      <td>N</td>\n",
       "      <td>N</td>\n",
       "      <td>N</td>\n",
       "      <td>Y</td>\n",
       "    </tr>\n",
       "    <tr>\n",
       "      <th>ChgOffDate</th>\n",
       "      <td>NaN</td>\n",
       "      <td>NaN</td>\n",
       "      <td>NaN</td>\n",
       "      <td>NaN</td>\n",
       "      <td>NaN</td>\n",
       "    </tr>\n",
       "    <tr>\n",
       "      <th>DisbursementDate</th>\n",
       "      <td>2000-12-31 00:00:00</td>\n",
       "      <td>2002-12-31 00:00:00</td>\n",
       "      <td>2009-06-30 00:00:00</td>\n",
       "      <td>2001-06-30 00:00:00</td>\n",
       "      <td>2001-10-31 00:00:00</td>\n",
       "    </tr>\n",
       "    <tr>\n",
       "      <th>DisbursementGross</th>\n",
       "      <td>500000</td>\n",
       "      <td>25000</td>\n",
       "      <td>50000</td>\n",
       "      <td>198000</td>\n",
       "      <td>50000</td>\n",
       "    </tr>\n",
       "    <tr>\n",
       "      <th>BalanceGross</th>\n",
       "      <td>$0.00</td>\n",
       "      <td>$0.00</td>\n",
       "      <td>$0.00</td>\n",
       "      <td>$0.00</td>\n",
       "      <td>$0.00</td>\n",
       "    </tr>\n",
       "    <tr>\n",
       "      <th>MIS_Status</th>\n",
       "      <td>P I F</td>\n",
       "      <td>P I F</td>\n",
       "      <td>P I F</td>\n",
       "      <td>P I F</td>\n",
       "      <td>P I F</td>\n",
       "    </tr>\n",
       "    <tr>\n",
       "      <th>ChgOffPrinGr</th>\n",
       "      <td>$0.00</td>\n",
       "      <td>$0.00</td>\n",
       "      <td>$0.00</td>\n",
       "      <td>$0.00</td>\n",
       "      <td>$0.00</td>\n",
       "    </tr>\n",
       "    <tr>\n",
       "      <th>GrAppv</th>\n",
       "      <td>$700,000.00</td>\n",
       "      <td>$25,000.00</td>\n",
       "      <td>$50,000.00</td>\n",
       "      <td>$200,000.00</td>\n",
       "      <td>$50,000.00</td>\n",
       "    </tr>\n",
       "    <tr>\n",
       "      <th>SBA_Appv</th>\n",
       "      <td>$525,000.00</td>\n",
       "      <td>$12,500.00</td>\n",
       "      <td>$25,000.00</td>\n",
       "      <td>$150,000.00</td>\n",
       "      <td>$45,000.00</td>\n",
       "    </tr>\n",
       "    <tr>\n",
       "      <th>County_Fips</th>\n",
       "      <td>8001</td>\n",
       "      <td>8031</td>\n",
       "      <td>8031</td>\n",
       "      <td>8031</td>\n",
       "      <td>8031</td>\n",
       "    </tr>\n",
       "    <tr>\n",
       "      <th>County_Name</th>\n",
       "      <td>Adams</td>\n",
       "      <td>Denver</td>\n",
       "      <td>Denver</td>\n",
       "      <td>Denver</td>\n",
       "      <td>Denver</td>\n",
       "    </tr>\n",
       "    <tr>\n",
       "      <th>TotalLoansInCounty</th>\n",
       "      <td>1929</td>\n",
       "      <td>3647</td>\n",
       "      <td>3647</td>\n",
       "      <td>3647</td>\n",
       "      <td>3647</td>\n",
       "    </tr>\n",
       "    <tr>\n",
       "      <th>PIF_RateByCounty</th>\n",
       "      <td>0.752722</td>\n",
       "      <td>0.839232</td>\n",
       "      <td>0.839232</td>\n",
       "      <td>0.839232</td>\n",
       "      <td>0.839232</td>\n",
       "    </tr>\n",
       "    <tr>\n",
       "      <th>MedIncome</th>\n",
       "      <td>20771</td>\n",
       "      <td>30637</td>\n",
       "      <td>41800</td>\n",
       "      <td>27991</td>\n",
       "      <td>27991</td>\n",
       "    </tr>\n",
       "    <tr>\n",
       "      <th>Population</th>\n",
       "      <td>323218</td>\n",
       "      <td>536678</td>\n",
       "      <td>552588</td>\n",
       "      <td>518958</td>\n",
       "      <td>518958</td>\n",
       "    </tr>\n",
       "    <tr>\n",
       "      <th>PopChange</th>\n",
       "      <td>0.293547</td>\n",
       "      <td>0.139801</td>\n",
       "      <td>0.139801</td>\n",
       "      <td>0.139801</td>\n",
       "      <td>0.139801</td>\n",
       "    </tr>\n",
       "    <tr>\n",
       "      <th>LaborForceInCty</th>\n",
       "      <td>167915</td>\n",
       "      <td>281852</td>\n",
       "      <td>302578</td>\n",
       "      <td>279282</td>\n",
       "      <td>279282</td>\n",
       "    </tr>\n",
       "    <tr>\n",
       "      <th>EmployedInCty</th>\n",
       "      <td>160800</td>\n",
       "      <td>270456</td>\n",
       "      <td>281272</td>\n",
       "      <td>266257</td>\n",
       "      <td>266257</td>\n",
       "    </tr>\n",
       "    <tr>\n",
       "      <th>UnempInCty</th>\n",
       "      <td>7115</td>\n",
       "      <td>11396</td>\n",
       "      <td>21306</td>\n",
       "      <td>13025</td>\n",
       "      <td>13025</td>\n",
       "    </tr>\n",
       "    <tr>\n",
       "      <th>UnempRateInCty</th>\n",
       "      <td>4.2</td>\n",
       "      <td>4</td>\n",
       "      <td>7</td>\n",
       "      <td>4.7</td>\n",
       "      <td>4.7</td>\n",
       "    </tr>\n",
       "    <tr>\n",
       "      <th>DeathsPer100k</th>\n",
       "      <td>562.9</td>\n",
       "      <td>823.4</td>\n",
       "      <td>823.4</td>\n",
       "      <td>823.4</td>\n",
       "      <td>823.4</td>\n",
       "    </tr>\n",
       "    <tr>\n",
       "      <th>PayDelay</th>\n",
       "      <td>1619</td>\n",
       "      <td>2027</td>\n",
       "      <td>2399</td>\n",
       "      <td>2403</td>\n",
       "      <td>2373</td>\n",
       "    </tr>\n",
       "  </tbody>\n",
       "</table>\n",
       "</div>"
      ],
      "text/plain": [
       "                                           921   \\\n",
       "Name                   SUPREME CABLE TECHNOLOGY   \n",
       "City                                   Thornton   \n",
       "Bank                BANK MIDWEST, A DIVISION OF   \n",
       "BankState                                    MO   \n",
       "NAICS                                    314991   \n",
       "ApprovalDate                1996-07-26 00:00:00   \n",
       "ApprovalFY                                 1996   \n",
       "Term                                         60   \n",
       "NoEmp                                       100   \n",
       "NewExist                                      1   \n",
       "CreateJob                                     0   \n",
       "RetainedJob                                   0   \n",
       "FranchiseCode                                 1   \n",
       "UrbanRural                                    0   \n",
       "RevLineCr                                     N   \n",
       "LowDoc                                        N   \n",
       "ChgOffDate                                  NaN   \n",
       "DisbursementDate            2000-12-31 00:00:00   \n",
       "DisbursementGross                        500000   \n",
       "BalanceGross                             $0.00    \n",
       "MIS_Status                                P I F   \n",
       "ChgOffPrinGr                             $0.00    \n",
       "GrAppv                             $700,000.00    \n",
       "SBA_Appv                           $525,000.00    \n",
       "County_Fips                                8001   \n",
       "County_Name                               Adams   \n",
       "TotalLoansInCounty                         1929   \n",
       "PIF_RateByCounty                       0.752722   \n",
       "MedIncome                                 20771   \n",
       "Population                               323218   \n",
       "PopChange                              0.293547   \n",
       "LaborForceInCty                          167915   \n",
       "EmployedInCty                            160800   \n",
       "UnempInCty                                 7115   \n",
       "UnempRateInCty                              4.2   \n",
       "DeathsPer100k                             562.9   \n",
       "PayDelay                                   1619   \n",
       "\n",
       "                                              989   \\\n",
       "Name                King Kong Building Services, I   \n",
       "City                                        Denver   \n",
       "Bank                   WELLS FARGO BANK NATL ASSOC   \n",
       "BankState                                       SD   \n",
       "NAICS                                            0   \n",
       "ApprovalDate                   1997-06-13 00:00:00   \n",
       "ApprovalFY                                    1997   \n",
       "Term                                            84   \n",
       "NoEmp                                            9   \n",
       "NewExist                                         1   \n",
       "CreateJob                                        0   \n",
       "RetainedJob                                      0   \n",
       "FranchiseCode                                    1   \n",
       "UrbanRural                                       0   \n",
       "RevLineCr                                        0   \n",
       "LowDoc                                           N   \n",
       "ChgOffDate                                     NaN   \n",
       "DisbursementDate               2002-12-31 00:00:00   \n",
       "DisbursementGross                            25000   \n",
       "BalanceGross                                $0.00    \n",
       "MIS_Status                                   P I F   \n",
       "ChgOffPrinGr                                $0.00    \n",
       "GrAppv                                 $25,000.00    \n",
       "SBA_Appv                               $12,500.00    \n",
       "County_Fips                                   8031   \n",
       "County_Name                                 Denver   \n",
       "TotalLoansInCounty                            3647   \n",
       "PIF_RateByCounty                          0.839232   \n",
       "MedIncome                                    30637   \n",
       "Population                                  536678   \n",
       "PopChange                                 0.139801   \n",
       "LaborForceInCty                             281852   \n",
       "EmployedInCty                               270456   \n",
       "UnempInCty                                   11396   \n",
       "UnempRateInCty                                   4   \n",
       "DeathsPer100k                                823.4   \n",
       "PayDelay                                      2027   \n",
       "\n",
       "                                              3415  \\\n",
       "Name                             AWG FOOD CATERING   \n",
       "City                                        Denver   \n",
       "Bank                JPMORGAN CHASE BANK NATL ASSOC   \n",
       "BankState                                       IL   \n",
       "NAICS                                       722211   \n",
       "ApprovalDate                   2002-12-05 00:00:00   \n",
       "ApprovalFY                                    2003   \n",
       "Term                                            84   \n",
       "NoEmp                                            4   \n",
       "NewExist                                         1   \n",
       "CreateJob                                        0   \n",
       "RetainedJob                                      4   \n",
       "FranchiseCode                                    1   \n",
       "UrbanRural                                       1   \n",
       "RevLineCr                                        Y   \n",
       "LowDoc                                           N   \n",
       "ChgOffDate                                     NaN   \n",
       "DisbursementDate               2009-06-30 00:00:00   \n",
       "DisbursementGross                            50000   \n",
       "BalanceGross                                $0.00    \n",
       "MIS_Status                                   P I F   \n",
       "ChgOffPrinGr                                $0.00    \n",
       "GrAppv                                 $50,000.00    \n",
       "SBA_Appv                               $25,000.00    \n",
       "County_Fips                                   8031   \n",
       "County_Name                                 Denver   \n",
       "TotalLoansInCounty                            3647   \n",
       "PIF_RateByCounty                          0.839232   \n",
       "MedIncome                                    41800   \n",
       "Population                                  552588   \n",
       "PopChange                                 0.139801   \n",
       "LaborForceInCty                             302578   \n",
       "EmployedInCty                               281272   \n",
       "UnempInCty                                   21306   \n",
       "UnempRateInCty                                   7   \n",
       "DeathsPer100k                                823.4   \n",
       "PayDelay                                      2399   \n",
       "\n",
       "                                            4016                    4137  \n",
       "Name                           SHOP N SAVE, INC.  COLORADO AIDS PHARMACY  \n",
       "City                                      Denver                  Denver  \n",
       "Bank                KEYBANK NATIONAL ASSOCIATION        BANK OF THE WEST  \n",
       "BankState                                     CO                      CO  \n",
       "NAICS                                          0                  446110  \n",
       "ApprovalDate                 1994-12-01 00:00:00     1995-05-03 00:00:00  \n",
       "ApprovalFY                                  1995                    1995  \n",
       "Term                                         180                      60  \n",
       "NoEmp                                         19                       3  \n",
       "NewExist                                       1                       1  \n",
       "CreateJob                                      0                       0  \n",
       "RetainedJob                                    0                       0  \n",
       "FranchiseCode                                  1                       1  \n",
       "UrbanRural                                     0                       0  \n",
       "RevLineCr                                      N                       N  \n",
       "LowDoc                                         N                       Y  \n",
       "ChgOffDate                                   NaN                     NaN  \n",
       "DisbursementDate             2001-06-30 00:00:00     2001-10-31 00:00:00  \n",
       "DisbursementGross                         198000                   50000  \n",
       "BalanceGross                              $0.00                   $0.00   \n",
       "MIS_Status                                 P I F                   P I F  \n",
       "ChgOffPrinGr                              $0.00                   $0.00   \n",
       "GrAppv                              $200,000.00              $50,000.00   \n",
       "SBA_Appv                            $150,000.00              $45,000.00   \n",
       "County_Fips                                 8031                    8031  \n",
       "County_Name                               Denver                  Denver  \n",
       "TotalLoansInCounty                          3647                    3647  \n",
       "PIF_RateByCounty                        0.839232                0.839232  \n",
       "MedIncome                                  27991                   27991  \n",
       "Population                                518958                  518958  \n",
       "PopChange                               0.139801                0.139801  \n",
       "LaborForceInCty                           279282                  279282  \n",
       "EmployedInCty                             266257                  266257  \n",
       "UnempInCty                                 13025                   13025  \n",
       "UnempRateInCty                               4.7                     4.7  \n",
       "DeathsPer100k                              823.4                   823.4  \n",
       "PayDelay                                    2403                    2373  "
      ]
     },
     "execution_count": 128,
     "metadata": {},
     "output_type": "execute_result"
    }
   ],
   "source": [
    "# Let's investigate the very high values :\n",
    "\n",
    "df[df.PayDelay > 1500].head().T"
   ]
  },
  {
   "cell_type": "code",
   "execution_count": 129,
   "metadata": {},
   "outputs": [
    {
     "data": {
      "text/html": [
       "<div>\n",
       "<style scoped>\n",
       "    .dataframe tbody tr th:only-of-type {\n",
       "        vertical-align: middle;\n",
       "    }\n",
       "\n",
       "    .dataframe tbody tr th {\n",
       "        vertical-align: top;\n",
       "    }\n",
       "\n",
       "    .dataframe thead th {\n",
       "        text-align: right;\n",
       "    }\n",
       "</style>\n",
       "<table border=\"1\" class=\"dataframe\">\n",
       "  <thead>\n",
       "    <tr style=\"text-align: right;\">\n",
       "      <th></th>\n",
       "      <th>2614</th>\n",
       "      <th>2633</th>\n",
       "      <th>4451</th>\n",
       "      <th>5845</th>\n",
       "      <th>7662</th>\n",
       "    </tr>\n",
       "  </thead>\n",
       "  <tbody>\n",
       "    <tr>\n",
       "      <th>Name</th>\n",
       "      <td>PREMIER SECURITY, INC</td>\n",
       "      <td>Huff &amp; Leslie, LLP</td>\n",
       "      <td>FANDANGO,INC.</td>\n",
       "      <td>Trang Thi Ai Tran</td>\n",
       "      <td>BRAZOS BUILDERS, INC</td>\n",
       "    </tr>\n",
       "    <tr>\n",
       "      <th>City</th>\n",
       "      <td>Denver</td>\n",
       "      <td>Denver</td>\n",
       "      <td>Denver</td>\n",
       "      <td>Aurora</td>\n",
       "      <td>Colorado Springs</td>\n",
       "    </tr>\n",
       "    <tr>\n",
       "      <th>Bank</th>\n",
       "      <td>SUPERIOR FINANCIAL GROUP, LLC</td>\n",
       "      <td>JPMORGAN CHASE BANK NATL ASSOC</td>\n",
       "      <td>FIRSTBANK</td>\n",
       "      <td>WILSHIRE BANK</td>\n",
       "      <td>5 STAR BANK</td>\n",
       "    </tr>\n",
       "    <tr>\n",
       "      <th>BankState</th>\n",
       "      <td>CA</td>\n",
       "      <td>IL</td>\n",
       "      <td>CO</td>\n",
       "      <td>CA</td>\n",
       "      <td>CO</td>\n",
       "    </tr>\n",
       "    <tr>\n",
       "      <th>NAICS</th>\n",
       "      <td>561612</td>\n",
       "      <td>541110</td>\n",
       "      <td>0</td>\n",
       "      <td>445310</td>\n",
       "      <td>236210</td>\n",
       "    </tr>\n",
       "    <tr>\n",
       "      <th>ApprovalDate</th>\n",
       "      <td>2010-06-03 00:00:00</td>\n",
       "      <td>2010-07-13 00:00:00</td>\n",
       "      <td>1996-05-09 00:00:00</td>\n",
       "      <td>2010-03-11 00:00:00</td>\n",
       "      <td>2010-03-11 00:00:00</td>\n",
       "    </tr>\n",
       "    <tr>\n",
       "      <th>ApprovalFY</th>\n",
       "      <td>2010</td>\n",
       "      <td>2010</td>\n",
       "      <td>1996</td>\n",
       "      <td>2010</td>\n",
       "      <td>2010</td>\n",
       "    </tr>\n",
       "    <tr>\n",
       "      <th>Term</th>\n",
       "      <td>107</td>\n",
       "      <td>84</td>\n",
       "      <td>60</td>\n",
       "      <td>120</td>\n",
       "      <td>60</td>\n",
       "    </tr>\n",
       "    <tr>\n",
       "      <th>NoEmp</th>\n",
       "      <td>2</td>\n",
       "      <td>2</td>\n",
       "      <td>3</td>\n",
       "      <td>3</td>\n",
       "      <td>2</td>\n",
       "    </tr>\n",
       "    <tr>\n",
       "      <th>NewExist</th>\n",
       "      <td>1</td>\n",
       "      <td>1</td>\n",
       "      <td>2</td>\n",
       "      <td>1</td>\n",
       "      <td>1</td>\n",
       "    </tr>\n",
       "    <tr>\n",
       "      <th>CreateJob</th>\n",
       "      <td>15</td>\n",
       "      <td>1</td>\n",
       "      <td>0</td>\n",
       "      <td>0</td>\n",
       "      <td>3</td>\n",
       "    </tr>\n",
       "    <tr>\n",
       "      <th>RetainedJob</th>\n",
       "      <td>2</td>\n",
       "      <td>0</td>\n",
       "      <td>0</td>\n",
       "      <td>3</td>\n",
       "      <td>2</td>\n",
       "    </tr>\n",
       "    <tr>\n",
       "      <th>FranchiseCode</th>\n",
       "      <td>0</td>\n",
       "      <td>0</td>\n",
       "      <td>1</td>\n",
       "      <td>0</td>\n",
       "      <td>0</td>\n",
       "    </tr>\n",
       "    <tr>\n",
       "      <th>UrbanRural</th>\n",
       "      <td>1</td>\n",
       "      <td>1</td>\n",
       "      <td>0</td>\n",
       "      <td>1</td>\n",
       "      <td>1</td>\n",
       "    </tr>\n",
       "    <tr>\n",
       "      <th>RevLineCr</th>\n",
       "      <td>N</td>\n",
       "      <td>Y</td>\n",
       "      <td>N</td>\n",
       "      <td>N</td>\n",
       "      <td>N</td>\n",
       "    </tr>\n",
       "    <tr>\n",
       "      <th>LowDoc</th>\n",
       "      <td>N</td>\n",
       "      <td>N</td>\n",
       "      <td>Y</td>\n",
       "      <td>N</td>\n",
       "      <td>N</td>\n",
       "    </tr>\n",
       "    <tr>\n",
       "      <th>ChgOffDate</th>\n",
       "      <td>6-Jan-12</td>\n",
       "      <td>NaN</td>\n",
       "      <td>NaN</td>\n",
       "      <td>NaN</td>\n",
       "      <td>NaN</td>\n",
       "    </tr>\n",
       "    <tr>\n",
       "      <th>DisbursementDate</th>\n",
       "      <td>2010-06-01 00:00:00</td>\n",
       "      <td>2010-07-12 00:00:00</td>\n",
       "      <td>1996-04-30 00:00:00</td>\n",
       "      <td>2010-03-08 00:00:00</td>\n",
       "      <td>2010-03-09 00:00:00</td>\n",
       "    </tr>\n",
       "    <tr>\n",
       "      <th>DisbursementGross</th>\n",
       "      <td>10000</td>\n",
       "      <td>120700</td>\n",
       "      <td>65000</td>\n",
       "      <td>240000</td>\n",
       "      <td>120000</td>\n",
       "    </tr>\n",
       "    <tr>\n",
       "      <th>BalanceGross</th>\n",
       "      <td>$0.00</td>\n",
       "      <td>$0.00</td>\n",
       "      <td>$0.00</td>\n",
       "      <td>$0.00</td>\n",
       "      <td>$0.00</td>\n",
       "    </tr>\n",
       "    <tr>\n",
       "      <th>MIS_Status</th>\n",
       "      <td>CHGOFF</td>\n",
       "      <td>P I F</td>\n",
       "      <td>P I F</td>\n",
       "      <td>P I F</td>\n",
       "      <td>P I F</td>\n",
       "    </tr>\n",
       "    <tr>\n",
       "      <th>ChgOffPrinGr</th>\n",
       "      <td>$9,482.00</td>\n",
       "      <td>$0.00</td>\n",
       "      <td>$0.00</td>\n",
       "      <td>$0.00</td>\n",
       "      <td>$0.00</td>\n",
       "    </tr>\n",
       "    <tr>\n",
       "      <th>GrAppv</th>\n",
       "      <td>$10,000.00</td>\n",
       "      <td>$25,000.00</td>\n",
       "      <td>$65,000.00</td>\n",
       "      <td>$240,000.00</td>\n",
       "      <td>$120,000.00</td>\n",
       "    </tr>\n",
       "    <tr>\n",
       "      <th>SBA_Appv</th>\n",
       "      <td>$8,500.00</td>\n",
       "      <td>$12,500.00</td>\n",
       "      <td>$52,000.00</td>\n",
       "      <td>$216,000.00</td>\n",
       "      <td>$108,000.00</td>\n",
       "    </tr>\n",
       "    <tr>\n",
       "      <th>County_Fips</th>\n",
       "      <td>8031</td>\n",
       "      <td>8031</td>\n",
       "      <td>8031</td>\n",
       "      <td>8001</td>\n",
       "      <td>8041</td>\n",
       "    </tr>\n",
       "    <tr>\n",
       "      <th>County_Name</th>\n",
       "      <td>Denver</td>\n",
       "      <td>Denver</td>\n",
       "      <td>Denver</td>\n",
       "      <td>Adams</td>\n",
       "      <td>El Paso</td>\n",
       "    </tr>\n",
       "    <tr>\n",
       "      <th>TotalLoansInCounty</th>\n",
       "      <td>3647</td>\n",
       "      <td>3647</td>\n",
       "      <td>3647</td>\n",
       "      <td>1929</td>\n",
       "      <td>1977</td>\n",
       "    </tr>\n",
       "    <tr>\n",
       "      <th>PIF_RateByCounty</th>\n",
       "      <td>0.839232</td>\n",
       "      <td>0.839232</td>\n",
       "      <td>0.839232</td>\n",
       "      <td>0.752722</td>\n",
       "      <td>0.819838</td>\n",
       "    </tr>\n",
       "    <tr>\n",
       "      <th>MedIncome</th>\n",
       "      <td>47786</td>\n",
       "      <td>47786</td>\n",
       "      <td>29346</td>\n",
       "      <td>30299</td>\n",
       "      <td>37699</td>\n",
       "    </tr>\n",
       "    <tr>\n",
       "      <th>Population</th>\n",
       "      <td>603300</td>\n",
       "      <td>603300</td>\n",
       "      <td>527643</td>\n",
       "      <td>443680</td>\n",
       "      <td>626916</td>\n",
       "    </tr>\n",
       "    <tr>\n",
       "      <th>PopChange</th>\n",
       "      <td>0.139801</td>\n",
       "      <td>0.139801</td>\n",
       "      <td>0.139801</td>\n",
       "      <td>0.293547</td>\n",
       "      <td>0.250686</td>\n",
       "    </tr>\n",
       "    <tr>\n",
       "      <th>LaborForceInCty</th>\n",
       "      <td>347590</td>\n",
       "      <td>347590</td>\n",
       "      <td>278159</td>\n",
       "      <td>234221</td>\n",
       "      <td>306308</td>\n",
       "    </tr>\n",
       "    <tr>\n",
       "      <th>EmployedInCty</th>\n",
       "      <td>315922</td>\n",
       "      <td>315922</td>\n",
       "      <td>264256</td>\n",
       "      <td>210728</td>\n",
       "      <td>277678</td>\n",
       "    </tr>\n",
       "    <tr>\n",
       "      <th>UnempInCty</th>\n",
       "      <td>31668</td>\n",
       "      <td>31668</td>\n",
       "      <td>13903</td>\n",
       "      <td>23493</td>\n",
       "      <td>28630</td>\n",
       "    </tr>\n",
       "    <tr>\n",
       "      <th>UnempRateInCty</th>\n",
       "      <td>9.1</td>\n",
       "      <td>9.1</td>\n",
       "      <td>5</td>\n",
       "      <td>10</td>\n",
       "      <td>9.3</td>\n",
       "    </tr>\n",
       "    <tr>\n",
       "      <th>DeathsPer100k</th>\n",
       "      <td>823.4</td>\n",
       "      <td>823.4</td>\n",
       "      <td>823.4</td>\n",
       "      <td>562.9</td>\n",
       "      <td>565.8</td>\n",
       "    </tr>\n",
       "    <tr>\n",
       "      <th>PayDelay</th>\n",
       "      <td>-2</td>\n",
       "      <td>-1</td>\n",
       "      <td>-9</td>\n",
       "      <td>-3</td>\n",
       "      <td>-2</td>\n",
       "    </tr>\n",
       "  </tbody>\n",
       "</table>\n",
       "</div>"
      ],
      "text/plain": [
       "                                             2614  \\\n",
       "Name                        PREMIER SECURITY, INC   \n",
       "City                                       Denver   \n",
       "Bank                SUPERIOR FINANCIAL GROUP, LLC   \n",
       "BankState                                      CA   \n",
       "NAICS                                      561612   \n",
       "ApprovalDate                  2010-06-03 00:00:00   \n",
       "ApprovalFY                                   2010   \n",
       "Term                                          107   \n",
       "NoEmp                                           2   \n",
       "NewExist                                        1   \n",
       "CreateJob                                      15   \n",
       "RetainedJob                                     2   \n",
       "FranchiseCode                                   0   \n",
       "UrbanRural                                      1   \n",
       "RevLineCr                                       N   \n",
       "LowDoc                                          N   \n",
       "ChgOffDate                               6-Jan-12   \n",
       "DisbursementDate              2010-06-01 00:00:00   \n",
       "DisbursementGross                           10000   \n",
       "BalanceGross                               $0.00    \n",
       "MIS_Status                                 CHGOFF   \n",
       "ChgOffPrinGr                           $9,482.00    \n",
       "GrAppv                                $10,000.00    \n",
       "SBA_Appv                               $8,500.00    \n",
       "County_Fips                                  8031   \n",
       "County_Name                                Denver   \n",
       "TotalLoansInCounty                           3647   \n",
       "PIF_RateByCounty                         0.839232   \n",
       "MedIncome                                   47786   \n",
       "Population                                 603300   \n",
       "PopChange                                0.139801   \n",
       "LaborForceInCty                            347590   \n",
       "EmployedInCty                              315922   \n",
       "UnempInCty                                  31668   \n",
       "UnempRateInCty                                9.1   \n",
       "DeathsPer100k                               823.4   \n",
       "PayDelay                                       -2   \n",
       "\n",
       "                                              2633                 4451  \\\n",
       "Name                            Huff & Leslie, LLP        FANDANGO,INC.   \n",
       "City                                        Denver               Denver   \n",
       "Bank                JPMORGAN CHASE BANK NATL ASSOC            FIRSTBANK   \n",
       "BankState                                       IL                   CO   \n",
       "NAICS                                       541110                    0   \n",
       "ApprovalDate                   2010-07-13 00:00:00  1996-05-09 00:00:00   \n",
       "ApprovalFY                                    2010                 1996   \n",
       "Term                                            84                   60   \n",
       "NoEmp                                            2                    3   \n",
       "NewExist                                         1                    2   \n",
       "CreateJob                                        1                    0   \n",
       "RetainedJob                                      0                    0   \n",
       "FranchiseCode                                    0                    1   \n",
       "UrbanRural                                       1                    0   \n",
       "RevLineCr                                        Y                    N   \n",
       "LowDoc                                           N                    Y   \n",
       "ChgOffDate                                     NaN                  NaN   \n",
       "DisbursementDate               2010-07-12 00:00:00  1996-04-30 00:00:00   \n",
       "DisbursementGross                           120700                65000   \n",
       "BalanceGross                                $0.00                $0.00    \n",
       "MIS_Status                                   P I F                P I F   \n",
       "ChgOffPrinGr                                $0.00                $0.00    \n",
       "GrAppv                                 $25,000.00           $65,000.00    \n",
       "SBA_Appv                               $12,500.00           $52,000.00    \n",
       "County_Fips                                   8031                 8031   \n",
       "County_Name                                 Denver               Denver   \n",
       "TotalLoansInCounty                            3647                 3647   \n",
       "PIF_RateByCounty                          0.839232             0.839232   \n",
       "MedIncome                                    47786                29346   \n",
       "Population                                  603300               527643   \n",
       "PopChange                                 0.139801             0.139801   \n",
       "LaborForceInCty                             347590               278159   \n",
       "EmployedInCty                               315922               264256   \n",
       "UnempInCty                                   31668                13903   \n",
       "UnempRateInCty                                 9.1                    5   \n",
       "DeathsPer100k                                823.4                823.4   \n",
       "PayDelay                                        -1                   -9   \n",
       "\n",
       "                                   5845                  7662  \n",
       "Name                  Trang Thi Ai Tran  BRAZOS BUILDERS, INC  \n",
       "City                             Aurora      Colorado Springs  \n",
       "Bank                      WILSHIRE BANK           5 STAR BANK  \n",
       "BankState                            CA                    CO  \n",
       "NAICS                            445310                236210  \n",
       "ApprovalDate        2010-03-11 00:00:00   2010-03-11 00:00:00  \n",
       "ApprovalFY                         2010                  2010  \n",
       "Term                                120                    60  \n",
       "NoEmp                                 3                     2  \n",
       "NewExist                              1                     1  \n",
       "CreateJob                             0                     3  \n",
       "RetainedJob                           3                     2  \n",
       "FranchiseCode                         0                     0  \n",
       "UrbanRural                            1                     1  \n",
       "RevLineCr                             N                     N  \n",
       "LowDoc                                N                     N  \n",
       "ChgOffDate                          NaN                   NaN  \n",
       "DisbursementDate    2010-03-08 00:00:00   2010-03-09 00:00:00  \n",
       "DisbursementGross                240000                120000  \n",
       "BalanceGross                     $0.00                 $0.00   \n",
       "MIS_Status                        P I F                 P I F  \n",
       "ChgOffPrinGr                     $0.00                 $0.00   \n",
       "GrAppv                     $240,000.00           $120,000.00   \n",
       "SBA_Appv                   $216,000.00           $108,000.00   \n",
       "County_Fips                        8001                  8041  \n",
       "County_Name                       Adams               El Paso  \n",
       "TotalLoansInCounty                 1929                  1977  \n",
       "PIF_RateByCounty               0.752722              0.819838  \n",
       "MedIncome                         30299                 37699  \n",
       "Population                       443680                626916  \n",
       "PopChange                      0.293547              0.250686  \n",
       "LaborForceInCty                  234221                306308  \n",
       "EmployedInCty                    210728                277678  \n",
       "UnempInCty                        23493                 28630  \n",
       "UnempRateInCty                       10                   9.3  \n",
       "DeathsPer100k                     562.9                 565.8  \n",
       "PayDelay                             -3                    -2  "
      ]
     },
     "execution_count": 129,
     "metadata": {},
     "output_type": "execute_result"
    }
   ],
   "source": [
    "# And let's also investigate the negative values :\n",
    "\n",
    "df[df.PayDelay < 0].head().T"
   ]
  },
  {
   "cell_type": "code",
   "execution_count": 130,
   "metadata": {},
   "outputs": [],
   "source": [
    "# Still, to avoid any strange modeling issues, we will change any values less than 1 day to be 1 day. \n",
    "# And any delay values greater than 1000 days to be 1000 days (somewhat arbitrary, admittedly)\n",
    "\n",
    "df.loc[df['PayDelay'] < 1, ['PayDelay']] = 1\n",
    "df.loc[df['PayDelay'] > 1000, ['PayDelay']] = 1000\n"
   ]
  },
  {
   "cell_type": "code",
   "execution_count": 131,
   "metadata": {},
   "outputs": [
    {
     "data": {
      "image/png": "[encoded data removed]",
      "text/plain": [
       "<Figure size 432x288 with 1 Axes>"
      ]
     },
     "metadata": {
      "needs_background": "light"
     },
     "output_type": "display_data"
    }
   ],
   "source": [
    "# The resulting distribution. We're now ready to delete the date columns.  \n",
    "\n",
    "_ = df.PayDelay.hist(bins=150,density=True, histtype='step', cumulative=True)\n",
    "_ = plt.xlabel('Days to get $ (Red line is Mean)')\n",
    "_ = plt.axvline(np.mean(df.PayDelay), color='red')\n",
    "plt.show()"
   ]
  },
  {
   "cell_type": "markdown",
   "metadata": {},
   "source": [
    "#### Wholesale deletion of a bunch of columns we don't need: ####\n",
    "First off, we'll get rid of some columns we won't need in our regression efforts.   \n",
    "1 - Name: Name of Individual  \n",
    "2 - City: City of Business (we are already importing a lot of couty-specific information to the model)  \n",
    "3 - Bank: We will assume that the bank the loan is with is not a significant factor.  \n",
    "4 - BankState: The state of the branch of bank used. Again, assumed to be not significant.  \n",
    "5 - UrbanRural: By importing a lot of the demographic information by county, we in effect have this data already.  \n",
    "6 - ChgOffDate: Assume that loan payment performance os not a function of when in the calendar year the loan was charged off.  \n",
    "7 - BalanceGross: A redundant feature to the loan amount.  \n",
    "8 - County_Fips: This is just a key column for adding other data.  \n",
    "9 - County_Name: County name shouldn't matter either.  \n",
    "10- GrAppv: Gross amount of loan approved by bank - highly correlated to gross disbursement.  \n",
    "11- SBA_Appv: SBA's guaranteed amount of approved loan - again, highly correlated to gross disbursement.  \n",
    "12- ChgOffPrinGr: Amount charged off, which will be mostly empty data since most loans get paid off.  \n",
    "13- ApprovalDate: We will assume that when in the year the loan was approved is not a significant explanatory variable for loan payoff.  \n",
    "14- DisbursementDate: Similar to approval date, but the calendar date of actual money disbursement.\n"
   ]
  },
  {
   "cell_type": "code",
   "execution_count": 132,
   "metadata": {},
   "outputs": [
    {
     "data": {
      "text/html": [
       "<div>\n",
       "<style scoped>\n",
       "    .dataframe tbody tr th:only-of-type {\n",
       "        vertical-align: middle;\n",
       "    }\n",
       "\n",
       "    .dataframe tbody tr th {\n",
       "        vertical-align: top;\n",
       "    }\n",
       "\n",
       "    .dataframe thead th {\n",
       "        text-align: right;\n",
       "    }\n",
       "</style>\n",
       "<table border=\"1\" class=\"dataframe\">\n",
       "  <thead>\n",
       "    <tr style=\"text-align: right;\">\n",
       "      <th></th>\n",
       "      <th>0</th>\n",
       "      <th>1</th>\n",
       "      <th>2</th>\n",
       "      <th>3</th>\n",
       "      <th>4</th>\n",
       "    </tr>\n",
       "  </thead>\n",
       "  <tbody>\n",
       "    <tr>\n",
       "      <th>NAICS</th>\n",
       "      <td>621210</td>\n",
       "      <td>333131</td>\n",
       "      <td>621210</td>\n",
       "      <td>811111</td>\n",
       "      <td>0</td>\n",
       "    </tr>\n",
       "    <tr>\n",
       "      <th>ApprovalFY</th>\n",
       "      <td>2006</td>\n",
       "      <td>1997</td>\n",
       "      <td>1997</td>\n",
       "      <td>2005</td>\n",
       "      <td>1997</td>\n",
       "    </tr>\n",
       "    <tr>\n",
       "      <th>Term</th>\n",
       "      <td>264</td>\n",
       "      <td>60</td>\n",
       "      <td>120</td>\n",
       "      <td>35</td>\n",
       "      <td>60</td>\n",
       "    </tr>\n",
       "    <tr>\n",
       "      <th>NoEmp</th>\n",
       "      <td>9</td>\n",
       "      <td>2</td>\n",
       "      <td>4</td>\n",
       "      <td>3</td>\n",
       "      <td>2</td>\n",
       "    </tr>\n",
       "    <tr>\n",
       "      <th>NewExist</th>\n",
       "      <td>1</td>\n",
       "      <td>1</td>\n",
       "      <td>1</td>\n",
       "      <td>1</td>\n",
       "      <td>1</td>\n",
       "    </tr>\n",
       "    <tr>\n",
       "      <th>CreateJob</th>\n",
       "      <td>0</td>\n",
       "      <td>0</td>\n",
       "      <td>0</td>\n",
       "      <td>0</td>\n",
       "      <td>0</td>\n",
       "    </tr>\n",
       "    <tr>\n",
       "      <th>RetainedJob</th>\n",
       "      <td>9</td>\n",
       "      <td>0</td>\n",
       "      <td>0</td>\n",
       "      <td>0</td>\n",
       "      <td>0</td>\n",
       "    </tr>\n",
       "    <tr>\n",
       "      <th>FranchiseCode</th>\n",
       "      <td>1</td>\n",
       "      <td>1</td>\n",
       "      <td>1</td>\n",
       "      <td>1</td>\n",
       "      <td>1</td>\n",
       "    </tr>\n",
       "    <tr>\n",
       "      <th>RevLineCr</th>\n",
       "      <td>0</td>\n",
       "      <td>N</td>\n",
       "      <td>0</td>\n",
       "      <td>N</td>\n",
       "      <td>N</td>\n",
       "    </tr>\n",
       "    <tr>\n",
       "      <th>LowDoc</th>\n",
       "      <td>N</td>\n",
       "      <td>Y</td>\n",
       "      <td>N</td>\n",
       "      <td>N</td>\n",
       "      <td>Y</td>\n",
       "    </tr>\n",
       "    <tr>\n",
       "      <th>DisbursementGross</th>\n",
       "      <td>1.5242e+06</td>\n",
       "      <td>90000</td>\n",
       "      <td>59000</td>\n",
       "      <td>50000</td>\n",
       "      <td>21200</td>\n",
       "    </tr>\n",
       "    <tr>\n",
       "      <th>MIS_Status</th>\n",
       "      <td>P I F</td>\n",
       "      <td>P I F</td>\n",
       "      <td>P I F</td>\n",
       "      <td>CHGOFF</td>\n",
       "      <td>P I F</td>\n",
       "    </tr>\n",
       "    <tr>\n",
       "      <th>TotalLoansInCounty</th>\n",
       "      <td>445</td>\n",
       "      <td>445</td>\n",
       "      <td>445</td>\n",
       "      <td>445</td>\n",
       "      <td>445</td>\n",
       "    </tr>\n",
       "    <tr>\n",
       "      <th>PIF_RateByCounty</th>\n",
       "      <td>0.876404</td>\n",
       "      <td>0.876404</td>\n",
       "      <td>0.876404</td>\n",
       "      <td>0.876404</td>\n",
       "      <td>0.876404</td>\n",
       "    </tr>\n",
       "    <tr>\n",
       "      <th>MedIncome</th>\n",
       "      <td>32644</td>\n",
       "      <td>21835</td>\n",
       "      <td>21835</td>\n",
       "      <td>30645</td>\n",
       "      <td>21835</td>\n",
       "    </tr>\n",
       "    <tr>\n",
       "      <th>Population</th>\n",
       "      <td>134665</td>\n",
       "      <td>110566</td>\n",
       "      <td>110566</td>\n",
       "      <td>130194</td>\n",
       "      <td>110566</td>\n",
       "    </tr>\n",
       "    <tr>\n",
       "      <th>PopChange</th>\n",
       "      <td>0.276615</td>\n",
       "      <td>0.276615</td>\n",
       "      <td>0.276615</td>\n",
       "      <td>0.276615</td>\n",
       "      <td>0.276615</td>\n",
       "    </tr>\n",
       "    <tr>\n",
       "      <th>LaborForceInCty</th>\n",
       "      <td>74156</td>\n",
       "      <td>57738</td>\n",
       "      <td>57738</td>\n",
       "      <td>70811</td>\n",
       "      <td>57738</td>\n",
       "    </tr>\n",
       "    <tr>\n",
       "      <th>EmployedInCty</th>\n",
       "      <td>71219</td>\n",
       "      <td>55069</td>\n",
       "      <td>55069</td>\n",
       "      <td>67350</td>\n",
       "      <td>55069</td>\n",
       "    </tr>\n",
       "    <tr>\n",
       "      <th>UnempInCty</th>\n",
       "      <td>2937</td>\n",
       "      <td>2669</td>\n",
       "      <td>2669</td>\n",
       "      <td>3461</td>\n",
       "      <td>2669</td>\n",
       "    </tr>\n",
       "    <tr>\n",
       "      <th>UnempRateInCty</th>\n",
       "      <td>4</td>\n",
       "      <td>4.6</td>\n",
       "      <td>4.6</td>\n",
       "      <td>4.9</td>\n",
       "      <td>4.6</td>\n",
       "    </tr>\n",
       "    <tr>\n",
       "      <th>DeathsPer100k</th>\n",
       "      <td>977.2</td>\n",
       "      <td>977.2</td>\n",
       "      <td>977.2</td>\n",
       "      <td>977.2</td>\n",
       "      <td>977.2</td>\n",
       "    </tr>\n",
       "    <tr>\n",
       "      <th>PayDelay</th>\n",
       "      <td>52</td>\n",
       "      <td>85</td>\n",
       "      <td>47</td>\n",
       "      <td>98</td>\n",
       "      <td>45</td>\n",
       "    </tr>\n",
       "  </tbody>\n",
       "</table>\n",
       "</div>"
      ],
      "text/plain": [
       "                             0         1         2         3         4\n",
       "NAICS                   621210    333131    621210    811111         0\n",
       "ApprovalFY                2006      1997      1997      2005      1997\n",
       "Term                       264        60       120        35        60\n",
       "NoEmp                        9         2         4         3         2\n",
       "NewExist                     1         1         1         1         1\n",
       "CreateJob                    0         0         0         0         0\n",
       "RetainedJob                  9         0         0         0         0\n",
       "FranchiseCode                1         1         1         1         1\n",
       "RevLineCr                    0         N         0         N         N\n",
       "LowDoc                       N         Y         N         N         Y\n",
       "DisbursementGross   1.5242e+06     90000     59000     50000     21200\n",
       "MIS_Status               P I F     P I F     P I F    CHGOFF     P I F\n",
       "TotalLoansInCounty         445       445       445       445       445\n",
       "PIF_RateByCounty      0.876404  0.876404  0.876404  0.876404  0.876404\n",
       "MedIncome                32644     21835     21835     30645     21835\n",
       "Population              134665    110566    110566    130194    110566\n",
       "PopChange             0.276615  0.276615  0.276615  0.276615  0.276615\n",
       "LaborForceInCty          74156     57738     57738     70811     57738\n",
       "EmployedInCty            71219     55069     55069     67350     55069\n",
       "UnempInCty                2937      2669      2669      3461      2669\n",
       "UnempRateInCty               4       4.6       4.6       4.9       4.6\n",
       "DeathsPer100k            977.2     977.2     977.2     977.2     977.2\n",
       "PayDelay                    52        85        47        98        45"
      ]
     },
     "execution_count": 132,
     "metadata": {},
     "output_type": "execute_result"
    }
   ],
   "source": [
    "df = df.drop(columns=['Name', 'City', 'Bank', 'BankState', 'UrbanRural', 'ChgOffDate', 'BalanceGross', \\\n",
    "                      'County_Fips', 'County_Name', 'GrAppv','SBA_Appv', 'ChgOffPrinGr', 'ApprovalDate','DisbursementDate'])\n",
    "\n",
    "df.head().T"
   ]
  },
  {
   "cell_type": "code",
   "execution_count": 4,
   "metadata": {},
   "outputs": [],
   "source": [
    "# Here we'll define a function that'll take a look at the test statistic for two proportions,\n",
    "# To test against a hypothesis that they came from the same binomial distribution.\n",
    "\n",
    "\n",
    "def props(a_yes, a_no, b_yes, b_no):\n",
    "    n1 = a_yes + a_no                     # <------Population of first proportion (e.g., standard loans)\n",
    "    n2 = b_yes + b_no                     # <------Population of 2nd proportion (e.g., low-doc loans)\n",
    "    p1 = a_yes/n1                         # <------1st proportion\n",
    "    p2 = b_yes/ n2                         # <------2nd proportion\n",
    "    p_hat = (n1*p1 + n2*p2)/(n1 + n2)     # <------Combined proportion\n",
    "\n",
    "    z_stat = (p2 - p1)/np.sqrt(p_hat*(1-p_hat)* (1/n1 + 1/n2))\n",
    "\n",
    "    return print(n1, n2, p1, p2, p_hat, z_stat)\n",
    "\n"
   ]
  },
  {
   "cell_type": "markdown",
   "metadata": {},
   "source": [
    "#### NewExist (and converting it to NewBiz) ##\n",
    "Next we explore some categorical and discrete variables, and how they relate to loan performance. 'NewExist' is a variable that codes whether the business is new (2) or existing (1):"
   ]
  },
  {
   "cell_type": "code",
   "execution_count": 5,
   "metadata": {},
   "outputs": [
    {
     "data": {
      "text/plain": [
       "NewExist  MIS_Status\n",
       "0.0       P I F            17\n",
       "1.0       CHGOFF         2559\n",
       "          P I F         12329\n",
       "2.0       CHGOFF          814\n",
       "          P I F          3646\n",
       "Name: NAICS, dtype: int64"
      ]
     },
     "execution_count": 5,
     "metadata": {},
     "output_type": "execute_result"
    }
   ],
   "source": [
    "df.groupby(['NewExist','MIS_Status']).count()['NAICS']"
   ]
  },
  {
   "cell_type": "markdown",
   "metadata": {},
   "source": [
    "For existing businesses, loans get repayed about 82.8% of the time. For new businesses, than number is about 81.7%. So if there is a signal here, it's a pretty weak one. Still, we'll redefine this column as \"NewBiz\", whether the business is new(1) or not(0). Here well also need to get rid of the 17 rows that don't fit. "
   ]
  },
  {
   "cell_type": "code",
   "execution_count": 6,
   "metadata": {},
   "outputs": [
    {
     "name": "stdout",
     "output_type": "stream",
     "text": [
      "14888 4460 0.8281166039763568 0.8174887892376682 0.8256667355799049 -1.641039444706116\n"
     ]
    }
   ],
   "source": [
    "# Let's take a look at the test statistic for these two binomial distributions.\n",
    "\n",
    "props(12329, 2559, 3646, 814)\n",
    "\n",
    "# Since z-statistic is less than 2, it's possible that the two proportions came from the same binomial distribution. "
   ]
  },
  {
   "cell_type": "code",
   "execution_count": 7,
   "metadata": {},
   "outputs": [
    {
     "data": {
      "text/plain": [
       "dtype('float64')"
      ]
     },
     "execution_count": 7,
     "metadata": {},
     "output_type": "execute_result"
    }
   ],
   "source": [
    "df.NewExist.dtypes"
   ]
  },
  {
   "cell_type": "code",
   "execution_count": 8,
   "metadata": {},
   "outputs": [],
   "source": [
    "# Redefine and rename the NewExist column: new business (1) or not (0): \n",
    "\n",
    "df = df[df['NewExist'] >= 1.0]     # <------ Get rid of 17 rows with ambiguous definition\n",
    "\n",
    "df['NewExist'] = df['NewExist'] - 1        \n",
    "\n",
    "df = df.rename(columns={'NewExist': 'NewBiz'}) "
   ]
  },
  {
   "cell_type": "code",
   "execution_count": 9,
   "metadata": {},
   "outputs": [
    {
     "data": {
      "text/plain": [
       "NewBiz  MIS_Status\n",
       "0.0     CHGOFF         2559\n",
       "        P I F         12329\n",
       "1.0     CHGOFF          814\n",
       "        P I F          3646\n",
       "Name: NAICS, dtype: int64"
      ]
     },
     "execution_count": 9,
     "metadata": {},
     "output_type": "execute_result"
    }
   ],
   "source": [
    "# Resulting categorical variable is much cleaner:\n",
    "\n",
    "df.groupby(['NewBiz','MIS_Status']).count()['NAICS']"
   ]
  },
  {
   "cell_type": "markdown",
   "metadata": {},
   "source": [
    "#### RevLineCr ####\n",
    "Moving on, we look at 'RevLineCr', which refers to whether or not the loan involved a revolving line of credit. In this case(below), with a revolving line of cerdit, loans get repayed about 67.4% of the time. With no revolving line of credit, loans get repayed about 89.0% of the time. Clearly, this is a significant variable.  \n",
    "  \n",
    "  Some cleanup of this variable will be needed. "
   ]
  },
  {
   "cell_type": "code",
   "execution_count": 10,
   "metadata": {},
   "outputs": [
    {
     "data": {
      "text/plain": [
       "RevLineCr  MIS_Status\n",
       "0          CHGOFF         935\n",
       "           P I F         5235\n",
       "2          P I F            1\n",
       "5          P I F            1\n",
       "N          CHGOFF         915\n",
       "           P I F         7442\n",
       "T          CHGOFF          28\n",
       "           P I F           81\n",
       "Y          CHGOFF        1494\n",
       "           P I F         3096\n",
       "Name: NAICS, dtype: int64"
      ]
     },
     "execution_count": 10,
     "metadata": {},
     "output_type": "execute_result"
    }
   ],
   "source": [
    "df.groupby(['RevLineCr','MIS_Status']).count()['NAICS']"
   ]
  },
  {
   "cell_type": "code",
   "execution_count": 11,
   "metadata": {},
   "outputs": [
    {
     "name": "stdout",
     "output_type": "stream",
     "text": [
      "8357 4590 0.8905109489051095 0.6745098039215687 0.8139337298215803 -30.211665946306276\n"
     ]
    }
   ],
   "source": [
    "# Proportion test assuming 0 is a separate proportion:\n",
    "\n",
    "props(7442, 915, 3096, 1494)"
   ]
  },
  {
   "cell_type": "code",
   "execution_count": 12,
   "metadata": {},
   "outputs": [],
   "source": [
    "# We will assume '0' = 'N' & 'T', '2' and '5' = 'Y'\n",
    "\n",
    "df['RevLineCr'] = df['RevLineCr'].map({'0': 0, 'N': 0, 'Y' : 1, 'T' : 1, '5' : 1, '2' : 1})\n"
   ]
  },
  {
   "cell_type": "code",
   "execution_count": 13,
   "metadata": {},
   "outputs": [
    {
     "data": {
      "text/plain": [
       "0.0    14531\n",
       "1.0     4702\n",
       "Name: RevLineCr, dtype: int64"
      ]
     },
     "execution_count": 13,
     "metadata": {},
     "output_type": "execute_result"
    }
   ],
   "source": [
    "df.RevLineCr.value_counts()"
   ]
  },
  {
   "cell_type": "code",
   "execution_count": 14,
   "metadata": {},
   "outputs": [
    {
     "data": {
      "text/plain": [
       "RevLineCr  MIS_Status\n",
       "0.0        CHGOFF         1850\n",
       "           P I F         12677\n",
       "1.0        CHGOFF         1522\n",
       "           P I F          3179\n",
       "Name: NAICS, dtype: int64"
      ]
     },
     "execution_count": 14,
     "metadata": {},
     "output_type": "execute_result"
    }
   ],
   "source": [
    "df.groupby(['RevLineCr','MIS_Status']).count()['NAICS']"
   ]
  },
  {
   "cell_type": "code",
   "execution_count": 15,
   "metadata": {},
   "outputs": [
    {
     "name": "stdout",
     "output_type": "stream",
     "text": [
      "14527 4701 0.8726509258621876 0.6762390980642417 0.8246307468275431 -30.780607443988522\n"
     ]
    }
   ],
   "source": [
    "# The net is to preserve the dataset size and yield very similar proportions as before:\n",
    "\n",
    "props(12677, 1850, 3179, 1522)"
   ]
  },
  {
   "cell_type": "markdown",
   "metadata": {},
   "source": [
    "#### LowDoc ####\n",
    "Next variable is 'LowDoc', whether the loan is a low-documentation type. 90.7% of Low-Doc loans are repayed, but loans with standard documentation have a 81.5% repayment rate. While this is a big difference, the number of Low-Doc loans in the dataset is not that big, so the effect may not be statistically significant and should be looked at more closely."
   ]
  },
  {
   "cell_type": "code",
   "execution_count": 16,
   "metadata": {},
   "outputs": [
    {
     "data": {
      "text/plain": [
       "LowDoc  MIS_Status\n",
       "0       CHGOFF            1\n",
       "        P I F            38\n",
       "A       CHGOFF            2\n",
       "        P I F             6\n",
       "N       CHGOFF         3133\n",
       "        P I F         13783\n",
       "S       CHGOFF            2\n",
       "        P I F             6\n",
       "Y       CHGOFF          215\n",
       "        P I F          2106\n",
       "Name: NAICS, dtype: int64"
      ]
     },
     "execution_count": 16,
     "metadata": {},
     "output_type": "execute_result"
    }
   ],
   "source": [
    "df.groupby(['LowDoc','MIS_Status']).count()['NAICS']"
   ]
  },
  {
   "cell_type": "code",
   "execution_count": 17,
   "metadata": {},
   "outputs": [
    {
     "name": "stdout",
     "output_type": "stream",
     "text": [
      "16932 2324 0.8149066855657926 0.907487091222031 0.8260801828001662 11.041360643915272\n"
     ]
    }
   ],
   "source": [
    "# Let's take a look at the test statistic for these two binomial distributions.\n",
    "\n",
    "props(13798, 3134, 2109, 215)\n",
    "\n",
    "# Since z-statistic is much larger than 2, we conclude the difference in proportions is statistically significant. "
   ]
  },
  {
   "cell_type": "code",
   "execution_count": 18,
   "metadata": {},
   "outputs": [
    {
     "data": {
      "text/plain": [
       "LowDoc  MIS_Status\n",
       "N       CHGOFF         3133\n",
       "        P I F         13783\n",
       "Y       CHGOFF          215\n",
       "        P I F          2106\n",
       "Name: NAICS, dtype: int64"
      ]
     },
     "execution_count": 18,
     "metadata": {},
     "output_type": "execute_result"
    }
   ],
   "source": [
    "# To further clean this dataset, we will remove low-doc values of 0, A, and S:\n",
    "\n",
    "df = df[df.LowDoc != '0'] \n",
    "df = df[df.LowDoc != 'A'] \n",
    "df = df[df.LowDoc != 'S'] \n",
    "\n",
    "df.groupby(['LowDoc','MIS_Status']).count()['NAICS']"
   ]
  },
  {
   "cell_type": "markdown",
   "metadata": {},
   "source": [
    "#### FranchiseCode ####\n",
    "Franchise is a coding variable for whether or not the business is a franchise, and if so, what franchise it is. Values of 0 or 1 mean the business is not a franchise."
   ]
  },
  {
   "cell_type": "code",
   "execution_count": 19,
   "metadata": {},
   "outputs": [
    {
     "data": {
      "text/plain": [
       "1        13759\n",
       "0         4388\n",
       "78760       51\n",
       "68020       43\n",
       "10494       28\n",
       "         ...  \n",
       "74750        1\n",
       "9802         1\n",
       "4452         1\n",
       "54400        1\n",
       "5670         1\n",
       "Name: FranchiseCode, Length: 385, dtype: int64"
      ]
     },
     "execution_count": 19,
     "metadata": {},
     "output_type": "execute_result"
    }
   ],
   "source": [
    "df.FranchiseCode.value_counts()"
   ]
  },
  {
   "cell_type": "code",
   "execution_count": 20,
   "metadata": {},
   "outputs": [],
   "source": [
    "Franch = (df.FranchiseCode <= 1)"
   ]
  },
  {
   "cell_type": "code",
   "execution_count": 21,
   "metadata": {},
   "outputs": [
    {
     "data": {
      "text/plain": [
       "True     18147\n",
       "False     1151\n",
       "Name: FranchiseCode, dtype: int64"
      ]
     },
     "execution_count": 21,
     "metadata": {},
     "output_type": "execute_result"
    }
   ],
   "source": [
    "# We can see that the dataset is overwhelmingly non-franchise businesses, nearly 95%. \n",
    "# Hence it's value as an explanatory variable is likely not high. \n",
    "\n",
    "Franch.value_counts()"
   ]
  },
  {
   "cell_type": "code",
   "execution_count": 22,
   "metadata": {},
   "outputs": [],
   "source": [
    "# Add boolean column to dataset signifying whether or not a franchise: \n",
    "df['Franch'] = Franch"
   ]
  },
  {
   "cell_type": "code",
   "execution_count": 23,
   "metadata": {},
   "outputs": [
    {
     "data": {
      "text/plain": [
       "Franch  MIS_Status\n",
       "False   CHGOFF          193\n",
       "        P I F           958\n",
       "True    CHGOFF         3175\n",
       "        P I F         14967\n",
       "Name: NAICS, dtype: int64"
      ]
     },
     "execution_count": 23,
     "metadata": {},
     "output_type": "execute_result"
    }
   ],
   "source": [
    "df.groupby(['Franch','MIS_Status']).count()['NAICS']"
   ]
  },
  {
   "cell_type": "markdown",
   "metadata": {},
   "source": [
    "The proportion of non-franchises that pay their loans in full is 82.5%, compared to 83.0% for franchises. As can be seen below, this difference results in a z-statistic of 0.47, hence there is an excellent chance the two proportions came from the same binomial distribution. \n",
    "#### ........As a result, we will drop this categorical variable from the dataset. "
   ]
  },
  {
   "cell_type": "code",
   "execution_count": 24,
   "metadata": {},
   "outputs": [
    {
     "name": "stdout",
     "output_type": "stream",
     "text": [
      "18177 1116 0.8251086537932553 0.8306451612903226 0.8254289120406366 0.47293691431195517\n"
     ]
    }
   ],
   "source": [
    "# Let's take a look at the test statistic for these two binomial distributions.\n",
    "\n",
    "props(14998, 3179, 927,189)\n",
    "\n",
    "# Since z-statistic is < 2, we conclude the difference in proportions is NOT statistically significant."
   ]
  },
  {
   "cell_type": "code",
   "execution_count": 25,
   "metadata": {},
   "outputs": [],
   "source": [
    "# Drop Franchise Code from dataset. \n",
    "\n",
    "df = df.drop(columns=['FranchiseCode', 'Franch'])"
   ]
  },
  {
   "cell_type": "markdown",
   "metadata": {},
   "source": [
    "#### NoEmp ####\n",
    "NoEmp is a variable that shows the number of employees in an organization. We explore the distribution below:"
   ]
  },
  {
   "cell_type": "code",
   "execution_count": 26,
   "metadata": {},
   "outputs": [
    {
     "data": {
      "text/plain": [
       "1       3372\n",
       "2       2988\n",
       "3       1799\n",
       "4       1516\n",
       "5       1260\n",
       "        ... \n",
       "1451       1\n",
       "76         1\n",
       "102        1\n",
       "322        1\n",
       "191        1\n",
       "Name: NoEmp, Length: 149, dtype: int64"
      ]
     },
     "execution_count": 26,
     "metadata": {},
     "output_type": "execute_result"
    }
   ],
   "source": [
    "df.NoEmp.value_counts()"
   ]
  },
  {
   "cell_type": "code",
   "execution_count": 27,
   "metadata": {},
   "outputs": [
    {
     "data": {
      "image/png": "[encoded data removed]",
      "text/plain": [
       "<Figure size 432x288 with 1 Axes>"
      ]
     },
     "metadata": {
      "needs_background": "light"
     },
     "output_type": "display_data"
    }
   ],
   "source": [
    "_ = df.NoEmp.hist(bins=150,density=True, histtype='step',cumulative=True)\n",
    "_ = plt.xlabel('No. of Employees')\n",
    "#_ = plt.yscale('log')\n",
    "_ = plt.xscale('log')\n",
    "plt.show()"
   ]
  },
  {
   "cell_type": "markdown",
   "metadata": {},
   "source": [
    "The data suggest the vast majority of businesses have fewer than 10 employees. But there are some with hundreds or thousands of employees. For the purposes of our modeling, we can probably just label those as \"big\" and not dwell on the precise employee count. So let's cut off the distribution at, say, 100; concretely, any value > 100 will be forced to 100. Then we'll re-plot the cdf, which now appears to be an exponential distribution with a mean of 9-10 employees. "
   ]
  },
  {
   "cell_type": "code",
   "execution_count": 28,
   "metadata": {},
   "outputs": [],
   "source": [
    "# For simplicity we'll force any emplyee count > 100 to be 100:\n",
    "\n",
    "df.loc[df['NoEmp'] > 100, ['NoEmp']] = 100"
   ]
  },
  {
   "cell_type": "code",
   "execution_count": 29,
   "metadata": {},
   "outputs": [
    {
     "data": {
      "image/png": "[encoded data removed]",
      "text/plain": [
       "<Figure size 432x288 with 1 Axes>"
      ]
     },
     "metadata": {
      "needs_background": "light"
     },
     "output_type": "display_data"
    }
   ],
   "source": [
    "# Plot cdf of employee counts, with a vertical red line at the mean value. \n",
    "\n",
    "_ = df.NoEmp.hist(bins=150,density=True, histtype='step',cumulative=True)\n",
    "_ = plt.xlabel('No. of Employees (Red line is Mean)')\n",
    "_ = plt.axvline(np.mean(df.NoEmp), color='red')\n",
    "plt.show()"
   ]
  },
  {
   "cell_type": "markdown",
   "metadata": {},
   "source": [
    "#### Term ####\n",
    "We can see in the histogram below that Loan terms vary greatly in the dataset, ranging from less than one year to close to 25 years (data are in months). There are also some clearly common values: 84, 240, 120, 300 and 60 months being the top-five. "
   ]
  },
  {
   "cell_type": "code",
   "execution_count": 30,
   "metadata": {},
   "outputs": [
    {
     "data": {
      "image/png": "[encoded data removed]",
      "text/plain": [
       "<Figure size 432x288 with 1 Axes>"
      ]
     },
     "metadata": {
      "needs_background": "light"
     },
     "output_type": "display_data"
    }
   ],
   "source": [
    "_ = df.Term.hist(bins=50)\n",
    "_ = plt.xlabel('Loan Term (months)')\n",
    "plt.show()"
   ]
  },
  {
   "cell_type": "code",
   "execution_count": 31,
   "metadata": {},
   "outputs": [
    {
     "data": {
      "text/plain": [
       "84     0.258265\n",
       "240    0.128511\n",
       "120    0.104415\n",
       "60     0.072132\n",
       "300    0.071873\n",
       "         ...   \n",
       "214    0.000052\n",
       "198    0.000052\n",
       "253    0.000052\n",
       "164    0.000052\n",
       "261    0.000052\n",
       "Name: Term, Length: 307, dtype: float64"
      ]
     },
     "execution_count": 31,
     "metadata": {},
     "output_type": "execute_result"
    }
   ],
   "source": [
    "df.Term.value_counts(1)"
   ]
  },
  {
   "cell_type": "code",
   "execution_count": 32,
   "metadata": {},
   "outputs": [
    {
     "name": "stdout",
     "output_type": "stream",
     "text": [
      "<class 'pandas.core.frame.DataFrame'>\n",
      "Int64Index: 19298 entries, 0 to 19371\n",
      "Data columns (total 22 columns):\n",
      " #   Column              Non-Null Count  Dtype  \n",
      "---  ------              --------------  -----  \n",
      " 0   NAICS               19298 non-null  int64  \n",
      " 1   ApprovalFY          19298 non-null  int64  \n",
      " 2   Term                19298 non-null  int64  \n",
      " 3   NoEmp               19298 non-null  int64  \n",
      " 4   NewBiz              19298 non-null  float64\n",
      " 5   CreateJob           19298 non-null  int64  \n",
      " 6   RetainedJob         19298 non-null  int64  \n",
      " 7   RevLineCr           19183 non-null  float64\n",
      " 8   LowDoc              19242 non-null  object \n",
      " 9   DisbursementDate    19258 non-null  object \n",
      " 10  DisbursementGross   19298 non-null  float64\n",
      " 11  MIS_Status          19293 non-null  object \n",
      " 12  TotalLoansInCounty  19298 non-null  int64  \n",
      " 13  PIF_RateByCounty    19298 non-null  float64\n",
      " 14  MedIncome           19298 non-null  int64  \n",
      " 15  Population          19298 non-null  float64\n",
      " 16  PopChange           19298 non-null  float64\n",
      " 17  LaborForceInCty     19298 non-null  int64  \n",
      " 18  EmployedInCty       19298 non-null  int64  \n",
      " 19  UnempInCty          19298 non-null  int64  \n",
      " 20  UnempRateInCty      19298 non-null  float64\n",
      " 21  DeathsPer100k       18970 non-null  object \n",
      "dtypes: float64(7), int64(11), object(4)\n",
      "memory usage: 3.4+ MB\n"
     ]
    }
   ],
   "source": [
    "df.info()"
   ]
  },
  {
   "cell_type": "markdown",
   "metadata": {},
   "source": [
    "#### CreateJob & RetainedJob ####\n",
    "At first glance, it's not clear how these columns can add significant information compared to what we already have with the NoEmp column. Still we'll take a look. "
   ]
  },
  {
   "cell_type": "code",
   "execution_count": 33,
   "metadata": {},
   "outputs": [],
   "source": [
    "# To explore the created and retained job data, we should first transform it the same way we did NoEmp\"\n",
    "\n",
    "df.loc[df['CreateJob'] > 100, ['CreateJob']] = 100\n",
    "df.loc[df['RetainedJob'] > 100, ['RetainedJob']] = 100"
   ]
  },
  {
   "cell_type": "code",
   "execution_count": 36,
   "metadata": {},
   "outputs": [
    {
     "data": {
      "text/plain": [
       "<matplotlib.axes._subplots.AxesSubplot at 0x1d1577e93c8>"
      ]
     },
     "execution_count": 36,
     "metadata": {},
     "output_type": "execute_result"
    },
    {
     "data": {
      "image/png": "[encoded data removed]",
      "text/plain": [
       "<Figure size 432x288 with 1 Axes>"
      ]
     },
     "metadata": {
      "needs_background": "light"
     },
     "output_type": "display_data"
    }
   ],
   "source": [
    "# We several instances of more jobs created than have been declared to exist in the NoEmp data: \n",
    "\n",
    "sns.scatterplot(x='CreateJob', y='NoEmp', data=df)"
   ]
  },
  {
   "cell_type": "code",
   "execution_count": 38,
   "metadata": {},
   "outputs": [
    {
     "data": {
      "text/plain": [
       "<matplotlib.axes._subplots.AxesSubplot at 0x1d156ea2b48>"
      ]
     },
     "execution_count": 38,
     "metadata": {},
     "output_type": "execute_result"
    },
    {
     "data": {
      "image/png": "[encoded data removed]",
      "text/plain": [
       "<Figure size 432x288 with 1 Axes>"
      ]
     },
     "metadata": {
      "needs_background": "light"
     },
     "output_type": "display_data"
    }
   ],
   "source": [
    "# Similarly, We several instances of more jobs retained than have been declared to exist in the NoEmp data:\n",
    "\n",
    "sns.scatterplot(x='RetainedJob', y='NoEmp', data=df)"
   ]
  },
  {
   "cell_type": "code",
   "execution_count": 48,
   "metadata": {},
   "outputs": [],
   "source": [
    "# We create a new column that gets the ratio of created to total jobs. \n",
    "# We add 1 to the denominator in the event that there are no employees. \n",
    "\n",
    "df['NewHireRatio'] = df.CreateJob / (df.NoEmp + 1)"
   ]
  },
  {
   "cell_type": "code",
   "execution_count": 49,
   "metadata": {},
   "outputs": [
    {
     "data": {
      "text/plain": [
       "count    19298.000000\n",
       "mean         0.410330\n",
       "std          1.925447\n",
       "min          0.000000\n",
       "25%          0.000000\n",
       "50%          0.000000\n",
       "75%          0.253409\n",
       "max        100.000000\n",
       "Name: NewHireRatio, dtype: float64"
      ]
     },
     "execution_count": 49,
     "metadata": {},
     "output_type": "execute_result"
    }
   ],
   "source": [
    "# Describe tells us that over half of the businesses did not create any new jobs. \n",
    "\n",
    "df.NewHireRatio.describe()"
   ]
  },
  {
   "cell_type": "code",
   "execution_count": 41,
   "metadata": {},
   "outputs": [
    {
     "data": {
      "text/plain": [
       "<matplotlib.axes._subplots.AxesSubplot at 0x1d156ba0c08>"
      ]
     },
     "execution_count": 41,
     "metadata": {},
     "output_type": "execute_result"
    },
    {
     "data": {
      "image/png": "[encoded data removed]",
      "text/plain": [
       "<Figure size 432x288 with 1 Axes>"
      ]
     },
     "metadata": {
      "needs_background": "light"
     },
     "output_type": "display_data"
    }
   ],
   "source": [
    "\n",
    "# We create another column called JobSum, summing the created and retained jobs, to compare to the number of total employees:\n",
    "\n",
    "df['JobSum'] = df.CreateJob + df.RetainedJob\n",
    "\n",
    "sns.scatterplot(x='JobSum', y='NoEmp', data=df)"
   ]
  },
  {
   "cell_type": "code",
   "execution_count": 50,
   "metadata": {},
   "outputs": [
    {
     "name": "stdout",
     "output_type": "stream",
     "text": [
      "Created: 43479   Retained: 85384   Total: 191181\n"
     ]
    }
   ],
   "source": [
    "print('Created:',np.sum(df.CreateJob),'  Retained:', np.sum(df.RetainedJob),'  Total:', np.sum(df.NoEmp))"
   ]
  },
  {
   "cell_type": "markdown",
   "metadata": {},
   "source": [
    "Overall, since these columns seems to add confusion and present us with more questions than answers, I don't think we have much choice but to eliminate them from the dataset:"
   ]
  },
  {
   "cell_type": "code",
   "execution_count": 52,
   "metadata": {},
   "outputs": [],
   "source": [
    "df = df.drop(columns=['CreateJob', 'RetainedJob','NewHireRatio','JobSum'])"
   ]
  },
  {
   "cell_type": "code",
   "execution_count": 54,
   "metadata": {},
   "outputs": [],
   "source": [
    "df = df.drop(columns='PctNewHires')"
   ]
  },
  {
   "cell_type": "code",
   "execution_count": 55,
   "metadata": {},
   "outputs": [
    {
     "name": "stdout",
     "output_type": "stream",
     "text": [
      "<class 'pandas.core.frame.DataFrame'>\n",
      "Int64Index: 19298 entries, 0 to 19371\n",
      "Data columns (total 20 columns):\n",
      " #   Column              Non-Null Count  Dtype  \n",
      "---  ------              --------------  -----  \n",
      " 0   NAICS               19298 non-null  int64  \n",
      " 1   ApprovalFY          19298 non-null  int64  \n",
      " 2   Term                19298 non-null  int64  \n",
      " 3   NoEmp               19298 non-null  int64  \n",
      " 4   NewBiz              19298 non-null  float64\n",
      " 5   RevLineCr           19183 non-null  float64\n",
      " 6   LowDoc              19242 non-null  object \n",
      " 7   DisbursementDate    19258 non-null  object \n",
      " 8   DisbursementGross   19298 non-null  float64\n",
      " 9   MIS_Status          19293 non-null  object \n",
      " 10  TotalLoansInCounty  19298 non-null  int64  \n",
      " 11  PIF_RateByCounty    19298 non-null  float64\n",
      " 12  MedIncome           19298 non-null  int64  \n",
      " 13  Population          19298 non-null  float64\n",
      " 14  PopChange           19298 non-null  float64\n",
      " 15  LaborForceInCty     19298 non-null  int64  \n",
      " 16  EmployedInCty       19298 non-null  int64  \n",
      " 17  UnempInCty          19298 non-null  int64  \n",
      " 18  UnempRateInCty      19298 non-null  float64\n",
      " 19  DeathsPer100k       18970 non-null  object \n",
      "dtypes: float64(7), int64(9), object(4)\n",
      "memory usage: 3.1+ MB\n"
     ]
    }
   ],
   "source": [
    "df.info()"
   ]
  },
  {
   "cell_type": "code",
   "execution_count": 133,
   "metadata": {},
   "outputs": [],
   "source": [
    "# Write the resulting DataFrame to csv for storage for later use. \n",
    "\n",
    "file_name = 'LIC_Model_Input.csv'\n",
    "df.to_csv(file_name, encoding='utf-8', index=False)"
   ]
  },
  {
   "cell_type": "code",
   "execution_count": null,
   "metadata": {},
   "outputs": [],
   "source": []
  }
 ],
 "metadata": {
  "kernelspec": {
   "display_name": "Python 3",
   "language": "python",
   "name": "python3"
  },
  "language_info": {
   "codemirror_mode": {
    "name": "ipython",
    "version": 3
   },
   "file_extension": ".py",
   "mimetype": "text/x-python",
   "name": "python",
   "nbconvert_exporter": "python",
   "pygments_lexer": "ipython3",
   "version": "3.7.6"
  }
 },
 "nbformat": 4,
 "nbformat_minor": 4
}
