{
 "cells": [
  {
   "cell_type": "markdown",
   "metadata": {},
   "source": [
    "First we set up our libraries and import the wrangled, cleaned dataset we created:"
   ]
  },
  {
   "cell_type": "code",
   "execution_count": 1,
   "metadata": {},
   "outputs": [
    {
     "data": {
      "text/plain": [
       "'C:\\\\Users\\\\David Olivero\\\\AnacondaProjects\\\\Loans-In-Colorado'"
      ]
     },
     "execution_count": 1,
     "metadata": {},
     "output_type": "execute_result"
    }
   ],
   "source": [
    "import os\n",
    "import numpy as np\n",
    "import pandas as pd\n",
    "import matplotlib.pyplot as plt\n",
    "%matplotlib inline\n",
    "\n",
    "import seaborn as sns\n",
    "\n",
    "os.getcwd()"
   ]
  },
  {
   "cell_type": "code",
   "execution_count": 2,
   "metadata": {},
   "outputs": [
    {
     "data": {
      "text/html": [
       "<div>\n",
       "<style scoped>\n",
       "    .dataframe tbody tr th:only-of-type {\n",
       "        vertical-align: middle;\n",
       "    }\n",
       "\n",
       "    .dataframe tbody tr th {\n",
       "        vertical-align: top;\n",
       "    }\n",
       "\n",
       "    .dataframe thead th {\n",
       "        text-align: right;\n",
       "    }\n",
       "</style>\n",
       "<table border=\"1\" class=\"dataframe\">\n",
       "  <thead>\n",
       "    <tr style=\"text-align: right;\">\n",
       "      <th></th>\n",
       "      <th>0</th>\n",
       "      <th>1</th>\n",
       "      <th>2</th>\n",
       "      <th>3</th>\n",
       "      <th>4</th>\n",
       "    </tr>\n",
       "  </thead>\n",
       "  <tbody>\n",
       "    <tr>\n",
       "      <th>Name</th>\n",
       "      <td>MICHAEL GADEKEN DDS PC</td>\n",
       "      <td>MINE TECHNOLOGIES,INC.</td>\n",
       "      <td>CRAIG M. DROSKIN, D.D.S.</td>\n",
       "      <td>Johnny R. Webb II DBA Webb's A</td>\n",
       "      <td>THE DONUT SHOP PLUS</td>\n",
       "    </tr>\n",
       "    <tr>\n",
       "      <th>City</th>\n",
       "      <td>Grand Junction</td>\n",
       "      <td>Grand Junction</td>\n",
       "      <td>Grand Junction</td>\n",
       "      <td>Grand Junction</td>\n",
       "      <td>Grand Junction</td>\n",
       "    </tr>\n",
       "    <tr>\n",
       "      <th>Bank</th>\n",
       "      <td>WELLS FARGO BANK NATL ASSOC</td>\n",
       "      <td>ANB BANK</td>\n",
       "      <td>WELLS FARGO BANK NATL ASSOC</td>\n",
       "      <td>CAPITAL ONE NATL ASSOC</td>\n",
       "      <td>ANB BANK</td>\n",
       "    </tr>\n",
       "    <tr>\n",
       "      <th>BankState</th>\n",
       "      <td>SD</td>\n",
       "      <td>CO</td>\n",
       "      <td>SD</td>\n",
       "      <td>VA</td>\n",
       "      <td>CO</td>\n",
       "    </tr>\n",
       "    <tr>\n",
       "      <th>NAICS</th>\n",
       "      <td>621210</td>\n",
       "      <td>333131</td>\n",
       "      <td>621210</td>\n",
       "      <td>811111</td>\n",
       "      <td>0</td>\n",
       "    </tr>\n",
       "    <tr>\n",
       "      <th>ApprovalDate</th>\n",
       "      <td>7-Feb-06</td>\n",
       "      <td>7-Mar-97</td>\n",
       "      <td>14-Mar-97</td>\n",
       "      <td>25-Oct-04</td>\n",
       "      <td>16-Apr-97</td>\n",
       "    </tr>\n",
       "    <tr>\n",
       "      <th>ApprovalFY</th>\n",
       "      <td>2006</td>\n",
       "      <td>1997</td>\n",
       "      <td>1997</td>\n",
       "      <td>2005</td>\n",
       "      <td>1997</td>\n",
       "    </tr>\n",
       "    <tr>\n",
       "      <th>Term</th>\n",
       "      <td>264</td>\n",
       "      <td>60</td>\n",
       "      <td>120</td>\n",
       "      <td>35</td>\n",
       "      <td>60</td>\n",
       "    </tr>\n",
       "    <tr>\n",
       "      <th>NoEmp</th>\n",
       "      <td>9</td>\n",
       "      <td>2</td>\n",
       "      <td>4</td>\n",
       "      <td>3</td>\n",
       "      <td>2</td>\n",
       "    </tr>\n",
       "    <tr>\n",
       "      <th>NewExist</th>\n",
       "      <td>1</td>\n",
       "      <td>1</td>\n",
       "      <td>1</td>\n",
       "      <td>1</td>\n",
       "      <td>1</td>\n",
       "    </tr>\n",
       "    <tr>\n",
       "      <th>CreateJob</th>\n",
       "      <td>0</td>\n",
       "      <td>0</td>\n",
       "      <td>0</td>\n",
       "      <td>0</td>\n",
       "      <td>0</td>\n",
       "    </tr>\n",
       "    <tr>\n",
       "      <th>RetainedJob</th>\n",
       "      <td>9</td>\n",
       "      <td>0</td>\n",
       "      <td>0</td>\n",
       "      <td>0</td>\n",
       "      <td>0</td>\n",
       "    </tr>\n",
       "    <tr>\n",
       "      <th>FranchiseCode</th>\n",
       "      <td>1</td>\n",
       "      <td>1</td>\n",
       "      <td>1</td>\n",
       "      <td>1</td>\n",
       "      <td>1</td>\n",
       "    </tr>\n",
       "    <tr>\n",
       "      <th>UrbanRural</th>\n",
       "      <td>1</td>\n",
       "      <td>0</td>\n",
       "      <td>0</td>\n",
       "      <td>1</td>\n",
       "      <td>0</td>\n",
       "    </tr>\n",
       "    <tr>\n",
       "      <th>RevLineCr</th>\n",
       "      <td>0</td>\n",
       "      <td>N</td>\n",
       "      <td>0</td>\n",
       "      <td>N</td>\n",
       "      <td>N</td>\n",
       "    </tr>\n",
       "    <tr>\n",
       "      <th>LowDoc</th>\n",
       "      <td>N</td>\n",
       "      <td>Y</td>\n",
       "      <td>N</td>\n",
       "      <td>N</td>\n",
       "      <td>Y</td>\n",
       "    </tr>\n",
       "    <tr>\n",
       "      <th>ChgOffDate</th>\n",
       "      <td>NaN</td>\n",
       "      <td>NaN</td>\n",
       "      <td>NaN</td>\n",
       "      <td>14-Apr-09</td>\n",
       "      <td>NaN</td>\n",
       "    </tr>\n",
       "    <tr>\n",
       "      <th>DisbursementDate</th>\n",
       "      <td>31-Mar-06</td>\n",
       "      <td>31-May-97</td>\n",
       "      <td>30-Apr-97</td>\n",
       "      <td>31-Jan-05</td>\n",
       "      <td>31-May-97</td>\n",
       "    </tr>\n",
       "    <tr>\n",
       "      <th>DisbursementGross</th>\n",
       "      <td>1.5242e+06</td>\n",
       "      <td>90000</td>\n",
       "      <td>59000</td>\n",
       "      <td>50000</td>\n",
       "      <td>21200</td>\n",
       "    </tr>\n",
       "    <tr>\n",
       "      <th>BalanceGross</th>\n",
       "      <td>$0.00</td>\n",
       "      <td>$0.00</td>\n",
       "      <td>$0.00</td>\n",
       "      <td>$0.00</td>\n",
       "      <td>$0.00</td>\n",
       "    </tr>\n",
       "    <tr>\n",
       "      <th>MIS_Status</th>\n",
       "      <td>P I F</td>\n",
       "      <td>P I F</td>\n",
       "      <td>P I F</td>\n",
       "      <td>CHGOFF</td>\n",
       "      <td>P I F</td>\n",
       "    </tr>\n",
       "    <tr>\n",
       "      <th>ChgOffPrinGr</th>\n",
       "      <td>$0.00</td>\n",
       "      <td>$0.00</td>\n",
       "      <td>$0.00</td>\n",
       "      <td>$28,061.00</td>\n",
       "      <td>$0.00</td>\n",
       "    </tr>\n",
       "    <tr>\n",
       "      <th>GrAppv</th>\n",
       "      <td>$1,535,000.00</td>\n",
       "      <td>$90,000.00</td>\n",
       "      <td>$59,000.00</td>\n",
       "      <td>$50,000.00</td>\n",
       "      <td>$21,200.00</td>\n",
       "    </tr>\n",
       "    <tr>\n",
       "      <th>SBA_Appv</th>\n",
       "      <td>$1,151,250.00</td>\n",
       "      <td>$72,000.00</td>\n",
       "      <td>$47,200.00</td>\n",
       "      <td>$25,000.00</td>\n",
       "      <td>$16,960.00</td>\n",
       "    </tr>\n",
       "    <tr>\n",
       "      <th>County_Fips</th>\n",
       "      <td>8077</td>\n",
       "      <td>8077</td>\n",
       "      <td>8077</td>\n",
       "      <td>8077</td>\n",
       "      <td>8077</td>\n",
       "    </tr>\n",
       "    <tr>\n",
       "      <th>County_Name</th>\n",
       "      <td>Mesa</td>\n",
       "      <td>Mesa</td>\n",
       "      <td>Mesa</td>\n",
       "      <td>Mesa</td>\n",
       "      <td>Mesa</td>\n",
       "    </tr>\n",
       "    <tr>\n",
       "      <th>TotalLoansInCounty</th>\n",
       "      <td>445</td>\n",
       "      <td>445</td>\n",
       "      <td>445</td>\n",
       "      <td>445</td>\n",
       "      <td>445</td>\n",
       "    </tr>\n",
       "    <tr>\n",
       "      <th>PIF_RateByCounty</th>\n",
       "      <td>0.876404</td>\n",
       "      <td>0.876404</td>\n",
       "      <td>0.876404</td>\n",
       "      <td>0.876404</td>\n",
       "      <td>0.876404</td>\n",
       "    </tr>\n",
       "    <tr>\n",
       "      <th>MedIncome</th>\n",
       "      <td>32644</td>\n",
       "      <td>21835</td>\n",
       "      <td>21835</td>\n",
       "      <td>30645</td>\n",
       "      <td>21835</td>\n",
       "    </tr>\n",
       "    <tr>\n",
       "      <th>Population</th>\n",
       "      <td>134665</td>\n",
       "      <td>110566</td>\n",
       "      <td>110566</td>\n",
       "      <td>130194</td>\n",
       "      <td>110566</td>\n",
       "    </tr>\n",
       "    <tr>\n",
       "      <th>PopChange</th>\n",
       "      <td>0.276615</td>\n",
       "      <td>0.276615</td>\n",
       "      <td>0.276615</td>\n",
       "      <td>0.276615</td>\n",
       "      <td>0.276615</td>\n",
       "    </tr>\n",
       "    <tr>\n",
       "      <th>LaborForceInCty</th>\n",
       "      <td>74156</td>\n",
       "      <td>57738</td>\n",
       "      <td>57738</td>\n",
       "      <td>70811</td>\n",
       "      <td>57738</td>\n",
       "    </tr>\n",
       "    <tr>\n",
       "      <th>EmployedInCty</th>\n",
       "      <td>71219</td>\n",
       "      <td>55069</td>\n",
       "      <td>55069</td>\n",
       "      <td>67350</td>\n",
       "      <td>55069</td>\n",
       "    </tr>\n",
       "    <tr>\n",
       "      <th>UnempInCty</th>\n",
       "      <td>2937</td>\n",
       "      <td>2669</td>\n",
       "      <td>2669</td>\n",
       "      <td>3461</td>\n",
       "      <td>2669</td>\n",
       "    </tr>\n",
       "    <tr>\n",
       "      <th>UnempRateInCty</th>\n",
       "      <td>4</td>\n",
       "      <td>4.6</td>\n",
       "      <td>4.6</td>\n",
       "      <td>4.9</td>\n",
       "      <td>4.6</td>\n",
       "    </tr>\n",
       "    <tr>\n",
       "      <th>DeathsPer100k</th>\n",
       "      <td>977.2</td>\n",
       "      <td>977.2</td>\n",
       "      <td>977.2</td>\n",
       "      <td>977.2</td>\n",
       "      <td>977.2</td>\n",
       "    </tr>\n",
       "  </tbody>\n",
       "</table>\n",
       "</div>"
      ],
      "text/plain": [
       "                                              0                       1  \\\n",
       "Name                     MICHAEL GADEKEN DDS PC  MINE TECHNOLOGIES,INC.   \n",
       "City                             Grand Junction          Grand Junction   \n",
       "Bank                WELLS FARGO BANK NATL ASSOC                ANB BANK   \n",
       "BankState                                    SD                      CO   \n",
       "NAICS                                    621210                  333131   \n",
       "ApprovalDate                           7-Feb-06                7-Mar-97   \n",
       "ApprovalFY                                 2006                    1997   \n",
       "Term                                        264                      60   \n",
       "NoEmp                                         9                       2   \n",
       "NewExist                                      1                       1   \n",
       "CreateJob                                     0                       0   \n",
       "RetainedJob                                   9                       0   \n",
       "FranchiseCode                                 1                       1   \n",
       "UrbanRural                                    1                       0   \n",
       "RevLineCr                                     0                       N   \n",
       "LowDoc                                        N                       Y   \n",
       "ChgOffDate                                  NaN                     NaN   \n",
       "DisbursementDate                      31-Mar-06               31-May-97   \n",
       "DisbursementGross                    1.5242e+06                   90000   \n",
       "BalanceGross                             $0.00                   $0.00    \n",
       "MIS_Status                                P I F                   P I F   \n",
       "ChgOffPrinGr                             $0.00                   $0.00    \n",
       "GrAppv                           $1,535,000.00              $90,000.00    \n",
       "SBA_Appv                         $1,151,250.00              $72,000.00    \n",
       "County_Fips                                8077                    8077   \n",
       "County_Name                                Mesa                    Mesa   \n",
       "TotalLoansInCounty                          445                     445   \n",
       "PIF_RateByCounty                       0.876404                0.876404   \n",
       "MedIncome                                 32644                   21835   \n",
       "Population                               134665                  110566   \n",
       "PopChange                              0.276615                0.276615   \n",
       "LaborForceInCty                           74156                   57738   \n",
       "EmployedInCty                             71219                   55069   \n",
       "UnempInCty                                 2937                    2669   \n",
       "UnempRateInCty                                4                     4.6   \n",
       "DeathsPer100k                             977.2                   977.2   \n",
       "\n",
       "                                              2  \\\n",
       "Name                   CRAIG M. DROSKIN, D.D.S.   \n",
       "City                             Grand Junction   \n",
       "Bank                WELLS FARGO BANK NATL ASSOC   \n",
       "BankState                                    SD   \n",
       "NAICS                                    621210   \n",
       "ApprovalDate                          14-Mar-97   \n",
       "ApprovalFY                                 1997   \n",
       "Term                                        120   \n",
       "NoEmp                                         4   \n",
       "NewExist                                      1   \n",
       "CreateJob                                     0   \n",
       "RetainedJob                                   0   \n",
       "FranchiseCode                                 1   \n",
       "UrbanRural                                    0   \n",
       "RevLineCr                                     0   \n",
       "LowDoc                                        N   \n",
       "ChgOffDate                                  NaN   \n",
       "DisbursementDate                      30-Apr-97   \n",
       "DisbursementGross                         59000   \n",
       "BalanceGross                             $0.00    \n",
       "MIS_Status                                P I F   \n",
       "ChgOffPrinGr                             $0.00    \n",
       "GrAppv                              $59,000.00    \n",
       "SBA_Appv                            $47,200.00    \n",
       "County_Fips                                8077   \n",
       "County_Name                                Mesa   \n",
       "TotalLoansInCounty                          445   \n",
       "PIF_RateByCounty                       0.876404   \n",
       "MedIncome                                 21835   \n",
       "Population                               110566   \n",
       "PopChange                              0.276615   \n",
       "LaborForceInCty                           57738   \n",
       "EmployedInCty                             55069   \n",
       "UnempInCty                                 2669   \n",
       "UnempRateInCty                              4.6   \n",
       "DeathsPer100k                             977.2   \n",
       "\n",
       "                                                 3                    4  \n",
       "Name                Johnny R. Webb II DBA Webb's A  THE DONUT SHOP PLUS  \n",
       "City                                Grand Junction       Grand Junction  \n",
       "Bank                        CAPITAL ONE NATL ASSOC             ANB BANK  \n",
       "BankState                                       VA                   CO  \n",
       "NAICS                                       811111                    0  \n",
       "ApprovalDate                             25-Oct-04            16-Apr-97  \n",
       "ApprovalFY                                    2005                 1997  \n",
       "Term                                            35                   60  \n",
       "NoEmp                                            3                    2  \n",
       "NewExist                                         1                    1  \n",
       "CreateJob                                        0                    0  \n",
       "RetainedJob                                      0                    0  \n",
       "FranchiseCode                                    1                    1  \n",
       "UrbanRural                                       1                    0  \n",
       "RevLineCr                                        N                    N  \n",
       "LowDoc                                           N                    Y  \n",
       "ChgOffDate                               14-Apr-09                  NaN  \n",
       "DisbursementDate                         31-Jan-05            31-May-97  \n",
       "DisbursementGross                            50000                21200  \n",
       "BalanceGross                                $0.00                $0.00   \n",
       "MIS_Status                                  CHGOFF                P I F  \n",
       "ChgOffPrinGr                           $28,061.00                $0.00   \n",
       "GrAppv                                 $50,000.00           $21,200.00   \n",
       "SBA_Appv                               $25,000.00           $16,960.00   \n",
       "County_Fips                                   8077                 8077  \n",
       "County_Name                                   Mesa                 Mesa  \n",
       "TotalLoansInCounty                             445                  445  \n",
       "PIF_RateByCounty                          0.876404             0.876404  \n",
       "MedIncome                                    30645                21835  \n",
       "Population                                  130194               110566  \n",
       "PopChange                                 0.276615             0.276615  \n",
       "LaborForceInCty                              70811                57738  \n",
       "EmployedInCty                                67350                55069  \n",
       "UnempInCty                                    3461                 2669  \n",
       "UnempRateInCty                                 4.9                  4.6  \n",
       "DeathsPer100k                                977.2                977.2  "
      ]
     },
     "execution_count": 2,
     "metadata": {},
     "output_type": "execute_result"
    }
   ],
   "source": [
    "df = pd.read_csv('SBA_Model_Input.csv')\n",
    "\n",
    "df.head().T"
   ]
  },
  {
   "cell_type": "markdown",
   "metadata": {},
   "source": [
    "#### Dates (Approval and Disbursement) ####\n",
    "While it's doubtful that the calendar dates of loan approval and loan disbursement will factor into whether or not a loan gets paid off, it would be interesting to factor in how LONG a business had to wait for their loan. IS it possible that the longer one has to wait, the lower the chance of payback? Or perhaps the better the chance?"
   ]
  },
  {
   "cell_type": "code",
   "execution_count": 3,
   "metadata": {},
   "outputs": [],
   "source": [
    "#  Reset the Approval and Disbursement Date columns in recognizable datetime format.\n",
    "\n",
    "df.ApprovalDate = pd.to_datetime(df.ApprovalDate)\n",
    "df.DisbursementDate = pd.to_datetime(df.DisbursementDate)"
   ]
  },
  {
   "cell_type": "code",
   "execution_count": 4,
   "metadata": {},
   "outputs": [],
   "source": [
    "# Create a new column that hols the difference betwee the two columns, in days:\n",
    "\n",
    "df['PayDelay'] = df.DisbursementDate - df.ApprovalDate"
   ]
  },
  {
   "cell_type": "code",
   "execution_count": 5,
   "metadata": {},
   "outputs": [
    {
     "name": "stderr",
     "output_type": "stream",
     "text": [
      "C:\\Anaconda3\\lib\\site-packages\\ipykernel_launcher.py:4: SettingWithCopyWarning: \n",
      "A value is trying to be set on a copy of a slice from a DataFrame\n",
      "\n",
      "See the caveats in the documentation: https://pandas.pydata.org/pandas-docs/stable/user_guide/indexing.html#returning-a-view-versus-a-copy\n",
      "  after removing the cwd from sys.path.\n",
      "C:\\Anaconda3\\lib\\site-packages\\pandas\\core\\indexing.py:670: SettingWithCopyWarning: \n",
      "A value is trying to be set on a copy of a slice from a DataFrame\n",
      "\n",
      "See the caveats in the documentation: https://pandas.pydata.org/pandas-docs/stable/user_guide/indexing.html#returning-a-view-versus-a-copy\n",
      "  self._setitem_with_indexer(indexer, value)\n"
     ]
    }
   ],
   "source": [
    "# Reduce this data form to a simple integer value for # of days. \n",
    "\n",
    "for i in range(len(df)):\n",
    "    df['PayDelay'][i] = df['PayDelay'][i].days"
   ]
  },
  {
   "cell_type": "code",
   "execution_count": 6,
   "metadata": {},
   "outputs": [],
   "source": [
    "df['PayDelay'] = pd.to_numeric(df['PayDelay'])"
   ]
  },
  {
   "cell_type": "code",
   "execution_count": 7,
   "metadata": {},
   "outputs": [
    {
     "data": {
      "text/plain": [
       "0     52.0\n",
       "1     85.0\n",
       "2     47.0\n",
       "3     98.0\n",
       "4     45.0\n",
       "5    101.0\n",
       "6     18.0\n",
       "7    110.0\n",
       "8    140.0\n",
       "9    227.0\n",
       "Name: PayDelay, dtype: float64"
      ]
     },
     "execution_count": 7,
     "metadata": {},
     "output_type": "execute_result"
    }
   ],
   "source": [
    "df.PayDelay.head(10)"
   ]
  },
  {
   "cell_type": "code",
   "execution_count": 8,
   "metadata": {},
   "outputs": [
    {
     "data": {
      "text/plain": [
       "count    19332.000000\n",
       "mean       107.376474\n",
       "std        156.698538\n",
       "min        -10.000000\n",
       "25%         30.000000\n",
       "50%         56.000000\n",
       "75%        115.000000\n",
       "max       2403.000000\n",
       "Name: PayDelay, dtype: float64"
      ]
     },
     "execution_count": 8,
     "metadata": {},
     "output_type": "execute_result"
    }
   ],
   "source": [
    "# A typical loan takes 107 days to be fulfilled, but we shoudl explore the extreme values in this distribution. \n",
    "\n",
    "df.PayDelay.describe()"
   ]
  },
  {
   "cell_type": "code",
   "execution_count": 9,
   "metadata": {},
   "outputs": [
    {
     "data": {
      "text/html": [
       "<div>\n",
       "<style scoped>\n",
       "    .dataframe tbody tr th:only-of-type {\n",
       "        vertical-align: middle;\n",
       "    }\n",
       "\n",
       "    .dataframe tbody tr th {\n",
       "        vertical-align: top;\n",
       "    }\n",
       "\n",
       "    .dataframe thead th {\n",
       "        text-align: right;\n",
       "    }\n",
       "</style>\n",
       "<table border=\"1\" class=\"dataframe\">\n",
       "  <thead>\n",
       "    <tr style=\"text-align: right;\">\n",
       "      <th></th>\n",
       "      <th>921</th>\n",
       "      <th>989</th>\n",
       "      <th>3415</th>\n",
       "      <th>4016</th>\n",
       "      <th>4137</th>\n",
       "    </tr>\n",
       "  </thead>\n",
       "  <tbody>\n",
       "    <tr>\n",
       "      <th>Name</th>\n",
       "      <td>SUPREME CABLE TECHNOLOGY</td>\n",
       "      <td>King Kong Building Services, I</td>\n",
       "      <td>AWG FOOD CATERING</td>\n",
       "      <td>SHOP N SAVE, INC.</td>\n",
       "      <td>COLORADO AIDS PHARMACY</td>\n",
       "    </tr>\n",
       "    <tr>\n",
       "      <th>City</th>\n",
       "      <td>Thornton</td>\n",
       "      <td>Denver</td>\n",
       "      <td>Denver</td>\n",
       "      <td>Denver</td>\n",
       "      <td>Denver</td>\n",
       "    </tr>\n",
       "    <tr>\n",
       "      <th>Bank</th>\n",
       "      <td>BANK MIDWEST, A DIVISION OF</td>\n",
       "      <td>WELLS FARGO BANK NATL ASSOC</td>\n",
       "      <td>JPMORGAN CHASE BANK NATL ASSOC</td>\n",
       "      <td>KEYBANK NATIONAL ASSOCIATION</td>\n",
       "      <td>BANK OF THE WEST</td>\n",
       "    </tr>\n",
       "    <tr>\n",
       "      <th>BankState</th>\n",
       "      <td>MO</td>\n",
       "      <td>SD</td>\n",
       "      <td>IL</td>\n",
       "      <td>CO</td>\n",
       "      <td>CO</td>\n",
       "    </tr>\n",
       "    <tr>\n",
       "      <th>NAICS</th>\n",
       "      <td>314991</td>\n",
       "      <td>0</td>\n",
       "      <td>722211</td>\n",
       "      <td>0</td>\n",
       "      <td>446110</td>\n",
       "    </tr>\n",
       "    <tr>\n",
       "      <th>ApprovalDate</th>\n",
       "      <td>1996-07-26 00:00:00</td>\n",
       "      <td>1997-06-13 00:00:00</td>\n",
       "      <td>2002-12-05 00:00:00</td>\n",
       "      <td>1994-12-01 00:00:00</td>\n",
       "      <td>1995-05-03 00:00:00</td>\n",
       "    </tr>\n",
       "    <tr>\n",
       "      <th>ApprovalFY</th>\n",
       "      <td>1996</td>\n",
       "      <td>1997</td>\n",
       "      <td>2003</td>\n",
       "      <td>1995</td>\n",
       "      <td>1995</td>\n",
       "    </tr>\n",
       "    <tr>\n",
       "      <th>Term</th>\n",
       "      <td>60</td>\n",
       "      <td>84</td>\n",
       "      <td>84</td>\n",
       "      <td>180</td>\n",
       "      <td>60</td>\n",
       "    </tr>\n",
       "    <tr>\n",
       "      <th>NoEmp</th>\n",
       "      <td>100</td>\n",
       "      <td>9</td>\n",
       "      <td>4</td>\n",
       "      <td>19</td>\n",
       "      <td>3</td>\n",
       "    </tr>\n",
       "    <tr>\n",
       "      <th>NewExist</th>\n",
       "      <td>1</td>\n",
       "      <td>1</td>\n",
       "      <td>1</td>\n",
       "      <td>1</td>\n",
       "      <td>1</td>\n",
       "    </tr>\n",
       "    <tr>\n",
       "      <th>CreateJob</th>\n",
       "      <td>0</td>\n",
       "      <td>0</td>\n",
       "      <td>0</td>\n",
       "      <td>0</td>\n",
       "      <td>0</td>\n",
       "    </tr>\n",
       "    <tr>\n",
       "      <th>RetainedJob</th>\n",
       "      <td>0</td>\n",
       "      <td>0</td>\n",
       "      <td>4</td>\n",
       "      <td>0</td>\n",
       "      <td>0</td>\n",
       "    </tr>\n",
       "    <tr>\n",
       "      <th>FranchiseCode</th>\n",
       "      <td>1</td>\n",
       "      <td>1</td>\n",
       "      <td>1</td>\n",
       "      <td>1</td>\n",
       "      <td>1</td>\n",
       "    </tr>\n",
       "    <tr>\n",
       "      <th>UrbanRural</th>\n",
       "      <td>0</td>\n",
       "      <td>0</td>\n",
       "      <td>1</td>\n",
       "      <td>0</td>\n",
       "      <td>0</td>\n",
       "    </tr>\n",
       "    <tr>\n",
       "      <th>RevLineCr</th>\n",
       "      <td>N</td>\n",
       "      <td>0</td>\n",
       "      <td>Y</td>\n",
       "      <td>N</td>\n",
       "      <td>N</td>\n",
       "    </tr>\n",
       "    <tr>\n",
       "      <th>LowDoc</th>\n",
       "      <td>N</td>\n",
       "      <td>N</td>\n",
       "      <td>N</td>\n",
       "      <td>N</td>\n",
       "      <td>Y</td>\n",
       "    </tr>\n",
       "    <tr>\n",
       "      <th>ChgOffDate</th>\n",
       "      <td>NaN</td>\n",
       "      <td>NaN</td>\n",
       "      <td>NaN</td>\n",
       "      <td>NaN</td>\n",
       "      <td>NaN</td>\n",
       "    </tr>\n",
       "    <tr>\n",
       "      <th>DisbursementDate</th>\n",
       "      <td>2000-12-31 00:00:00</td>\n",
       "      <td>2002-12-31 00:00:00</td>\n",
       "      <td>2009-06-30 00:00:00</td>\n",
       "      <td>2001-06-30 00:00:00</td>\n",
       "      <td>2001-10-31 00:00:00</td>\n",
       "    </tr>\n",
       "    <tr>\n",
       "      <th>DisbursementGross</th>\n",
       "      <td>500000</td>\n",
       "      <td>25000</td>\n",
       "      <td>50000</td>\n",
       "      <td>198000</td>\n",
       "      <td>50000</td>\n",
       "    </tr>\n",
       "    <tr>\n",
       "      <th>BalanceGross</th>\n",
       "      <td>$0.00</td>\n",
       "      <td>$0.00</td>\n",
       "      <td>$0.00</td>\n",
       "      <td>$0.00</td>\n",
       "      <td>$0.00</td>\n",
       "    </tr>\n",
       "    <tr>\n",
       "      <th>MIS_Status</th>\n",
       "      <td>P I F</td>\n",
       "      <td>P I F</td>\n",
       "      <td>P I F</td>\n",
       "      <td>P I F</td>\n",
       "      <td>P I F</td>\n",
       "    </tr>\n",
       "    <tr>\n",
       "      <th>ChgOffPrinGr</th>\n",
       "      <td>$0.00</td>\n",
       "      <td>$0.00</td>\n",
       "      <td>$0.00</td>\n",
       "      <td>$0.00</td>\n",
       "      <td>$0.00</td>\n",
       "    </tr>\n",
       "    <tr>\n",
       "      <th>GrAppv</th>\n",
       "      <td>$700,000.00</td>\n",
       "      <td>$25,000.00</td>\n",
       "      <td>$50,000.00</td>\n",
       "      <td>$200,000.00</td>\n",
       "      <td>$50,000.00</td>\n",
       "    </tr>\n",
       "    <tr>\n",
       "      <th>SBA_Appv</th>\n",
       "      <td>$525,000.00</td>\n",
       "      <td>$12,500.00</td>\n",
       "      <td>$25,000.00</td>\n",
       "      <td>$150,000.00</td>\n",
       "      <td>$45,000.00</td>\n",
       "    </tr>\n",
       "    <tr>\n",
       "      <th>County_Fips</th>\n",
       "      <td>8001</td>\n",
       "      <td>8031</td>\n",
       "      <td>8031</td>\n",
       "      <td>8031</td>\n",
       "      <td>8031</td>\n",
       "    </tr>\n",
       "    <tr>\n",
       "      <th>County_Name</th>\n",
       "      <td>Adams</td>\n",
       "      <td>Denver</td>\n",
       "      <td>Denver</td>\n",
       "      <td>Denver</td>\n",
       "      <td>Denver</td>\n",
       "    </tr>\n",
       "    <tr>\n",
       "      <th>TotalLoansInCounty</th>\n",
       "      <td>1929</td>\n",
       "      <td>3647</td>\n",
       "      <td>3647</td>\n",
       "      <td>3647</td>\n",
       "      <td>3647</td>\n",
       "    </tr>\n",
       "    <tr>\n",
       "      <th>PIF_RateByCounty</th>\n",
       "      <td>0.752722</td>\n",
       "      <td>0.839232</td>\n",
       "      <td>0.839232</td>\n",
       "      <td>0.839232</td>\n",
       "      <td>0.839232</td>\n",
       "    </tr>\n",
       "    <tr>\n",
       "      <th>MedIncome</th>\n",
       "      <td>20771</td>\n",
       "      <td>30637</td>\n",
       "      <td>41800</td>\n",
       "      <td>27991</td>\n",
       "      <td>27991</td>\n",
       "    </tr>\n",
       "    <tr>\n",
       "      <th>Population</th>\n",
       "      <td>323218</td>\n",
       "      <td>536678</td>\n",
       "      <td>552588</td>\n",
       "      <td>518958</td>\n",
       "      <td>518958</td>\n",
       "    </tr>\n",
       "    <tr>\n",
       "      <th>PopChange</th>\n",
       "      <td>0.293547</td>\n",
       "      <td>0.139801</td>\n",
       "      <td>0.139801</td>\n",
       "      <td>0.139801</td>\n",
       "      <td>0.139801</td>\n",
       "    </tr>\n",
       "    <tr>\n",
       "      <th>LaborForceInCty</th>\n",
       "      <td>167915</td>\n",
       "      <td>281852</td>\n",
       "      <td>302578</td>\n",
       "      <td>279282</td>\n",
       "      <td>279282</td>\n",
       "    </tr>\n",
       "    <tr>\n",
       "      <th>EmployedInCty</th>\n",
       "      <td>160800</td>\n",
       "      <td>270456</td>\n",
       "      <td>281272</td>\n",
       "      <td>266257</td>\n",
       "      <td>266257</td>\n",
       "    </tr>\n",
       "    <tr>\n",
       "      <th>UnempInCty</th>\n",
       "      <td>7115</td>\n",
       "      <td>11396</td>\n",
       "      <td>21306</td>\n",
       "      <td>13025</td>\n",
       "      <td>13025</td>\n",
       "    </tr>\n",
       "    <tr>\n",
       "      <th>UnempRateInCty</th>\n",
       "      <td>4.2</td>\n",
       "      <td>4</td>\n",
       "      <td>7</td>\n",
       "      <td>4.7</td>\n",
       "      <td>4.7</td>\n",
       "    </tr>\n",
       "    <tr>\n",
       "      <th>DeathsPer100k</th>\n",
       "      <td>562.9</td>\n",
       "      <td>823.4</td>\n",
       "      <td>823.4</td>\n",
       "      <td>823.4</td>\n",
       "      <td>823.4</td>\n",
       "    </tr>\n",
       "    <tr>\n",
       "      <th>PayDelay</th>\n",
       "      <td>1619</td>\n",
       "      <td>2027</td>\n",
       "      <td>2399</td>\n",
       "      <td>2403</td>\n",
       "      <td>2373</td>\n",
       "    </tr>\n",
       "  </tbody>\n",
       "</table>\n",
       "</div>"
      ],
      "text/plain": [
       "                                           921   \\\n",
       "Name                   SUPREME CABLE TECHNOLOGY   \n",
       "City                                   Thornton   \n",
       "Bank                BANK MIDWEST, A DIVISION OF   \n",
       "BankState                                    MO   \n",
       "NAICS                                    314991   \n",
       "ApprovalDate                1996-07-26 00:00:00   \n",
       "ApprovalFY                                 1996   \n",
       "Term                                         60   \n",
       "NoEmp                                       100   \n",
       "NewExist                                      1   \n",
       "CreateJob                                     0   \n",
       "RetainedJob                                   0   \n",
       "FranchiseCode                                 1   \n",
       "UrbanRural                                    0   \n",
       "RevLineCr                                     N   \n",
       "LowDoc                                        N   \n",
       "ChgOffDate                                  NaN   \n",
       "DisbursementDate            2000-12-31 00:00:00   \n",
       "DisbursementGross                        500000   \n",
       "BalanceGross                             $0.00    \n",
       "MIS_Status                                P I F   \n",
       "ChgOffPrinGr                             $0.00    \n",
       "GrAppv                             $700,000.00    \n",
       "SBA_Appv                           $525,000.00    \n",
       "County_Fips                                8001   \n",
       "County_Name                               Adams   \n",
       "TotalLoansInCounty                         1929   \n",
       "PIF_RateByCounty                       0.752722   \n",
       "MedIncome                                 20771   \n",
       "Population                               323218   \n",
       "PopChange                              0.293547   \n",
       "LaborForceInCty                          167915   \n",
       "EmployedInCty                            160800   \n",
       "UnempInCty                                 7115   \n",
       "UnempRateInCty                              4.2   \n",
       "DeathsPer100k                             562.9   \n",
       "PayDelay                                   1619   \n",
       "\n",
       "                                              989   \\\n",
       "Name                King Kong Building Services, I   \n",
       "City                                        Denver   \n",
       "Bank                   WELLS FARGO BANK NATL ASSOC   \n",
       "BankState                                       SD   \n",
       "NAICS                                            0   \n",
       "ApprovalDate                   1997-06-13 00:00:00   \n",
       "ApprovalFY                                    1997   \n",
       "Term                                            84   \n",
       "NoEmp                                            9   \n",
       "NewExist                                         1   \n",
       "CreateJob                                        0   \n",
       "RetainedJob                                      0   \n",
       "FranchiseCode                                    1   \n",
       "UrbanRural                                       0   \n",
       "RevLineCr                                        0   \n",
       "LowDoc                                           N   \n",
       "ChgOffDate                                     NaN   \n",
       "DisbursementDate               2002-12-31 00:00:00   \n",
       "DisbursementGross                            25000   \n",
       "BalanceGross                                $0.00    \n",
       "MIS_Status                                   P I F   \n",
       "ChgOffPrinGr                                $0.00    \n",
       "GrAppv                                 $25,000.00    \n",
       "SBA_Appv                               $12,500.00    \n",
       "County_Fips                                   8031   \n",
       "County_Name                                 Denver   \n",
       "TotalLoansInCounty                            3647   \n",
       "PIF_RateByCounty                          0.839232   \n",
       "MedIncome                                    30637   \n",
       "Population                                  536678   \n",
       "PopChange                                 0.139801   \n",
       "LaborForceInCty                             281852   \n",
       "EmployedInCty                               270456   \n",
       "UnempInCty                                   11396   \n",
       "UnempRateInCty                                   4   \n",
       "DeathsPer100k                                823.4   \n",
       "PayDelay                                      2027   \n",
       "\n",
       "                                              3415  \\\n",
       "Name                             AWG FOOD CATERING   \n",
       "City                                        Denver   \n",
       "Bank                JPMORGAN CHASE BANK NATL ASSOC   \n",
       "BankState                                       IL   \n",
       "NAICS                                       722211   \n",
       "ApprovalDate                   2002-12-05 00:00:00   \n",
       "ApprovalFY                                    2003   \n",
       "Term                                            84   \n",
       "NoEmp                                            4   \n",
       "NewExist                                         1   \n",
       "CreateJob                                        0   \n",
       "RetainedJob                                      4   \n",
       "FranchiseCode                                    1   \n",
       "UrbanRural                                       1   \n",
       "RevLineCr                                        Y   \n",
       "LowDoc                                           N   \n",
       "ChgOffDate                                     NaN   \n",
       "DisbursementDate               2009-06-30 00:00:00   \n",
       "DisbursementGross                            50000   \n",
       "BalanceGross                                $0.00    \n",
       "MIS_Status                                   P I F   \n",
       "ChgOffPrinGr                                $0.00    \n",
       "GrAppv                                 $50,000.00    \n",
       "SBA_Appv                               $25,000.00    \n",
       "County_Fips                                   8031   \n",
       "County_Name                                 Denver   \n",
       "TotalLoansInCounty                            3647   \n",
       "PIF_RateByCounty                          0.839232   \n",
       "MedIncome                                    41800   \n",
       "Population                                  552588   \n",
       "PopChange                                 0.139801   \n",
       "LaborForceInCty                             302578   \n",
       "EmployedInCty                               281272   \n",
       "UnempInCty                                   21306   \n",
       "UnempRateInCty                                   7   \n",
       "DeathsPer100k                                823.4   \n",
       "PayDelay                                      2399   \n",
       "\n",
       "                                            4016                    4137  \n",
       "Name                           SHOP N SAVE, INC.  COLORADO AIDS PHARMACY  \n",
       "City                                      Denver                  Denver  \n",
       "Bank                KEYBANK NATIONAL ASSOCIATION        BANK OF THE WEST  \n",
       "BankState                                     CO                      CO  \n",
       "NAICS                                          0                  446110  \n",
       "ApprovalDate                 1994-12-01 00:00:00     1995-05-03 00:00:00  \n",
       "ApprovalFY                                  1995                    1995  \n",
       "Term                                         180                      60  \n",
       "NoEmp                                         19                       3  \n",
       "NewExist                                       1                       1  \n",
       "CreateJob                                      0                       0  \n",
       "RetainedJob                                    0                       0  \n",
       "FranchiseCode                                  1                       1  \n",
       "UrbanRural                                     0                       0  \n",
       "RevLineCr                                      N                       N  \n",
       "LowDoc                                         N                       Y  \n",
       "ChgOffDate                                   NaN                     NaN  \n",
       "DisbursementDate             2001-06-30 00:00:00     2001-10-31 00:00:00  \n",
       "DisbursementGross                         198000                   50000  \n",
       "BalanceGross                              $0.00                   $0.00   \n",
       "MIS_Status                                 P I F                   P I F  \n",
       "ChgOffPrinGr                              $0.00                   $0.00   \n",
       "GrAppv                              $200,000.00              $50,000.00   \n",
       "SBA_Appv                            $150,000.00              $45,000.00   \n",
       "County_Fips                                 8031                    8031  \n",
       "County_Name                               Denver                  Denver  \n",
       "TotalLoansInCounty                          3647                    3647  \n",
       "PIF_RateByCounty                        0.839232                0.839232  \n",
       "MedIncome                                  27991                   27991  \n",
       "Population                                518958                  518958  \n",
       "PopChange                               0.139801                0.139801  \n",
       "LaborForceInCty                           279282                  279282  \n",
       "EmployedInCty                             266257                  266257  \n",
       "UnempInCty                                 13025                   13025  \n",
       "UnempRateInCty                               4.7                     4.7  \n",
       "DeathsPer100k                              823.4                   823.4  \n",
       "PayDelay                                    2403                    2373  "
      ]
     },
     "execution_count": 9,
     "metadata": {},
     "output_type": "execute_result"
    }
   ],
   "source": [
    "# Let's investigate the very high values :\n",
    "\n",
    "df[df.PayDelay > 1500].head().T"
   ]
  },
  {
   "cell_type": "code",
   "execution_count": 10,
   "metadata": {},
   "outputs": [
    {
     "data": {
      "text/html": [
       "<div>\n",
       "<style scoped>\n",
       "    .dataframe tbody tr th:only-of-type {\n",
       "        vertical-align: middle;\n",
       "    }\n",
       "\n",
       "    .dataframe tbody tr th {\n",
       "        vertical-align: top;\n",
       "    }\n",
       "\n",
       "    .dataframe thead th {\n",
       "        text-align: right;\n",
       "    }\n",
       "</style>\n",
       "<table border=\"1\" class=\"dataframe\">\n",
       "  <thead>\n",
       "    <tr style=\"text-align: right;\">\n",
       "      <th></th>\n",
       "      <th>2614</th>\n",
       "      <th>2633</th>\n",
       "      <th>4451</th>\n",
       "      <th>5845</th>\n",
       "      <th>7662</th>\n",
       "    </tr>\n",
       "  </thead>\n",
       "  <tbody>\n",
       "    <tr>\n",
       "      <th>Name</th>\n",
       "      <td>PREMIER SECURITY, INC</td>\n",
       "      <td>Huff &amp; Leslie, LLP</td>\n",
       "      <td>FANDANGO,INC.</td>\n",
       "      <td>Trang Thi Ai Tran</td>\n",
       "      <td>BRAZOS BUILDERS, INC</td>\n",
       "    </tr>\n",
       "    <tr>\n",
       "      <th>City</th>\n",
       "      <td>Denver</td>\n",
       "      <td>Denver</td>\n",
       "      <td>Denver</td>\n",
       "      <td>Aurora</td>\n",
       "      <td>Colorado Springs</td>\n",
       "    </tr>\n",
       "    <tr>\n",
       "      <th>Bank</th>\n",
       "      <td>SUPERIOR FINANCIAL GROUP, LLC</td>\n",
       "      <td>JPMORGAN CHASE BANK NATL ASSOC</td>\n",
       "      <td>FIRSTBANK</td>\n",
       "      <td>WILSHIRE BANK</td>\n",
       "      <td>5 STAR BANK</td>\n",
       "    </tr>\n",
       "    <tr>\n",
       "      <th>BankState</th>\n",
       "      <td>CA</td>\n",
       "      <td>IL</td>\n",
       "      <td>CO</td>\n",
       "      <td>CA</td>\n",
       "      <td>CO</td>\n",
       "    </tr>\n",
       "    <tr>\n",
       "      <th>NAICS</th>\n",
       "      <td>561612</td>\n",
       "      <td>541110</td>\n",
       "      <td>0</td>\n",
       "      <td>445310</td>\n",
       "      <td>236210</td>\n",
       "    </tr>\n",
       "    <tr>\n",
       "      <th>ApprovalDate</th>\n",
       "      <td>2010-06-03 00:00:00</td>\n",
       "      <td>2010-07-13 00:00:00</td>\n",
       "      <td>1996-05-09 00:00:00</td>\n",
       "      <td>2010-03-11 00:00:00</td>\n",
       "      <td>2010-03-11 00:00:00</td>\n",
       "    </tr>\n",
       "    <tr>\n",
       "      <th>ApprovalFY</th>\n",
       "      <td>2010</td>\n",
       "      <td>2010</td>\n",
       "      <td>1996</td>\n",
       "      <td>2010</td>\n",
       "      <td>2010</td>\n",
       "    </tr>\n",
       "    <tr>\n",
       "      <th>Term</th>\n",
       "      <td>107</td>\n",
       "      <td>84</td>\n",
       "      <td>60</td>\n",
       "      <td>120</td>\n",
       "      <td>60</td>\n",
       "    </tr>\n",
       "    <tr>\n",
       "      <th>NoEmp</th>\n",
       "      <td>2</td>\n",
       "      <td>2</td>\n",
       "      <td>3</td>\n",
       "      <td>3</td>\n",
       "      <td>2</td>\n",
       "    </tr>\n",
       "    <tr>\n",
       "      <th>NewExist</th>\n",
       "      <td>1</td>\n",
       "      <td>1</td>\n",
       "      <td>2</td>\n",
       "      <td>1</td>\n",
       "      <td>1</td>\n",
       "    </tr>\n",
       "    <tr>\n",
       "      <th>CreateJob</th>\n",
       "      <td>15</td>\n",
       "      <td>1</td>\n",
       "      <td>0</td>\n",
       "      <td>0</td>\n",
       "      <td>3</td>\n",
       "    </tr>\n",
       "    <tr>\n",
       "      <th>RetainedJob</th>\n",
       "      <td>2</td>\n",
       "      <td>0</td>\n",
       "      <td>0</td>\n",
       "      <td>3</td>\n",
       "      <td>2</td>\n",
       "    </tr>\n",
       "    <tr>\n",
       "      <th>FranchiseCode</th>\n",
       "      <td>0</td>\n",
       "      <td>0</td>\n",
       "      <td>1</td>\n",
       "      <td>0</td>\n",
       "      <td>0</td>\n",
       "    </tr>\n",
       "    <tr>\n",
       "      <th>UrbanRural</th>\n",
       "      <td>1</td>\n",
       "      <td>1</td>\n",
       "      <td>0</td>\n",
       "      <td>1</td>\n",
       "      <td>1</td>\n",
       "    </tr>\n",
       "    <tr>\n",
       "      <th>RevLineCr</th>\n",
       "      <td>N</td>\n",
       "      <td>Y</td>\n",
       "      <td>N</td>\n",
       "      <td>N</td>\n",
       "      <td>N</td>\n",
       "    </tr>\n",
       "    <tr>\n",
       "      <th>LowDoc</th>\n",
       "      <td>N</td>\n",
       "      <td>N</td>\n",
       "      <td>Y</td>\n",
       "      <td>N</td>\n",
       "      <td>N</td>\n",
       "    </tr>\n",
       "    <tr>\n",
       "      <th>ChgOffDate</th>\n",
       "      <td>6-Jan-12</td>\n",
       "      <td>NaN</td>\n",
       "      <td>NaN</td>\n",
       "      <td>NaN</td>\n",
       "      <td>NaN</td>\n",
       "    </tr>\n",
       "    <tr>\n",
       "      <th>DisbursementDate</th>\n",
       "      <td>2010-06-01 00:00:00</td>\n",
       "      <td>2010-07-12 00:00:00</td>\n",
       "      <td>1996-04-30 00:00:00</td>\n",
       "      <td>2010-03-08 00:00:00</td>\n",
       "      <td>2010-03-09 00:00:00</td>\n",
       "    </tr>\n",
       "    <tr>\n",
       "      <th>DisbursementGross</th>\n",
       "      <td>10000</td>\n",
       "      <td>120700</td>\n",
       "      <td>65000</td>\n",
       "      <td>240000</td>\n",
       "      <td>120000</td>\n",
       "    </tr>\n",
       "    <tr>\n",
       "      <th>BalanceGross</th>\n",
       "      <td>$0.00</td>\n",
       "      <td>$0.00</td>\n",
       "      <td>$0.00</td>\n",
       "      <td>$0.00</td>\n",
       "      <td>$0.00</td>\n",
       "    </tr>\n",
       "    <tr>\n",
       "      <th>MIS_Status</th>\n",
       "      <td>CHGOFF</td>\n",
       "      <td>P I F</td>\n",
       "      <td>P I F</td>\n",
       "      <td>P I F</td>\n",
       "      <td>P I F</td>\n",
       "    </tr>\n",
       "    <tr>\n",
       "      <th>ChgOffPrinGr</th>\n",
       "      <td>$9,482.00</td>\n",
       "      <td>$0.00</td>\n",
       "      <td>$0.00</td>\n",
       "      <td>$0.00</td>\n",
       "      <td>$0.00</td>\n",
       "    </tr>\n",
       "    <tr>\n",
       "      <th>GrAppv</th>\n",
       "      <td>$10,000.00</td>\n",
       "      <td>$25,000.00</td>\n",
       "      <td>$65,000.00</td>\n",
       "      <td>$240,000.00</td>\n",
       "      <td>$120,000.00</td>\n",
       "    </tr>\n",
       "    <tr>\n",
       "      <th>SBA_Appv</th>\n",
       "      <td>$8,500.00</td>\n",
       "      <td>$12,500.00</td>\n",
       "      <td>$52,000.00</td>\n",
       "      <td>$216,000.00</td>\n",
       "      <td>$108,000.00</td>\n",
       "    </tr>\n",
       "    <tr>\n",
       "      <th>County_Fips</th>\n",
       "      <td>8031</td>\n",
       "      <td>8031</td>\n",
       "      <td>8031</td>\n",
       "      <td>8001</td>\n",
       "      <td>8041</td>\n",
       "    </tr>\n",
       "    <tr>\n",
       "      <th>County_Name</th>\n",
       "      <td>Denver</td>\n",
       "      <td>Denver</td>\n",
       "      <td>Denver</td>\n",
       "      <td>Adams</td>\n",
       "      <td>El Paso</td>\n",
       "    </tr>\n",
       "    <tr>\n",
       "      <th>TotalLoansInCounty</th>\n",
       "      <td>3647</td>\n",
       "      <td>3647</td>\n",
       "      <td>3647</td>\n",
       "      <td>1929</td>\n",
       "      <td>1977</td>\n",
       "    </tr>\n",
       "    <tr>\n",
       "      <th>PIF_RateByCounty</th>\n",
       "      <td>0.839232</td>\n",
       "      <td>0.839232</td>\n",
       "      <td>0.839232</td>\n",
       "      <td>0.752722</td>\n",
       "      <td>0.819838</td>\n",
       "    </tr>\n",
       "    <tr>\n",
       "      <th>MedIncome</th>\n",
       "      <td>47786</td>\n",
       "      <td>47786</td>\n",
       "      <td>29346</td>\n",
       "      <td>30299</td>\n",
       "      <td>37699</td>\n",
       "    </tr>\n",
       "    <tr>\n",
       "      <th>Population</th>\n",
       "      <td>603300</td>\n",
       "      <td>603300</td>\n",
       "      <td>527643</td>\n",
       "      <td>443680</td>\n",
       "      <td>626916</td>\n",
       "    </tr>\n",
       "    <tr>\n",
       "      <th>PopChange</th>\n",
       "      <td>0.139801</td>\n",
       "      <td>0.139801</td>\n",
       "      <td>0.139801</td>\n",
       "      <td>0.293547</td>\n",
       "      <td>0.250686</td>\n",
       "    </tr>\n",
       "    <tr>\n",
       "      <th>LaborForceInCty</th>\n",
       "      <td>347590</td>\n",
       "      <td>347590</td>\n",
       "      <td>278159</td>\n",
       "      <td>234221</td>\n",
       "      <td>306308</td>\n",
       "    </tr>\n",
       "    <tr>\n",
       "      <th>EmployedInCty</th>\n",
       "      <td>315922</td>\n",
       "      <td>315922</td>\n",
       "      <td>264256</td>\n",
       "      <td>210728</td>\n",
       "      <td>277678</td>\n",
       "    </tr>\n",
       "    <tr>\n",
       "      <th>UnempInCty</th>\n",
       "      <td>31668</td>\n",
       "      <td>31668</td>\n",
       "      <td>13903</td>\n",
       "      <td>23493</td>\n",
       "      <td>28630</td>\n",
       "    </tr>\n",
       "    <tr>\n",
       "      <th>UnempRateInCty</th>\n",
       "      <td>9.1</td>\n",
       "      <td>9.1</td>\n",
       "      <td>5</td>\n",
       "      <td>10</td>\n",
       "      <td>9.3</td>\n",
       "    </tr>\n",
       "    <tr>\n",
       "      <th>DeathsPer100k</th>\n",
       "      <td>823.4</td>\n",
       "      <td>823.4</td>\n",
       "      <td>823.4</td>\n",
       "      <td>562.9</td>\n",
       "      <td>565.8</td>\n",
       "    </tr>\n",
       "    <tr>\n",
       "      <th>PayDelay</th>\n",
       "      <td>-2</td>\n",
       "      <td>-1</td>\n",
       "      <td>-9</td>\n",
       "      <td>-3</td>\n",
       "      <td>-2</td>\n",
       "    </tr>\n",
       "  </tbody>\n",
       "</table>\n",
       "</div>"
      ],
      "text/plain": [
       "                                             2614  \\\n",
       "Name                        PREMIER SECURITY, INC   \n",
       "City                                       Denver   \n",
       "Bank                SUPERIOR FINANCIAL GROUP, LLC   \n",
       "BankState                                      CA   \n",
       "NAICS                                      561612   \n",
       "ApprovalDate                  2010-06-03 00:00:00   \n",
       "ApprovalFY                                   2010   \n",
       "Term                                          107   \n",
       "NoEmp                                           2   \n",
       "NewExist                                        1   \n",
       "CreateJob                                      15   \n",
       "RetainedJob                                     2   \n",
       "FranchiseCode                                   0   \n",
       "UrbanRural                                      1   \n",
       "RevLineCr                                       N   \n",
       "LowDoc                                          N   \n",
       "ChgOffDate                               6-Jan-12   \n",
       "DisbursementDate              2010-06-01 00:00:00   \n",
       "DisbursementGross                           10000   \n",
       "BalanceGross                               $0.00    \n",
       "MIS_Status                                 CHGOFF   \n",
       "ChgOffPrinGr                           $9,482.00    \n",
       "GrAppv                                $10,000.00    \n",
       "SBA_Appv                               $8,500.00    \n",
       "County_Fips                                  8031   \n",
       "County_Name                                Denver   \n",
       "TotalLoansInCounty                           3647   \n",
       "PIF_RateByCounty                         0.839232   \n",
       "MedIncome                                   47786   \n",
       "Population                                 603300   \n",
       "PopChange                                0.139801   \n",
       "LaborForceInCty                            347590   \n",
       "EmployedInCty                              315922   \n",
       "UnempInCty                                  31668   \n",
       "UnempRateInCty                                9.1   \n",
       "DeathsPer100k                               823.4   \n",
       "PayDelay                                       -2   \n",
       "\n",
       "                                              2633                 4451  \\\n",
       "Name                            Huff & Leslie, LLP        FANDANGO,INC.   \n",
       "City                                        Denver               Denver   \n",
       "Bank                JPMORGAN CHASE BANK NATL ASSOC            FIRSTBANK   \n",
       "BankState                                       IL                   CO   \n",
       "NAICS                                       541110                    0   \n",
       "ApprovalDate                   2010-07-13 00:00:00  1996-05-09 00:00:00   \n",
       "ApprovalFY                                    2010                 1996   \n",
       "Term                                            84                   60   \n",
       "NoEmp                                            2                    3   \n",
       "NewExist                                         1                    2   \n",
       "CreateJob                                        1                    0   \n",
       "RetainedJob                                      0                    0   \n",
       "FranchiseCode                                    0                    1   \n",
       "UrbanRural                                       1                    0   \n",
       "RevLineCr                                        Y                    N   \n",
       "LowDoc                                           N                    Y   \n",
       "ChgOffDate                                     NaN                  NaN   \n",
       "DisbursementDate               2010-07-12 00:00:00  1996-04-30 00:00:00   \n",
       "DisbursementGross                           120700                65000   \n",
       "BalanceGross                                $0.00                $0.00    \n",
       "MIS_Status                                   P I F                P I F   \n",
       "ChgOffPrinGr                                $0.00                $0.00    \n",
       "GrAppv                                 $25,000.00           $65,000.00    \n",
       "SBA_Appv                               $12,500.00           $52,000.00    \n",
       "County_Fips                                   8031                 8031   \n",
       "County_Name                                 Denver               Denver   \n",
       "TotalLoansInCounty                            3647                 3647   \n",
       "PIF_RateByCounty                          0.839232             0.839232   \n",
       "MedIncome                                    47786                29346   \n",
       "Population                                  603300               527643   \n",
       "PopChange                                 0.139801             0.139801   \n",
       "LaborForceInCty                             347590               278159   \n",
       "EmployedInCty                               315922               264256   \n",
       "UnempInCty                                   31668                13903   \n",
       "UnempRateInCty                                 9.1                    5   \n",
       "DeathsPer100k                                823.4                823.4   \n",
       "PayDelay                                        -1                   -9   \n",
       "\n",
       "                                   5845                  7662  \n",
       "Name                  Trang Thi Ai Tran  BRAZOS BUILDERS, INC  \n",
       "City                             Aurora      Colorado Springs  \n",
       "Bank                      WILSHIRE BANK           5 STAR BANK  \n",
       "BankState                            CA                    CO  \n",
       "NAICS                            445310                236210  \n",
       "ApprovalDate        2010-03-11 00:00:00   2010-03-11 00:00:00  \n",
       "ApprovalFY                         2010                  2010  \n",
       "Term                                120                    60  \n",
       "NoEmp                                 3                     2  \n",
       "NewExist                              1                     1  \n",
       "CreateJob                             0                     3  \n",
       "RetainedJob                           3                     2  \n",
       "FranchiseCode                         0                     0  \n",
       "UrbanRural                            1                     1  \n",
       "RevLineCr                             N                     N  \n",
       "LowDoc                                N                     N  \n",
       "ChgOffDate                          NaN                   NaN  \n",
       "DisbursementDate    2010-03-08 00:00:00   2010-03-09 00:00:00  \n",
       "DisbursementGross                240000                120000  \n",
       "BalanceGross                     $0.00                 $0.00   \n",
       "MIS_Status                        P I F                 P I F  \n",
       "ChgOffPrinGr                     $0.00                 $0.00   \n",
       "GrAppv                     $240,000.00           $120,000.00   \n",
       "SBA_Appv                   $216,000.00           $108,000.00   \n",
       "County_Fips                        8001                  8041  \n",
       "County_Name                       Adams               El Paso  \n",
       "TotalLoansInCounty                 1929                  1977  \n",
       "PIF_RateByCounty               0.752722              0.819838  \n",
       "MedIncome                         30299                 37699  \n",
       "Population                       443680                626916  \n",
       "PopChange                      0.293547              0.250686  \n",
       "LaborForceInCty                  234221                306308  \n",
       "EmployedInCty                    210728                277678  \n",
       "UnempInCty                        23493                 28630  \n",
       "UnempRateInCty                       10                   9.3  \n",
       "DeathsPer100k                     562.9                 565.8  \n",
       "PayDelay                             -3                    -2  "
      ]
     },
     "execution_count": 10,
     "metadata": {},
     "output_type": "execute_result"
    }
   ],
   "source": [
    "# And let's also investigate the negative values :\n",
    "\n",
    "df[df.PayDelay < 0].head().T"
   ]
  },
  {
   "cell_type": "code",
   "execution_count": 11,
   "metadata": {},
   "outputs": [],
   "source": [
    "# Still, to avoid any strange modeling issues, we will change any values less than 1 day to be 1 day. \n",
    "# And any delay values greater than 1000 days to be 1000 days (somewhat arbitrary, admittedly)\n",
    "\n",
    "df.loc[df['PayDelay'] < 1, ['PayDelay']] = 1\n",
    "df.loc[df['PayDelay'] > 1000, ['PayDelay']] = 1000\n"
   ]
  },
  {
   "cell_type": "code",
   "execution_count": 12,
   "metadata": {},
   "outputs": [
    {
     "data": {
      "image/png": "[encoded data removed]",
      "text/plain": [
       "<Figure size 432x288 with 1 Axes>"
      ]
     },
     "metadata": {
      "needs_background": "light"
     },
     "output_type": "display_data"
    }
   ],
   "source": [
    "# The resulting distribution. We're now ready to delete the date columns.  \n",
    "\n",
    "_ = df.PayDelay.hist(bins=150,density=True, histtype='step', cumulative=True)\n",
    "_ = plt.xlabel('Days to get $ (Red line is Mean)')\n",
    "_ = plt.axvline(np.mean(df.PayDelay), color='red')\n",
    "plt.show()"
   ]
  },
  {
   "cell_type": "markdown",
   "metadata": {},
   "source": [
    "#### Wholesale deletion of a bunch of columns we don't need: ####\n",
    "First off, we'll get rid of some columns we won't need in our regression efforts.   \n",
    "1 - Name: Name of Individual  \n",
    "2 - City: City of Business (we are already importing a lot of couty-specific information to the model)  \n",
    "3 - Bank: We will assume that the bank the loan is with is not a significant factor.  \n",
    "4 - BankState: The state of the branch of bank used. Again, assumed to be not significant.  \n",
    "5 - UrbanRural: By importing a lot of the demographic information by county, we in effect have this data already.  \n",
    "6 - ChgOffDate: Assume that loan payment performance os not a function of when in the calendar year the loan was charged off.  \n",
    "7 - BalanceGross: A redundant feature to the loan amount.  \n",
    "8 - County_Fips: This is just a key column for adding other data.  \n",
    "9 - County_Name: County name shouldn't matter either.  \n",
    "10- GrAppv: Gross amount of loan approved by bank - highly correlated to gross disbursement.  \n",
    "11- SBA_Appv: SBA's guaranteed amount of approved loan - again, highly correlated to gross disbursement.  \n",
    "12- ChgOffPrinGr: Amount charged off, which will be mostly empty data since most loans get paid off.  \n",
    "13- ApprovalDate: We will assume that when in the year the loan was approved is not a significant explanatory variable for loan payoff.  \n",
    "14- DisbursementDate: Similar to approval date, but the calendar date of actual money disbursement.\n"
   ]
  },
  {
   "cell_type": "code",
   "execution_count": 13,
   "metadata": {},
   "outputs": [
    {
     "data": {
      "text/html": [
       "<div>\n",
       "<style scoped>\n",
       "    .dataframe tbody tr th:only-of-type {\n",
       "        vertical-align: middle;\n",
       "    }\n",
       "\n",
       "    .dataframe tbody tr th {\n",
       "        vertical-align: top;\n",
       "    }\n",
       "\n",
       "    .dataframe thead th {\n",
       "        text-align: right;\n",
       "    }\n",
       "</style>\n",
       "<table border=\"1\" class=\"dataframe\">\n",
       "  <thead>\n",
       "    <tr style=\"text-align: right;\">\n",
       "      <th></th>\n",
       "      <th>0</th>\n",
       "      <th>1</th>\n",
       "      <th>2</th>\n",
       "      <th>3</th>\n",
       "      <th>4</th>\n",
       "    </tr>\n",
       "  </thead>\n",
       "  <tbody>\n",
       "    <tr>\n",
       "      <th>NAICS</th>\n",
       "      <td>621210</td>\n",
       "      <td>333131</td>\n",
       "      <td>621210</td>\n",
       "      <td>811111</td>\n",
       "      <td>0</td>\n",
       "    </tr>\n",
       "    <tr>\n",
       "      <th>ApprovalFY</th>\n",
       "      <td>2006</td>\n",
       "      <td>1997</td>\n",
       "      <td>1997</td>\n",
       "      <td>2005</td>\n",
       "      <td>1997</td>\n",
       "    </tr>\n",
       "    <tr>\n",
       "      <th>Term</th>\n",
       "      <td>264</td>\n",
       "      <td>60</td>\n",
       "      <td>120</td>\n",
       "      <td>35</td>\n",
       "      <td>60</td>\n",
       "    </tr>\n",
       "    <tr>\n",
       "      <th>NoEmp</th>\n",
       "      <td>9</td>\n",
       "      <td>2</td>\n",
       "      <td>4</td>\n",
       "      <td>3</td>\n",
       "      <td>2</td>\n",
       "    </tr>\n",
       "    <tr>\n",
       "      <th>NewExist</th>\n",
       "      <td>1</td>\n",
       "      <td>1</td>\n",
       "      <td>1</td>\n",
       "      <td>1</td>\n",
       "      <td>1</td>\n",
       "    </tr>\n",
       "    <tr>\n",
       "      <th>CreateJob</th>\n",
       "      <td>0</td>\n",
       "      <td>0</td>\n",
       "      <td>0</td>\n",
       "      <td>0</td>\n",
       "      <td>0</td>\n",
       "    </tr>\n",
       "    <tr>\n",
       "      <th>RetainedJob</th>\n",
       "      <td>9</td>\n",
       "      <td>0</td>\n",
       "      <td>0</td>\n",
       "      <td>0</td>\n",
       "      <td>0</td>\n",
       "    </tr>\n",
       "    <tr>\n",
       "      <th>FranchiseCode</th>\n",
       "      <td>1</td>\n",
       "      <td>1</td>\n",
       "      <td>1</td>\n",
       "      <td>1</td>\n",
       "      <td>1</td>\n",
       "    </tr>\n",
       "    <tr>\n",
       "      <th>RevLineCr</th>\n",
       "      <td>0</td>\n",
       "      <td>N</td>\n",
       "      <td>0</td>\n",
       "      <td>N</td>\n",
       "      <td>N</td>\n",
       "    </tr>\n",
       "    <tr>\n",
       "      <th>LowDoc</th>\n",
       "      <td>N</td>\n",
       "      <td>Y</td>\n",
       "      <td>N</td>\n",
       "      <td>N</td>\n",
       "      <td>Y</td>\n",
       "    </tr>\n",
       "    <tr>\n",
       "      <th>DisbursementGross</th>\n",
       "      <td>1.5242e+06</td>\n",
       "      <td>90000</td>\n",
       "      <td>59000</td>\n",
       "      <td>50000</td>\n",
       "      <td>21200</td>\n",
       "    </tr>\n",
       "    <tr>\n",
       "      <th>MIS_Status</th>\n",
       "      <td>P I F</td>\n",
       "      <td>P I F</td>\n",
       "      <td>P I F</td>\n",
       "      <td>CHGOFF</td>\n",
       "      <td>P I F</td>\n",
       "    </tr>\n",
       "    <tr>\n",
       "      <th>TotalLoansInCounty</th>\n",
       "      <td>445</td>\n",
       "      <td>445</td>\n",
       "      <td>445</td>\n",
       "      <td>445</td>\n",
       "      <td>445</td>\n",
       "    </tr>\n",
       "    <tr>\n",
       "      <th>PIF_RateByCounty</th>\n",
       "      <td>0.876404</td>\n",
       "      <td>0.876404</td>\n",
       "      <td>0.876404</td>\n",
       "      <td>0.876404</td>\n",
       "      <td>0.876404</td>\n",
       "    </tr>\n",
       "    <tr>\n",
       "      <th>MedIncome</th>\n",
       "      <td>32644</td>\n",
       "      <td>21835</td>\n",
       "      <td>21835</td>\n",
       "      <td>30645</td>\n",
       "      <td>21835</td>\n",
       "    </tr>\n",
       "    <tr>\n",
       "      <th>Population</th>\n",
       "      <td>134665</td>\n",
       "      <td>110566</td>\n",
       "      <td>110566</td>\n",
       "      <td>130194</td>\n",
       "      <td>110566</td>\n",
       "    </tr>\n",
       "    <tr>\n",
       "      <th>PopChange</th>\n",
       "      <td>0.276615</td>\n",
       "      <td>0.276615</td>\n",
       "      <td>0.276615</td>\n",
       "      <td>0.276615</td>\n",
       "      <td>0.276615</td>\n",
       "    </tr>\n",
       "    <tr>\n",
       "      <th>LaborForceInCty</th>\n",
       "      <td>74156</td>\n",
       "      <td>57738</td>\n",
       "      <td>57738</td>\n",
       "      <td>70811</td>\n",
       "      <td>57738</td>\n",
       "    </tr>\n",
       "    <tr>\n",
       "      <th>EmployedInCty</th>\n",
       "      <td>71219</td>\n",
       "      <td>55069</td>\n",
       "      <td>55069</td>\n",
       "      <td>67350</td>\n",
       "      <td>55069</td>\n",
       "    </tr>\n",
       "    <tr>\n",
       "      <th>UnempInCty</th>\n",
       "      <td>2937</td>\n",
       "      <td>2669</td>\n",
       "      <td>2669</td>\n",
       "      <td>3461</td>\n",
       "      <td>2669</td>\n",
       "    </tr>\n",
       "    <tr>\n",
       "      <th>UnempRateInCty</th>\n",
       "      <td>4</td>\n",
       "      <td>4.6</td>\n",
       "      <td>4.6</td>\n",
       "      <td>4.9</td>\n",
       "      <td>4.6</td>\n",
       "    </tr>\n",
       "    <tr>\n",
       "      <th>DeathsPer100k</th>\n",
       "      <td>977.2</td>\n",
       "      <td>977.2</td>\n",
       "      <td>977.2</td>\n",
       "      <td>977.2</td>\n",
       "      <td>977.2</td>\n",
       "    </tr>\n",
       "    <tr>\n",
       "      <th>PayDelay</th>\n",
       "      <td>52</td>\n",
       "      <td>85</td>\n",
       "      <td>47</td>\n",
       "      <td>98</td>\n",
       "      <td>45</td>\n",
       "    </tr>\n",
       "  </tbody>\n",
       "</table>\n",
       "</div>"
      ],
      "text/plain": [
       "                             0         1         2         3         4\n",
       "NAICS                   621210    333131    621210    811111         0\n",
       "ApprovalFY                2006      1997      1997      2005      1997\n",
       "Term                       264        60       120        35        60\n",
       "NoEmp                        9         2         4         3         2\n",
       "NewExist                     1         1         1         1         1\n",
       "CreateJob                    0         0         0         0         0\n",
       "RetainedJob                  9         0         0         0         0\n",
       "FranchiseCode                1         1         1         1         1\n",
       "RevLineCr                    0         N         0         N         N\n",
       "LowDoc                       N         Y         N         N         Y\n",
       "DisbursementGross   1.5242e+06     90000     59000     50000     21200\n",
       "MIS_Status               P I F     P I F     P I F    CHGOFF     P I F\n",
       "TotalLoansInCounty         445       445       445       445       445\n",
       "PIF_RateByCounty      0.876404  0.876404  0.876404  0.876404  0.876404\n",
       "MedIncome                32644     21835     21835     30645     21835\n",
       "Population              134665    110566    110566    130194    110566\n",
       "PopChange             0.276615  0.276615  0.276615  0.276615  0.276615\n",
       "LaborForceInCty          74156     57738     57738     70811     57738\n",
       "EmployedInCty            71219     55069     55069     67350     55069\n",
       "UnempInCty                2937      2669      2669      3461      2669\n",
       "UnempRateInCty               4       4.6       4.6       4.9       4.6\n",
       "DeathsPer100k            977.2     977.2     977.2     977.2     977.2\n",
       "PayDelay                    52        85        47        98        45"
      ]
     },
     "execution_count": 13,
     "metadata": {},
     "output_type": "execute_result"
    }
   ],
   "source": [
    "df = df.drop(columns=['Name', 'City', 'Bank', 'BankState', 'UrbanRural', 'ChgOffDate', 'BalanceGross', \\\n",
    "                      'County_Fips', 'County_Name', 'GrAppv','SBA_Appv', 'ChgOffPrinGr', 'ApprovalDate','DisbursementDate'])\n",
    "\n",
    "df.head().T"
   ]
  },
  {
   "cell_type": "code",
   "execution_count": 14,
   "metadata": {},
   "outputs": [],
   "source": [
    "# Here we'll define a function that'll take a look at the test statistic for two proportions,\n",
    "# To test against a hypothesis that they came from the same binomial distribution.\n",
    "\n",
    "\n",
    "def props(a_yes, a_no, b_yes, b_no):\n",
    "    n1 = a_yes + a_no                     # <------Population of first proportion (e.g., standard loans)\n",
    "    n2 = b_yes + b_no                     # <------Population of 2nd proportion (e.g., low-doc loans)\n",
    "    p1 = a_yes/n1                         # <------1st proportion\n",
    "    p2 = b_yes/ n2                         # <------2nd proportion\n",
    "    p_hat = (n1*p1 + n2*p2)/(n1 + n2)     # <------Combined proportion\n",
    "\n",
    "    z_stat = (p2 - p1)/np.sqrt(p_hat*(1-p_hat)* (1/n1 + 1/n2))\n",
    "\n",
    "    return print(n1, n2, p1, p2, p_hat, z_stat)\n",
    "\n"
   ]
  },
  {
   "cell_type": "markdown",
   "metadata": {},
   "source": [
    "#### NewExist (and converting it to NewBiz) ##\n",
    "Next we explore some categorical and discrete variables, and how they relate to loan performance. 'NewExist' is a variable that codes whether the business is new (2) or existing (1):"
   ]
  },
  {
   "cell_type": "code",
   "execution_count": 15,
   "metadata": {},
   "outputs": [
    {
     "data": {
      "text/plain": [
       "NewExist  MIS_Status\n",
       "0.0       P I F            17\n",
       "1.0       CHGOFF         2559\n",
       "          P I F         12329\n",
       "2.0       CHGOFF          814\n",
       "          P I F          3646\n",
       "Name: NAICS, dtype: int64"
      ]
     },
     "execution_count": 15,
     "metadata": {},
     "output_type": "execute_result"
    }
   ],
   "source": [
    "df.groupby(['NewExist','MIS_Status']).count()['NAICS']"
   ]
  },
  {
   "cell_type": "markdown",
   "metadata": {},
   "source": [
    "For existing businesses, loans get repayed about 82.8% of the time. For new businesses, than number is about 81.7%. So if there is a signal here, it's a pretty weak one. Still, we'll redefine this column as \"NewBiz\", whether the business is new(1) or not(0). Here well also need to get rid of the 17 rows that don't fit. "
   ]
  },
  {
   "cell_type": "code",
   "execution_count": 16,
   "metadata": {},
   "outputs": [
    {
     "name": "stdout",
     "output_type": "stream",
     "text": [
      "14888 4460 0.8281166039763568 0.8174887892376682 0.8256667355799049 -1.641039444706116\n"
     ]
    }
   ],
   "source": [
    "# Let's take a look at the test statistic for these two binomial distributions.\n",
    "\n",
    "props(12329, 2559, 3646, 814)\n",
    "\n",
    "# Since z-statistic is less than 2, it's possible that the two proportions came from the same binomial distribution. "
   ]
  },
  {
   "cell_type": "code",
   "execution_count": 17,
   "metadata": {},
   "outputs": [
    {
     "data": {
      "text/plain": [
       "dtype('float64')"
      ]
     },
     "execution_count": 17,
     "metadata": {},
     "output_type": "execute_result"
    }
   ],
   "source": [
    "df.NewExist.dtypes"
   ]
  },
  {
   "cell_type": "code",
   "execution_count": 18,
   "metadata": {},
   "outputs": [],
   "source": [
    "# Redefine and rename the NewExist column: new business (1) or not (0): \n",
    "\n",
    "df = df[df['NewExist'] >= 1.0]     # <------ Get rid of 17 rows with ambiguous definition\n",
    "\n",
    "df['NewExist'] = df['NewExist'] - 1        \n",
    "\n",
    "df = df.rename(columns={'NewExist': 'NewBiz'}) "
   ]
  },
  {
   "cell_type": "code",
   "execution_count": 19,
   "metadata": {},
   "outputs": [
    {
     "data": {
      "text/plain": [
       "NewBiz  MIS_Status\n",
       "0.0     CHGOFF         2559\n",
       "        P I F         12329\n",
       "1.0     CHGOFF          814\n",
       "        P I F          3646\n",
       "Name: NAICS, dtype: int64"
      ]
     },
     "execution_count": 19,
     "metadata": {},
     "output_type": "execute_result"
    }
   ],
   "source": [
    "# Resulting categorical variable is much cleaner:\n",
    "\n",
    "df.groupby(['NewBiz','MIS_Status']).count()['NAICS']"
   ]
  },
  {
   "cell_type": "markdown",
   "metadata": {},
   "source": [
    "#### RevLineCr ####\n",
    "Moving on, we look at 'RevLineCr', which refers to whether or not the loan involved a revolving line of credit. In this case(below), with a revolving line of cerdit, loans get repayed about 67.4% of the time. With no revolving line of credit, loans get repayed about 89.0% of the time. Clearly, this is a significant variable.  \n",
    "  \n",
    "  Some cleanup of this variable will be needed. "
   ]
  },
  {
   "cell_type": "code",
   "execution_count": 20,
   "metadata": {},
   "outputs": [
    {
     "data": {
      "text/plain": [
       "RevLineCr  MIS_Status\n",
       "0          CHGOFF         935\n",
       "           P I F         5235\n",
       "2          P I F            1\n",
       "5          P I F            1\n",
       "N          CHGOFF         915\n",
       "           P I F         7442\n",
       "T          CHGOFF          28\n",
       "           P I F           81\n",
       "Y          CHGOFF        1494\n",
       "           P I F         3096\n",
       "Name: NAICS, dtype: int64"
      ]
     },
     "execution_count": 20,
     "metadata": {},
     "output_type": "execute_result"
    }
   ],
   "source": [
    "df.groupby(['RevLineCr','MIS_Status']).count()['NAICS']"
   ]
  },
  {
   "cell_type": "code",
   "execution_count": 21,
   "metadata": {},
   "outputs": [
    {
     "name": "stdout",
     "output_type": "stream",
     "text": [
      "8357 4590 0.8905109489051095 0.6745098039215687 0.8139337298215803 -30.211665946306276\n"
     ]
    }
   ],
   "source": [
    "# Proportion test assuming 0 is a separate proportion:\n",
    "\n",
    "props(7442, 915, 3096, 1494)"
   ]
  },
  {
   "cell_type": "code",
   "execution_count": 22,
   "metadata": {},
   "outputs": [],
   "source": [
    "# We will assume '0' = 'N' & 'T', '2' and '5' = 'Y'\n",
    "\n",
    "df['RevLineCr'] = df['RevLineCr'].map({'0': 0, 'N': 0, 'Y' : 1, 'T' : 1, '5' : 1, '2' : 1})\n"
   ]
  },
  {
   "cell_type": "code",
   "execution_count": 23,
   "metadata": {},
   "outputs": [
    {
     "data": {
      "text/plain": [
       "0.0    14531\n",
       "1.0     4702\n",
       "Name: RevLineCr, dtype: int64"
      ]
     },
     "execution_count": 23,
     "metadata": {},
     "output_type": "execute_result"
    }
   ],
   "source": [
    "df.RevLineCr.value_counts()"
   ]
  },
  {
   "cell_type": "code",
   "execution_count": 24,
   "metadata": {},
   "outputs": [
    {
     "data": {
      "text/plain": [
       "RevLineCr  MIS_Status\n",
       "0.0        CHGOFF         1850\n",
       "           P I F         12677\n",
       "1.0        CHGOFF         1522\n",
       "           P I F          3179\n",
       "Name: NAICS, dtype: int64"
      ]
     },
     "execution_count": 24,
     "metadata": {},
     "output_type": "execute_result"
    }
   ],
   "source": [
    "df.groupby(['RevLineCr','MIS_Status']).count()['NAICS']"
   ]
  },
  {
   "cell_type": "code",
   "execution_count": 25,
   "metadata": {},
   "outputs": [
    {
     "name": "stdout",
     "output_type": "stream",
     "text": [
      "14527 4701 0.8726509258621876 0.6762390980642417 0.8246307468275431 -30.780607443988522\n"
     ]
    }
   ],
   "source": [
    "# The net is to preserve the dataset size and yield very similar proportions as before:\n",
    "\n",
    "props(12677, 1850, 3179, 1522)"
   ]
  },
  {
   "cell_type": "markdown",
   "metadata": {},
   "source": [
    "#### LowDoc ####\n",
    "Next variable is 'LowDoc', whether the loan is a low-documentation type. 90.7% of Low-Doc loans are repayed, but loans with standard documentation have a 81.5% repayment rate. While this is a big difference, the number of Low-Doc loans in the dataset is not that big, so the effect may not be statistically significant and should be looked at more closely."
   ]
  },
  {
   "cell_type": "code",
   "execution_count": 26,
   "metadata": {},
   "outputs": [
    {
     "data": {
      "text/plain": [
       "LowDoc  MIS_Status\n",
       "0       CHGOFF            1\n",
       "        P I F            38\n",
       "A       CHGOFF            2\n",
       "        P I F             6\n",
       "N       CHGOFF         3133\n",
       "        P I F         13783\n",
       "S       CHGOFF            2\n",
       "        P I F             6\n",
       "Y       CHGOFF          215\n",
       "        P I F          2106\n",
       "Name: NAICS, dtype: int64"
      ]
     },
     "execution_count": 26,
     "metadata": {},
     "output_type": "execute_result"
    }
   ],
   "source": [
    "df.groupby(['LowDoc','MIS_Status']).count()['NAICS']"
   ]
  },
  {
   "cell_type": "code",
   "execution_count": 27,
   "metadata": {},
   "outputs": [
    {
     "name": "stdout",
     "output_type": "stream",
     "text": [
      "16932 2324 0.8149066855657926 0.907487091222031 0.8260801828001662 11.041360643915272\n"
     ]
    }
   ],
   "source": [
    "# Let's take a look at the test statistic for these two binomial distributions.\n",
    "\n",
    "props(13798, 3134, 2109, 215)\n",
    "\n",
    "# Since z-statistic is much larger than 2, we conclude the difference in proportions is statistically significant. "
   ]
  },
  {
   "cell_type": "code",
   "execution_count": 28,
   "metadata": {},
   "outputs": [
    {
     "data": {
      "text/plain": [
       "LowDoc  MIS_Status\n",
       "N       CHGOFF         3133\n",
       "        P I F         13783\n",
       "Y       CHGOFF          215\n",
       "        P I F          2106\n",
       "Name: NAICS, dtype: int64"
      ]
     },
     "execution_count": 28,
     "metadata": {},
     "output_type": "execute_result"
    }
   ],
   "source": [
    "# To further clean this dataset, we will remove low-doc values of 0, A, and S:\n",
    "\n",
    "df = df[df.LowDoc != '0'] \n",
    "df = df[df.LowDoc != 'A'] \n",
    "df = df[df.LowDoc != 'S'] \n",
    "\n",
    "df.groupby(['LowDoc','MIS_Status']).count()['NAICS']"
   ]
  },
  {
   "cell_type": "code",
   "execution_count": 29,
   "metadata": {},
   "outputs": [],
   "source": [
    "# Convert to binary coding for LowDoc (No = 0 and Yes = 1):\n",
    "\n",
    "df.loc[df['LowDoc'] =='N', ['LowDoc']] = 0\n",
    "df.loc[df['LowDoc'] =='Y', ['LowDoc']] = 1"
   ]
  },
  {
   "cell_type": "markdown",
   "metadata": {},
   "source": [
    "#### FranchiseCode ####\n",
    "Franchise is a coding variable for whether or not the business is a franchise, and if so, what franchise it is. Values of 0 or 1 mean the business is not a franchise."
   ]
  },
  {
   "cell_type": "code",
   "execution_count": 30,
   "metadata": {},
   "outputs": [
    {
     "data": {
      "text/plain": [
       "1        13759\n",
       "0         4388\n",
       "78760       51\n",
       "68020       43\n",
       "10494       28\n",
       "         ...  \n",
       "74750        1\n",
       "9802         1\n",
       "4452         1\n",
       "54400        1\n",
       "5670         1\n",
       "Name: FranchiseCode, Length: 385, dtype: int64"
      ]
     },
     "execution_count": 30,
     "metadata": {},
     "output_type": "execute_result"
    }
   ],
   "source": [
    "df.FranchiseCode.value_counts()"
   ]
  },
  {
   "cell_type": "code",
   "execution_count": 31,
   "metadata": {},
   "outputs": [],
   "source": [
    "Franch = (df.FranchiseCode <= 1)"
   ]
  },
  {
   "cell_type": "code",
   "execution_count": 32,
   "metadata": {},
   "outputs": [
    {
     "data": {
      "text/plain": [
       "True     18147\n",
       "False     1151\n",
       "Name: FranchiseCode, dtype: int64"
      ]
     },
     "execution_count": 32,
     "metadata": {},
     "output_type": "execute_result"
    }
   ],
   "source": [
    "# We can see that the dataset is overwhelmingly non-franchise businesses, nearly 95%. \n",
    "# Hence it's value as an explanatory variable is likely not high. \n",
    "\n",
    "Franch.value_counts()"
   ]
  },
  {
   "cell_type": "code",
   "execution_count": 33,
   "metadata": {},
   "outputs": [],
   "source": [
    "# Add boolean column to dataset signifying whether or not a franchise: \n",
    "df['Franch'] = Franch"
   ]
  },
  {
   "cell_type": "code",
   "execution_count": 34,
   "metadata": {},
   "outputs": [
    {
     "data": {
      "text/plain": [
       "Franch  MIS_Status\n",
       "False   CHGOFF          193\n",
       "        P I F           958\n",
       "True    CHGOFF         3175\n",
       "        P I F         14967\n",
       "Name: NAICS, dtype: int64"
      ]
     },
     "execution_count": 34,
     "metadata": {},
     "output_type": "execute_result"
    }
   ],
   "source": [
    "df.groupby(['Franch','MIS_Status']).count()['NAICS']"
   ]
  },
  {
   "cell_type": "markdown",
   "metadata": {},
   "source": [
    "The proportion of non-franchises that pay their loans in full is 82.5%, compared to 83.0% for franchises. As can be seen below, this difference results in a z-statistic of 0.47, hence there is an excellent chance the two proportions came from the same binomial distribution. \n",
    "#### ........As a result, we will drop this categorical variable from the dataset. "
   ]
  },
  {
   "cell_type": "code",
   "execution_count": 35,
   "metadata": {},
   "outputs": [
    {
     "name": "stdout",
     "output_type": "stream",
     "text": [
      "18177 1116 0.8251086537932553 0.8306451612903226 0.8254289120406366 0.47293691431195517\n"
     ]
    }
   ],
   "source": [
    "# Let's take a look at the test statistic for these two binomial distributions.\n",
    "\n",
    "props(14998, 3179, 927,189)\n",
    "\n",
    "# Since z-statistic is < 2, we conclude the difference in proportions is NOT statistically significant."
   ]
  },
  {
   "cell_type": "code",
   "execution_count": 36,
   "metadata": {},
   "outputs": [],
   "source": [
    "# Drop Franchise Code from dataset. \n",
    "\n",
    "df = df.drop(columns=['FranchiseCode', 'Franch'])"
   ]
  },
  {
   "cell_type": "markdown",
   "metadata": {},
   "source": [
    "#### NoEmp ####\n",
    "NoEmp is a variable that shows the number of employees in an organization. We explore the distribution below:"
   ]
  },
  {
   "cell_type": "code",
   "execution_count": 37,
   "metadata": {},
   "outputs": [
    {
     "data": {
      "text/plain": [
       "1       3372\n",
       "2       2988\n",
       "3       1799\n",
       "4       1516\n",
       "5       1260\n",
       "        ... \n",
       "1451       1\n",
       "76         1\n",
       "102        1\n",
       "322        1\n",
       "191        1\n",
       "Name: NoEmp, Length: 149, dtype: int64"
      ]
     },
     "execution_count": 37,
     "metadata": {},
     "output_type": "execute_result"
    }
   ],
   "source": [
    "df.NoEmp.value_counts()"
   ]
  },
  {
   "cell_type": "code",
   "execution_count": 38,
   "metadata": {},
   "outputs": [
    {
     "data": {
      "image/png": "[encoded data removed]",
      "text/plain": [
       "<Figure size 432x288 with 1 Axes>"
      ]
     },
     "metadata": {
      "needs_background": "light"
     },
     "output_type": "display_data"
    }
   ],
   "source": [
    "_ = df.NoEmp.hist(bins=150,density=True, histtype='step',cumulative=True)\n",
    "_ = plt.xlabel('No. of Employees')\n",
    "#_ = plt.yscale('log')\n",
    "_ = plt.xscale('log')\n",
    "plt.show()"
   ]
  },
  {
   "cell_type": "markdown",
   "metadata": {},
   "source": [
    "The data suggest the vast majority of businesses have fewer than 10 employees. But there are some with hundreds or thousands of employees. For the purposes of our modeling, we can probably just label those as \"big\" and not dwell on the precise employee count. So let's cut off the distribution at, say, 100; concretely, any value > 100 will be forced to 100. Then we'll re-plot the cdf, which now appears to be an exponential distribution with a mean of 9-10 employees. "
   ]
  },
  {
   "cell_type": "code",
   "execution_count": 39,
   "metadata": {},
   "outputs": [],
   "source": [
    "# For simplicity we'll force any emplyee count > 100 to be 100:\n",
    "\n",
    "df.loc[df['NoEmp'] > 100, ['NoEmp']] = 100"
   ]
  },
  {
   "cell_type": "code",
   "execution_count": 40,
   "metadata": {},
   "outputs": [
    {
     "data": {
      "image/png": "[encoded data removed]",
      "text/plain": [
       "<Figure size 432x288 with 1 Axes>"
      ]
     },
     "metadata": {
      "needs_background": "light"
     },
     "output_type": "display_data"
    }
   ],
   "source": [
    "# Plot cdf of employee counts, with a vertical red line at the mean value. \n",
    "\n",
    "_ = df.NoEmp.hist(bins=150,density=True, histtype='step',cumulative=True)\n",
    "_ = plt.xlabel('No. of Employees (Red line is Mean)')\n",
    "_ = plt.axvline(np.mean(df.NoEmp), color='red')\n",
    "plt.show()"
   ]
  },
  {
   "cell_type": "markdown",
   "metadata": {},
   "source": [
    "#### Term ####\n",
    "We can see in the histogram below that Loan terms vary greatly in the dataset, ranging from less than one year to close to 25 years (data are in months). There are also some clearly common values: 84, 240, 120, 300 and 60 months being the top-five. "
   ]
  },
  {
   "cell_type": "code",
   "execution_count": 41,
   "metadata": {},
   "outputs": [
    {
     "data": {
      "image/png": "[encoded data removed]",
      "text/plain": [
       "<Figure size 432x288 with 1 Axes>"
      ]
     },
     "metadata": {
      "needs_background": "light"
     },
     "output_type": "display_data"
    }
   ],
   "source": [
    "_ = df.Term.hist(bins=50)\n",
    "_ = plt.xlabel('Loan Term (months)')\n",
    "plt.show()"
   ]
  },
  {
   "cell_type": "code",
   "execution_count": 42,
   "metadata": {},
   "outputs": [
    {
     "data": {
      "text/plain": [
       "84     0.258265\n",
       "240    0.128511\n",
       "120    0.104415\n",
       "60     0.072132\n",
       "300    0.071873\n",
       "         ...   \n",
       "214    0.000052\n",
       "198    0.000052\n",
       "253    0.000052\n",
       "164    0.000052\n",
       "261    0.000052\n",
       "Name: Term, Length: 307, dtype: float64"
      ]
     },
     "execution_count": 42,
     "metadata": {},
     "output_type": "execute_result"
    }
   ],
   "source": [
    "df.Term.value_counts(1)"
   ]
  },
  {
   "cell_type": "code",
   "execution_count": 43,
   "metadata": {},
   "outputs": [
    {
     "name": "stdout",
     "output_type": "stream",
     "text": [
      "<class 'pandas.core.frame.DataFrame'>\n",
      "Int64Index: 19298 entries, 0 to 19371\n",
      "Data columns (total 22 columns):\n",
      " #   Column              Non-Null Count  Dtype  \n",
      "---  ------              --------------  -----  \n",
      " 0   NAICS               19298 non-null  int64  \n",
      " 1   ApprovalFY          19298 non-null  int64  \n",
      " 2   Term                19298 non-null  int64  \n",
      " 3   NoEmp               19298 non-null  int64  \n",
      " 4   NewBiz              19298 non-null  float64\n",
      " 5   CreateJob           19298 non-null  int64  \n",
      " 6   RetainedJob         19298 non-null  int64  \n",
      " 7   RevLineCr           19183 non-null  float64\n",
      " 8   LowDoc              19242 non-null  object \n",
      " 9   DisbursementGross   19298 non-null  float64\n",
      " 10  MIS_Status          19293 non-null  object \n",
      " 11  TotalLoansInCounty  19298 non-null  int64  \n",
      " 12  PIF_RateByCounty    19298 non-null  float64\n",
      " 13  MedIncome           19298 non-null  int64  \n",
      " 14  Population          19298 non-null  float64\n",
      " 15  PopChange           19298 non-null  float64\n",
      " 16  LaborForceInCty     19298 non-null  int64  \n",
      " 17  EmployedInCty       19298 non-null  int64  \n",
      " 18  UnempInCty          19298 non-null  int64  \n",
      " 19  UnempRateInCty      19298 non-null  float64\n",
      " 20  DeathsPer100k       18970 non-null  object \n",
      " 21  PayDelay            19258 non-null  float64\n",
      "dtypes: float64(8), int64(11), object(3)\n",
      "memory usage: 3.4+ MB\n"
     ]
    }
   ],
   "source": [
    "df.info()"
   ]
  },
  {
   "cell_type": "markdown",
   "metadata": {},
   "source": [
    "#### CreateJob & RetainedJob ####\n",
    "At first glance, it's not clear how these columns can add significant information compared to what we already have with the NoEmp column. Still we'll take a look. "
   ]
  },
  {
   "cell_type": "code",
   "execution_count": 44,
   "metadata": {},
   "outputs": [],
   "source": [
    "# To explore the created and retained job data, we should first transform it the same way we did NoEmp\"\n",
    "\n",
    "df.loc[df['CreateJob'] > 100, ['CreateJob']] = 100\n",
    "df.loc[df['RetainedJob'] > 100, ['RetainedJob']] = 100"
   ]
  },
  {
   "cell_type": "code",
   "execution_count": 45,
   "metadata": {},
   "outputs": [
    {
     "data": {
      "text/plain": [
       "<matplotlib.axes._subplots.AxesSubplot at 0x204e46c3208>"
      ]
     },
     "execution_count": 45,
     "metadata": {},
     "output_type": "execute_result"
    },
    {
     "data": {
      "image/png": "[encoded data removed]",
      "text/plain": [
       "<Figure size 432x288 with 1 Axes>"
      ]
     },
     "metadata": {
      "needs_background": "light"
     },
     "output_type": "display_data"
    }
   ],
   "source": [
    "# We several instances of more jobs created than have been declared to exist in the NoEmp data: \n",
    "\n",
    "sns.scatterplot(x='CreateJob', y='NoEmp', data=df)"
   ]
  },
  {
   "cell_type": "code",
   "execution_count": 46,
   "metadata": {},
   "outputs": [
    {
     "data": {
      "text/plain": [
       "<matplotlib.axes._subplots.AxesSubplot at 0x204e48e1ec8>"
      ]
     },
     "execution_count": 46,
     "metadata": {},
     "output_type": "execute_result"
    },
    {
     "data": {
      "image/png": "[encoded data removed]",
      "text/plain": [
       "<Figure size 432x288 with 1 Axes>"
      ]
     },
     "metadata": {
      "needs_background": "light"
     },
     "output_type": "display_data"
    }
   ],
   "source": [
    "# Similarly, We several instances of more jobs retained than have been declared to exist in the NoEmp data:\n",
    "\n",
    "sns.scatterplot(x='RetainedJob', y='NoEmp', data=df)"
   ]
  },
  {
   "cell_type": "code",
   "execution_count": 47,
   "metadata": {},
   "outputs": [],
   "source": [
    "# We create a new column that gets the ratio of created to total jobs. \n",
    "# We add 1 to the denominator in the event that there are no employees. \n",
    "\n",
    "df['NewHireRatio'] = df.CreateJob / (df.NoEmp + 1)"
   ]
  },
  {
   "cell_type": "code",
   "execution_count": 48,
   "metadata": {},
   "outputs": [
    {
     "data": {
      "text/plain": [
       "count    19298.000000\n",
       "mean         0.410330\n",
       "std          1.925447\n",
       "min          0.000000\n",
       "25%          0.000000\n",
       "50%          0.000000\n",
       "75%          0.253409\n",
       "max        100.000000\n",
       "Name: NewHireRatio, dtype: float64"
      ]
     },
     "execution_count": 48,
     "metadata": {},
     "output_type": "execute_result"
    }
   ],
   "source": [
    "# Describe tells us that over half of the businesses did not create any new jobs. \n",
    "\n",
    "df.NewHireRatio.describe()"
   ]
  },
  {
   "cell_type": "code",
   "execution_count": 49,
   "metadata": {},
   "outputs": [
    {
     "data": {
      "text/plain": [
       "<matplotlib.axes._subplots.AxesSubplot at 0x204e4ebc408>"
      ]
     },
     "execution_count": 49,
     "metadata": {},
     "output_type": "execute_result"
    },
    {
     "data": {
      "image/png": "[encoded data removed]",
      "text/plain": [
       "<Figure size 432x288 with 1 Axes>"
      ]
     },
     "metadata": {
      "needs_background": "light"
     },
     "output_type": "display_data"
    }
   ],
   "source": [
    "\n",
    "# We create another column called JobSum, summing the created and retained jobs, to compare to the number of total employees:\n",
    "\n",
    "df['JobSum'] = df.CreateJob + df.RetainedJob\n",
    "\n",
    "sns.scatterplot(x='JobSum', y='NoEmp', data=df)"
   ]
  },
  {
   "cell_type": "code",
   "execution_count": 50,
   "metadata": {},
   "outputs": [
    {
     "name": "stdout",
     "output_type": "stream",
     "text": [
      "Created: 43479   Retained: 85384   Total: 191181\n"
     ]
    }
   ],
   "source": [
    "print('Created:',np.sum(df.CreateJob),'  Retained:', np.sum(df.RetainedJob),'  Total:', np.sum(df.NoEmp))"
   ]
  },
  {
   "cell_type": "markdown",
   "metadata": {},
   "source": [
    "Overall, since these columns seems to add confusion and present us with more questions than answers, I don't think we have much choice but to eliminate them from the dataset:"
   ]
  },
  {
   "cell_type": "code",
   "execution_count": 51,
   "metadata": {},
   "outputs": [],
   "source": [
    "df = df.drop(columns=['CreateJob', 'RetainedJob','NewHireRatio','JobSum'])"
   ]
  },
  {
   "cell_type": "code",
   "execution_count": 52,
   "metadata": {},
   "outputs": [
    {
     "name": "stdout",
     "output_type": "stream",
     "text": [
      "<class 'pandas.core.frame.DataFrame'>\n",
      "Int64Index: 19298 entries, 0 to 19371\n",
      "Data columns (total 20 columns):\n",
      " #   Column              Non-Null Count  Dtype  \n",
      "---  ------              --------------  -----  \n",
      " 0   NAICS               19298 non-null  int64  \n",
      " 1   ApprovalFY          19298 non-null  int64  \n",
      " 2   Term                19298 non-null  int64  \n",
      " 3   NoEmp               19298 non-null  int64  \n",
      " 4   NewBiz              19298 non-null  float64\n",
      " 5   RevLineCr           19183 non-null  float64\n",
      " 6   LowDoc              19242 non-null  object \n",
      " 7   DisbursementGross   19298 non-null  float64\n",
      " 8   MIS_Status          19293 non-null  object \n",
      " 9   TotalLoansInCounty  19298 non-null  int64  \n",
      " 10  PIF_RateByCounty    19298 non-null  float64\n",
      " 11  MedIncome           19298 non-null  int64  \n",
      " 12  Population          19298 non-null  float64\n",
      " 13  PopChange           19298 non-null  float64\n",
      " 14  LaborForceInCty     19298 non-null  int64  \n",
      " 15  EmployedInCty       19298 non-null  int64  \n",
      " 16  UnempInCty          19298 non-null  int64  \n",
      " 17  UnempRateInCty      19298 non-null  float64\n",
      " 18  DeathsPer100k       18970 non-null  object \n",
      " 19  PayDelay            19258 non-null  float64\n",
      "dtypes: float64(8), int64(9), object(3)\n",
      "memory usage: 3.1+ MB\n"
     ]
    }
   ],
   "source": [
    "df.info()"
   ]
  },
  {
   "cell_type": "markdown",
   "metadata": {},
   "source": [
    "#### NAICS Codes ####\n",
    "This dataset includes NAICS (North American Industry Classification System) codes for the industries that the various businesses belong to. This might be useful information. First we'll convert the integers to useful codes. The main industrial sector is coded in the first two digits of the NAICS code. "
   ]
  },
  {
   "cell_type": "code",
   "execution_count": 53,
   "metadata": {},
   "outputs": [],
   "source": [
    "# First convert the integer values in the dataset into strings (the numbers don't have numeric meaning)\n",
    "\n",
    "df['NAICS'] = df['NAICS'].astype(str)"
   ]
  },
  {
   "cell_type": "code",
   "execution_count": 54,
   "metadata": {},
   "outputs": [
    {
     "data": {
      "text/plain": [
       "['62', '33', '62', '81', '0']"
      ]
     },
     "execution_count": 54,
     "metadata": {},
     "output_type": "execute_result"
    }
   ],
   "source": [
    "# Create a list object that holds the first two digits of each NAICS code in the dataset.\n",
    "\n",
    "Code = [Code[0:2] for Code in df.NAICS]\n",
    "Code [0:5]"
   ]
  },
  {
   "cell_type": "code",
   "execution_count": 55,
   "metadata": {},
   "outputs": [],
   "source": [
    "# Assign this list object as a new colum in the dataframe.\n",
    "\n",
    "df['Code'] = Code"
   ]
  },
  {
   "cell_type": "code",
   "execution_count": 56,
   "metadata": {},
   "outputs": [
    {
     "data": {
      "text/plain": [
       "0     4063\n",
       "44    2059\n",
       "23    1999\n",
       "54    1690\n",
       "81    1650\n",
       "72    1476\n",
       "62    1020\n",
       "42     863\n",
       "45     830\n",
       "33     708\n",
       "56     589\n",
       "53     382\n",
       "32     356\n",
       "71     301\n",
       "52     276\n",
       "48     268\n",
       "51     238\n",
       "31     212\n",
       "61     123\n",
       "11      72\n",
       "49      51\n",
       "21      50\n",
       "22      11\n",
       "55       7\n",
       "92       4\n",
       "Name: Code, dtype: int64"
      ]
     },
     "execution_count": 56,
     "metadata": {},
     "output_type": "execute_result"
    }
   ],
   "source": [
    "# A wide variety of codes are seen in the dataset. Unfortunately, about 4000 data entries are not coded (i.e., left as '0').\n",
    "# Probably too much data to remove from dataset. \n",
    "\n",
    "df.Code.value_counts()"
   ]
  },
  {
   "cell_type": "code",
   "execution_count": 57,
   "metadata": {},
   "outputs": [
    {
     "data": {
      "text/html": [
       "<div>\n",
       "<style scoped>\n",
       "    .dataframe tbody tr th:only-of-type {\n",
       "        vertical-align: middle;\n",
       "    }\n",
       "\n",
       "    .dataframe tbody tr th {\n",
       "        vertical-align: top;\n",
       "    }\n",
       "\n",
       "    .dataframe thead th {\n",
       "        text-align: right;\n",
       "    }\n",
       "</style>\n",
       "<table border=\"1\" class=\"dataframe\">\n",
       "  <thead>\n",
       "    <tr style=\"text-align: right;\">\n",
       "      <th></th>\n",
       "      <th>Code</th>\n",
       "      <th>MIS_Status</th>\n",
       "      <th>NAICS</th>\n",
       "    </tr>\n",
       "  </thead>\n",
       "  <tbody>\n",
       "    <tr>\n",
       "      <th>0</th>\n",
       "      <td>0</td>\n",
       "      <td>CHGOFF</td>\n",
       "      <td>206</td>\n",
       "    </tr>\n",
       "    <tr>\n",
       "      <th>1</th>\n",
       "      <td>0</td>\n",
       "      <td>P I F</td>\n",
       "      <td>3857</td>\n",
       "    </tr>\n",
       "    <tr>\n",
       "      <th>2</th>\n",
       "      <td>11</td>\n",
       "      <td>CHGOFF</td>\n",
       "      <td>8</td>\n",
       "    </tr>\n",
       "    <tr>\n",
       "      <th>3</th>\n",
       "      <td>11</td>\n",
       "      <td>P I F</td>\n",
       "      <td>64</td>\n",
       "    </tr>\n",
       "    <tr>\n",
       "      <th>4</th>\n",
       "      <td>21</td>\n",
       "      <td>CHGOFF</td>\n",
       "      <td>7</td>\n",
       "    </tr>\n",
       "  </tbody>\n",
       "</table>\n",
       "</div>"
      ],
      "text/plain": [
       "  Code MIS_Status  NAICS\n",
       "0    0     CHGOFF    206\n",
       "1    0      P I F   3857\n",
       "2   11     CHGOFF      8\n",
       "3   11      P I F     64\n",
       "4   21     CHGOFF      7"
      ]
     },
     "execution_count": 57,
     "metadata": {},
     "output_type": "execute_result"
    }
   ],
   "source": [
    "#  We'll create a new dataframe that counts loan payments by code:\n",
    "\n",
    "Codes = pd.DataFrame(df.groupby(['Code','MIS_Status']).count()['NAICS'])\n",
    "Codes = Codes.reset_index()\n",
    "Codes.head()\n",
    "\n"
   ]
  },
  {
   "cell_type": "code",
   "execution_count": 58,
   "metadata": {},
   "outputs": [
    {
     "data": {
      "text/html": [
       "<div>\n",
       "<style scoped>\n",
       "    .dataframe tbody tr th:only-of-type {\n",
       "        vertical-align: middle;\n",
       "    }\n",
       "\n",
       "    .dataframe tbody tr th {\n",
       "        vertical-align: top;\n",
       "    }\n",
       "\n",
       "    .dataframe thead th {\n",
       "        text-align: right;\n",
       "    }\n",
       "</style>\n",
       "<table border=\"1\" class=\"dataframe\">\n",
       "  <thead>\n",
       "    <tr style=\"text-align: right;\">\n",
       "      <th>MIS_Status</th>\n",
       "      <th>CHGOFF</th>\n",
       "      <th>P I F</th>\n",
       "      <th>PIF_Rate</th>\n",
       "      <th>LowCI</th>\n",
       "      <th>UppCI</th>\n",
       "    </tr>\n",
       "    <tr>\n",
       "      <th>Code</th>\n",
       "      <th></th>\n",
       "      <th></th>\n",
       "      <th></th>\n",
       "      <th></th>\n",
       "      <th></th>\n",
       "    </tr>\n",
       "  </thead>\n",
       "  <tbody>\n",
       "    <tr>\n",
       "      <th>0</th>\n",
       "      <td>206</td>\n",
       "      <td>3857</td>\n",
       "      <td>0.949299</td>\n",
       "      <td>0.942553</td>\n",
       "      <td>0.956045</td>\n",
       "    </tr>\n",
       "    <tr>\n",
       "      <th>22</th>\n",
       "      <td>1</td>\n",
       "      <td>10</td>\n",
       "      <td>0.909091</td>\n",
       "      <td>0.739201</td>\n",
       "      <td>1.078981</td>\n",
       "    </tr>\n",
       "    <tr>\n",
       "      <th>11</th>\n",
       "      <td>8</td>\n",
       "      <td>64</td>\n",
       "      <td>0.888889</td>\n",
       "      <td>0.816296</td>\n",
       "      <td>0.961481</td>\n",
       "    </tr>\n",
       "    <tr>\n",
       "      <th>62</th>\n",
       "      <td>129</td>\n",
       "      <td>891</td>\n",
       "      <td>0.873529</td>\n",
       "      <td>0.853131</td>\n",
       "      <td>0.893928</td>\n",
       "    </tr>\n",
       "    <tr>\n",
       "      <th>21</th>\n",
       "      <td>7</td>\n",
       "      <td>43</td>\n",
       "      <td>0.860000</td>\n",
       "      <td>0.763820</td>\n",
       "      <td>0.956180</td>\n",
       "    </tr>\n",
       "    <tr>\n",
       "      <th>42</th>\n",
       "      <td>131</td>\n",
       "      <td>732</td>\n",
       "      <td>0.848204</td>\n",
       "      <td>0.824264</td>\n",
       "      <td>0.872144</td>\n",
       "    </tr>\n",
       "    <tr>\n",
       "      <th>33</th>\n",
       "      <td>112</td>\n",
       "      <td>596</td>\n",
       "      <td>0.841808</td>\n",
       "      <td>0.814927</td>\n",
       "      <td>0.868688</td>\n",
       "    </tr>\n",
       "    <tr>\n",
       "      <th>31</th>\n",
       "      <td>34</td>\n",
       "      <td>178</td>\n",
       "      <td>0.839623</td>\n",
       "      <td>0.790226</td>\n",
       "      <td>0.889020</td>\n",
       "    </tr>\n",
       "    <tr>\n",
       "      <th>32</th>\n",
       "      <td>64</td>\n",
       "      <td>292</td>\n",
       "      <td>0.820225</td>\n",
       "      <td>0.780335</td>\n",
       "      <td>0.860115</td>\n",
       "    </tr>\n",
       "    <tr>\n",
       "      <th>54</th>\n",
       "      <td>305</td>\n",
       "      <td>1384</td>\n",
       "      <td>0.819420</td>\n",
       "      <td>0.801074</td>\n",
       "      <td>0.837765</td>\n",
       "    </tr>\n",
       "    <tr>\n",
       "      <th>44</th>\n",
       "      <td>385</td>\n",
       "      <td>1674</td>\n",
       "      <td>0.813016</td>\n",
       "      <td>0.796175</td>\n",
       "      <td>0.829857</td>\n",
       "    </tr>\n",
       "    <tr>\n",
       "      <th>81</th>\n",
       "      <td>315</td>\n",
       "      <td>1335</td>\n",
       "      <td>0.809091</td>\n",
       "      <td>0.790127</td>\n",
       "      <td>0.828055</td>\n",
       "    </tr>\n",
       "    <tr>\n",
       "      <th>71</th>\n",
       "      <td>61</td>\n",
       "      <td>240</td>\n",
       "      <td>0.797342</td>\n",
       "      <td>0.751930</td>\n",
       "      <td>0.842755</td>\n",
       "    </tr>\n",
       "    <tr>\n",
       "      <th>72</th>\n",
       "      <td>314</td>\n",
       "      <td>1161</td>\n",
       "      <td>0.787119</td>\n",
       "      <td>0.766228</td>\n",
       "      <td>0.808009</td>\n",
       "    </tr>\n",
       "    <tr>\n",
       "      <th>51</th>\n",
       "      <td>53</td>\n",
       "      <td>185</td>\n",
       "      <td>0.777311</td>\n",
       "      <td>0.724452</td>\n",
       "      <td>0.830169</td>\n",
       "    </tr>\n",
       "    <tr>\n",
       "      <th>61</th>\n",
       "      <td>28</td>\n",
       "      <td>95</td>\n",
       "      <td>0.772358</td>\n",
       "      <td>0.698254</td>\n",
       "      <td>0.846461</td>\n",
       "    </tr>\n",
       "    <tr>\n",
       "      <th>45</th>\n",
       "      <td>193</td>\n",
       "      <td>636</td>\n",
       "      <td>0.767189</td>\n",
       "      <td>0.738420</td>\n",
       "      <td>0.795959</td>\n",
       "    </tr>\n",
       "    <tr>\n",
       "      <th>49</th>\n",
       "      <td>12</td>\n",
       "      <td>39</td>\n",
       "      <td>0.764706</td>\n",
       "      <td>0.648287</td>\n",
       "      <td>0.881125</td>\n",
       "    </tr>\n",
       "    <tr>\n",
       "      <th>56</th>\n",
       "      <td>140</td>\n",
       "      <td>448</td>\n",
       "      <td>0.761905</td>\n",
       "      <td>0.727478</td>\n",
       "      <td>0.796331</td>\n",
       "    </tr>\n",
       "    <tr>\n",
       "      <th>23</th>\n",
       "      <td>550</td>\n",
       "      <td>1449</td>\n",
       "      <td>0.724862</td>\n",
       "      <td>0.705285</td>\n",
       "      <td>0.744440</td>\n",
       "    </tr>\n",
       "    <tr>\n",
       "      <th>55</th>\n",
       "      <td>2</td>\n",
       "      <td>5</td>\n",
       "      <td>0.714286</td>\n",
       "      <td>0.379622</td>\n",
       "      <td>1.048950</td>\n",
       "    </tr>\n",
       "    <tr>\n",
       "      <th>48</th>\n",
       "      <td>80</td>\n",
       "      <td>188</td>\n",
       "      <td>0.701493</td>\n",
       "      <td>0.646706</td>\n",
       "      <td>0.756280</td>\n",
       "    </tr>\n",
       "    <tr>\n",
       "      <th>53</th>\n",
       "      <td>119</td>\n",
       "      <td>262</td>\n",
       "      <td>0.687664</td>\n",
       "      <td>0.641128</td>\n",
       "      <td>0.734200</td>\n",
       "    </tr>\n",
       "    <tr>\n",
       "      <th>52</th>\n",
       "      <td>117</td>\n",
       "      <td>159</td>\n",
       "      <td>0.576087</td>\n",
       "      <td>0.517785</td>\n",
       "      <td>0.634389</td>\n",
       "    </tr>\n",
       "    <tr>\n",
       "      <th>92</th>\n",
       "      <td>2</td>\n",
       "      <td>2</td>\n",
       "      <td>0.500000</td>\n",
       "      <td>0.010000</td>\n",
       "      <td>0.990000</td>\n",
       "    </tr>\n",
       "  </tbody>\n",
       "</table>\n",
       "</div>"
      ],
      "text/plain": [
       "MIS_Status  CHGOFF  P I F  PIF_Rate     LowCI     UppCI\n",
       "Code                                                   \n",
       "0              206   3857  0.949299  0.942553  0.956045\n",
       "22               1     10  0.909091  0.739201  1.078981\n",
       "11               8     64  0.888889  0.816296  0.961481\n",
       "62             129    891  0.873529  0.853131  0.893928\n",
       "21               7     43  0.860000  0.763820  0.956180\n",
       "42             131    732  0.848204  0.824264  0.872144\n",
       "33             112    596  0.841808  0.814927  0.868688\n",
       "31              34    178  0.839623  0.790226  0.889020\n",
       "32              64    292  0.820225  0.780335  0.860115\n",
       "54             305   1384  0.819420  0.801074  0.837765\n",
       "44             385   1674  0.813016  0.796175  0.829857\n",
       "81             315   1335  0.809091  0.790127  0.828055\n",
       "71              61    240  0.797342  0.751930  0.842755\n",
       "72             314   1161  0.787119  0.766228  0.808009\n",
       "51              53    185  0.777311  0.724452  0.830169\n",
       "61              28     95  0.772358  0.698254  0.846461\n",
       "45             193    636  0.767189  0.738420  0.795959\n",
       "49              12     39  0.764706  0.648287  0.881125\n",
       "56             140    448  0.761905  0.727478  0.796331\n",
       "23             550   1449  0.724862  0.705285  0.744440\n",
       "55               2      5  0.714286  0.379622  1.048950\n",
       "48              80    188  0.701493  0.646706  0.756280\n",
       "53             119    262  0.687664  0.641128  0.734200\n",
       "52             117    159  0.576087  0.517785  0.634389\n",
       "92               2      2  0.500000  0.010000  0.990000"
      ]
     },
     "execution_count": 58,
     "metadata": {},
     "output_type": "execute_result"
    }
   ],
   "source": [
    "# This needs to be \"unmelted\" (i.e., split out MIS_Status column) and then we can get the loan payment rate.\n",
    "\n",
    "Codes = Codes.pivot(index = 'Code', columns='MIS_Status', values='NAICS')\n",
    "\n",
    "Codes['PIF_Rate'] = Codes['P I F'] / (Codes['P I F'] + Codes['CHGOFF'])\n",
    "\n",
    "# We can also calculate the 95% Confidence Interval for the proportion, based on sample size:\n",
    "\n",
    "Codes['LowCI'] = Codes['PIF_Rate'] - 1.96 * np.sqrt(Codes['PIF_Rate']*(1-Codes['PIF_Rate'])/(Codes['CHGOFF']+Codes['P I F']))\n",
    "Codes['UppCI'] = Codes['PIF_Rate'] + 1.96 * np.sqrt(Codes['PIF_Rate']*(1-Codes['PIF_Rate'])/(Codes['CHGOFF']+Codes['P I F']))\n",
    "\n",
    "Codes.sort_values('PIF_Rate',ascending=False)"
   ]
  },
  {
   "cell_type": "code",
   "execution_count": 59,
   "metadata": {},
   "outputs": [
    {
     "name": "stdout",
     "output_type": "stream",
     "text": [
      "0.8254289120406365\n"
     ]
    }
   ],
   "source": [
    "# Create and store a variable for the mean loan repayment rate across entire dataset (for the plot below):\n",
    "\n",
    "meanrate = df['MIS_Status'].value_counts(1)[0]\n",
    "print(meanrate)"
   ]
  },
  {
   "cell_type": "code",
   "execution_count": 60,
   "metadata": {},
   "outputs": [
    {
     "data": {
      "image/png": "[encoded data removed]",
      "text/plain": [
       "<Figure size 720x216 with 1 Axes>"
      ]
     },
     "metadata": {
      "needs_background": "light"
     },
     "output_type": "display_data"
    }
   ],
   "source": [
    "plt.figure(figsize=(10,3))\n",
    "plt.plot(Codes.index, Codes.PIF_Rate, label='Rate')\n",
    "plt.plot(Codes.index, Codes.LowCI, color='red', ls='--', label='CI')\n",
    "plt.plot(Codes.index, Codes.UppCI, color='red', ls='--')\n",
    "plt.axhline(meanrate, color='green', label='Colorado Mean')\n",
    "plt.xlabel('Industry Sector Code')\n",
    "plt.ylabel('Mean Loan Rapayment Rate')\n",
    "plt.legend()\n",
    "\n",
    "plt.grid()\n",
    "plt.show()"
   ]
  },
  {
   "cell_type": "code",
   "execution_count": 61,
   "metadata": {},
   "outputs": [
    {
     "data": {
      "text/html": [
       "<div>\n",
       "<style scoped>\n",
       "    .dataframe tbody tr th:only-of-type {\n",
       "        vertical-align: middle;\n",
       "    }\n",
       "\n",
       "    .dataframe tbody tr th {\n",
       "        vertical-align: top;\n",
       "    }\n",
       "\n",
       "    .dataframe thead th {\n",
       "        text-align: right;\n",
       "    }\n",
       "</style>\n",
       "<table border=\"1\" class=\"dataframe\">\n",
       "  <thead>\n",
       "    <tr style=\"text-align: right;\">\n",
       "      <th></th>\n",
       "      <th>Code</th>\n",
       "      <th>Industry</th>\n",
       "    </tr>\n",
       "  </thead>\n",
       "  <tbody>\n",
       "    <tr>\n",
       "      <th>1</th>\n",
       "      <td>11</td>\n",
       "      <td>Agriculture, Forestry, Fishing and Hunting</td>\n",
       "    </tr>\n",
       "    <tr>\n",
       "      <th>2</th>\n",
       "      <td>111</td>\n",
       "      <td>Crop Production</td>\n",
       "    </tr>\n",
       "    <tr>\n",
       "      <th>3</th>\n",
       "      <td>1111</td>\n",
       "      <td>Oilseed and Grain Farming</td>\n",
       "    </tr>\n",
       "    <tr>\n",
       "      <th>4</th>\n",
       "      <td>11111</td>\n",
       "      <td>Soybean Farming</td>\n",
       "    </tr>\n",
       "    <tr>\n",
       "      <th>5</th>\n",
       "      <td>111110</td>\n",
       "      <td>Soybean Farming</td>\n",
       "    </tr>\n",
       "  </tbody>\n",
       "</table>\n",
       "</div>"
      ],
      "text/plain": [
       "     Code                                    Industry\n",
       "1      11  Agriculture, Forestry, Fishing and Hunting\n",
       "2     111                             Crop Production\n",
       "3    1111                   Oilseed and Grain Farming\n",
       "4   11111                             Soybean Farming\n",
       "5  111110                             Soybean Farming"
      ]
     },
     "execution_count": 61,
     "metadata": {},
     "output_type": "execute_result"
    }
   ],
   "source": [
    "# From census.gov we can get the meanings of each of the codes:\n",
    "\n",
    "filename = '2-6 digit_2017_Codes.xlsx'\n",
    "\n",
    "Industry = pd.read_excel(filename,  usecols=[1,2])\n",
    "Industry = Industry.dropna()\n",
    "Industry.columns = ['Code', 'Industry']\n",
    "Industry.head()\n"
   ]
  },
  {
   "cell_type": "code",
   "execution_count": 62,
   "metadata": {},
   "outputs": [
    {
     "name": "stdout",
     "output_type": "stream",
     "text": [
      "<class 'pandas.core.frame.DataFrame'>\n",
      "Int64Index: 2196 entries, 1 to 2196\n",
      "Data columns (total 2 columns):\n",
      " #   Column    Non-Null Count  Dtype \n",
      "---  ------    --------------  ----- \n",
      " 0   Code      2196 non-null   object\n",
      " 1   Industry  2196 non-null   object\n",
      "dtypes: object(2)\n",
      "memory usage: 51.5+ KB\n"
     ]
    }
   ],
   "source": [
    "Industry.info()"
   ]
  },
  {
   "cell_type": "code",
   "execution_count": 63,
   "metadata": {},
   "outputs": [
    {
     "data": {
      "text/html": [
       "<div>\n",
       "<style scoped>\n",
       "    .dataframe tbody tr th:only-of-type {\n",
       "        vertical-align: middle;\n",
       "    }\n",
       "\n",
       "    .dataframe tbody tr th {\n",
       "        vertical-align: top;\n",
       "    }\n",
       "\n",
       "    .dataframe thead th {\n",
       "        text-align: right;\n",
       "    }\n",
       "</style>\n",
       "<table border=\"1\" class=\"dataframe\">\n",
       "  <thead>\n",
       "    <tr style=\"text-align: right;\">\n",
       "      <th></th>\n",
       "      <th>Code</th>\n",
       "      <th>Industry</th>\n",
       "    </tr>\n",
       "  </thead>\n",
       "  <tbody>\n",
       "    <tr>\n",
       "      <th>277</th>\n",
       "      <td>238990</td>\n",
       "      <td>All Other Specialty Trade Contractors</td>\n",
       "    </tr>\n",
       "    <tr>\n",
       "      <th>278</th>\n",
       "      <td>31-33</td>\n",
       "      <td>Manufacturing</td>\n",
       "    </tr>\n",
       "    <tr>\n",
       "      <th>279</th>\n",
       "      <td>311</td>\n",
       "      <td>Food Manufacturing</td>\n",
       "    </tr>\n",
       "    <tr>\n",
       "      <th>280</th>\n",
       "      <td>3111</td>\n",
       "      <td>Animal Food Manufacturing</td>\n",
       "    </tr>\n",
       "  </tbody>\n",
       "</table>\n",
       "</div>"
      ],
      "text/plain": [
       "       Code                               Industry\n",
       "277  238990  All Other Specialty Trade Contractors\n",
       "278   31-33                          Manufacturing\n",
       "279     311                     Food Manufacturing\n",
       "280    3111              Animal Food Manufacturing"
      ]
     },
     "execution_count": 63,
     "metadata": {},
     "output_type": "execute_result"
    }
   ],
   "source": [
    "# The dataset has a few non-numeric entries, due to lumping three codes for manufacturing as seen below. \n",
    "\n",
    "Industry[276:280]"
   ]
  },
  {
   "cell_type": "code",
   "execution_count": 64,
   "metadata": {},
   "outputs": [],
   "source": [
    "Industry.Code[278] = 31\n",
    "Industry.Code[279] = 32\n",
    "Industry.Code[280] = 33\n",
    "Industry.Industry[279] = 'Manufacturing'\n",
    "Industry.Industry[280] = 'Manufacturing'\n"
   ]
  },
  {
   "cell_type": "code",
   "execution_count": 65,
   "metadata": {},
   "outputs": [
    {
     "data": {
      "text/html": [
       "<div>\n",
       "<style scoped>\n",
       "    .dataframe tbody tr th:only-of-type {\n",
       "        vertical-align: middle;\n",
       "    }\n",
       "\n",
       "    .dataframe tbody tr th {\n",
       "        vertical-align: top;\n",
       "    }\n",
       "\n",
       "    .dataframe thead th {\n",
       "        text-align: right;\n",
       "    }\n",
       "</style>\n",
       "<table border=\"1\" class=\"dataframe\">\n",
       "  <thead>\n",
       "    <tr style=\"text-align: right;\">\n",
       "      <th></th>\n",
       "      <th>Code</th>\n",
       "      <th>Industry</th>\n",
       "    </tr>\n",
       "  </thead>\n",
       "  <tbody>\n",
       "    <tr>\n",
       "      <th>1090</th>\n",
       "      <td>425120</td>\n",
       "      <td>Wholesale Trade Agents and Brokers</td>\n",
       "    </tr>\n",
       "    <tr>\n",
       "      <th>1091</th>\n",
       "      <td>44-45</td>\n",
       "      <td>Retail Trade</td>\n",
       "    </tr>\n",
       "    <tr>\n",
       "      <th>1092</th>\n",
       "      <td>441</td>\n",
       "      <td>Motor Vehicle and Parts Dealers</td>\n",
       "    </tr>\n",
       "  </tbody>\n",
       "</table>\n",
       "</div>"
      ],
      "text/plain": [
       "        Code                             Industry\n",
       "1090  425120  Wholesale Trade Agents and Brokers \n",
       "1091   44-45                         Retail Trade\n",
       "1092     441     Motor Vehicle and Parts Dealers "
      ]
     },
     "execution_count": 65,
     "metadata": {},
     "output_type": "execute_result"
    }
   ],
   "source": [
    "# Similarly with Retail:\n",
    "\n",
    "Industry[1089:1092]"
   ]
  },
  {
   "cell_type": "code",
   "execution_count": 66,
   "metadata": {},
   "outputs": [],
   "source": [
    "Industry.Code[1091] = 44\n",
    "Industry.Code[1092] = 45\n",
    "Industry.Industry[1091] = 'Retail'\n",
    "Industry.Industry[1092] = 'Retail'"
   ]
  },
  {
   "cell_type": "code",
   "execution_count": 67,
   "metadata": {},
   "outputs": [
    {
     "data": {
      "text/html": [
       "<div>\n",
       "<style scoped>\n",
       "    .dataframe tbody tr th:only-of-type {\n",
       "        vertical-align: middle;\n",
       "    }\n",
       "\n",
       "    .dataframe tbody tr th {\n",
       "        vertical-align: top;\n",
       "    }\n",
       "\n",
       "    .dataframe thead th {\n",
       "        text-align: right;\n",
       "    }\n",
       "</style>\n",
       "<table border=\"1\" class=\"dataframe\">\n",
       "  <thead>\n",
       "    <tr style=\"text-align: right;\">\n",
       "      <th></th>\n",
       "      <th>Code</th>\n",
       "      <th>Industry</th>\n",
       "    </tr>\n",
       "  </thead>\n",
       "  <tbody>\n",
       "    <tr>\n",
       "      <th>1252</th>\n",
       "      <td>45439</td>\n",
       "      <td>Other Direct Selling Establishments</td>\n",
       "    </tr>\n",
       "    <tr>\n",
       "      <th>1253</th>\n",
       "      <td>454390</td>\n",
       "      <td>Other Direct Selling Establishments</td>\n",
       "    </tr>\n",
       "    <tr>\n",
       "      <th>1254</th>\n",
       "      <td>48-49</td>\n",
       "      <td>Transportation and Warehousing</td>\n",
       "    </tr>\n",
       "    <tr>\n",
       "      <th>1255</th>\n",
       "      <td>481</td>\n",
       "      <td>Air Transportation</td>\n",
       "    </tr>\n",
       "  </tbody>\n",
       "</table>\n",
       "</div>"
      ],
      "text/plain": [
       "        Code                              Industry\n",
       "1252   45439  Other Direct Selling Establishments \n",
       "1253  454390  Other Direct Selling Establishments \n",
       "1254   48-49        Transportation and Warehousing\n",
       "1255     481                    Air Transportation"
      ]
     },
     "execution_count": 67,
     "metadata": {},
     "output_type": "execute_result"
    }
   ],
   "source": [
    "# Another for Transportation:\n",
    "\n",
    "Industry[1251:1255]"
   ]
  },
  {
   "cell_type": "code",
   "execution_count": 68,
   "metadata": {},
   "outputs": [],
   "source": [
    "Industry.Code[1253] = 48\n",
    "Industry.Code[1254] = 49\n",
    "Industry.Industry[1253] = 'Transportation'\n",
    "Industry.Industry[1254] = 'Transportation'"
   ]
  },
  {
   "cell_type": "code",
   "execution_count": 69,
   "metadata": {},
   "outputs": [
    {
     "name": "stdout",
     "output_type": "stream",
     "text": [
      "<class 'pandas.core.frame.DataFrame'>\n",
      "Int64Index: 2196 entries, 1 to 2196\n",
      "Data columns (total 2 columns):\n",
      " #   Column    Non-Null Count  Dtype \n",
      "---  ------    --------------  ----- \n",
      " 0   Code      2196 non-null   int64 \n",
      " 1   Industry  2196 non-null   object\n",
      "dtypes: int64(1), object(1)\n",
      "memory usage: 131.5+ KB\n"
     ]
    }
   ],
   "source": [
    "Industry.Code = pd.to_numeric(Industry.Code)\n",
    "Industry.info()"
   ]
  },
  {
   "cell_type": "code",
   "execution_count": 70,
   "metadata": {},
   "outputs": [
    {
     "data": {
      "text/html": [
       "<div>\n",
       "<style scoped>\n",
       "    .dataframe tbody tr th:only-of-type {\n",
       "        vertical-align: middle;\n",
       "    }\n",
       "\n",
       "    .dataframe tbody tr th {\n",
       "        vertical-align: top;\n",
       "    }\n",
       "\n",
       "    .dataframe thead th {\n",
       "        text-align: right;\n",
       "    }\n",
       "</style>\n",
       "<table border=\"1\" class=\"dataframe\">\n",
       "  <thead>\n",
       "    <tr style=\"text-align: right;\">\n",
       "      <th></th>\n",
       "      <th>Code</th>\n",
       "      <th>Industry</th>\n",
       "    </tr>\n",
       "  </thead>\n",
       "  <tbody>\n",
       "    <tr>\n",
       "      <th>0</th>\n",
       "      <td>11</td>\n",
       "      <td>Agriculture</td>\n",
       "    </tr>\n",
       "    <tr>\n",
       "      <th>1</th>\n",
       "      <td>21</td>\n",
       "      <td>Mining</td>\n",
       "    </tr>\n",
       "    <tr>\n",
       "      <th>2</th>\n",
       "      <td>22</td>\n",
       "      <td>Utilities</td>\n",
       "    </tr>\n",
       "    <tr>\n",
       "      <th>3</th>\n",
       "      <td>23</td>\n",
       "      <td>Construction</td>\n",
       "    </tr>\n",
       "    <tr>\n",
       "      <th>4</th>\n",
       "      <td>31</td>\n",
       "      <td>Manufacturing</td>\n",
       "    </tr>\n",
       "    <tr>\n",
       "      <th>5</th>\n",
       "      <td>32</td>\n",
       "      <td>Manufacturing</td>\n",
       "    </tr>\n",
       "    <tr>\n",
       "      <th>6</th>\n",
       "      <td>33</td>\n",
       "      <td>Manufacturing</td>\n",
       "    </tr>\n",
       "    <tr>\n",
       "      <th>7</th>\n",
       "      <td>42</td>\n",
       "      <td>Wholesale</td>\n",
       "    </tr>\n",
       "    <tr>\n",
       "      <th>8</th>\n",
       "      <td>44</td>\n",
       "      <td>Retail</td>\n",
       "    </tr>\n",
       "    <tr>\n",
       "      <th>9</th>\n",
       "      <td>45</td>\n",
       "      <td>Retail</td>\n",
       "    </tr>\n",
       "    <tr>\n",
       "      <th>10</th>\n",
       "      <td>48</td>\n",
       "      <td>Transportation</td>\n",
       "    </tr>\n",
       "    <tr>\n",
       "      <th>11</th>\n",
       "      <td>49</td>\n",
       "      <td>Transportation</td>\n",
       "    </tr>\n",
       "    <tr>\n",
       "      <th>12</th>\n",
       "      <td>51</td>\n",
       "      <td>Information</td>\n",
       "    </tr>\n",
       "    <tr>\n",
       "      <th>13</th>\n",
       "      <td>52</td>\n",
       "      <td>Finance</td>\n",
       "    </tr>\n",
       "    <tr>\n",
       "      <th>14</th>\n",
       "      <td>53</td>\n",
       "      <td>Real</td>\n",
       "    </tr>\n",
       "    <tr>\n",
       "      <th>15</th>\n",
       "      <td>54</td>\n",
       "      <td>Professional</td>\n",
       "    </tr>\n",
       "    <tr>\n",
       "      <th>16</th>\n",
       "      <td>55</td>\n",
       "      <td>Management</td>\n",
       "    </tr>\n",
       "    <tr>\n",
       "      <th>17</th>\n",
       "      <td>56</td>\n",
       "      <td>Administrative</td>\n",
       "    </tr>\n",
       "    <tr>\n",
       "      <th>18</th>\n",
       "      <td>61</td>\n",
       "      <td>Educational</td>\n",
       "    </tr>\n",
       "    <tr>\n",
       "      <th>19</th>\n",
       "      <td>62</td>\n",
       "      <td>Health</td>\n",
       "    </tr>\n",
       "    <tr>\n",
       "      <th>20</th>\n",
       "      <td>71</td>\n",
       "      <td>Arts</td>\n",
       "    </tr>\n",
       "    <tr>\n",
       "      <th>21</th>\n",
       "      <td>72</td>\n",
       "      <td>Accommodation</td>\n",
       "    </tr>\n",
       "    <tr>\n",
       "      <th>22</th>\n",
       "      <td>81</td>\n",
       "      <td>Other</td>\n",
       "    </tr>\n",
       "    <tr>\n",
       "      <th>23</th>\n",
       "      <td>92</td>\n",
       "      <td>Public</td>\n",
       "    </tr>\n",
       "    <tr>\n",
       "      <th>24</th>\n",
       "      <td>0</td>\n",
       "      <td>Unknown</td>\n",
       "    </tr>\n",
       "  </tbody>\n",
       "</table>\n",
       "</div>"
      ],
      "text/plain": [
       "   Code        Industry\n",
       "0    11     Agriculture\n",
       "1    21          Mining\n",
       "2    22       Utilities\n",
       "3    23    Construction\n",
       "4    31   Manufacturing\n",
       "5    32   Manufacturing\n",
       "6    33   Manufacturing\n",
       "7    42       Wholesale\n",
       "8    44          Retail\n",
       "9    45          Retail\n",
       "10   48  Transportation\n",
       "11   49  Transportation\n",
       "12   51     Information\n",
       "13   52         Finance\n",
       "14   53            Real\n",
       "15   54    Professional\n",
       "16   55      Management\n",
       "17   56  Administrative\n",
       "18   61     Educational\n",
       "19   62          Health\n",
       "20   71            Arts\n",
       "21   72   Accommodation\n",
       "22   81           Other\n",
       "23   92          Public\n",
       "24    0         Unknown"
      ]
     },
     "execution_count": 70,
     "metadata": {},
     "output_type": "execute_result"
    }
   ],
   "source": [
    "# Finalize the dataframe for merging with the dataset:\n",
    "\n",
    "Industry = Industry[Industry['Code'] < 100].reset_index(drop=True)                 # <------Keep only the 2-digit codes\n",
    "Industry['Industry'] = [Industry.split()[0] for Industry in Industry.Industry]     # <---Keep only the first word in Title\n",
    "Industry['Industry'] = [Industry.split(',')[0] for Industry in Industry.Industry]  # <---Clean up the remaining commas\n",
    "Industry = Industry.append({'Code':0 , 'Industry':'Unknown'}, ignore_index=True)   # <---Add the 'unknown' column!\n",
    "Industry['Code'] = Industry['Code'].astype(str)                                    # <---Convert Codes to string for merging\n",
    "Industry\n"
   ]
  },
  {
   "cell_type": "code",
   "execution_count": 71,
   "metadata": {},
   "outputs": [
    {
     "data": {
      "text/html": [
       "<div>\n",
       "<style scoped>\n",
       "    .dataframe tbody tr th:only-of-type {\n",
       "        vertical-align: middle;\n",
       "    }\n",
       "\n",
       "    .dataframe tbody tr th {\n",
       "        vertical-align: top;\n",
       "    }\n",
       "\n",
       "    .dataframe thead th {\n",
       "        text-align: right;\n",
       "    }\n",
       "</style>\n",
       "<table border=\"1\" class=\"dataframe\">\n",
       "  <thead>\n",
       "    <tr style=\"text-align: right;\">\n",
       "      <th></th>\n",
       "      <th>0</th>\n",
       "      <th>1</th>\n",
       "      <th>2</th>\n",
       "      <th>3</th>\n",
       "      <th>4</th>\n",
       "    </tr>\n",
       "  </thead>\n",
       "  <tbody>\n",
       "    <tr>\n",
       "      <th>ApprovalFY</th>\n",
       "      <td>2006</td>\n",
       "      <td>1997</td>\n",
       "      <td>1997</td>\n",
       "      <td>2005</td>\n",
       "      <td>1997</td>\n",
       "    </tr>\n",
       "    <tr>\n",
       "      <th>Term</th>\n",
       "      <td>264</td>\n",
       "      <td>60</td>\n",
       "      <td>120</td>\n",
       "      <td>35</td>\n",
       "      <td>60</td>\n",
       "    </tr>\n",
       "    <tr>\n",
       "      <th>NoEmp</th>\n",
       "      <td>9</td>\n",
       "      <td>2</td>\n",
       "      <td>4</td>\n",
       "      <td>3</td>\n",
       "      <td>2</td>\n",
       "    </tr>\n",
       "    <tr>\n",
       "      <th>NewBiz</th>\n",
       "      <td>0</td>\n",
       "      <td>0</td>\n",
       "      <td>0</td>\n",
       "      <td>0</td>\n",
       "      <td>0</td>\n",
       "    </tr>\n",
       "    <tr>\n",
       "      <th>RevLineCr</th>\n",
       "      <td>0</td>\n",
       "      <td>0</td>\n",
       "      <td>0</td>\n",
       "      <td>0</td>\n",
       "      <td>0</td>\n",
       "    </tr>\n",
       "    <tr>\n",
       "      <th>LowDoc</th>\n",
       "      <td>0</td>\n",
       "      <td>1</td>\n",
       "      <td>0</td>\n",
       "      <td>0</td>\n",
       "      <td>1</td>\n",
       "    </tr>\n",
       "    <tr>\n",
       "      <th>DisbursementGross</th>\n",
       "      <td>1.5242e+06</td>\n",
       "      <td>90000</td>\n",
       "      <td>59000</td>\n",
       "      <td>50000</td>\n",
       "      <td>21200</td>\n",
       "    </tr>\n",
       "    <tr>\n",
       "      <th>MIS_Status</th>\n",
       "      <td>P I F</td>\n",
       "      <td>P I F</td>\n",
       "      <td>P I F</td>\n",
       "      <td>CHGOFF</td>\n",
       "      <td>P I F</td>\n",
       "    </tr>\n",
       "    <tr>\n",
       "      <th>TotalLoansInCounty</th>\n",
       "      <td>445</td>\n",
       "      <td>445</td>\n",
       "      <td>445</td>\n",
       "      <td>445</td>\n",
       "      <td>445</td>\n",
       "    </tr>\n",
       "    <tr>\n",
       "      <th>PIF_RateByCounty</th>\n",
       "      <td>0.876404</td>\n",
       "      <td>0.876404</td>\n",
       "      <td>0.876404</td>\n",
       "      <td>0.876404</td>\n",
       "      <td>0.876404</td>\n",
       "    </tr>\n",
       "    <tr>\n",
       "      <th>MedIncome</th>\n",
       "      <td>32644</td>\n",
       "      <td>21835</td>\n",
       "      <td>21835</td>\n",
       "      <td>30645</td>\n",
       "      <td>21835</td>\n",
       "    </tr>\n",
       "    <tr>\n",
       "      <th>Population</th>\n",
       "      <td>134665</td>\n",
       "      <td>110566</td>\n",
       "      <td>110566</td>\n",
       "      <td>130194</td>\n",
       "      <td>110566</td>\n",
       "    </tr>\n",
       "    <tr>\n",
       "      <th>PopChange</th>\n",
       "      <td>0.276615</td>\n",
       "      <td>0.276615</td>\n",
       "      <td>0.276615</td>\n",
       "      <td>0.276615</td>\n",
       "      <td>0.276615</td>\n",
       "    </tr>\n",
       "    <tr>\n",
       "      <th>LaborForceInCty</th>\n",
       "      <td>74156</td>\n",
       "      <td>57738</td>\n",
       "      <td>57738</td>\n",
       "      <td>70811</td>\n",
       "      <td>57738</td>\n",
       "    </tr>\n",
       "    <tr>\n",
       "      <th>EmployedInCty</th>\n",
       "      <td>71219</td>\n",
       "      <td>55069</td>\n",
       "      <td>55069</td>\n",
       "      <td>67350</td>\n",
       "      <td>55069</td>\n",
       "    </tr>\n",
       "    <tr>\n",
       "      <th>UnempInCty</th>\n",
       "      <td>2937</td>\n",
       "      <td>2669</td>\n",
       "      <td>2669</td>\n",
       "      <td>3461</td>\n",
       "      <td>2669</td>\n",
       "    </tr>\n",
       "    <tr>\n",
       "      <th>UnempRateInCty</th>\n",
       "      <td>4</td>\n",
       "      <td>4.6</td>\n",
       "      <td>4.6</td>\n",
       "      <td>4.9</td>\n",
       "      <td>4.6</td>\n",
       "    </tr>\n",
       "    <tr>\n",
       "      <th>DeathsPer100k</th>\n",
       "      <td>977.2</td>\n",
       "      <td>977.2</td>\n",
       "      <td>977.2</td>\n",
       "      <td>977.2</td>\n",
       "      <td>977.2</td>\n",
       "    </tr>\n",
       "    <tr>\n",
       "      <th>PayDelay</th>\n",
       "      <td>52</td>\n",
       "      <td>85</td>\n",
       "      <td>47</td>\n",
       "      <td>98</td>\n",
       "      <td>45</td>\n",
       "    </tr>\n",
       "    <tr>\n",
       "      <th>Industry</th>\n",
       "      <td>Health</td>\n",
       "      <td>Manufacturing</td>\n",
       "      <td>Health</td>\n",
       "      <td>Other</td>\n",
       "      <td>Unknown</td>\n",
       "    </tr>\n",
       "  </tbody>\n",
       "</table>\n",
       "</div>"
      ],
      "text/plain": [
       "                             0              1         2         3         4\n",
       "ApprovalFY                2006           1997      1997      2005      1997\n",
       "Term                       264             60       120        35        60\n",
       "NoEmp                        9              2         4         3         2\n",
       "NewBiz                       0              0         0         0         0\n",
       "RevLineCr                    0              0         0         0         0\n",
       "LowDoc                       0              1         0         0         1\n",
       "DisbursementGross   1.5242e+06          90000     59000     50000     21200\n",
       "MIS_Status               P I F          P I F     P I F    CHGOFF     P I F\n",
       "TotalLoansInCounty         445            445       445       445       445\n",
       "PIF_RateByCounty      0.876404       0.876404  0.876404  0.876404  0.876404\n",
       "MedIncome                32644          21835     21835     30645     21835\n",
       "Population              134665         110566    110566    130194    110566\n",
       "PopChange             0.276615       0.276615  0.276615  0.276615  0.276615\n",
       "LaborForceInCty          74156          57738     57738     70811     57738\n",
       "EmployedInCty            71219          55069     55069     67350     55069\n",
       "UnempInCty                2937           2669      2669      3461      2669\n",
       "UnempRateInCty               4            4.6       4.6       4.9       4.6\n",
       "DeathsPer100k            977.2          977.2     977.2     977.2     977.2\n",
       "PayDelay                    52             85        47        98        45\n",
       "Industry                Health  Manufacturing    Health     Other   Unknown"
      ]
     },
     "execution_count": 71,
     "metadata": {},
     "output_type": "execute_result"
    }
   ],
   "source": [
    "# We can now merge this dataframe to our dataset and drop the NAICS and Code columns;\n",
    "df = pd.merge(df, Industry, how='left', on='Code')\n",
    "\n",
    "df = df.drop(columns = ['NAICS', 'Code'])\n",
    "\n",
    "df.head().T"
   ]
  },
  {
   "cell_type": "code",
   "execution_count": 72,
   "metadata": {},
   "outputs": [
    {
     "data": {
      "text/html": [
       "<div>\n",
       "<style scoped>\n",
       "    .dataframe tbody tr th:only-of-type {\n",
       "        vertical-align: middle;\n",
       "    }\n",
       "\n",
       "    .dataframe tbody tr th {\n",
       "        vertical-align: top;\n",
       "    }\n",
       "\n",
       "    .dataframe thead th {\n",
       "        text-align: right;\n",
       "    }\n",
       "</style>\n",
       "<table border=\"1\" class=\"dataframe\">\n",
       "  <thead>\n",
       "    <tr style=\"text-align: right;\">\n",
       "      <th>MIS_Status</th>\n",
       "      <th>CHGOFF</th>\n",
       "      <th>P I F</th>\n",
       "      <th>PIF_Rate</th>\n",
       "      <th>LowCI</th>\n",
       "      <th>UppCI</th>\n",
       "    </tr>\n",
       "    <tr>\n",
       "      <th>Industry</th>\n",
       "      <th></th>\n",
       "      <th></th>\n",
       "      <th></th>\n",
       "      <th></th>\n",
       "      <th></th>\n",
       "    </tr>\n",
       "  </thead>\n",
       "  <tbody>\n",
       "    <tr>\n",
       "      <th>Unknown</th>\n",
       "      <td>206</td>\n",
       "      <td>3857</td>\n",
       "      <td>0.949299</td>\n",
       "      <td>0.942553</td>\n",
       "      <td>0.956045</td>\n",
       "    </tr>\n",
       "    <tr>\n",
       "      <th>Utilities</th>\n",
       "      <td>1</td>\n",
       "      <td>10</td>\n",
       "      <td>0.909091</td>\n",
       "      <td>0.739201</td>\n",
       "      <td>1.078981</td>\n",
       "    </tr>\n",
       "    <tr>\n",
       "      <th>Agriculture</th>\n",
       "      <td>8</td>\n",
       "      <td>64</td>\n",
       "      <td>0.888889</td>\n",
       "      <td>0.816296</td>\n",
       "      <td>0.961481</td>\n",
       "    </tr>\n",
       "    <tr>\n",
       "      <th>Health</th>\n",
       "      <td>129</td>\n",
       "      <td>891</td>\n",
       "      <td>0.873529</td>\n",
       "      <td>0.853131</td>\n",
       "      <td>0.893928</td>\n",
       "    </tr>\n",
       "    <tr>\n",
       "      <th>Mining</th>\n",
       "      <td>7</td>\n",
       "      <td>43</td>\n",
       "      <td>0.860000</td>\n",
       "      <td>0.763820</td>\n",
       "      <td>0.956180</td>\n",
       "    </tr>\n",
       "    <tr>\n",
       "      <th>Wholesale</th>\n",
       "      <td>131</td>\n",
       "      <td>732</td>\n",
       "      <td>0.848204</td>\n",
       "      <td>0.824264</td>\n",
       "      <td>0.872144</td>\n",
       "    </tr>\n",
       "    <tr>\n",
       "      <th>Manufacturing</th>\n",
       "      <td>210</td>\n",
       "      <td>1066</td>\n",
       "      <td>0.835423</td>\n",
       "      <td>0.815078</td>\n",
       "      <td>0.855769</td>\n",
       "    </tr>\n",
       "    <tr>\n",
       "      <th>Professional</th>\n",
       "      <td>305</td>\n",
       "      <td>1384</td>\n",
       "      <td>0.819420</td>\n",
       "      <td>0.801074</td>\n",
       "      <td>0.837765</td>\n",
       "    </tr>\n",
       "    <tr>\n",
       "      <th>Other</th>\n",
       "      <td>315</td>\n",
       "      <td>1335</td>\n",
       "      <td>0.809091</td>\n",
       "      <td>0.790127</td>\n",
       "      <td>0.828055</td>\n",
       "    </tr>\n",
       "    <tr>\n",
       "      <th>Retail</th>\n",
       "      <td>578</td>\n",
       "      <td>2310</td>\n",
       "      <td>0.799861</td>\n",
       "      <td>0.785269</td>\n",
       "      <td>0.814454</td>\n",
       "    </tr>\n",
       "    <tr>\n",
       "      <th>Arts</th>\n",
       "      <td>61</td>\n",
       "      <td>240</td>\n",
       "      <td>0.797342</td>\n",
       "      <td>0.751930</td>\n",
       "      <td>0.842755</td>\n",
       "    </tr>\n",
       "    <tr>\n",
       "      <th>Accommodation</th>\n",
       "      <td>314</td>\n",
       "      <td>1161</td>\n",
       "      <td>0.787119</td>\n",
       "      <td>0.766228</td>\n",
       "      <td>0.808009</td>\n",
       "    </tr>\n",
       "    <tr>\n",
       "      <th>Information</th>\n",
       "      <td>53</td>\n",
       "      <td>185</td>\n",
       "      <td>0.777311</td>\n",
       "      <td>0.724452</td>\n",
       "      <td>0.830169</td>\n",
       "    </tr>\n",
       "    <tr>\n",
       "      <th>Educational</th>\n",
       "      <td>28</td>\n",
       "      <td>95</td>\n",
       "      <td>0.772358</td>\n",
       "      <td>0.698254</td>\n",
       "      <td>0.846461</td>\n",
       "    </tr>\n",
       "    <tr>\n",
       "      <th>Administrative</th>\n",
       "      <td>140</td>\n",
       "      <td>448</td>\n",
       "      <td>0.761905</td>\n",
       "      <td>0.727478</td>\n",
       "      <td>0.796331</td>\n",
       "    </tr>\n",
       "    <tr>\n",
       "      <th>Construction</th>\n",
       "      <td>550</td>\n",
       "      <td>1449</td>\n",
       "      <td>0.724862</td>\n",
       "      <td>0.705285</td>\n",
       "      <td>0.744440</td>\n",
       "    </tr>\n",
       "    <tr>\n",
       "      <th>Management</th>\n",
       "      <td>2</td>\n",
       "      <td>5</td>\n",
       "      <td>0.714286</td>\n",
       "      <td>0.379622</td>\n",
       "      <td>1.048950</td>\n",
       "    </tr>\n",
       "    <tr>\n",
       "      <th>Transportation</th>\n",
       "      <td>92</td>\n",
       "      <td>227</td>\n",
       "      <td>0.711599</td>\n",
       "      <td>0.661885</td>\n",
       "      <td>0.761313</td>\n",
       "    </tr>\n",
       "    <tr>\n",
       "      <th>Real</th>\n",
       "      <td>119</td>\n",
       "      <td>262</td>\n",
       "      <td>0.687664</td>\n",
       "      <td>0.641128</td>\n",
       "      <td>0.734200</td>\n",
       "    </tr>\n",
       "    <tr>\n",
       "      <th>Finance</th>\n",
       "      <td>117</td>\n",
       "      <td>159</td>\n",
       "      <td>0.576087</td>\n",
       "      <td>0.517785</td>\n",
       "      <td>0.634389</td>\n",
       "    </tr>\n",
       "    <tr>\n",
       "      <th>Public</th>\n",
       "      <td>2</td>\n",
       "      <td>2</td>\n",
       "      <td>0.500000</td>\n",
       "      <td>0.010000</td>\n",
       "      <td>0.990000</td>\n",
       "    </tr>\n",
       "  </tbody>\n",
       "</table>\n",
       "</div>"
      ],
      "text/plain": [
       "MIS_Status      CHGOFF  P I F  PIF_Rate     LowCI     UppCI\n",
       "Industry                                                   \n",
       "Unknown            206   3857  0.949299  0.942553  0.956045\n",
       "Utilities            1     10  0.909091  0.739201  1.078981\n",
       "Agriculture          8     64  0.888889  0.816296  0.961481\n",
       "Health             129    891  0.873529  0.853131  0.893928\n",
       "Mining               7     43  0.860000  0.763820  0.956180\n",
       "Wholesale          131    732  0.848204  0.824264  0.872144\n",
       "Manufacturing      210   1066  0.835423  0.815078  0.855769\n",
       "Professional       305   1384  0.819420  0.801074  0.837765\n",
       "Other              315   1335  0.809091  0.790127  0.828055\n",
       "Retail             578   2310  0.799861  0.785269  0.814454\n",
       "Arts                61    240  0.797342  0.751930  0.842755\n",
       "Accommodation      314   1161  0.787119  0.766228  0.808009\n",
       "Information         53    185  0.777311  0.724452  0.830169\n",
       "Educational         28     95  0.772358  0.698254  0.846461\n",
       "Administrative     140    448  0.761905  0.727478  0.796331\n",
       "Construction       550   1449  0.724862  0.705285  0.744440\n",
       "Management           2      5  0.714286  0.379622  1.048950\n",
       "Transportation      92    227  0.711599  0.661885  0.761313\n",
       "Real               119    262  0.687664  0.641128  0.734200\n",
       "Finance            117    159  0.576087  0.517785  0.634389\n",
       "Public               2      2  0.500000  0.010000  0.990000"
      ]
     },
     "execution_count": 72,
     "metadata": {},
     "output_type": "execute_result"
    }
   ],
   "source": [
    "# Now let's repeat the above comparison of loan repayment rates with labeled industries;\n",
    "\n",
    "Codes = pd.DataFrame(df.groupby(['Industry','MIS_Status']).count()['Term'])\n",
    "Codes = Codes.reset_index()\n",
    "\n",
    "# This needs to be \"unmelted\" (i.e., split out MIS_Status column) and then we can get the loan payment rate.\n",
    "\n",
    "Codes = Codes.pivot(index = 'Industry', columns='MIS_Status', values='Term')\n",
    "\n",
    "Codes['PIF_Rate'] = Codes['P I F'] / (Codes['P I F'] + Codes['CHGOFF'])\n",
    "\n",
    "# We can also calculate the 95% Confidence Interval for the proportion, based on sample size:\n",
    "\n",
    "Codes['LowCI'] = Codes['PIF_Rate'] - 1.96 * np.sqrt(Codes['PIF_Rate']*(1-Codes['PIF_Rate'])/(Codes['CHGOFF']+Codes['P I F']))\n",
    "Codes['UppCI'] = Codes['PIF_Rate'] + 1.96 * np.sqrt(Codes['PIF_Rate']*(1-Codes['PIF_Rate'])/(Codes['CHGOFF']+Codes['P I F']))\n",
    "\n",
    "Codes.sort_values('PIF_Rate',ascending=False)"
   ]
  },
  {
   "cell_type": "markdown",
   "metadata": {},
   "source": [
    "Finally, the plot below. Not only do the categorical names make the data more meaningful, a few of the industry sectors has multiple codes, so the figure becomes less complex as well. Overall, we see that sectors like Transportation, Finance, Education, Construction and Real Estate tend to underperform."
   ]
  },
  {
   "cell_type": "code",
   "execution_count": 73,
   "metadata": {},
   "outputs": [
    {
     "data": {
      "image/png": "[encoded data removed]",
      "text/plain": [
       "<Figure size 720x216 with 1 Axes>"
      ]
     },
     "metadata": {
      "needs_background": "light"
     },
     "output_type": "display_data"
    }
   ],
   "source": [
    "plt.figure(figsize=(10,3))\n",
    "plt.plot(Codes.index, Codes.PIF_Rate, label='Rate')\n",
    "plt.plot(Codes.index, Codes.LowCI, color='red', ls='--', label='CI')\n",
    "plt.plot(Codes.index, Codes.UppCI, color='red', ls='--')\n",
    "plt.axhline(meanrate, color='green', label='Colorado Mean')\n",
    "plt.xlabel('Industry Sector')\n",
    "plt.xticks(rotation=75)\n",
    "plt.ylabel('Mean Loan Rapayment Rate')\n",
    "plt.legend()\n",
    "\n",
    "plt.grid()\n",
    "plt.show()"
   ]
  },
  {
   "cell_type": "markdown",
   "metadata": {},
   "source": [
    "### EDA Exploration of continuous dsitributions & Correlation ###"
   ]
  },
  {
   "cell_type": "code",
   "execution_count": 74,
   "metadata": {},
   "outputs": [
    {
     "data": {
      "image/png": "[encoded data removed]",
      "text/plain": [
       "<Figure size 432x288 with 1 Axes>"
      ]
     },
     "metadata": {
      "needs_background": "light"
     },
     "output_type": "display_data"
    }
   ],
   "source": [
    "plt.hist(df.MedIncome, bins=50)\n",
    "plt.title('Distributions of Median Income values in dataset')\n",
    "plt.ylabel('Count')\n",
    "plt.xlabel('Median Income in County ($)')\n",
    "plt.show()"
   ]
  },
  {
   "cell_type": "code",
   "execution_count": 75,
   "metadata": {},
   "outputs": [
    {
     "data": {
      "text/plain": [
       "<matplotlib.axes._subplots.AxesSubplot at 0x204e4cee1c8>"
      ]
     },
     "execution_count": 75,
     "metadata": {},
     "output_type": "execute_result"
    },
    {
     "data": {
      "image/png": "[encoded data removed]",
      "text/plain": [
       "<Figure size 432x288 with 1 Axes>"
      ]
     },
     "metadata": {
      "needs_background": "light"
     },
     "output_type": "display_data"
    }
   ],
   "source": [
    "# Explore data with a series of violin plots:\n",
    "\n",
    "sns.violinplot(x='MIS_Status', y='MedIncome', data=df)"
   ]
  },
  {
   "cell_type": "code",
   "execution_count": 76,
   "metadata": {},
   "outputs": [
    {
     "data": {
      "text/plain": [
       "<matplotlib.axes._subplots.AxesSubplot at 0x204e4cada88>"
      ]
     },
     "execution_count": 76,
     "metadata": {},
     "output_type": "execute_result"
    },
    {
     "data": {
      "image/png": "[encoded data removed]",
      "text/plain": [
       "<Figure size 432x288 with 1 Axes>"
      ]
     },
     "metadata": {
      "needs_background": "light"
     },
     "output_type": "display_data"
    }
   ],
   "source": [
    "sns.violinplot(x='MIS_Status', y='PopChange', data=df)"
   ]
  },
  {
   "cell_type": "code",
   "execution_count": 77,
   "metadata": {},
   "outputs": [
    {
     "data": {
      "text/plain": [
       "<matplotlib.axes._subplots.AxesSubplot at 0x204e4cef408>"
      ]
     },
     "execution_count": 77,
     "metadata": {},
     "output_type": "execute_result"
    },
    {
     "data": {
      "image/png": "[encoded data removed]",
      "text/plain": [
       "<Figure size 432x288 with 1 Axes>"
      ]
     },
     "metadata": {
      "needs_background": "light"
     },
     "output_type": "display_data"
    }
   ],
   "source": [
    "sns.violinplot(x='MIS_Status', y='Population', data=df)"
   ]
  },
  {
   "cell_type": "code",
   "execution_count": 78,
   "metadata": {},
   "outputs": [
    {
     "data": {
      "text/plain": [
       "<matplotlib.axes._subplots.AxesSubplot at 0x204e4ce3508>"
      ]
     },
     "execution_count": 78,
     "metadata": {},
     "output_type": "execute_result"
    },
    {
     "data": {
      "image/png": "[encoded data removed]",
      "text/plain": [
       "<Figure size 432x288 with 1 Axes>"
      ]
     },
     "metadata": {
      "needs_background": "light"
     },
     "output_type": "display_data"
    }
   ],
   "source": [
    "sns.violinplot(x='MIS_Status', y='TotalLoansInCounty', data=df)"
   ]
  },
  {
   "cell_type": "code",
   "execution_count": 79,
   "metadata": {},
   "outputs": [
    {
     "data": {
      "text/plain": [
       "(-100000, 1000000)"
      ]
     },
     "execution_count": 79,
     "metadata": {},
     "output_type": "execute_result"
    },
    {
     "data": {
      "image/png": "[encoded data removed]",
      "text/plain": [
       "<Figure size 432x288 with 1 Axes>"
      ]
     },
     "metadata": {
      "needs_background": "light"
     },
     "output_type": "display_data"
    }
   ],
   "source": [
    "sns.violinplot(x='MIS_Status', y='DisbursementGross', data=df)\n",
    "plt.ylim(-100000,1000000)"
   ]
  },
  {
   "cell_type": "code",
   "execution_count": 80,
   "metadata": {},
   "outputs": [
    {
     "data": {
      "text/plain": [
       "<matplotlib.axes._subplots.AxesSubplot at 0x204e4a69248>"
      ]
     },
     "execution_count": 80,
     "metadata": {},
     "output_type": "execute_result"
    },
    {
     "data": {
      "image/png": "[encoded data removed]",
      "text/plain": [
       "<Figure size 432x288 with 1 Axes>"
      ]
     },
     "metadata": {
      "needs_background": "light"
     },
     "output_type": "display_data"
    }
   ],
   "source": [
    "sns.violinplot(x='MIS_Status', y='UnempRateInCty', data=df)"
   ]
  },
  {
   "cell_type": "code",
   "execution_count": 81,
   "metadata": {},
   "outputs": [
    {
     "data": {
      "text/plain": [
       "(-50, 500)"
      ]
     },
     "execution_count": 81,
     "metadata": {},
     "output_type": "execute_result"
    },
    {
     "data": {
      "image/png": "[encoded data removed]",
      "text/plain": [
       "<Figure size 432x288 with 1 Axes>"
      ]
     },
     "metadata": {
      "needs_background": "light"
     },
     "output_type": "display_data"
    }
   ],
   "source": [
    "sns.violinplot(x='MIS_Status', y='PayDelay', data=df)\n",
    "plt.ylim(-50,500)"
   ]
  },
  {
   "cell_type": "code",
   "execution_count": 82,
   "metadata": {},
   "outputs": [
    {
     "data": {
      "text/plain": [
       "<matplotlib.axes._subplots.AxesSubplot at 0x204e4c78388>"
      ]
     },
     "execution_count": 82,
     "metadata": {},
     "output_type": "execute_result"
    },
    {
     "data": {
      "image/png": "[encoded data removed]",
      "text/plain": [
       "<Figure size 432x288 with 1 Axes>"
      ]
     },
     "metadata": {
      "needs_background": "light"
     },
     "output_type": "display_data"
    }
   ],
   "source": [
    "sns.violinplot(x='MIS_Status', y='UnempInCty', data=df)"
   ]
  },
  {
   "cell_type": "code",
   "execution_count": 83,
   "metadata": {},
   "outputs": [
    {
     "data": {
      "text/plain": [
       "<matplotlib.axes._subplots.AxesSubplot at 0x204e4c593c8>"
      ]
     },
     "execution_count": 83,
     "metadata": {},
     "output_type": "execute_result"
    },
    {
     "data": {
      "image/png": "[encoded data removed]",
      "text/plain": [
       "<Figure size 720x504 with 2 Axes>"
      ]
     },
     "metadata": {
      "needs_background": "light"
     },
     "output_type": "display_data"
    }
   ],
   "source": [
    "# Explore if any of the variables in dataset are too well correlated to any other variables:\n",
    "\n",
    "corr = df.corr()\n",
    "plt.figure(figsize=(10,7))\n",
    "sns.heatmap(abs(corr), )\n"
   ]
  },
  {
   "cell_type": "markdown",
   "metadata": {},
   "source": [
    "It appears that Population, LaborForceInCty ad EmployedInCty are extremely highly correlated to one another - perhaps not surprisingly. Pearson's correlatio coefficients are greater than 0.99!  \n",
    "Scatter plots show nearly linear behavior, as shown below. It would therefore make sense to keep only one of these three variables. The question is, which one?"
   ]
  },
  {
   "cell_type": "code",
   "execution_count": 84,
   "metadata": {},
   "outputs": [
    {
     "data": {
      "text/plain": [
       "<matplotlib.axes._subplots.AxesSubplot at 0x204e4c1eb88>"
      ]
     },
     "execution_count": 84,
     "metadata": {},
     "output_type": "execute_result"
    },
    {
     "data": {
      "image/png": "[encoded data removed]",
      "text/plain": [
       "<Figure size 432x288 with 1 Axes>"
      ]
     },
     "metadata": {
      "needs_background": "light"
     },
     "output_type": "display_data"
    }
   ],
   "source": [
    "# Seaborn regression plots:\n",
    "\n",
    "sns.regplot(x='LaborForceInCty',y='EmployedInCty', data=df)"
   ]
  },
  {
   "cell_type": "code",
   "execution_count": 85,
   "metadata": {},
   "outputs": [
    {
     "data": {
      "text/plain": [
       "<matplotlib.axes._subplots.AxesSubplot at 0x204e4abf908>"
      ]
     },
     "execution_count": 85,
     "metadata": {},
     "output_type": "execute_result"
    },
    {
     "data": {
      "image/png": "[encoded data removed]",
      "text/plain": [
       "<Figure size 432x288 with 1 Axes>"
      ]
     },
     "metadata": {
      "needs_background": "light"
     },
     "output_type": "display_data"
    }
   ],
   "source": [
    "sns.regplot(x='LaborForceInCty',y='Population', data=df)"
   ]
  },
  {
   "cell_type": "code",
   "execution_count": 86,
   "metadata": {},
   "outputs": [
    {
     "data": {
      "text/plain": [
       "<matplotlib.axes._subplots.AxesSubplot at 0x204e4c58a48>"
      ]
     },
     "execution_count": 86,
     "metadata": {},
     "output_type": "execute_result"
    },
    {
     "data": {
      "image/png": "[encoded data removed]",
      "text/plain": [
       "<Figure size 432x288 with 1 Axes>"
      ]
     },
     "metadata": {
      "needs_background": "light"
     },
     "output_type": "display_data"
    }
   ],
   "source": [
    "sns.regplot(x='EmployedInCty',y='Population', data=df)"
   ]
  },
  {
   "cell_type": "code",
   "execution_count": 87,
   "metadata": {},
   "outputs": [
    {
     "data": {
      "text/plain": [
       "<matplotlib.axes._subplots.AxesSubplot at 0x204e4a5f2c8>"
      ]
     },
     "execution_count": 87,
     "metadata": {},
     "output_type": "execute_result"
    },
    {
     "data": {
      "image/png": "[encoded data removed]",
      "text/plain": [
       "<Figure size 432x288 with 1 Axes>"
      ]
     },
     "metadata": {
      "needs_background": "light"
     },
     "output_type": "display_data"
    }
   ],
   "source": [
    "# Seaborn boxplots. Examining the three variables the relative shapes of the boxplots appear very similar.\n",
    "\n",
    "sns.boxplot(x='MIS_Status', y='LaborForceInCty', data=df)"
   ]
  },
  {
   "cell_type": "code",
   "execution_count": 88,
   "metadata": {},
   "outputs": [
    {
     "data": {
      "text/plain": [
       "<matplotlib.axes._subplots.AxesSubplot at 0x204e501ad08>"
      ]
     },
     "execution_count": 88,
     "metadata": {},
     "output_type": "execute_result"
    },
    {
     "data": {
      "image/png": "[encoded data removed]",
      "text/plain": [
       "<Figure size 432x288 with 1 Axes>"
      ]
     },
     "metadata": {
      "needs_background": "light"
     },
     "output_type": "display_data"
    }
   ],
   "source": [
    "sns.boxplot(x='MIS_Status', y='EmployedInCty', data=df)"
   ]
  },
  {
   "cell_type": "code",
   "execution_count": 89,
   "metadata": {},
   "outputs": [
    {
     "data": {
      "text/plain": [
       "<matplotlib.axes._subplots.AxesSubplot at 0x204e5943808>"
      ]
     },
     "execution_count": 89,
     "metadata": {},
     "output_type": "execute_result"
    },
    {
     "data": {
      "image/png": "[encoded data removed]",
      "text/plain": [
       "<Figure size 432x288 with 1 Axes>"
      ]
     },
     "metadata": {
      "needs_background": "light"
     },
     "output_type": "display_data"
    }
   ],
   "source": [
    "sns.boxplot(x='MIS_Status', y='Population', data=df)"
   ]
  },
  {
   "cell_type": "code",
   "execution_count": 90,
   "metadata": {},
   "outputs": [
    {
     "data": {
      "text/html": [
       "<div>\n",
       "<style scoped>\n",
       "    .dataframe tbody tr th:only-of-type {\n",
       "        vertical-align: middle;\n",
       "    }\n",
       "\n",
       "    .dataframe tbody tr th {\n",
       "        vertical-align: top;\n",
       "    }\n",
       "\n",
       "    .dataframe thead th {\n",
       "        text-align: right;\n",
       "    }\n",
       "</style>\n",
       "<table border=\"1\" class=\"dataframe\">\n",
       "  <thead>\n",
       "    <tr style=\"text-align: right;\">\n",
       "      <th></th>\n",
       "      <th>count</th>\n",
       "      <th>mean</th>\n",
       "      <th>std</th>\n",
       "      <th>min</th>\n",
       "      <th>25%</th>\n",
       "      <th>50%</th>\n",
       "      <th>75%</th>\n",
       "      <th>max</th>\n",
       "    </tr>\n",
       "    <tr>\n",
       "      <th>MIS_Status</th>\n",
       "      <th></th>\n",
       "      <th></th>\n",
       "      <th></th>\n",
       "      <th></th>\n",
       "      <th></th>\n",
       "      <th></th>\n",
       "      <th></th>\n",
       "      <th></th>\n",
       "    </tr>\n",
       "  </thead>\n",
       "  <tbody>\n",
       "    <tr>\n",
       "      <th>CHGOFF</th>\n",
       "      <td>3368.0</td>\n",
       "      <td>384978.749109</td>\n",
       "      <td>187438.520744</td>\n",
       "      <td>0.0</td>\n",
       "      <td>267177.0</td>\n",
       "      <td>424913.0</td>\n",
       "      <td>550756.0</td>\n",
       "      <td>655150.0</td>\n",
       "    </tr>\n",
       "    <tr>\n",
       "      <th>P I F</th>\n",
       "      <td>15925.0</td>\n",
       "      <td>341460.597677</td>\n",
       "      <td>204280.398957</td>\n",
       "      <td>0.0</td>\n",
       "      <td>148654.0</td>\n",
       "      <td>395146.0</td>\n",
       "      <td>527643.0</td>\n",
       "      <td>663963.0</td>\n",
       "    </tr>\n",
       "  </tbody>\n",
       "</table>\n",
       "</div>"
      ],
      "text/plain": [
       "              count           mean            std  min       25%       50%  \\\n",
       "MIS_Status                                                                   \n",
       "CHGOFF       3368.0  384978.749109  187438.520744  0.0  267177.0  424913.0   \n",
       "P I F       15925.0  341460.597677  204280.398957  0.0  148654.0  395146.0   \n",
       "\n",
       "                 75%       max  \n",
       "MIS_Status                      \n",
       "CHGOFF      550756.0  655150.0  \n",
       "P I F       527643.0  663963.0  "
      ]
     },
     "execution_count": 90,
     "metadata": {},
     "output_type": "execute_result"
    }
   ],
   "source": [
    "df.groupby(['MIS_Status'])['Population'].describe()"
   ]
  },
  {
   "cell_type": "code",
   "execution_count": 91,
   "metadata": {},
   "outputs": [],
   "source": [
    "Pop_PIF = df[df['MIS_Status'] == 'P I F'] ['Population']\n",
    "Pop_DEF = df[df['MIS_Status'] == 'CHGOFF'] ['Population']"
   ]
  },
  {
   "cell_type": "code",
   "execution_count": 92,
   "metadata": {},
   "outputs": [
    {
     "data": {
      "image/png": "[encoded data removed]",
      "text/plain": [
       "<Figure size 432x288 with 1 Axes>"
      ]
     },
     "metadata": {
      "needs_background": "light"
     },
     "output_type": "display_data"
    }
   ],
   "source": [
    "_ = plt.hist(Pop_PIF, bins=150,density=True, histtype='step',cumulative=True, label='PIF')\n",
    "_ = plt.hist(Pop_DEF, bins=150,density=True, histtype='step',cumulative=True, color='red', label=\"DEF\")\n",
    "_ = plt.xlabel('Population In County')\n",
    "_ = plt.legend(loc='upper left')\n",
    "#_ = plt.axvline(np.mean(df.NoEmp), color='red')\n",
    "plt.show()"
   ]
  },
  {
   "cell_type": "code",
   "execution_count": 93,
   "metadata": {},
   "outputs": [
    {
     "data": {
      "text/plain": [
       "Ks_2sampResult(statistic=0.12905996785704965, pvalue=1.2032945633414641e-40)"
      ]
     },
     "execution_count": 93,
     "metadata": {},
     "output_type": "execute_result"
    }
   ],
   "source": [
    "# We will use the Kolmogorov-Smirnov 2-sample test to explore the difference between distributions:\n",
    "\n",
    "from scipy.stats import ks_2samp\n",
    "\n",
    "ks_2samp(Pop_PIF, Pop_DEF)"
   ]
  },
  {
   "cell_type": "code",
   "execution_count": 95,
   "metadata": {},
   "outputs": [],
   "source": [
    "# For Employed In County\n",
    "\n",
    "Emp_PIF = df[df['MIS_Status'] == 'P I F'] ['EmployedInCty']\n",
    "Emp_DEF = df[df['MIS_Status'] == 'CHGOFF'] ['EmployedInCty']"
   ]
  },
  {
   "cell_type": "code",
   "execution_count": 96,
   "metadata": {},
   "outputs": [
    {
     "data": {
      "text/plain": [
       "Ks_2sampResult(statistic=0.1333528229490225, pvalue=2.2918919152836292e-43)"
      ]
     },
     "execution_count": 96,
     "metadata": {},
     "output_type": "execute_result"
    }
   ],
   "source": [
    "ks_2samp(Emp_PIF, Emp_DEF)"
   ]
  },
  {
   "cell_type": "code",
   "execution_count": 97,
   "metadata": {},
   "outputs": [],
   "source": [
    "# For Labor Force In County:\n",
    "\n",
    "Lab_PIF = df[df['MIS_Status'] == 'P I F'] ['LaborForceInCty']\n",
    "Lab_DEF = df[df['MIS_Status'] == 'CHGOFF'] ['LaborForceInCty']"
   ]
  },
  {
   "cell_type": "code",
   "execution_count": 98,
   "metadata": {},
   "outputs": [
    {
     "data": {
      "text/plain": [
       "Ks_2sampResult(statistic=0.1319081986896713, pvalue=1.929831414147716e-42)"
      ]
     },
     "execution_count": 98,
     "metadata": {},
     "output_type": "execute_result"
    }
   ],
   "source": [
    "ks_2samp(Lab_PIF, Lab_DEF)"
   ]
  },
  {
   "cell_type": "markdown",
   "metadata": {},
   "source": [
    "Based on above analysis, we (rather arbitrarily) conclude to eliminate the labor force and population\n",
    "columns from dataset. We retain EmployedInCty as it performed \"best\" in 2-sample test, so in theory\n",
    "it will have the greatest model impact."
   ]
  },
  {
   "cell_type": "code",
   "execution_count": 99,
   "metadata": {},
   "outputs": [],
   "source": [
    "df = df.drop(columns=['Population', 'LaborForceInCty'])"
   ]
  },
  {
   "cell_type": "code",
   "execution_count": 101,
   "metadata": {},
   "outputs": [
    {
     "data": {
      "text/plain": [
       "<matplotlib.axes._subplots.AxesSubplot at 0x204e6d848c8>"
      ]
     },
     "execution_count": 101,
     "metadata": {},
     "output_type": "execute_result"
    },
    {
     "data": {
      "image/png": "[encoded data removed]",
      "text/plain": [
       "<Figure size 720x504 with 2 Axes>"
      ]
     },
     "metadata": {
      "needs_background": "light"
     },
     "output_type": "display_data"
    }
   ],
   "source": [
    "# Repeat correlation exercise to confirm no highly correlated pairs of variables:\n",
    "corr = df.corr()\n",
    "plt.figure(figsize=(10,7))\n",
    "sns.heatmap(abs(corr))"
   ]
  },
  {
   "cell_type": "code",
   "execution_count": null,
   "metadata": {},
   "outputs": [],
   "source": [
    "# Looks good! "
   ]
  },
  {
   "cell_type": "code",
   "execution_count": null,
   "metadata": {},
   "outputs": [],
   "source": [
    "# Write the resulting DataFrame to csv for storage for later use. \n",
    "\n",
    "file_name = 'LIC_Model_Input.csv'\n",
    "df.to_csv(file_name, encoding='utf-8', index=False)"
   ]
  }
 ],
 "metadata": {
  "kernelspec": {
   "display_name": "Python 3",
   "language": "python",
   "name": "python3"
  },
  "language_info": {
   "codemirror_mode": {
    "name": "ipython",
    "version": 3
   },
   "file_extension": ".py",
   "mimetype": "text/x-python",
   "name": "python",
   "nbconvert_exporter": "python",
   "pygments_lexer": "ipython3",
   "version": "3.7.6"
  }
 },
 "nbformat": 4,
 "nbformat_minor": 4
}
